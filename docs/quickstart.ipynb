{
 "cells": [
  {
   "cell_type": "markdown",
   "metadata": {},
   "source": [
    "# Example of use"
   ]
  },
  {
   "cell_type": "code",
   "execution_count": 1,
   "metadata": {},
   "outputs": [],
   "source": [
    "import LMIPy"
   ]
  },
  {
   "cell_type": "code",
   "execution_count": 2,
   "metadata": {},
   "outputs": [
    {
     "data": {
      "text/plain": [
       "'0.1.1'"
      ]
     },
     "execution_count": 2,
     "metadata": {},
     "output_type": "execute_result"
    }
   ],
   "source": [
    "LMIPy.__version__"
   ]
  },
  {
   "cell_type": "markdown",
   "metadata": {},
   "source": [
    "## Dataset objects\n",
    "\n",
    "Using known id's you can instantiate a dataset object directly."
   ]
  },
  {
   "cell_type": "code",
   "execution_count": 3,
   "metadata": {},
   "outputs": [
    {
     "data": {
      "text/html": [
       "<div class='item_container' style='height: auto; overflow: hidden; border: 1px solid #80ceb9;border-radius: 2px; background: #f2fffb; line-height: 1.21429em; padding: 10px;''><div class='item_left' style='width: 210px; float: left;''><a href='https://resourcewatch.org/' target='_blank'><img class='itemThumbnail' src='https://resourcewatch.org/static/images/logo-embed.png'></a></div><div class='item_right' style='float: none; width: auto; overflow: hidden;''><a href=https://api.resourcewatch.org/v1/dataset/044f4af8-be72-4999-b7dd-13434fc4a394?includes=vocabulary,metadata,layer target='_blank'><b>Tree cover</b></a><br> GEE asset: <a href='https://code.earthengine.google.com/asset='UMD/hansen/global_forest_change_2013 target='_blank'>UMD/hansen/global_forest_change_2013</a> 🗺Dataset in GFW, GFW-PRO.<br>Last Modified: 2018-11-21T13:55:01.210Z<br>Connector: gee | Published: True </div> </div>"
      ],
      "text/plain": [
       "Dataset 044f4af8-be72-4999-b7dd-13434fc4a394"
      ]
     },
     "execution_count": 3,
     "metadata": {},
     "output_type": "execute_result"
    }
   ],
   "source": [
    "ds = LMIPy.Dataset('044f4af8-be72-4999-b7dd-13434fc4a394')\n",
    "ds"
   ]
  },
  {
   "cell_type": "markdown",
   "metadata": {},
   "source": [
    "You can access the attributes of a dataset."
   ]
  },
  {
   "cell_type": "code",
   "execution_count": 4,
   "metadata": {},
   "outputs": [
    {
     "data": {
      "text/plain": [
       "{'application': ['gfw', 'gfw-pro'],\n",
       " 'attributesPath': None,\n",
       " 'blockchain': {},\n",
       " 'clonedHost': {},\n",
       " 'connectorType': 'rest',\n",
       " 'connectorUrl': None,\n",
       " 'dataLastUpdated': None,\n",
       " 'dataPath': None,\n",
       " 'env': 'production',\n",
       " 'errorMessage': '[Automatic Validation] ConnectorFailed -> Invalid Dataset',\n",
       " 'geoInfo': False,\n",
       " 'layerRelevantProps': [],\n",
       " 'legend': {'country': [], 'date': [], 'nested': [], 'region': []},\n",
       " 'mainDateField': None,\n",
       " 'name': 'Tree cover',\n",
       " 'overwrite': False,\n",
       " 'protected': True,\n",
       " 'provider': 'gee',\n",
       " 'published': True,\n",
       " 'slug': 'Tree-cover',\n",
       " 'status': 'saved',\n",
       " 'subtitle': None,\n",
       " 'tableName': 'UMD/hansen/global_forest_change_2013',\n",
       " 'taskId': None,\n",
       " 'type': None,\n",
       " 'updatedAt': '2018-11-21T13:55:01.210Z',\n",
       " 'userId': '596cde70824315350dd0f116',\n",
       " 'verified': False,\n",
       " 'widgetRelevantProps': []}"
      ]
     },
     "execution_count": 4,
     "metadata": {},
     "output_type": "execute_result"
    }
   ],
   "source": [
    "ds.attributes"
   ]
  },
  {
   "cell_type": "markdown",
   "metadata": {},
   "source": [
    "You can also access the metadata and vocabularies if they exist."
   ]
  },
  {
   "cell_type": "code",
   "execution_count": 5,
   "metadata": {},
   "outputs": [
    {
     "data": {
      "text/plain": [
       "{'application': 'gfw',\n",
       " 'name': 'categoryTab',\n",
       " 'resource': {'id': '044f4af8-be72-4999-b7dd-13434fc4a394', 'type': 'dataset'},\n",
       " 'tags': ['landCover']}"
      ]
     },
     "execution_count": 5,
     "metadata": {},
     "output_type": "execute_result"
    }
   ],
   "source": [
    "ds.vocabulary[0].attributes"
   ]
  },
  {
   "cell_type": "code",
   "execution_count": 6,
   "metadata": {},
   "outputs": [
    {
     "data": {
      "text/plain": [
       "{'application': 'gfw',\n",
       " 'createdAt': '2018-08-03T10:17:06.249Z',\n",
       " 'dataset': '044f4af8-be72-4999-b7dd-13434fc4a394',\n",
       " 'info': {'citation': '2000/2010, Hansen/UMD/Google/USGS/NASA',\n",
       "  'color': '#a0c746',\n",
       "  'description': 'Identifies areas of tree cover.',\n",
       "  'isSelectorLayer': True,\n",
       "  'name': 'Tree cover'},\n",
       " 'language': 'en',\n",
       " 'resource': {'id': '044f4af8-be72-4999-b7dd-13434fc4a394', 'type': 'dataset'},\n",
       " 'status': 'published',\n",
       " 'updatedAt': '2018-11-06T15:57:49.716Z'}"
      ]
     },
     "execution_count": 6,
     "metadata": {},
     "output_type": "execute_result"
    }
   ],
   "source": [
    "ds.metadata[0].attributes"
   ]
  },
  {
   "cell_type": "markdown",
   "metadata": {},
   "source": [
    "## Queries on Datasets\n",
    "\n",
    "Datasets can be queried via SQL, with a table returned. Currently this is only supported for Carto-type data:"
   ]
  },
  {
   "cell_type": "code",
   "execution_count": 7,
   "metadata": {},
   "outputs": [
    {
     "data": {
      "text/html": [
       "<div class='item_container' style='height: auto; overflow: hidden; border: 1px solid #80ceb9;border-radius: 2px; background: #f2fffb; line-height: 1.21429em; padding: 10px;''><div class='item_left' style='width: 210px; float: left;''><a href='https://resourcewatch.org/' target='_blank'><img class='itemThumbnail' src='https://resourcewatch.org/static/images/logo-embed.png'></a></div><div class='item_right' style='float: none; width: auto; overflow: hidden;''><a href=https://api.resourcewatch.org/v1/dataset/bd5d7924-611e-4302-9185-8054acb0b44b?includes=vocabulary,metadata,layer target='_blank'><b>Global Mangrove Watch</b></a><br> Carto table: <a href=https://wri-01.carto.com/tables/mangroves_1996 target='_blank'>mangroves_1996</a> 🗺Dataset in GFW.<br>Last Modified: 2018-11-21T14:03:09.440Z<br>Connector: cartodb | Published: True </div> </div>"
      ],
      "text/plain": [
       "Dataset bd5d7924-611e-4302-9185-8054acb0b44b"
      ]
     },
     "execution_count": 7,
     "metadata": {},
     "output_type": "execute_result"
    }
   ],
   "source": [
    "d = LMIPy.Dataset(id_hash='bd5d7924-611e-4302-9185-8054acb0b44b')\n",
    "d"
   ]
  },
  {
   "cell_type": "code",
   "execution_count": 8,
   "metadata": {},
   "outputs": [
    {
     "data": {
      "text/html": [
       "<div>\n",
       "<style>\n",
       "    .dataframe thead tr:only-child th {\n",
       "        text-align: right;\n",
       "    }\n",
       "\n",
       "    .dataframe thead th {\n",
       "        text-align: left;\n",
       "    }\n",
       "\n",
       "    .dataframe tbody tr th {\n",
       "        vertical-align: top;\n",
       "    }\n",
       "</style>\n",
       "<table border=\"1\" class=\"dataframe\">\n",
       "  <thead>\n",
       "    <tr style=\"text-align: right;\">\n",
       "      <th></th>\n",
       "      <th>fid</th>\n",
       "      <th>st_asgeojson</th>\n",
       "    </tr>\n",
       "  </thead>\n",
       "  <tbody>\n",
       "    <tr>\n",
       "      <th>0</th>\n",
       "      <td>0</td>\n",
       "      <td>{\"type\":\"MultiPolygon\",\"coordinates\":[[[[-6998...</td>\n",
       "    </tr>\n",
       "    <tr>\n",
       "      <th>1</th>\n",
       "      <td>62</td>\n",
       "      <td>{\"type\":\"MultiPolygon\",\"coordinates\":[[[[-6927...</td>\n",
       "    </tr>\n",
       "    <tr>\n",
       "      <th>2</th>\n",
       "      <td>343</td>\n",
       "      <td>{\"type\":\"MultiPolygon\",\"coordinates\":[[[[-6996...</td>\n",
       "    </tr>\n",
       "    <tr>\n",
       "      <th>3</th>\n",
       "      <td>402</td>\n",
       "      <td>{\"type\":\"MultiPolygon\",\"coordinates\":[[[[-7004...</td>\n",
       "    </tr>\n",
       "    <tr>\n",
       "      <th>4</th>\n",
       "      <td>682</td>\n",
       "      <td>{\"type\":\"MultiPolygon\",\"coordinates\":[[[[-6937...</td>\n",
       "    </tr>\n",
       "  </tbody>\n",
       "</table>\n",
       "</div>"
      ],
      "text/plain": [
       "   fid                                       st_asgeojson\n",
       "0    0  {\"type\":\"MultiPolygon\",\"coordinates\":[[[[-6998...\n",
       "1   62  {\"type\":\"MultiPolygon\",\"coordinates\":[[[[-6927...\n",
       "2  343  {\"type\":\"MultiPolygon\",\"coordinates\":[[[[-6996...\n",
       "3  402  {\"type\":\"MultiPolygon\",\"coordinates\":[[[[-7004...\n",
       "4  682  {\"type\":\"MultiPolygon\",\"coordinates\":[[[[-6937..."
      ]
     },
     "execution_count": 8,
     "metadata": {},
     "output_type": "execute_result"
    }
   ],
   "source": [
    "d.query('SELECT fid, ST_ASGEOJSON(the_geom_webmercator) FROM data LIMIT 5')"
   ]
  },
  {
   "cell_type": "markdown",
   "metadata": {},
   "source": [
    "## Layer Objects\n",
    "\n",
    "Similarly, you can also instantiate a Layer object."
   ]
  },
  {
   "cell_type": "code",
   "execution_count": 9,
   "metadata": {},
   "outputs": [
    {
     "data": {
      "text/html": [
       "<div class='item_container' style='height: auto; overflow: hidden; border: 1px solid #80ceb9;border-radius: 2px; background: #f2fffb; line-height: 1.21429em; padding: 10px;''><div class='item_left' style='width: 210px; float: left;''><a href='https://resourcewatch.org/' target='_blank'><img class='itemThumbnail' src='https://resourcewatch.org/static/images/logo-embed.png'></a></div><div class='item_right' style='float: none; width: auto; overflow: hidden;''><a href=https://api.resourcewatch.org/v1/layer/dc6f6dd2-0718-4e41-81d2-109866bb9edd?includes=vocabulary,metadata target='_blank'><b>Tree cover 2000</b></a><br> Data source leaflet 🗺Layer in GFW-PRO.<br>Last Modified: 2018-07-19T08:33:23.226Z<br>Connector: leaflet | Published: True </div> </div>"
      ],
      "text/plain": [
       "Layer dc6f6dd2-0718-4e41-81d2-109866bb9edd"
      ]
     },
     "execution_count": 9,
     "metadata": {},
     "output_type": "execute_result"
    }
   ],
   "source": [
    "ly = LMIPy.Layer(id_hash='dc6f6dd2-0718-4e41-81d2-109866bb9edd')\n",
    "ly"
   ]
  },
  {
   "cell_type": "markdown",
   "metadata": {},
   "source": [
    "Layers can be visulized if appropriate via a call to Layer().map()"
   ]
  },
  {
   "cell_type": "code",
   "execution_count": 10,
   "metadata": {},
   "outputs": [
    {
     "data": {
      "text/html": [
       "<div style=\"width:100%;\"><div style=\"position:relative;width:100%;height:0;padding-bottom:60%;\"><iframe src=\"data:text/html;charset=utf-8;base64,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\" style=\"position:absolute;width:100%;height:100%;left:0;top:0;border:none !important;\" allowfullscreen webkitallowfullscreen mozallowfullscreen></iframe></div></div>"
      ],
      "text/plain": [
       "<folium.folium.Map at 0x1146ace48>"
      ]
     },
     "execution_count": 10,
     "metadata": {},
     "output_type": "execute_result"
    }
   ],
   "source": [
    "ly.map()"
   ]
  },
  {
   "cell_type": "markdown",
   "metadata": {},
   "source": [
    "## Tables\n",
    "\n",
    "Tables are subclasses of Dataset objects. They are document datasets which can be instantiated and queried returning a dataframe object."
   ]
  },
  {
   "cell_type": "code",
   "execution_count": 11,
   "metadata": {},
   "outputs": [
    {
     "data": {
      "text/html": [
       "<div class='item_container' style='height: auto; overflow: hidden; border: 1px solid #80ceb9;border-radius: 2px; background: #f2fffb; line-height: 1.21429em; padding: 10px;''><div class='item_left' style='width: 210px; float: left;''><a href='https://resourcewatch.org/' target='_blank'><img class='itemThumbnail' src='https://resourcewatch.org/static/images/logo-embed.png'></a></div><div class='item_right' style='float: none; width: auto; overflow: hidden;''><a href=https://api.resourcewatch.org/v1/dataset/86c7135a-855d-4f1b-9d67-f545a93281b3?includes=vocabulary,metadata,layer target='_blank'><b>AQ City Days (DUMMY, NOT FOR PUBLISH)</b></a><br> CSV Table: <a href=http://wri-api-backups.s3.amazonaws.com/raw/1520615182177_city-aq-days-dummy.csv target='_blank'>index_86c7135a855d4f1b9d67f545a93281b3_1520615201102</a> 🗺Table in RW.<br>Last Modified: 2018-03-09T17:06:52.555Z<br>Connector: csv | Published: False </div> </div>"
      ],
      "text/plain": [
       "Table 86c7135a-855d-4f1b-9d67-f545a93281b3"
      ]
     },
     "execution_count": 11,
     "metadata": {},
     "output_type": "execute_result"
    }
   ],
   "source": [
    "t = LMIPy.Table(id_hash='86c7135a-855d-4f1b-9d67-f545a93281b3')\n",
    "t"
   ]
  },
  {
   "cell_type": "code",
   "execution_count": 12,
   "metadata": {},
   "outputs": [
    {
     "data": {
      "text/html": [
       "<div>\n",
       "<style>\n",
       "    .dataframe thead tr:only-child th {\n",
       "        text-align: right;\n",
       "    }\n",
       "\n",
       "    .dataframe thead th {\n",
       "        text-align: left;\n",
       "    }\n",
       "\n",
       "    .dataframe tbody tr th {\n",
       "        vertical-align: top;\n",
       "    }\n",
       "</style>\n",
       "<table border=\"1\" class=\"dataframe\">\n",
       "  <thead>\n",
       "    <tr style=\"text-align: right;\">\n",
       "      <th></th>\n",
       "      <th>City</th>\n",
       "      <th>Number_of_Days</th>\n",
       "      <th>_id</th>\n",
       "    </tr>\n",
       "  </thead>\n",
       "  <tbody>\n",
       "    <tr>\n",
       "      <th>0</th>\n",
       "      <td>Beijing</td>\n",
       "      <td>14</td>\n",
       "      <td>AWILuq8j8Jqrt1rp-STQ</td>\n",
       "    </tr>\n",
       "    <tr>\n",
       "      <th>1</th>\n",
       "      <td>San Francisco</td>\n",
       "      <td>10</td>\n",
       "      <td>AWILuq8j8Jqrt1rp-STT</td>\n",
       "    </tr>\n",
       "    <tr>\n",
       "      <th>2</th>\n",
       "      <td>Manama</td>\n",
       "      <td>7</td>\n",
       "      <td>AWILuq8j8Jqrt1rp-STU</td>\n",
       "    </tr>\n",
       "  </tbody>\n",
       "</table>\n",
       "</div>"
      ],
      "text/plain": [
       "            City  Number_of_Days                   _id\n",
       "0        Beijing              14  AWILuq8j8Jqrt1rp-STQ\n",
       "1  San Francisco              10  AWILuq8j8Jqrt1rp-STT\n",
       "2         Manama               7  AWILuq8j8Jqrt1rp-STU"
      ]
     },
     "execution_count": 12,
     "metadata": {},
     "output_type": "execute_result"
    }
   ],
   "source": [
    "df = t.head(3)\n",
    "df"
   ]
  },
  {
   "cell_type": "markdown",
   "metadata": {},
   "source": [
    "Queries to tables are returned in geopandas dataframe format."
   ]
  },
  {
   "cell_type": "code",
   "execution_count": 13,
   "metadata": {},
   "outputs": [
    {
     "data": {
      "text/plain": [
       "geopandas.geodataframe.GeoDataFrame"
      ]
     },
     "execution_count": 13,
     "metadata": {},
     "output_type": "execute_result"
    }
   ],
   "source": [
    "type(df)"
   ]
  },
  {
   "cell_type": "code",
   "execution_count": 14,
   "metadata": {},
   "outputs": [
    {
     "data": {
      "text/html": [
       "<div>\n",
       "<style>\n",
       "    .dataframe thead tr:only-child th {\n",
       "        text-align: right;\n",
       "    }\n",
       "\n",
       "    .dataframe thead th {\n",
       "        text-align: left;\n",
       "    }\n",
       "\n",
       "    .dataframe tbody tr th {\n",
       "        vertical-align: top;\n",
       "    }\n",
       "</style>\n",
       "<table border=\"1\" class=\"dataframe\">\n",
       "  <thead>\n",
       "    <tr style=\"text-align: right;\">\n",
       "      <th></th>\n",
       "      <th>City</th>\n",
       "      <th>Number_of_Days</th>\n",
       "      <th>_id</th>\n",
       "    </tr>\n",
       "  </thead>\n",
       "  <tbody>\n",
       "    <tr>\n",
       "      <th>0</th>\n",
       "      <td>San Francisco</td>\n",
       "      <td>10</td>\n",
       "      <td>AWILuq8j8Jqrt1rp-STT</td>\n",
       "    </tr>\n",
       "  </tbody>\n",
       "</table>\n",
       "</div>"
      ],
      "text/plain": [
       "            City  Number_of_Days                   _id\n",
       "0  San Francisco              10  AWILuq8j8Jqrt1rp-STT"
      ]
     },
     "execution_count": 14,
     "metadata": {},
     "output_type": "execute_result"
    }
   ],
   "source": [
    "t.query(\"SELECT * from data where City = 'San Francisco'\")"
   ]
  },
  {
   "cell_type": "markdown",
   "metadata": {},
   "source": [
    "## Collection objects: Searching\n",
    "\n",
    "If you don't know what data you are interested in advance, you can search by keywords and return a list of objects."
   ]
  },
  {
   "cell_type": "code",
   "execution_count": 15,
   "metadata": {},
   "outputs": [],
   "source": [
    "c = LMIPy.Collection('tree cover', object_type=['layer','dataset'],app=['gfw'],limit=10)"
   ]
  },
  {
   "cell_type": "code",
   "execution_count": 16,
   "metadata": {},
   "outputs": [
    {
     "data": {
      "text/plain": [
       "[Dataset f3fc0f1e-aa26-49b6-8741-45df2eea9ac2, Layer 220080ec-1641-489c-96c4-4885ed618bf3, Layer 2f4d9b87-6629-4658-8175-87d7892a5f32, Layer 66203fea-2e58-4a55-b222-1dae075cf95d, Layer dd5df87f-39c2-4aeb-a462-3ef969b20b66, Layer a8b4e2eb-328e-420b-8027-8466271d8368, Table e663eb09-04de-4f39-b871-35c6c2ed10b5, Dataset 746089a3-0c24-402f-81b6-f8d91fab77fe, Layer 2fe559f6-9ae7-4a47-87fb-a33a128652ed, Layer cfd95864-1e95-4a7f-bdf8-e47e4bb5815e]"
      ]
     },
     "execution_count": 16,
     "metadata": {},
     "output_type": "execute_result"
    }
   ],
   "source": [
    "c"
   ]
  },
  {
   "cell_type": "markdown",
   "metadata": {},
   "source": [
    "Searching can be restricted with keyword arguments to specifically search types of items, applications, and more. If you want to render those items, you will need to do the following."
   ]
  },
  {
   "cell_type": "code",
   "execution_count": 17,
   "metadata": {},
   "outputs": [],
   "source": [
    "from IPython.display import display"
   ]
  },
  {
   "cell_type": "code",
   "execution_count": 18,
   "metadata": {},
   "outputs": [
    {
     "data": {
      "text/html": [
       "<div class='item_container' style='height: auto; overflow: hidden; border: 1px solid #80ceb9;border-radius: 2px; background: #f2fffb; line-height: 1.21429em; padding: 10px;''><div class='item_left' style='width: 210px; float: left;''><a href='https://resourcewatch.org/' target='_blank'><img class='itemThumbnail' src='https://resourcewatch.org/static/images/logo-embed.png'></a></div><div class='item_right' style='float: none; width: auto; overflow: hidden;''><a href=https://api.resourcewatch.org/v1/dataset/f3fc0f1e-aa26-49b6-8741-45df2eea9ac2?includes=vocabulary,metadata,layer target='_blank'><b>Brazil Land Cover</b></a><br> Data source wms 🗺Dataset in GFW.<br>Last Modified: 2018-11-21T14:03:00.256Z<br>Connector: wms | Published: True </div> </div>"
      ],
      "text/plain": [
       "Dataset f3fc0f1e-aa26-49b6-8741-45df2eea9ac2"
      ]
     },
     "metadata": {},
     "output_type": "display_data"
    },
    {
     "data": {
      "text/html": [
       "<div class='item_container' style='height: auto; overflow: hidden; border: 1px solid #80ceb9;border-radius: 2px; background: #f2fffb; line-height: 1.21429em; padding: 10px;''><div class='item_left' style='width: 210px; float: left;''><a href='https://resourcewatch.org/' target='_blank'><img class='itemThumbnail' src='https://resourcewatch.org/static/images/logo-embed.png'></a></div><div class='item_right' style='float: none; width: auto; overflow: hidden;''><a href=https://api.resourcewatch.org/v1/layer/220080ec-1641-489c-96c4-4885ed618bf3?includes=vocabulary,metadata target='_blank'><b>Brazil land cover - 2000-2016</b></a><br> Data source leaflet 🗺Layer in GFW.<br>Last Modified: 2018-11-21T14:03:00.520Z<br>Connector: leaflet | Published: True </div> </div>"
      ],
      "text/plain": [
       "Layer 220080ec-1641-489c-96c4-4885ed618bf3"
      ]
     },
     "metadata": {},
     "output_type": "display_data"
    },
    {
     "data": {
      "text/html": [
       "<div class='item_container' style='height: auto; overflow: hidden; border: 1px solid #80ceb9;border-radius: 2px; background: #f2fffb; line-height: 1.21429em; padding: 10px;''><div class='item_left' style='width: 210px; float: left;''><a href='https://resourcewatch.org/' target='_blank'><img class='itemThumbnail' src='https://resourcewatch.org/static/images/logo-embed.png'></a></div><div class='item_right' style='float: none; width: auto; overflow: hidden;''><a href=https://api.resourcewatch.org/v1/layer/2f4d9b87-6629-4658-8175-87d7892a5f32?includes=vocabulary,metadata target='_blank'><b>Earth Journalism Network Stories</b></a><br> Data source leaflet 🗺Layer in GFW.<br>Last Modified: 2019-03-11T13:41:16.759Z<br>Connector: leaflet | Published: True </div> </div>"
      ],
      "text/plain": [
       "Layer 2f4d9b87-6629-4658-8175-87d7892a5f32"
      ]
     },
     "metadata": {},
     "output_type": "display_data"
    },
    {
     "data": {
      "text/html": [
       "<div class='item_container' style='height: auto; overflow: hidden; border: 1px solid #80ceb9;border-radius: 2px; background: #f2fffb; line-height: 1.21429em; padding: 10px;''><div class='item_left' style='width: 210px; float: left;''><a href='https://resourcewatch.org/' target='_blank'><img class='itemThumbnail' src='https://resourcewatch.org/static/images/logo-embed.png'></a></div><div class='item_right' style='float: none; width: auto; overflow: hidden;''><a href=https://api.resourcewatch.org/v1/layer/66203fea-2e58-4a55-b222-1dae075cf95d?includes=vocabulary,metadata target='_blank'><b>FORMA alerts</b></a><br> Data source leaflet 🗺Layer in GFW.<br>Last Modified: 2019-03-14T10:41:49.789Z<br>Connector: leaflet | Published: True </div> </div>"
      ],
      "text/plain": [
       "Layer 66203fea-2e58-4a55-b222-1dae075cf95d"
      ]
     },
     "metadata": {},
     "output_type": "display_data"
    },
    {
     "data": {
      "text/html": [
       "<div class='item_container' style='height: auto; overflow: hidden; border: 1px solid #80ceb9;border-radius: 2px; background: #f2fffb; line-height: 1.21429em; padding: 10px;''><div class='item_left' style='width: 210px; float: left;''><a href='https://resourcewatch.org/' target='_blank'><img class='itemThumbnail' src='https://resourcewatch.org/static/images/logo-embed.png'></a></div><div class='item_right' style='float: none; width: auto; overflow: hidden;''><a href=https://api.resourcewatch.org/v1/layer/dd5df87f-39c2-4aeb-a462-3ef969b20b66?includes=vocabulary,metadata target='_blank'><b>GLAD alerts</b></a><br> Data source leaflet 🗺Layer in GFW.<br>Last Modified: 2019-03-08T13:16:58.512Z<br>Connector: leaflet | Published: True </div> </div>"
      ],
      "text/plain": [
       "Layer dd5df87f-39c2-4aeb-a462-3ef969b20b66"
      ]
     },
     "metadata": {},
     "output_type": "display_data"
    },
    {
     "data": {
      "text/html": [
       "<div class='item_container' style='height: auto; overflow: hidden; border: 1px solid #80ceb9;border-radius: 2px; background: #f2fffb; line-height: 1.21429em; padding: 10px;''><div class='item_left' style='width: 210px; float: left;''><a href='https://resourcewatch.org/' target='_blank'><img class='itemThumbnail' src='https://resourcewatch.org/static/images/logo-embed.png'></a></div><div class='item_right' style='float: none; width: auto; overflow: hidden;''><a href=https://api.resourcewatch.org/v1/layer/a8b4e2eb-328e-420b-8027-8466271d8368?includes=vocabulary,metadata target='_blank'><b>Geographic coverage</b></a><br> Data source cartodb 🗺Layer in GFW.<br>Last Modified: 2019-03-08T13:20:03.501Z<br>Connector: cartodb | Published: True </div> </div>"
      ],
      "text/plain": [
       "Layer a8b4e2eb-328e-420b-8027-8466271d8368"
      ]
     },
     "metadata": {},
     "output_type": "display_data"
    },
    {
     "data": {
      "text/html": [
       "<div class='item_container' style='height: auto; overflow: hidden; border: 1px solid #80ceb9;border-radius: 2px; background: #f2fffb; line-height: 1.21429em; padding: 10px;''><div class='item_left' style='width: 210px; float: left;''><a href='https://resourcewatch.org/' target='_blank'><img class='itemThumbnail' src='https://resourcewatch.org/static/images/logo-embed.png'></a></div><div class='item_right' style='float: none; width: auto; overflow: hidden;''><a href=https://api.resourcewatch.org/v1/dataset/e663eb09-04de-4f39-b871-35c6c2ed10b5?includes=vocabulary,metadata,layer target='_blank'><b>Global Land Analysis and Discovery</b></a><br> CSV Table: <a href=http://gfw2-data.s3.amazonaws.com/alerts-tsv/glad/russia_2015.csv target='_blank'>index_e663eb0904de4f39b87135c6c2ed10b5</a> 🗺Table in GFW.<br>Last Modified: 2019-04-09T11:53:38.200Z<br>Connector: csv | Published: True </div> </div>"
      ],
      "text/plain": [
       "Table e663eb09-04de-4f39-b871-35c6c2ed10b5"
      ]
     },
     "metadata": {},
     "output_type": "display_data"
    },
    {
     "data": {
      "text/html": [
       "<div class='item_container' style='height: auto; overflow: hidden; border: 1px solid #80ceb9;border-radius: 2px; background: #f2fffb; line-height: 1.21429em; padding: 10px;''><div class='item_left' style='width: 210px; float: left;''><a href='https://resourcewatch.org/' target='_blank'><img class='itemThumbnail' src='https://resourcewatch.org/static/images/logo-embed.png'></a></div><div class='item_right' style='float: none; width: auto; overflow: hidden;''><a href=https://api.resourcewatch.org/v1/dataset/746089a3-0c24-402f-81b6-f8d91fab77fe?includes=vocabulary,metadata,layer target='_blank'><b>Guatemala Forest Cover</b></a><br> Data source wms 🗺Dataset in GFW.<br>Last Modified: 2018-11-21T14:02:59.690Z<br>Connector: wms | Published: True </div> </div>"
      ],
      "text/plain": [
       "Dataset 746089a3-0c24-402f-81b6-f8d91fab77fe"
      ]
     },
     "metadata": {},
     "output_type": "display_data"
    },
    {
     "data": {
      "text/html": [
       "<div class='item_container' style='height: auto; overflow: hidden; border: 1px solid #80ceb9;border-radius: 2px; background: #f2fffb; line-height: 1.21429em; padding: 10px;''><div class='item_left' style='width: 210px; float: left;''><a href='https://resourcewatch.org/' target='_blank'><img class='itemThumbnail' src='https://resourcewatch.org/static/images/logo-embed.png'></a></div><div class='item_right' style='float: none; width: auto; overflow: hidden;''><a href=https://api.resourcewatch.org/v1/layer/2fe559f6-9ae7-4a47-87fb-a33a128652ed?includes=vocabulary,metadata target='_blank'><b>Guatemala forest change - 2001-2006</b></a><br> Data source leaflet 🗺Layer in GFW.<br>Last Modified: 2018-11-21T14:02:59.190Z<br>Connector: leaflet | Published: True </div> </div>"
      ],
      "text/plain": [
       "Layer 2fe559f6-9ae7-4a47-87fb-a33a128652ed"
      ]
     },
     "metadata": {},
     "output_type": "display_data"
    },
    {
     "data": {
      "text/html": [
       "<div class='item_container' style='height: auto; overflow: hidden; border: 1px solid #80ceb9;border-radius: 2px; background: #f2fffb; line-height: 1.21429em; padding: 10px;''><div class='item_left' style='width: 210px; float: left;''><a href='https://resourcewatch.org/' target='_blank'><img class='itemThumbnail' src='https://resourcewatch.org/static/images/logo-embed.png'></a></div><div class='item_right' style='float: none; width: auto; overflow: hidden;''><a href=https://api.resourcewatch.org/v1/layer/cfd95864-1e95-4a7f-bdf8-e47e4bb5815e?includes=vocabulary,metadata target='_blank'><b>Guatemala forest cover - 2012</b></a><br> Data source leaflet 🗺Layer in GFW.<br>Last Modified: 2018-11-21T14:02:59.963Z<br>Connector: leaflet | Published: True </div> </div>"
      ],
      "text/plain": [
       "Layer cfd95864-1e95-4a7f-bdf8-e47e4bb5815e"
      ]
     },
     "metadata": {},
     "output_type": "display_data"
    }
   ],
   "source": [
    "for item in c:\n",
    "    display(item)"
   ]
  },
  {
   "cell_type": "markdown",
   "metadata": {},
   "source": [
    "You can access items from a collection using subscripts, slices and more."
   ]
  },
  {
   "cell_type": "code",
   "execution_count": 19,
   "metadata": {},
   "outputs": [
    {
     "data": {
      "text/html": [
       "<div class='item_container' style='height: auto; overflow: hidden; border: 1px solid #80ceb9;border-radius: 2px; background: #f2fffb; line-height: 1.21429em; padding: 10px;''><div class='item_left' style='width: 210px; float: left;''><a href='https://resourcewatch.org/' target='_blank'><img class='itemThumbnail' src='https://resourcewatch.org/static/images/logo-embed.png'></a></div><div class='item_right' style='float: none; width: auto; overflow: hidden;''><a href=https://api.resourcewatch.org/v1/layer/cfd95864-1e95-4a7f-bdf8-e47e4bb5815e?includes=vocabulary,metadata target='_blank'><b>Guatemala forest cover - 2012</b></a><br> Data source leaflet 🗺Layer in GFW.<br>Last Modified: 2018-11-21T14:02:59.963Z<br>Connector: leaflet | Published: True </div> </div>"
      ],
      "text/plain": [
       "Layer cfd95864-1e95-4a7f-bdf8-e47e4bb5815e"
      ]
     },
     "execution_count": 19,
     "metadata": {},
     "output_type": "execute_result"
    }
   ],
   "source": [
    "c[-1]"
   ]
  },
  {
   "cell_type": "code",
   "execution_count": 20,
   "metadata": {},
   "outputs": [
    {
     "data": {
      "text/html": [
       "<div style=\"width:100%;\"><div style=\"position:relative;width:100%;height:0;padding-bottom:60%;\"><iframe src=\"data:text/html;charset=utf-8;base64,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\" style=\"position:absolute;width:100%;height:100%;left:0;top:0;border:none !important;\" allowfullscreen webkitallowfullscreen mozallowfullscreen></iframe></div></div>"
      ],
      "text/plain": [
       "<folium.folium.Map at 0x115b9d198>"
      ]
     },
     "execution_count": 20,
     "metadata": {},
     "output_type": "execute_result"
    }
   ],
   "source": [
    "c[-1].map()"
   ]
  },
  {
   "cell_type": "markdown",
   "metadata": {},
   "source": [
    "## Create a Geometry object\n",
    "\n",
    "Often you will need to perform some kind of intersect analysis between data held in datasets and tables and a geometry.\n",
    "We will now show you multiple ways to create your geometry objects."
   ]
  },
  {
   "cell_type": "markdown",
   "metadata": {},
   "source": [
    "### From an ID\n",
    "\n",
    "Vizzuality's API holds geometry objects as a Geostore item. Geostore items are accessed by an id-hash. If you know the hash of your object already you can simply call a geometry like so:"
   ]
  },
  {
   "cell_type": "code",
   "execution_count": 21,
   "metadata": {},
   "outputs": [
    {
     "data": {
      "text/html": [
       "<div class='item_container' style='height: auto; overflow: hidden; border: 1px solid #80ceb9;border-radius: 2px; background: #f2fffb; line-height: 1.21429em; padding: 10px;''><div class='item_left' style='width: 210px; float: left;''><a href='https://resourcewatch.org/' target='_blank'><img class='itemThumbnail' src='https://resourcewatch.org/static/images/logo-embed.png'></a></div><div class='item_right' style='float: none; width: auto; overflow: hidden;''><b>Geometry id</b>: <a href=https://production-api.globalforestwatch.org/v1/geostore/e8b6f974bcab5aefccd121654860be06 target='_blank'>e8b6f974bcab5aefccd121654860be06</a></br> </div> </div>"
      ],
      "text/plain": [
       "Geometry e8b6f974bcab5aefccd121654860be06"
      ]
     },
     "execution_count": 21,
     "metadata": {},
     "output_type": "execute_result"
    }
   ],
   "source": [
    "g = LMIPy.Geometry(id_hash='e8b6f974bcab5aefccd121654860be06')\n",
    "g"
   ]
  },
  {
   "cell_type": "code",
   "execution_count": 22,
   "metadata": {},
   "outputs": [
    {
     "data": {
      "text/plain": [
       "{'areaHa': 16931274.241571266,\n",
       " 'bbox': [-49.6113281249728,\n",
       "  -9.77447583284213,\n",
       "  -44.513671874972,\n",
       "  -4.19348629349041],\n",
       " 'geojson': {'crs': {},\n",
       "  'features': [{'geometry': {'coordinates': [[[-47.8535156249717,\n",
       "        -4.19348629349041],\n",
       "       [-49.6113281249728, -9.77447583284213],\n",
       "       [-44.513671874972, -9.25438811084709],\n",
       "       [-47.8535156249717, -4.19348629349041]]],\n",
       "     'type': 'Polygon'},\n",
       "    'properties': None,\n",
       "    'type': 'Feature'}],\n",
       "  'type': 'FeatureCollection'},\n",
       " 'hash': 'e8b6f974bcab5aefccd121654860be06',\n",
       " 'info': {'use': {}},\n",
       " 'lock': False,\n",
       " 'provider': {}}"
      ]
     },
     "execution_count": 22,
     "metadata": {},
     "output_type": "execute_result"
    }
   ],
   "source": [
    "g.attributes"
   ]
  },
  {
   "cell_type": "code",
   "execution_count": 23,
   "metadata": {},
   "outputs": [
    {
     "data": {
      "image/svg+xml": [
       "<svg xmlns=\"http://www.w3.org/2000/svg\" xmlns:xlink=\"http://www.w3.org/1999/xlink\" width=\"100.0\" height=\"100.0\" viewBox=\"-49.83456770654687 -9.997715414416199 5.544135413148943 6.027468702499858\" preserveAspectRatio=\"xMinYMin meet\"><g transform=\"matrix(1,0,0,-1,0,-13.967962126332539)\"><path fill-rule=\"evenodd\" fill=\"#66cc99\" stroke=\"#555555\" stroke-width=\"0.12054937404999716\" opacity=\"0.6\" d=\"M -47.8535156249717,-4.19348629349041 L -49.6113281249728,-9.77447583284213 L -44.513671874972,-9.25438811084709 L -47.8535156249717,-4.19348629349041 z\" /></g></svg>"
      ],
      "text/plain": [
       "<shapely.geometry.polygon.Polygon at 0x115baa5f8>"
      ]
     },
     "execution_count": 23,
     "metadata": {},
     "output_type": "execute_result"
    }
   ],
   "source": [
    "g.shape()[0]"
   ]
  },
  {
   "cell_type": "code",
   "execution_count": 24,
   "metadata": {},
   "outputs": [
    {
     "data": {
      "text/html": [
       "<div style=\"width:100%;\"><div style=\"position:relative;width:100%;height:0;padding-bottom:60%;\"><iframe src=\"data:text/html;charset=utf-8;base64,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\" style=\"position:absolute;width:100%;height:100%;left:0;top:0;border:none !important;\" allowfullscreen webkitallowfullscreen mozallowfullscreen></iframe></div></div>"
      ],
      "text/plain": [
       "<folium.folium.Map at 0x115baa748>"
      ]
     },
     "execution_count": 24,
     "metadata": {},
     "output_type": "execute_result"
    }
   ],
   "source": [
    "g.map()"
   ]
  },
  {
   "cell_type": "markdown",
   "metadata": {},
   "source": [
    "## Create a Geometry object from Geojson\n",
    "\n",
    "Alternativley, you can create an object as you need on the fly from geojson. The act of creating an object will also register it to a Geostore service of your choice (locally, or on a remote server)."
   ]
  },
  {
   "cell_type": "code",
   "execution_count": 25,
   "metadata": {},
   "outputs": [],
   "source": [
    "atts={'geojson': {'type': 'FeatureCollection',\n",
    "                  'features': [{'type': 'Feature',\n",
    "                                'properties': {},\n",
    "                                'geometry': {'type': 'Polygon',\n",
    "                                             'coordinates': [[[110.21484375, -37.300275281344305],\n",
    "                                               [131.3525390625, -37.300275281344305],\n",
    "                                               [131.3525390625, -18.93746442964186],\n",
    "                                               [110.21484375, -18.93746442964186],\n",
    "                                               [110.21484375, -37.300275281344305]]]\n",
    "                                            }\n",
    "                               }]\n",
    "                 }\n",
    "     }"
   ]
  },
  {
   "cell_type": "code",
   "execution_count": 26,
   "metadata": {},
   "outputs": [
    {
     "data": {
      "text/html": [
       "<div class='item_container' style='height: auto; overflow: hidden; border: 1px solid #80ceb9;border-radius: 2px; background: #f2fffb; line-height: 1.21429em; padding: 10px;''><div class='item_left' style='width: 210px; float: left;''><a href='https://resourcewatch.org/' target='_blank'><img class='itemThumbnail' src='https://resourcewatch.org/static/images/logo-embed.png'></a></div><div class='item_right' style='float: none; width: auto; overflow: hidden;''><b>Geometry id</b>: <a href=https://production-api.globalforestwatch.org/v1/geostore/20d79720ccf8e04a044b25994ab8a06b target='_blank'>20d79720ccf8e04a044b25994ab8a06b</a></br> </div> </div>"
      ],
      "text/plain": [
       "Geometry 20d79720ccf8e04a044b25994ab8a06b"
      ]
     },
     "execution_count": 26,
     "metadata": {},
     "output_type": "execute_result"
    }
   ],
   "source": [
    "g1 = LMIPy.Geometry(attributes=atts, server='https://production-api.globalforestwatch.org')\n",
    "g1"
   ]
  },
  {
   "cell_type": "markdown",
   "metadata": {},
   "source": [
    "## Create a Geometry object from a Shapely object\n",
    "\n",
    "Shapely objects are at the root of popular python geolibraries such as Geopandas. We can recieve those geometry objects and create a Geometry object (simultaneously registering it in a Vizzuality Geostore server)."
   ]
  },
  {
   "cell_type": "code",
   "execution_count": 27,
   "metadata": {},
   "outputs": [],
   "source": [
    "import geopandas as gpd"
   ]
  },
  {
   "cell_type": "code",
   "execution_count": 28,
   "metadata": {},
   "outputs": [
    {
     "name": "stdout",
     "output_type": "stream",
     "text": [
      "Overwriting ./sample.geojson\n"
     ]
    }
   ],
   "source": [
    "%%writefile ./sample.geojson\n",
    "{\"features\":[{\"properties\":null,\"type\":\"Feature\",\"geometry\":{\"type\":\"Polygon\",\"coordinates\":[[[-43.1343734264374,-8.07358087603511],[-43.1327533721924,-8.08277985402466],[-43.1298887729645,-8.08181322762719],[-43.1103515625,-8.07815914647929],[-43.1094932556152,-8.07799981079283],[-43.1094932556152,-8.09641859926744],[-43.1103515625,-8.09645046495416],[-43.1187307834625,-8.0967372560211],[-43.1186878681183,-8.10273857778317],[-43.1186771392822,-8.10358831522616],[-43.1476235389709,-8.10358831522616],[-43.1477630138397,-8.10273857778317],[-43.1505310535431,-8.08645513764317],[-43.1517112255096,-8.08057041885644],[-43.1439757347107,-8.0795931648273],[-43.1448876857758,-8.07574785969913],[-43.1343734264374,-8.07358087603511]]]}}],\"crs\":{},\"type\":\"FeatureCollection\"}"
   ]
  },
  {
   "cell_type": "code",
   "execution_count": 29,
   "metadata": {},
   "outputs": [
    {
     "data": {
      "text/html": [
       "<div>\n",
       "<style>\n",
       "    .dataframe thead tr:only-child th {\n",
       "        text-align: right;\n",
       "    }\n",
       "\n",
       "    .dataframe thead th {\n",
       "        text-align: left;\n",
       "    }\n",
       "\n",
       "    .dataframe tbody tr th {\n",
       "        vertical-align: top;\n",
       "    }\n",
       "</style>\n",
       "<table border=\"1\" class=\"dataframe\">\n",
       "  <thead>\n",
       "    <tr style=\"text-align: right;\">\n",
       "      <th></th>\n",
       "      <th>geometry</th>\n",
       "    </tr>\n",
       "  </thead>\n",
       "  <tbody>\n",
       "    <tr>\n",
       "      <th>0</th>\n",
       "      <td>POLYGON ((-43.1343734264374 -8.073580876035111...</td>\n",
       "    </tr>\n",
       "  </tbody>\n",
       "</table>\n",
       "</div>"
      ],
      "text/plain": [
       "                                            geometry\n",
       "0  POLYGON ((-43.1343734264374 -8.073580876035111..."
      ]
     },
     "execution_count": 29,
     "metadata": {},
     "output_type": "execute_result"
    }
   ],
   "source": [
    "df = gpd.read_file('./sample.geojson')\n",
    "df"
   ]
  },
  {
   "cell_type": "code",
   "execution_count": 30,
   "metadata": {},
   "outputs": [
    {
     "name": "stdout",
     "output_type": "stream",
     "text": [
      "Hello! 👋 I am a <class 'shapely.geometry.polygon.Polygon'>\n"
     ]
    },
    {
     "data": {
      "image/svg+xml": [
       "<svg xmlns=\"http://www.w3.org/2000/svg\" xmlns:xlink=\"http://www.w3.org/1999/xlink\" width=\"100.0\" height=\"100.0\" viewBox=\"-43.15339994430538 -8.105277034021936 0.04559540748595481 0.033384876782601935\" preserveAspectRatio=\"xMinYMin meet\"><g transform=\"matrix(1,0,0,-1,0,-16.17716919126127)\"><path fill-rule=\"evenodd\" fill=\"#66cc99\" stroke=\"#555555\" stroke-width=\"0.0009119081497190962\" opacity=\"0.6\" d=\"M -43.1343734264374,-8.07358087603511 L -43.1327533721924,-8.08277985402466 L -43.1298887729645,-8.08181322762719 L -43.1103515625,-8.07815914647929 L -43.1094932556152,-8.07799981079283 L -43.1094932556152,-8.09641859926744 L -43.1103515625,-8.09645046495416 L -43.1187307834625,-8.0967372560211 L -43.1186878681183,-8.10273857778317 L -43.1186771392822,-8.10358831522616 L -43.1476235389709,-8.10358831522616 L -43.1477630138397,-8.10273857778317 L -43.1505310535431,-8.08645513764317 L -43.1517112255096,-8.08057041885644 L -43.1439757347107,-8.0795931648273 L -43.1448876857758,-8.07574785969913 L -43.1343734264374,-8.07358087603511 z\" /></g></svg>"
      ],
      "text/plain": [
       "<shapely.geometry.polygon.Polygon at 0x1146e23c8>"
      ]
     },
     "execution_count": 30,
     "metadata": {},
     "output_type": "execute_result"
    }
   ],
   "source": [
    "s = df.geometry[0]\n",
    "print(f\"Hello! 👋 I am a {type(s)}\")\n",
    "s"
   ]
  },
  {
   "cell_type": "code",
   "execution_count": 31,
   "metadata": {},
   "outputs": [],
   "source": [
    "g = LMIPy.Geometry(s=s)"
   ]
  },
  {
   "cell_type": "code",
   "execution_count": 32,
   "metadata": {},
   "outputs": [
    {
     "data": {
      "text/html": [
       "<div class='item_container' style='height: auto; overflow: hidden; border: 1px solid #80ceb9;border-radius: 2px; background: #f2fffb; line-height: 1.21429em; padding: 10px;''><div class='item_left' style='width: 210px; float: left;''><a href='https://resourcewatch.org/' target='_blank'><img class='itemThumbnail' src='https://resourcewatch.org/static/images/logo-embed.png'></a></div><div class='item_right' style='float: none; width: auto; overflow: hidden;''><b>Geometry id</b>: <a href=https://production-api.globalforestwatch.org/v1/geostore/52298e4ccc18b0f8375a156be6e18138 target='_blank'>52298e4ccc18b0f8375a156be6e18138</a></br> </div> </div>"
      ],
      "text/plain": [
       "Geometry 52298e4ccc18b0f8375a156be6e18138"
      ]
     },
     "execution_count": 32,
     "metadata": {},
     "output_type": "execute_result"
    }
   ],
   "source": [
    "g"
   ]
  },
  {
   "cell_type": "markdown",
   "metadata": {},
   "source": [
    "### Add a satellite image to the map\n",
    "The Geometry().map() method supports the return of recent satellite imagery. We calculate the centroid of your geometry and return the best, most recent image that intersects with that point. This is simply to provide context to your geometry."
   ]
  },
  {
   "cell_type": "code",
   "execution_count": 33,
   "metadata": {},
   "outputs": [
    {
     "name": "stdout",
     "output_type": "stream",
     "text": [
      "Image taken 2019-02-11 13:12:41Z\n",
      "Source: Sentinel-2A\n",
      "id: COPERNICUS/S2/20190211T131241_20190211T131239_T23MPM\n"
     ]
    },
    {
     "data": {
      "text/html": [
       "<div style=\"width:100%;\"><div style=\"position:relative;width:100%;height:0;padding-bottom:60%;\"><iframe src=\"data:text/html;charset=utf-8;base64,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\" style=\"position:absolute;width:100%;height:100%;left:0;top:0;border:none !important;\" allowfullscreen webkitallowfullscreen mozallowfullscreen></iframe></div></div>"
      ],
      "text/plain": [
       "<folium.folium.Map at 0x115beb668>"
      ]
     },
     "execution_count": 33,
     "metadata": {},
     "output_type": "execute_result"
    }
   ],
   "source": [
    "g.map(image=True)"
   ]
  },
  {
   "cell_type": "markdown",
   "metadata": {},
   "source": [
    "## Return Political Boundary Geometries\n",
    "\n",
    "We are able to return political boundaries (based on [GADM](https://gadm.org/) data) using ISO, admin keys, down to admin-2 level. These should be passed in a dictionary to params. GADM 3.6 is currently used by default."
   ]
  },
  {
   "cell_type": "code",
   "execution_count": 34,
   "metadata": {},
   "outputs": [
    {
     "data": {
      "text/html": [
       "<div style=\"width:100%;\"><div style=\"position:relative;width:100%;height:0;padding-bottom:60%;\"><iframe src=\"data:text/html;charset=utf-8;base64,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\" style=\"position:absolute;width:100%;height:100%;left:0;top:0;border:none !important;\" allowfullscreen webkitallowfullscreen mozallowfullscreen></iframe></div></div>"
      ],
      "text/plain": [
       "<folium.folium.Map at 0x1147adb00>"
      ]
     },
     "execution_count": 34,
     "metadata": {},
     "output_type": "execute_result"
    }
   ],
   "source": [
    "params={\n",
    "    'iso': 'BRA',\n",
    "    'adm1': None,\n",
    "    'adm2': None\n",
    "}\n",
    "admin = LMIPy.Geometry(parameters=params)\n",
    "admin.map()"
   ]
  },
  {
   "cell_type": "markdown",
   "metadata": {},
   "source": [
    "## Create Admin geometry with an older GADM version \n",
    "Alternatively, you can specify a different gadm version."
   ]
  },
  {
   "cell_type": "code",
   "execution_count": 35,
   "metadata": {},
   "outputs": [
    {
     "data": {
      "text/html": [
       "<div style=\"width:100%;\"><div style=\"position:relative;width:100%;height:0;padding-bottom:60%;\"><iframe src=\"data:text/html;charset=utf-8;base64,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\" style=\"position:absolute;width:100%;height:100%;left:0;top:0;border:none !important;\" allowfullscreen webkitallowfullscreen mozallowfullscreen></iframe></div></div>"
      ],
      "text/plain": [
       "<folium.folium.Map at 0x1147cbc50>"
      ]
     },
     "execution_count": 35,
     "metadata": {},
     "output_type": "execute_result"
    }
   ],
   "source": [
    "\n",
    "params={\n",
    "    'iso': 'BRA',\n",
    "    'adm1': 1,\n",
    "    'adm2': 1,\n",
    "    'gadm': '2.7'\n",
    "}\n",
    "admin_v1 = LMIPy.Geometry(parameters=params)\n",
    "admin_v1.map()"
   ]
  },
  {
   "cell_type": "markdown",
   "metadata": {},
   "source": [
    "## Create Geometries from a Carto table and index\n",
    "\n",
    "You can also return geometries directly from a Carto table (under the public WRI-01 account) using the table name and cartodb_id.\n"
   ]
  },
  {
   "cell_type": "code",
   "execution_count": 36,
   "metadata": {},
   "outputs": [
    {
     "name": "stdout",
     "output_type": "stream",
     "text": [
      "Image taken 2019-02-06 02:49:09Z\n",
      "Source: Sentinel-2B\n",
      "id: COPERNICUS/S2/20190206T024909_20190206T030148_T49MDV\n"
     ]
    },
    {
     "data": {
      "text/html": [
       "<div style=\"width:100%;\"><div style=\"position:relative;width:100%;height:0;padding-bottom:60%;\"><iframe src=\"data:text/html;charset=utf-8;base64,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\" style=\"position:absolute;width:100%;height:100%;left:0;top:0;border:none !important;\" allowfullscreen webkitallowfullscreen mozallowfullscreen></iframe></div></div>"
      ],
      "text/plain": [
       "<folium.folium.Map at 0x115bc3320>"
      ]
     },
     "execution_count": 36,
     "metadata": {},
     "output_type": "execute_result"
    }
   ],
   "source": [
    "params={\n",
    "    'table': 'gfw_logging',\n",
    "    'id': 123\n",
    "}\n",
    "row_geom = LMIPy.Geometry(parameters=params)\n",
    "row_geom.map(image=True)"
   ]
  },
  {
   "cell_type": "markdown",
   "metadata": {},
   "source": [
    "## Display a Layer and Geometry together"
   ]
  },
  {
   "cell_type": "code",
   "execution_count": 37,
   "metadata": {},
   "outputs": [
    {
     "data": {
      "text/html": [
       "<div class='item_container' style='height: auto; overflow: hidden; border: 1px solid #80ceb9;border-radius: 2px; background: #f2fffb; line-height: 1.21429em; padding: 10px;''><div class='item_left' style='width: 210px; float: left;''><a href='https://resourcewatch.org/' target='_blank'><img class='itemThumbnail' src='https://resourcewatch.org/static/images/logo-embed.png'></a></div><div class='item_right' style='float: none; width: auto; overflow: hidden;''><a href=https://api.resourcewatch.org/v1/layer/3ef039ba-29c7-459d-aadd-66d6e6cc8f5e?includes=vocabulary,metadata target='_blank'><b>Aboveground mangrove biomass density - 2000</b></a><br> GEE asset: <a href='https://code.earthengine.google.com/asset='None target='_blank'>None</a> 🗺Layer in GFW.<br>Last Modified: 2019-04-05T11:17:35.095Z<br>Connector: gee | Published: True </div> </div>"
      ],
      "text/plain": [
       "Layer 3ef039ba-29c7-459d-aadd-66d6e6cc8f5e"
      ]
     },
     "execution_count": 37,
     "metadata": {},
     "output_type": "execute_result"
    }
   ],
   "source": [
    "atts={'geojson': {'type': 'FeatureCollection',\n",
    "  'features': [{'type': 'Feature',\n",
    "    'properties': {},\n",
    "    'geometry': {'type': 'Polygon',\n",
    "     'coordinates': [[[-48.131103515625, -0.6001172008725418],\n",
    "       [-48.13934326171875, -0.9791088369866402],\n",
    "       [-47.86331176757812, -0.9818550168696459],\n",
    "       [-47.616119384765625, -0.8459165322899671],\n",
    "       [-47.50213623046875, -0.7182123915862891],\n",
    "       [-47.51861572265625, -0.5287095375108173],\n",
    "       [-47.882537841796875, -0.5163504323777461],\n",
    "       [-48.131103515625, -0.6001172008725418]]]}}]}}\n",
    "g = LMIPy.Geometry(attributes=atts)\n",
    "l = LMIPy.Layer(id_hash='3ef039ba-29c7-459d-aadd-66d6e6cc8f5e')\n",
    "l"
   ]
  },
  {
   "cell_type": "code",
   "execution_count": 38,
   "metadata": {},
   "outputs": [
    {
     "data": {
      "text/html": [
       "<div style=\"width:100%;\"><div style=\"position:relative;width:100%;height:0;padding-bottom:60%;\"><iframe src=\"data:text/html;charset=utf-8;base64,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\" style=\"position:absolute;width:100%;height:100%;left:0;top:0;border:none !important;\" allowfullscreen webkitallowfullscreen mozallowfullscreen></iframe></div></div>"
      ],
      "text/plain": [
       "<folium.folium.Map at 0x115bcce48>"
      ]
     },
     "execution_count": 38,
     "metadata": {},
     "output_type": "execute_result"
    }
   ],
   "source": [
    "l.map(geometry=g)"
   ]
  },
  {
   "cell_type": "markdown",
   "metadata": {},
   "source": [
    "## Intersecting Raster data with Geometry objects\n",
    "\n",
    "Any Layer or Dataset objects based on an Earth Engine raster can be intersected with LMIPy.Geometry objects.\n",
    "\n",
    "### Dataset Intersections\n",
    "In the first instance we show the result of an intersect between a geometry roughly bounding London, and a Population density layer."
   ]
  },
  {
   "cell_type": "code",
   "execution_count": 39,
   "metadata": {},
   "outputs": [
    {
     "data": {
      "text/html": [
       "<div style=\"width:100%;\"><div style=\"position:relative;width:100%;height:0;padding-bottom:60%;\"><iframe src=\"data:text/html;charset=utf-8;base64,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\" style=\"position:absolute;width:100%;height:100%;left:0;top:0;border:none !important;\" allowfullscreen webkitallowfullscreen mozallowfullscreen></iframe></div></div>"
      ],
      "text/plain": [
       "<folium.folium.Map at 0x115b1f748>"
      ]
     },
     "execution_count": 39,
     "metadata": {},
     "output_type": "execute_result"
    }
   ],
   "source": [
    "atts={'geojson': {'type': 'FeatureCollection',\n",
    "  'features': [{'type': 'Feature',\n",
    "    'properties': {},\n",
    "    'geometry': {'type': 'Polygon',\n",
    "     'coordinates': [\n",
    "          [\n",
    "            [\n",
    "              -0.5712890625,\n",
    "              51.28940590271679\n",
    "            ],\n",
    "            [\n",
    "              0.48339843749999994,\n",
    "              51.28940590271679\n",
    "            ],\n",
    "            [\n",
    "              0.48339843749999994,\n",
    "              51.781435604431195\n",
    "            ],\n",
    "            [\n",
    "              -0.5712890625,\n",
    "              51.781435604431195\n",
    "            ],\n",
    "            [\n",
    "              -0.5712890625,\n",
    "              51.28940590271679\n",
    "            ]\n",
    "          ]\n",
    "        ]}}]}}\n",
    "\n",
    "g = LMIPy.Geometry(attributes=atts)\n",
    "g.map()"
   ]
  },
  {
   "cell_type": "code",
   "execution_count": 40,
   "metadata": {},
   "outputs": [
    {
     "data": {
      "text/html": [
       "<div class='item_container' style='height: auto; overflow: hidden; border: 1px solid #80ceb9;border-radius: 2px; background: #f2fffb; line-height: 1.21429em; padding: 10px;''><div class='item_left' style='width: 210px; float: left;''><a href='https://resourcewatch.org/' target='_blank'><img class='itemThumbnail' src='https://resourcewatch.org/static/images/logo-embed.png'></a></div><div class='item_right' style='float: none; width: auto; overflow: hidden;''><a href=https://api.resourcewatch.org/v1/dataset/a4e9c32d-d037-4c50-a893-967cad193537?includes=vocabulary,metadata,layer target='_blank'><b>Population Density</b></a><br> GEE asset: <a href='https://code.earthengine.google.com/asset='CIESIN/GPWv4/population-density/2015 target='_blank'>CIESIN/GPWv4/population-density/2015</a> 🗺Dataset in GFW.<br>Last Modified: 2019-03-08T18:24:06.420Z<br>Connector: gee | Published: True </div> </div>"
      ],
      "text/plain": [
       "Dataset a4e9c32d-d037-4c50-a893-967cad193537"
      ]
     },
     "execution_count": 40,
     "metadata": {},
     "output_type": "execute_result"
    }
   ],
   "source": [
    "ds = LMIPy.Dataset(id_hash='a4e9c32d-d037-4c50-a893-967cad193537')\n",
    "ds"
   ]
  },
  {
   "cell_type": "markdown",
   "metadata": {},
   "source": [
    "Finally, you can call the intersect function on the dataset object to see a dictionary of values."
   ]
  },
  {
   "cell_type": "code",
   "execution_count": 41,
   "metadata": {},
   "outputs": [
    {
     "data": {
      "text/plain": [
       "{'population-density': {'count': 138767,\n",
       "  'max': 5984.53564453125,\n",
       "  'mean': 1.5942131871343077,\n",
       "  'min': 0.0,\n",
       "  'stdev': 31.059972394495443,\n",
       "  'sum': 221224.18133906648}}"
      ]
     },
     "execution_count": 41,
     "metadata": {},
     "output_type": "execute_result"
    }
   ],
   "source": [
    "ds.intersect(geometry=g)"
   ]
  },
  {
   "cell_type": "markdown",
   "metadata": {},
   "source": [
    "### Layer Intersections\n",
    "\n",
    "Intersections against layers work in the same manner. Here we show an intersect between an area along Brazil's coast and a Mangrove biomass density Layer."
   ]
  },
  {
   "cell_type": "code",
   "execution_count": 42,
   "metadata": {},
   "outputs": [
    {
     "data": {
      "text/html": [
       "<div style=\"width:100%;\"><div style=\"position:relative;width:100%;height:0;padding-bottom:60%;\"><iframe src=\"data:text/html;charset=utf-8;base64,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\" style=\"position:absolute;width:100%;height:100%;left:0;top:0;border:none !important;\" allowfullscreen webkitallowfullscreen mozallowfullscreen></iframe></div></div>"
      ],
      "text/plain": [
       "<folium.folium.Map at 0x115af0470>"
      ]
     },
     "execution_count": 42,
     "metadata": {},
     "output_type": "execute_result"
    }
   ],
   "source": [
    "atts={'geojson': {'type': 'FeatureCollection',\n",
    "  'features': [{'type': 'Feature',\n",
    "    'properties': {},\n",
    "    'geometry': {'type': 'Polygon',\n",
    "     'coordinates': \n",
    "\n",
    "[\n",
    "          [\n",
    "            [\n",
    "              -52.16308593749999,\n",
    "              -1.669685500986571\n",
    "            ],\n",
    "            [\n",
    "              -46.9775390625,\n",
    "              -1.669685500986571\n",
    "            ],\n",
    "            [\n",
    "              -46.9775390625,\n",
    "              0.7909904981540058\n",
    "            ],\n",
    "            [\n",
    "              -52.16308593749999,\n",
    "              0.7909904981540058\n",
    "            ],\n",
    "            [\n",
    "              -52.16308593749999,\n",
    "              -1.669685500986571\n",
    "            ]\n",
    "          ]\n",
    "        ]\n",
    "                 }}]}}\n",
    "\n",
    "g = LMIPy.Geometry(attributes=atts)\n",
    "g.map()"
   ]
  },
  {
   "cell_type": "code",
   "execution_count": 43,
   "metadata": {},
   "outputs": [
    {
     "data": {
      "text/html": [
       "<div class='item_container' style='height: auto; overflow: hidden; border: 1px solid #80ceb9;border-radius: 2px; background: #f2fffb; line-height: 1.21429em; padding: 10px;''><div class='item_left' style='width: 210px; float: left;''><a href='https://resourcewatch.org/' target='_blank'><img class='itemThumbnail' src='https://resourcewatch.org/static/images/logo-embed.png'></a></div><div class='item_right' style='float: none; width: auto; overflow: hidden;''><a href=https://api.resourcewatch.org/v1/layer/3ef039ba-29c7-459d-aadd-66d6e6cc8f5e?includes=vocabulary,metadata target='_blank'><b>Aboveground mangrove biomass density - 2000</b></a><br> GEE asset: <a href='https://code.earthengine.google.com/asset='None target='_blank'>None</a> 🗺Layer in GFW.<br>Last Modified: 2019-04-05T11:17:35.095Z<br>Connector: gee | Published: True </div> </div>"
      ],
      "text/plain": [
       "Layer 3ef039ba-29c7-459d-aadd-66d6e6cc8f5e"
      ]
     },
     "execution_count": 43,
     "metadata": {},
     "output_type": "execute_result"
    }
   ],
   "source": [
    "ly = LMIPy.Layer('3ef039ba-29c7-459d-aadd-66d6e6cc8f5e')\n",
    "ly"
   ]
  },
  {
   "cell_type": "code",
   "execution_count": 44,
   "metadata": {},
   "outputs": [
    {
     "data": {
      "text/plain": [
       "{'b1': {'count': 135511,\n",
       "  'max': 32.262001037597656,\n",
       "  'mean': 2.341725882585996,\n",
       "  'min': 0.5376999974250793,\n",
       "  'stdev': 5.07816334797714,\n",
       "  'sum': 302242.0047789522}}"
      ]
     },
     "execution_count": 44,
     "metadata": {},
     "output_type": "execute_result"
    }
   ],
   "source": [
    "ly.intersect(geometry=g)"
   ]
  },
  {
   "cell_type": "markdown",
   "metadata": {},
   "source": [
    "## Construct Widgets GFW-style!\n",
    "\n",
    "A demo of how to use LMIPy to construct widgets like those on the GFW Dashboard pages.\n",
    "\n",
    "### Tree cover example"
   ]
  },
  {
   "cell_type": "code",
   "execution_count": 45,
   "metadata": {},
   "outputs": [],
   "source": [
    "import matplotlib.pyplot as plt\n",
    "%matplotlib inline"
   ]
  },
  {
   "cell_type": "code",
   "execution_count": 46,
   "metadata": {},
   "outputs": [
    {
     "data": {
      "text/html": [
       "<div class='item_container' style='height: auto; overflow: hidden; border: 1px solid #80ceb9;border-radius: 2px; background: #f2fffb; line-height: 1.21429em; padding: 10px;''><div class='item_left' style='width: 210px; float: left;''><a href='https://resourcewatch.org/' target='_blank'><img class='itemThumbnail' src='https://resourcewatch.org/static/images/logo-embed.png'></a></div><div class='item_right' style='float: none; width: auto; overflow: hidden;''><a href=https://api.resourcewatch.org/v1/dataset/a20e9c0e-8d7d-422f-90f5-3b9bca355aaf?includes=vocabulary,metadata,layer target='_blank'><b>country page data for admin level 2</b></a><br> Data source json 🗺Table in GFW.<br>Last Modified: 2018-11-21T14:02:21.137Z<br>Connector: json | Published: True </div> </div>"
      ],
      "text/plain": [
       "Table a20e9c0e-8d7d-422f-90f5-3b9bca355aaf"
      ]
     },
     "execution_count": 46,
     "metadata": {},
     "output_type": "execute_result"
    }
   ],
   "source": [
    "# Get a datatable (Hansen)\n",
    "table = LMIPy.Table('a20e9c0e-8d7d-422f-90f5-3b9bca355aaf')\n",
    "table"
   ]
  },
  {
   "cell_type": "code",
   "execution_count": 47,
   "metadata": {},
   "outputs": [
    {
     "data": {
      "text/html": [
       "<div>\n",
       "<style>\n",
       "    .dataframe thead tr:only-child th {\n",
       "        text-align: right;\n",
       "    }\n",
       "\n",
       "    .dataframe thead th {\n",
       "        text-align: left;\n",
       "    }\n",
       "\n",
       "    .dataframe tbody tr th {\n",
       "        vertical-align: top;\n",
       "    }\n",
       "</style>\n",
       "<table border=\"1\" class=\"dataframe\">\n",
       "  <thead>\n",
       "    <tr style=\"text-align: right;\">\n",
       "      <th></th>\n",
       "      <th>total_area</th>\n",
       "      <th>value</th>\n",
       "    </tr>\n",
       "  </thead>\n",
       "  <tbody>\n",
       "    <tr>\n",
       "      <th>0</th>\n",
       "      <td>1.527330e+07</td>\n",
       "      <td>1.140593e+07</td>\n",
       "    </tr>\n",
       "  </tbody>\n",
       "</table>\n",
       "</div>"
      ],
      "text/plain": [
       "     total_area         value\n",
       "0  1.527330e+07  1.140593e+07"
      ]
     },
     "execution_count": 47,
     "metadata": {},
     "output_type": "execute_result"
    }
   ],
   "source": [
    "iso = 'BRA'\n",
    "administration = 1\n",
    "\n",
    "sql = f\"\"\"\n",
    "        SELECT \n",
    "            SUM(area_extent) as value,\n",
    "            SUM(area_admin) as total_area \n",
    "        FROM data \n",
    "        WHERE iso = '{iso}'\n",
    "        AND adm1 = {administration}\n",
    "        AND thresh = 30 \n",
    "        AND polyname = 'admin'\n",
    "\"\"\"\n",
    "\n",
    "results = table.query(sql=sql)\n",
    "results"
   ]
  },
  {
   "cell_type": "code",
   "execution_count": 48,
   "metadata": {},
   "outputs": [
    {
     "data": {
      "image/png": "[encoded data removed]",
      "text/plain": [
       "<matplotlib.figure.Figure at 0x1165a15f8>"
      ]
     },
     "metadata": {},
     "output_type": "display_data"
    }
   ],
   "source": [
    "sizes = [results.value[0], results.total_area[0] - results.value[0]]\n",
    "colors = ['green','grey']\n",
    "labels = ['Tree cover', 'Non-forest']\n",
    "\n",
    "fig1, ax1 = plt.subplots()\n",
    "ax1.pie(sizes, labels=labels, autopct='%1.1f%%',\n",
    "        shadow=False, startangle=90, colors=colors)\n",
    "ax1.axis('equal')\n",
    "centre_circle = plt.Circle((0,0),0.75,color='black', fc='white',linewidth=0.5)\n",
    "fig1 = plt.gcf()\n",
    "fig1.gca().add_artist(centre_circle)\n",
    "plt.suptitle('Tree cover extent')\n",
    "plt.title(f'in {iso}/{administration}')\n",
    "plt.show()"
   ]
  },
  {
   "cell_type": "markdown",
   "metadata": {},
   "source": [
    "### Tree cover loss example"
   ]
  },
  {
   "cell_type": "code",
   "execution_count": 49,
   "metadata": {},
   "outputs": [
    {
     "data": {
      "text/html": [
       "<div>\n",
       "<style>\n",
       "    .dataframe thead tr:only-child th {\n",
       "        text-align: right;\n",
       "    }\n",
       "\n",
       "    .dataframe thead th {\n",
       "        text-align: left;\n",
       "    }\n",
       "\n",
       "    .dataframe tbody tr th {\n",
       "        vertical-align: top;\n",
       "    }\n",
       "</style>\n",
       "<table border=\"1\" class=\"dataframe\">\n",
       "  <thead>\n",
       "    <tr style=\"text-align: right;\">\n",
       "      <th></th>\n",
       "      <th>area</th>\n",
       "      <th>iso</th>\n",
       "      <th>polyname</th>\n",
       "      <th>year</th>\n",
       "    </tr>\n",
       "  </thead>\n",
       "  <tbody>\n",
       "    <tr>\n",
       "      <th>0</th>\n",
       "      <td>2.746361e+06</td>\n",
       "      <td>BRA</td>\n",
       "      <td>admin</td>\n",
       "      <td>2001</td>\n",
       "    </tr>\n",
       "    <tr>\n",
       "      <th>1</th>\n",
       "      <td>3.507049e+06</td>\n",
       "      <td>BRA</td>\n",
       "      <td>admin</td>\n",
       "      <td>2002</td>\n",
       "    </tr>\n",
       "    <tr>\n",
       "      <th>2</th>\n",
       "      <td>3.248527e+06</td>\n",
       "      <td>BRA</td>\n",
       "      <td>admin</td>\n",
       "      <td>2003</td>\n",
       "    </tr>\n",
       "    <tr>\n",
       "      <th>3</th>\n",
       "      <td>3.848771e+06</td>\n",
       "      <td>BRA</td>\n",
       "      <td>admin</td>\n",
       "      <td>2004</td>\n",
       "    </tr>\n",
       "    <tr>\n",
       "      <th>4</th>\n",
       "      <td>3.486563e+06</td>\n",
       "      <td>BRA</td>\n",
       "      <td>admin</td>\n",
       "      <td>2005</td>\n",
       "    </tr>\n",
       "  </tbody>\n",
       "</table>\n",
       "</div>"
      ],
      "text/plain": [
       "           area  iso polyname  year\n",
       "0  2.746361e+06  BRA    admin  2001\n",
       "1  3.507049e+06  BRA    admin  2002\n",
       "2  3.248527e+06  BRA    admin  2003\n",
       "3  3.848771e+06  BRA    admin  2004\n",
       "4  3.486563e+06  BRA    admin  2005"
      ]
     },
     "execution_count": 49,
     "metadata": {},
     "output_type": "execute_result"
    }
   ],
   "source": [
    "sql = \"\"\"\n",
    "SELECT \n",
    "    polyname, year_data.year as year, \n",
    "    SUM(year_data.area_loss) as area\n",
    "\n",
    "FROM data \n",
    "WHERE polyname = 'admin'\n",
    "AND thresh= 30\n",
    "GROUP BY polyname, iso, nested(year_data.year)\n",
    "\"\"\"\n",
    "global_loss = table.query(sql=sql)\n",
    "global_loss.head()"
   ]
  },
  {
   "cell_type": "code",
   "execution_count": 50,
   "metadata": {},
   "outputs": [
    {
     "data": {
      "image/png": "[encoded data removed]",
      "text/plain": [
       "<matplotlib.figure.Figure at 0x11817e7b8>"
      ]
     },
     "metadata": {},
     "output_type": "display_data"
    }
   ],
   "source": [
    "iso='BRA'\n",
    "loss_data = list(global_loss[global_loss['iso'] == f'{iso}']['area'])\n",
    "years = list(global_loss[global_loss['iso'] == f'{iso}']['year'])\n",
    "\n",
    "width = 0.66\n",
    "fig, ax = plt.subplots()\n",
    "rects1 = ax.bar(years, loss_data, width, color='#FE5A8D')\n",
    "\n",
    "# add some text for labels, title and axes ticks\n",
    "ax.set_ylabel('Loss extent (ha)')\n",
    "ax.set_title(f'Loss by year in {iso}')\n",
    "plt.show()"
   ]
  },
  {
   "cell_type": "markdown",
   "metadata": {},
   "source": [
    "### Creating a local backup\n",
    "\n",
    "Save a local backup of a collection to a specified path. This creates a folder containing a JSON for each dataset and it's associated Layers, Metadata and Vocabularies."
   ]
  },
  {
   "cell_type": "code",
   "execution_count": 51,
   "metadata": {},
   "outputs": [],
   "source": [
    "col = LMIPy.Collection(app=['gfw'], env='production')"
   ]
  },
  {
   "cell_type": "code",
   "execution_count": 52,
   "metadata": {},
   "outputs": [],
   "source": [
    "path = './LMI-BACKUP'"
   ]
  },
  {
   "cell_type": "code",
   "execution_count": 53,
   "metadata": {},
   "outputs": [
    {
     "name": "stderr",
     "output_type": "stream",
     "text": [
      "\r",
      "0it [00:00, ?it/s]"
     ]
    },
    {
     "name": "stdout",
     "output_type": "stream",
     "text": [
      "Saving to path: ./LMI-BACKUP/2019-04-12@11h-44m\n"
     ]
    },
    {
     "name": "stderr",
     "output_type": "stream",
     "text": [
      "242it [00:16, 14.87it/s]\n"
     ]
    }
   ],
   "source": [
    "col.save(path)"
   ]
  },
  {
   "cell_type": "markdown",
   "metadata": {},
   "source": [
    "### Load from local backup\n",
    "\n",
    "You can also load a previous version from local backup."
   ]
  },
  {
   "cell_type": "code",
   "execution_count": 60,
   "metadata": {},
   "outputs": [],
   "source": [
    "import os"
   ]
  },
  {
   "cell_type": "code",
   "execution_count": 54,
   "metadata": {},
   "outputs": [],
   "source": [
    "path = './LMI-BACKUP/2019-04-12@11h-09m'"
   ]
  },
  {
   "cell_type": "code",
   "execution_count": 61,
   "metadata": {},
   "outputs": [
    {
     "data": {
      "text/plain": [
       "['b70f070b-c9ae-4452-aa8e-2280a2604666.json',\n",
       " '89755b9f-df05-4e22-a9bc-05217c8eafc8.json',\n",
       " 'c8c7e5ae-d7bd-4e00-98e7-48677791d8f6.json']"
      ]
     },
     "execution_count": 61,
     "metadata": {},
     "output_type": "execute_result"
    }
   ],
   "source": [
    "os.listdir(path)[0:3]"
   ]
  },
  {
   "cell_type": "code",
   "execution_count": 55,
   "metadata": {},
   "outputs": [],
   "source": [
    "dataset = LMIPy.Dataset('714339c1-c775-4303-aad4-16d975b2f023')"
   ]
  },
  {
   "cell_type": "code",
   "execution_count": 56,
   "metadata": {},
   "outputs": [
    {
     "data": {
      "text/html": [
       "<div class='item_container' style='height: auto; overflow: hidden; border: 1px solid #80ceb9;border-radius: 2px; background: #f2fffb; line-height: 1.21429em; padding: 10px;''><div class='item_left' style='width: 210px; float: left;''><a href='https://resourcewatch.org/' target='_blank'><img class='itemThumbnail' src='https://resourcewatch.org/static/images/logo-embed.png'></a></div><div class='item_right' style='float: none; width: auto; overflow: hidden;''><a href=https://api.resourcewatch.org/v1/dataset/714339c1-c775-4303-aad4-16d975b2f023?includes=vocabulary,metadata,layer target='_blank'><b>Primary Forest</b></a><br> GEE asset: <a href='https://code.earthengine.google.com/asset='projects/wri-datalab/primary_forest_2019 target='_blank'>projects/wri-datalab/primary_forest_2019</a> 🗺Dataset in GFW.<br>Last Modified: 2019-03-21T10:01:01.404Z<br>Connector: gee | Published: True </div> </div>"
      ],
      "text/plain": [
       "Dataset 714339c1-c775-4303-aad4-16d975b2f023"
      ]
     },
     "execution_count": 56,
     "metadata": {},
     "output_type": "execute_result"
    }
   ],
   "source": [
    "dataset"
   ]
  },
  {
   "cell_type": "code",
   "execution_count": 57,
   "metadata": {},
   "outputs": [],
   "source": [
    "backup = dataset.load(path)"
   ]
  },
  {
   "cell_type": "code",
   "execution_count": 59,
   "metadata": {},
   "outputs": [
    {
     "data": {
      "text/html": [
       "<div class='item_container' style='height: auto; overflow: hidden; border: 1px solid #80ceb9;border-radius: 2px; background: #f2fffb; line-height: 1.21429em; padding: 10px;''><div class='item_left' style='width: 210px; float: left;''><a href='https://resourcewatch.org/' target='_blank'><img class='itemThumbnail' src='https://resourcewatch.org/static/images/logo-embed.png'></a></div><div class='item_right' style='float: none; width: auto; overflow: hidden;''><a href=https://api.resourcewatch.org/v1/dataset/714339c1-c775-4303-aad4-16d975b2f023?includes=vocabulary,metadata,layer target='_blank'><b>Primary Forest</b></a><br> GEE asset: <a href='https://code.earthengine.google.com/asset='projects/wri-datalab/primary_forest_2019 target='_blank'>projects/wri-datalab/primary_forest_2019</a> 🗺Dataset in GFW.<br>Last Modified: 2019-03-21T10:01:01.404Z<br>Connector: gee | Published: True </div> </div>"
      ],
      "text/plain": [
       "Dataset 714339c1-c775-4303-aad4-16d975b2f023"
      ]
     },
     "execution_count": 59,
     "metadata": {},
     "output_type": "execute_result"
    }
   ],
   "source": [
    "backup"
   ]
  },
  {
   "cell_type": "code",
   "execution_count": null,
   "metadata": {},
   "outputs": [],
   "source": []
  }
 ],
 "metadata": {
  "kernelspec": {
   "display_name": "Python 3",
   "language": "python",
   "name": "python3"
  },
  "language_info": {
   "codemirror_mode": {
    "name": "ipython",
    "version": 3
   },
   "file_extension": ".py",
   "mimetype": "text/x-python",
   "name": "python",
   "nbconvert_exporter": "python",
   "pygments_lexer": "ipython3",
   "version": "3.6.2"
  }
 },
 "nbformat": 4,
 "nbformat_minor": 2
}
