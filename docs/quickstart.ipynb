{
 "cells": [
  {
   "cell_type": "markdown",
   "metadata": {},
   "source": [
    "# Example of use"
   ]
  },
  {
   "cell_type": "code",
   "execution_count": 1,
   "metadata": {},
   "outputs": [],
   "source": [
    "import LMIPy"
   ]
  },
  {
   "cell_type": "code",
   "execution_count": 2,
   "metadata": {},
   "outputs": [
    {
     "data": {
      "text/plain": [
       "'0.1.18'"
      ]
     },
     "execution_count": 2,
     "metadata": {},
     "output_type": "execute_result"
    }
   ],
   "source": [
    "LMIPy.__version__"
   ]
  },
  {
   "cell_type": "markdown",
   "metadata": {},
   "source": [
    "## Dataset objects\n",
    "\n",
    "Using known id's you can instantiate a dataset object directly."
   ]
  },
  {
   "cell_type": "code",
   "execution_count": 3,
   "metadata": {},
   "outputs": [
    {
     "data": {
      "text/html": [
       "<div class='item_container' style='height: auto; overflow: hidden; border: 1px solid #80ceb9;border-radius: 2px; background: #f2fffb; line-height: 1.21429em; padding: 10px;''><div class='item_left' style='width: 210px; float: left;''><a href='https://resourcewatch.org/' target='_blank'><img class='itemThumbnail' src='https://resourcewatch.org/static/images/logo-embed.png'></a></div><div class='item_right' style='float: none; width: auto; overflow: hidden;''><a href=https://api.resourcewatch.org/v1/dataset/044f4af8-be72-4999-b7dd-13434fc4a394?includes=vocabulary,metadata,layer,widget target='_blank'><b>Tree cover</b></a><br> GEE asset: <a href='https://code.earthengine.google.com/asset='UMD/hansen/global_forest_change_2013 target='_blank'>UMD/hansen/global_forest_change_2013</a> 🗺Dataset in GFW, GFW-PRO.<br>Last Modified: 2018-11-21T13:55:01.210Z<br>Connector: gee | Published: True </div> </div>"
      ],
      "text/plain": [
       "Dataset 044f4af8-be72-4999-b7dd-13434fc4a394 Tree cover"
      ]
     },
     "execution_count": 3,
     "metadata": {},
     "output_type": "execute_result"
    }
   ],
   "source": [
    "ds = LMIPy.Dataset('044f4af8-be72-4999-b7dd-13434fc4a394')\n",
    "ds"
   ]
  },
  {
   "cell_type": "markdown",
   "metadata": {},
   "source": [
    "You can access the attributes of a dataset."
   ]
  },
  {
   "cell_type": "code",
   "execution_count": 4,
   "metadata": {},
   "outputs": [
    {
     "data": {
      "text/plain": [
       "{'name': 'Tree cover',\n",
       " 'slug': 'Tree-cover',\n",
       " 'type': None,\n",
       " 'subtitle': None,\n",
       " 'application': ['gfw', 'gfw-pro'],\n",
       " 'dataPath': None,\n",
       " 'attributesPath': None,\n",
       " 'connectorType': 'rest',\n",
       " 'provider': 'gee',\n",
       " 'userId': '596cde70824315350dd0f116',\n",
       " 'connectorUrl': None,\n",
       " 'tableName': 'UMD/hansen/global_forest_change_2013',\n",
       " 'status': 'saved',\n",
       " 'published': True,\n",
       " 'overwrite': False,\n",
       " 'verified': False,\n",
       " 'blockchain': {},\n",
       " 'mainDateField': None,\n",
       " 'env': 'production',\n",
       " 'geoInfo': False,\n",
       " 'protected': True,\n",
       " 'legend': {'date': [], 'region': [], 'country': [], 'nested': []},\n",
       " 'clonedHost': {},\n",
       " 'errorMessage': '[Automatic Validation] ConnectorFailed -> Invalid Dataset',\n",
       " 'taskId': None,\n",
       " 'updatedAt': '2018-11-21T13:55:01.210Z',\n",
       " 'dataLastUpdated': None,\n",
       " 'widget': [],\n",
       " 'widgetRelevantProps': [],\n",
       " 'layerRelevantProps': []}"
      ]
     },
     "execution_count": 4,
     "metadata": {},
     "output_type": "execute_result"
    }
   ],
   "source": [
    "ds.attributes"
   ]
  },
  {
   "cell_type": "markdown",
   "metadata": {},
   "source": [
    "You can also access the metadata and vocabularies if they exist."
   ]
  },
  {
   "cell_type": "code",
   "execution_count": 5,
   "metadata": {},
   "outputs": [
    {
     "data": {
      "text/plain": [
       "{'resource': {'id': '044f4af8-be72-4999-b7dd-13434fc4a394', 'type': 'dataset'},\n",
       " 'tags': ['landCover'],\n",
       " 'name': 'categoryTab',\n",
       " 'application': 'gfw'}"
      ]
     },
     "execution_count": 5,
     "metadata": {},
     "output_type": "execute_result"
    }
   ],
   "source": [
    "ds.vocabulary[0].attributes"
   ]
  },
  {
   "cell_type": "code",
   "execution_count": 6,
   "metadata": {},
   "outputs": [
    {
     "data": {
      "text/plain": [
       "{'dataset': '044f4af8-be72-4999-b7dd-13434fc4a394',\n",
       " 'application': 'gfw',\n",
       " 'resource': {'id': '044f4af8-be72-4999-b7dd-13434fc4a394', 'type': 'dataset'},\n",
       " 'language': 'en',\n",
       " 'info': {'citation': '2000/2010, Hansen/UMD/Google/USGS/NASA',\n",
       "  'color': '#a0c746',\n",
       "  'description': 'Identifies areas of tree cover.',\n",
       "  'isSelectorLayer': True,\n",
       "  'name': 'Tree cover'},\n",
       " 'createdAt': '2018-08-03T10:17:06.249Z',\n",
       " 'updatedAt': '2018-11-06T15:57:49.716Z',\n",
       " 'status': 'published'}"
      ]
     },
     "execution_count": 6,
     "metadata": {},
     "output_type": "execute_result"
    }
   ],
   "source": [
    "ds.metadata[0].attributes"
   ]
  },
  {
   "cell_type": "markdown",
   "metadata": {},
   "source": [
    "## Queries on Datasets\n",
    "\n",
    "Datasets can be queried via SQL, with a table returned. Currently this is only supported for Carto-type data:"
   ]
  },
  {
   "cell_type": "code",
   "execution_count": 7,
   "metadata": {},
   "outputs": [
    {
     "data": {
      "text/html": [
       "<div class='item_container' style='height: auto; overflow: hidden; border: 1px solid #80ceb9;border-radius: 2px; background: #f2fffb; line-height: 1.21429em; padding: 10px;''><div class='item_left' style='width: 210px; float: left;''><a href='https://resourcewatch.org/' target='_blank'><img class='itemThumbnail' src='https://resourcewatch.org/static/images/logo-embed.png'></a></div><div class='item_right' style='float: none; width: auto; overflow: hidden;''><a href=https://api.resourcewatch.org/v1/dataset/bd5d7924-611e-4302-9185-8054acb0b44b?includes=vocabulary,metadata,layer,widget target='_blank'><b>Global Mangrove Watch</b></a><br> Carto table: <a href=https://wri-01.carto.com/tables/mangroves_1996 target='_blank'>mangroves_1996</a> 🗺Dataset in GFW.<br>Last Modified: 2018-11-21T14:03:09.440Z<br>Connector: cartodb | Published: True </div> </div>"
      ],
      "text/plain": [
       "Dataset bd5d7924-611e-4302-9185-8054acb0b44b Global Mangrove Watch"
      ]
     },
     "execution_count": 7,
     "metadata": {},
     "output_type": "execute_result"
    }
   ],
   "source": [
    "d = LMIPy.Dataset(id_hash='bd5d7924-611e-4302-9185-8054acb0b44b')\n",
    "d"
   ]
  },
  {
   "cell_type": "code",
   "execution_count": 8,
   "metadata": {},
   "outputs": [
    {
     "data": {
      "text/html": [
       "<div>\n",
       "<style scoped>\n",
       "    .dataframe tbody tr th:only-of-type {\n",
       "        vertical-align: middle;\n",
       "    }\n",
       "\n",
       "    .dataframe tbody tr th {\n",
       "        vertical-align: top;\n",
       "    }\n",
       "\n",
       "    .dataframe thead th {\n",
       "        text-align: right;\n",
       "    }\n",
       "</style>\n",
       "<table border=\"1\" class=\"dataframe\">\n",
       "  <thead>\n",
       "    <tr style=\"text-align: right;\">\n",
       "      <th></th>\n",
       "      <th>fid</th>\n",
       "      <th>st_asgeojson</th>\n",
       "    </tr>\n",
       "  </thead>\n",
       "  <tbody>\n",
       "    <tr>\n",
       "      <th>0</th>\n",
       "      <td>0</td>\n",
       "      <td>{\"type\":\"MultiPolygon\",\"coordinates\":[[[[-6998...</td>\n",
       "    </tr>\n",
       "    <tr>\n",
       "      <th>1</th>\n",
       "      <td>62</td>\n",
       "      <td>{\"type\":\"MultiPolygon\",\"coordinates\":[[[[-6927...</td>\n",
       "    </tr>\n",
       "    <tr>\n",
       "      <th>2</th>\n",
       "      <td>343</td>\n",
       "      <td>{\"type\":\"MultiPolygon\",\"coordinates\":[[[[-6996...</td>\n",
       "    </tr>\n",
       "    <tr>\n",
       "      <th>3</th>\n",
       "      <td>402</td>\n",
       "      <td>{\"type\":\"MultiPolygon\",\"coordinates\":[[[[-7004...</td>\n",
       "    </tr>\n",
       "    <tr>\n",
       "      <th>4</th>\n",
       "      <td>682</td>\n",
       "      <td>{\"type\":\"MultiPolygon\",\"coordinates\":[[[[-6937...</td>\n",
       "    </tr>\n",
       "  </tbody>\n",
       "</table>\n",
       "</div>"
      ],
      "text/plain": [
       "   fid                                       st_asgeojson\n",
       "0    0  {\"type\":\"MultiPolygon\",\"coordinates\":[[[[-6998...\n",
       "1   62  {\"type\":\"MultiPolygon\",\"coordinates\":[[[[-6927...\n",
       "2  343  {\"type\":\"MultiPolygon\",\"coordinates\":[[[[-6996...\n",
       "3  402  {\"type\":\"MultiPolygon\",\"coordinates\":[[[[-7004...\n",
       "4  682  {\"type\":\"MultiPolygon\",\"coordinates\":[[[[-6937..."
      ]
     },
     "execution_count": 8,
     "metadata": {},
     "output_type": "execute_result"
    }
   ],
   "source": [
    "d.query('SELECT fid, ST_ASGEOJSON(the_geom_webmercator) FROM data LIMIT 5')"
   ]
  },
  {
   "cell_type": "markdown",
   "metadata": {},
   "source": [
    "## Layer Objects\n",
    "\n",
    "Similarly, you can also instantiate a Layer object."
   ]
  },
  {
   "cell_type": "code",
   "execution_count": 9,
   "metadata": {},
   "outputs": [
    {
     "data": {
      "text/html": [
       "<div class='item_container' style='height: auto; overflow: hidden; border: 1px solid #80ceb9;border-radius: 2px; background: #f2fffb; line-height: 1.21429em; padding: 10px;''><div class='item_left' style='width: 210px; float: left;''><a href='https://resourcewatch.org/' target='_blank'><img class='itemThumbnail' src='https://resourcewatch.org/static/images/logo-embed.png'></a></div><div class='item_right' style='float: none; width: auto; overflow: hidden;''><a href=https://api.resourcewatch.org/v1/layer/dc6f6dd2-0718-4e41-81d2-109866bb9edd?includes=vocabulary,metadata target='_blank'><b>Tree cover 2000</b></a><br> Data source leaflet 🗺Layer in GFW-PRO.<br>Last Modified: 2018-07-19T08:33:23.226Z<br>Connector: leaflet | Published: True </div> </div>"
      ],
      "text/plain": [
       "Layer dc6f6dd2-0718-4e41-81d2-109866bb9edd Tree cover 2000"
      ]
     },
     "execution_count": 9,
     "metadata": {},
     "output_type": "execute_result"
    }
   ],
   "source": [
    "ly = LMIPy.Layer(id_hash='dc6f6dd2-0718-4e41-81d2-109866bb9edd')\n",
    "ly"
   ]
  },
  {
   "cell_type": "markdown",
   "metadata": {},
   "source": [
    "Layers can be visulized if appropriate via a call to Layer().map()"
   ]
  },
  {
   "cell_type": "code",
   "execution_count": 10,
   "metadata": {},
   "outputs": [
    {
     "data": {
      "text/html": [
       "<div style=\"width:100%;\"><div style=\"position:relative;width:100%;height:0;padding-bottom:60%;\"><iframe src=\"data:text/html;charset=utf-8;base64,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\" style=\"position:absolute;width:100%;height:100%;left:0;top:0;border:none !important;\" allowfullscreen webkitallowfullscreen mozallowfullscreen></iframe></div></div>"
      ],
      "text/plain": [
       "<folium.folium.Map at 0x106fe6470>"
      ]
     },
     "execution_count": 10,
     "metadata": {},
     "output_type": "execute_result"
    }
   ],
   "source": [
    "ly.map()"
   ]
  },
  {
   "cell_type": "markdown",
   "metadata": {},
   "source": [
    "## Tables\n",
    "\n",
    "Tables are subclasses of Dataset objects. They are document datasets which can be instantiated and queried returning a dataframe object."
   ]
  },
  {
   "cell_type": "code",
   "execution_count": 11,
   "metadata": {},
   "outputs": [
    {
     "data": {
      "text/html": [
       "<div class='item_container' style='height: auto; overflow: hidden; border: 1px solid #80ceb9;border-radius: 2px; background: #f2fffb; line-height: 1.21429em; padding: 10px;''><div class='item_left' style='width: 210px; float: left;''><a href='https://resourcewatch.org/' target='_blank'><img class='itemThumbnail' src='https://resourcewatch.org/static/images/logo-embed.png'></a></div><div class='item_right' style='float: none; width: auto; overflow: hidden;''><a href=https://api.resourcewatch.org/v1/dataset/86c7135a-855d-4f1b-9d67-f545a93281b3?includes=vocabulary,metadata,layer,widget target='_blank'><b>AQ City Days (DUMMY, NOT FOR PUBLISH)</b></a><br> CSV Table: <a href=http://wri-api-backups.s3.amazonaws.com/raw/1520615182177_city-aq-days-dummy.csv target='_blank'>index_86c7135a855d4f1b9d67f545a93281b3_1520615201102</a> 🗺Table in RW.<br>Last Modified: 2018-03-09T17:06:52.555Z<br>Connector: csv | Published: False </div> </div>"
      ],
      "text/plain": [
       "Table 86c7135a-855d-4f1b-9d67-f545a93281b3 AQ City Days (DUMMY, NOT FOR PUBLISH))"
      ]
     },
     "execution_count": 11,
     "metadata": {},
     "output_type": "execute_result"
    }
   ],
   "source": [
    "t = LMIPy.Table(id_hash='86c7135a-855d-4f1b-9d67-f545a93281b3')\n",
    "t"
   ]
  },
  {
   "cell_type": "code",
   "execution_count": 12,
   "metadata": {},
   "outputs": [
    {
     "data": {
      "text/html": [
       "<div>\n",
       "<style scoped>\n",
       "    .dataframe tbody tr th:only-of-type {\n",
       "        vertical-align: middle;\n",
       "    }\n",
       "\n",
       "    .dataframe tbody tr th {\n",
       "        vertical-align: top;\n",
       "    }\n",
       "\n",
       "    .dataframe thead th {\n",
       "        text-align: right;\n",
       "    }\n",
       "</style>\n",
       "<table border=\"1\" class=\"dataframe\">\n",
       "  <thead>\n",
       "    <tr style=\"text-align: right;\">\n",
       "      <th></th>\n",
       "      <th>City</th>\n",
       "      <th>Number_of_Days</th>\n",
       "      <th>_id</th>\n",
       "    </tr>\n",
       "  </thead>\n",
       "  <tbody>\n",
       "    <tr>\n",
       "      <th>0</th>\n",
       "      <td>Beijing</td>\n",
       "      <td>14</td>\n",
       "      <td>AWILuq8j8Jqrt1rp-STQ</td>\n",
       "    </tr>\n",
       "    <tr>\n",
       "      <th>1</th>\n",
       "      <td>San Francisco</td>\n",
       "      <td>10</td>\n",
       "      <td>AWILuq8j8Jqrt1rp-STT</td>\n",
       "    </tr>\n",
       "    <tr>\n",
       "      <th>2</th>\n",
       "      <td>Manama</td>\n",
       "      <td>7</td>\n",
       "      <td>AWILuq8j8Jqrt1rp-STU</td>\n",
       "    </tr>\n",
       "  </tbody>\n",
       "</table>\n",
       "</div>"
      ],
      "text/plain": [
       "            City  Number_of_Days                   _id\n",
       "0        Beijing              14  AWILuq8j8Jqrt1rp-STQ\n",
       "1  San Francisco              10  AWILuq8j8Jqrt1rp-STT\n",
       "2         Manama               7  AWILuq8j8Jqrt1rp-STU"
      ]
     },
     "execution_count": 12,
     "metadata": {},
     "output_type": "execute_result"
    }
   ],
   "source": [
    "df = t.head(3)\n",
    "df"
   ]
  },
  {
   "cell_type": "markdown",
   "metadata": {},
   "source": [
    "Queries to tables are returned in geopandas dataframe format."
   ]
  },
  {
   "cell_type": "code",
   "execution_count": 13,
   "metadata": {},
   "outputs": [
    {
     "data": {
      "text/plain": [
       "geopandas.geodataframe.GeoDataFrame"
      ]
     },
     "execution_count": 13,
     "metadata": {},
     "output_type": "execute_result"
    }
   ],
   "source": [
    "type(df)"
   ]
  },
  {
   "cell_type": "code",
   "execution_count": 14,
   "metadata": {},
   "outputs": [
    {
     "data": {
      "text/html": [
       "<div>\n",
       "<style scoped>\n",
       "    .dataframe tbody tr th:only-of-type {\n",
       "        vertical-align: middle;\n",
       "    }\n",
       "\n",
       "    .dataframe tbody tr th {\n",
       "        vertical-align: top;\n",
       "    }\n",
       "\n",
       "    .dataframe thead th {\n",
       "        text-align: right;\n",
       "    }\n",
       "</style>\n",
       "<table border=\"1\" class=\"dataframe\">\n",
       "  <thead>\n",
       "    <tr style=\"text-align: right;\">\n",
       "      <th></th>\n",
       "      <th>City</th>\n",
       "      <th>Number_of_Days</th>\n",
       "      <th>_id</th>\n",
       "    </tr>\n",
       "  </thead>\n",
       "  <tbody>\n",
       "    <tr>\n",
       "      <th>0</th>\n",
       "      <td>San Francisco</td>\n",
       "      <td>10</td>\n",
       "      <td>AWILuq8j8Jqrt1rp-STT</td>\n",
       "    </tr>\n",
       "  </tbody>\n",
       "</table>\n",
       "</div>"
      ],
      "text/plain": [
       "            City  Number_of_Days                   _id\n",
       "0  San Francisco              10  AWILuq8j8Jqrt1rp-STT"
      ]
     },
     "execution_count": 14,
     "metadata": {},
     "output_type": "execute_result"
    }
   ],
   "source": [
    "t.query(\"SELECT * from data where City = 'San Francisco'\")"
   ]
  },
  {
   "cell_type": "markdown",
   "metadata": {},
   "source": [
    "## Collection objects: Searching\n",
    "\n",
    "If you don't know what data you are interested in advance, you can search by keywords and return a list of objects."
   ]
  },
  {
   "cell_type": "code",
   "execution_count": 15,
   "metadata": {},
   "outputs": [],
   "source": [
    "c = LMIPy.Collection('tree cover', object_type=['layer','dataset'], app=['gfw'], limit=10)"
   ]
  },
  {
   "cell_type": "code",
   "execution_count": 16,
   "metadata": {},
   "outputs": [
    {
     "data": {
      "text/html": [
       "<div class='item_container' style='height: auto; overflow: hidden; border: 1px solid #80ceb9;border-radius: 2px; background: #f2fffb; line-height: 1.21429em; padding: 10px;''><div class='item_left' style='width: 210px; float: left;''><a href='https://resourcewatch.org/' target='_blank'><img class='itemThumbnail' src='https://resourcewatch.org/static/images/logo-embed.png'></a></div><div class='item_right' style='float: none; width: auto; overflow: hidden;''><b>0. </b><a href=https://api.resourcewatch.org/v1/dataset/f3fc0f1e-aa26-49b6-8741-45df2eea9ac2?includes=vocabulary,metadata,layer,widget target='_blank'><b>Brazil Land Cover</b></a><br> Data source wms 🗺Dataset in GFW.<br>Last Modified: 2018-11-21T14:03:00.256Z<br>Connector: wms | Published: True </div> </div><p></p><div class='item_container' style='height: auto; overflow: hidden; border: 1px solid #80ceb9;border-radius: 2px; background: #f2fffb; line-height: 1.21429em; padding: 10px;''><div class='item_left' style='width: 210px; float: left;''><a href='https://resourcewatch.org/' target='_blank'><img class='itemThumbnail' src='https://resourcewatch.org/static/images/logo-embed.png'></a></div><div class='item_right' style='float: none; width: auto; overflow: hidden;''><b>1. </b><a href=https://api.resourcewatch.org/v1/layer/220080ec-1641-489c-96c4-4885ed618bf3?includes=vocabulary,metadata target='_blank'><b>Brazil land cover - 2000-2016</b></a><br> Data source leaflet 🗺Layer in GFW.<br>Last Modified: 2018-11-21T14:03:00.520Z<br>Connector: leaflet | Published: True </div> </div><p></p><div class='item_container' style='height: auto; overflow: hidden; border: 1px solid #80ceb9;border-radius: 2px; background: #f2fffb; line-height: 1.21429em; padding: 10px;''><div class='item_left' style='width: 210px; float: left;''><a href='https://resourcewatch.org/' target='_blank'><img class='itemThumbnail' src='https://resourcewatch.org/static/images/logo-embed.png'></a></div><div class='item_right' style='float: none; width: auto; overflow: hidden;''><b>2. </b><a href=https://api.resourcewatch.org/v1/layer/2f4d9b87-6629-4658-8175-87d7892a5f32?includes=vocabulary,metadata target='_blank'><b>Earth Journalism Network Stories</b></a><br> Data source leaflet 🗺Layer in GFW.<br>Last Modified: 2019-05-13T15:50:32.780Z<br>Connector: leaflet | Published: True </div> </div><p></p><div class='item_container' style='height: auto; overflow: hidden; border: 1px solid #80ceb9;border-radius: 2px; background: #f2fffb; line-height: 1.21429em; padding: 10px;''><div class='item_left' style='width: 210px; float: left;''><a href='https://resourcewatch.org/' target='_blank'><img class='itemThumbnail' src='https://resourcewatch.org/static/images/logo-embed.png'></a></div><div class='item_right' style='float: none; width: auto; overflow: hidden;''><b>3. </b><a href=https://api.resourcewatch.org/v1/layer/66203fea-2e58-4a55-b222-1dae075cf95d?includes=vocabulary,metadata target='_blank'><b>FORMA alerts</b></a><br> Data source leaflet 🗺Layer in GFW.<br>Last Modified: 2019-03-14T10:41:49.789Z<br>Connector: leaflet | Published: True </div> </div><p></p><div class='item_container' style='height: auto; overflow: hidden; border: 1px solid #80ceb9;border-radius: 2px; background: #f2fffb; line-height: 1.21429em; padding: 10px;''><div class='item_left' style='width: 210px; float: left;''><a href='https://resourcewatch.org/' target='_blank'><img class='itemThumbnail' src='https://resourcewatch.org/static/images/logo-embed.png'></a></div><div class='item_right' style='float: none; width: auto; overflow: hidden;''><b>4. </b><a href=https://api.resourcewatch.org/v1/layer/dd5df87f-39c2-4aeb-a462-3ef969b20b66?includes=vocabulary,metadata target='_blank'><b>GLAD alerts</b></a><br> Data source leaflet 🗺Layer in GFW.<br>Last Modified: 2019-03-08T13:16:58.512Z<br>Connector: leaflet | Published: True </div> </div><p></p><div class='item_container' style='height: auto; overflow: hidden; border: 1px solid #80ceb9;border-radius: 2px; background: #f2fffb; line-height: 1.21429em; padding: 10px;''><div class='item_left' style='width: 210px; float: left;''><a href='https://resourcewatch.org/' target='_blank'><img class='itemThumbnail' src='https://resourcewatch.org/static/images/logo-embed.png'></a></div><div class='item_right' style='float: none; width: auto; overflow: hidden;''><b>5. </b><a href=https://api.resourcewatch.org/v1/layer/a8b4e2eb-328e-420b-8027-8466271d8368?includes=vocabulary,metadata target='_blank'><b>Geographic coverage</b></a><br> Data source cartodb 🗺Layer in GFW.<br>Last Modified: 2019-03-08T13:20:03.501Z<br>Connector: cartodb | Published: True </div> </div><p></p><div class='item_container' style='height: auto; overflow: hidden; border: 1px solid #80ceb9;border-radius: 2px; background: #f2fffb; line-height: 1.21429em; padding: 10px;''><div class='item_left' style='width: 210px; float: left;''><a href='https://resourcewatch.org/' target='_blank'><img class='itemThumbnail' src='https://resourcewatch.org/static/images/logo-embed.png'></a></div><div class='item_right' style='float: none; width: auto; overflow: hidden;''><b>6. </b><a href=https://api.resourcewatch.org/v1/dataset/e663eb09-04de-4f39-b871-35c6c2ed10b5?includes=vocabulary,metadata,layer,widget target='_blank'><b>Global Land Analysis and Discovery</b></a><br> CSV Table: <a href=http://gfw2-data.s3.amazonaws.com/alerts-tsv/glad/russia_2015.csv target='_blank'>index_e663eb0904de4f39b87135c6c2ed10b5</a> 🗺Table in GFW.<br>Last Modified: 2019-04-09T11:53:38.200Z<br>Connector: csv | Published: True </div> </div><p></p><div class='item_container' style='height: auto; overflow: hidden; border: 1px solid #80ceb9;border-radius: 2px; background: #f2fffb; line-height: 1.21429em; padding: 10px;''><div class='item_left' style='width: 210px; float: left;''><a href='https://resourcewatch.org/' target='_blank'><img class='itemThumbnail' src='https://resourcewatch.org/static/images/logo-embed.png'></a></div><div class='item_right' style='float: none; width: auto; overflow: hidden;''><b>7. </b><a href=https://api.resourcewatch.org/v1/dataset/746089a3-0c24-402f-81b6-f8d91fab77fe?includes=vocabulary,metadata,layer,widget target='_blank'><b>Guatemala Forest Cover</b></a><br> Data source wms 🗺Dataset in GFW.<br>Last Modified: 2018-11-21T14:02:59.690Z<br>Connector: wms | Published: True </div> </div><p></p><div class='item_container' style='height: auto; overflow: hidden; border: 1px solid #80ceb9;border-radius: 2px; background: #f2fffb; line-height: 1.21429em; padding: 10px;''><div class='item_left' style='width: 210px; float: left;''><a href='https://resourcewatch.org/' target='_blank'><img class='itemThumbnail' src='https://resourcewatch.org/static/images/logo-embed.png'></a></div><div class='item_right' style='float: none; width: auto; overflow: hidden;''><b>8. </b><a href=https://api.resourcewatch.org/v1/layer/2fe559f6-9ae7-4a47-87fb-a33a128652ed?includes=vocabulary,metadata target='_blank'><b>Guatemala forest change - 2001-2006</b></a><br> Data source leaflet 🗺Layer in GFW.<br>Last Modified: 2018-11-21T14:02:59.190Z<br>Connector: leaflet | Published: True </div> </div><p></p><div class='item_container' style='height: auto; overflow: hidden; border: 1px solid #80ceb9;border-radius: 2px; background: #f2fffb; line-height: 1.21429em; padding: 10px;''><div class='item_left' style='width: 210px; float: left;''><a href='https://resourcewatch.org/' target='_blank'><img class='itemThumbnail' src='https://resourcewatch.org/static/images/logo-embed.png'></a></div><div class='item_right' style='float: none; width: auto; overflow: hidden;''><b>9. </b><a href=https://api.resourcewatch.org/v1/layer/cfd95864-1e95-4a7f-bdf8-e47e4bb5815e?includes=vocabulary,metadata target='_blank'><b>Guatemala forest cover - 2012</b></a><br> Data source leaflet 🗺Layer in GFW.<br>Last Modified: 2018-11-21T14:02:59.963Z<br>Connector: leaflet | Published: True </div> </div>"
      ],
      "text/plain": [
       "[0. Dataset f3fc0f1e-aa26-49b6-8741-45df2eea9ac2 Brazil Land Cover,\n",
       " 1. Layer 220080ec-1641-489c-96c4-4885ed618bf3 Brazil land cover - 2000-2016,\n",
       " 2. Layer 2f4d9b87-6629-4658-8175-87d7892a5f32 Earth Journalism Network Stories,\n",
       " 3. Layer 66203fea-2e58-4a55-b222-1dae075cf95d FORMA alerts,\n",
       " 4. Layer dd5df87f-39c2-4aeb-a462-3ef969b20b66 GLAD alerts,\n",
       " 5. Layer a8b4e2eb-328e-420b-8027-8466271d8368 Geographic coverage,\n",
       " 6. Table e663eb09-04de-4f39-b871-35c6c2ed10b5 Global Land Analysis and Discovery,\n",
       " 7. Dataset 746089a3-0c24-402f-81b6-f8d91fab77fe Guatemala Forest Cover,\n",
       " 8. Layer 2fe559f6-9ae7-4a47-87fb-a33a128652ed Guatemala forest change - 2001-2006,\n",
       " 9. Layer cfd95864-1e95-4a7f-bdf8-e47e4bb5815e Guatemala forest cover - 2012]"
      ]
     },
     "execution_count": 16,
     "metadata": {},
     "output_type": "execute_result"
    }
   ],
   "source": [
    "c"
   ]
  },
  {
   "cell_type": "markdown",
   "metadata": {},
   "source": [
    "Searching can be restricted with keyword arguments to specifically search types of items, applications, and more. If you want to render those items, you will need to do the following."
   ]
  },
  {
   "cell_type": "markdown",
   "metadata": {},
   "source": [
    "You can access items from a collection using subscripts, slices and more. Note that slicing, or selecting by element instantiates the Layer, Table, or Dataset object."
   ]
  },
  {
   "cell_type": "code",
   "execution_count": 17,
   "metadata": {},
   "outputs": [
    {
     "data": {
      "text/plain": [
       "[Dataset f3fc0f1e-aa26-49b6-8741-45df2eea9ac2 Brazil Land Cover,\n",
       " Layer 220080ec-1641-489c-96c4-4885ed618bf3 Brazil land cover - 2000-2016,\n",
       " Layer 2f4d9b87-6629-4658-8175-87d7892a5f32 Earth Journalism Network Stories]"
      ]
     },
     "execution_count": 17,
     "metadata": {},
     "output_type": "execute_result"
    }
   ],
   "source": [
    "c[0:3]"
   ]
  },
  {
   "cell_type": "code",
   "execution_count": 18,
   "metadata": {},
   "outputs": [
    {
     "data": {
      "text/html": [
       "<div class='item_container' style='height: auto; overflow: hidden; border: 1px solid #80ceb9;border-radius: 2px; background: #f2fffb; line-height: 1.21429em; padding: 10px;''><div class='item_left' style='width: 210px; float: left;''><a href='https://resourcewatch.org/' target='_blank'><img class='itemThumbnail' src='https://resourcewatch.org/static/images/logo-embed.png'></a></div><div class='item_right' style='float: none; width: auto; overflow: hidden;''><a href=https://api.resourcewatch.org/v1/layer/cfd95864-1e95-4a7f-bdf8-e47e4bb5815e?includes=vocabulary,metadata target='_blank'><b>Guatemala forest cover - 2012</b></a><br> Data source leaflet 🗺Layer in GFW.<br>Last Modified: 2018-11-21T14:02:59.963Z<br>Connector: leaflet | Published: True </div> </div>"
      ],
      "text/plain": [
       "Layer cfd95864-1e95-4a7f-bdf8-e47e4bb5815e Guatemala forest cover - 2012"
      ]
     },
     "execution_count": 18,
     "metadata": {},
     "output_type": "execute_result"
    }
   ],
   "source": [
    "c[-1]"
   ]
  },
  {
   "cell_type": "code",
   "execution_count": 19,
   "metadata": {},
   "outputs": [
    {
     "data": {
      "text/html": [
       "<div style=\"width:100%;\"><div style=\"position:relative;width:100%;height:0;padding-bottom:60%;\"><iframe src=\"data:text/html;charset=utf-8;base64,PCFET0NUWVBFIGh0bWw+CjxoZWFkPiAgICAKICAgIDxtZXRhIGh0dHAtZXF1aXY9ImNvbnRlbnQtdHlwZSIgY29udGVudD0idGV4dC9odG1sOyBjaGFyc2V0PVVURi04IiAvPgogICAgPHNjcmlwdD5MX1BSRUZFUl9DQU5WQVM9dHJ1ZTsgTF9OT19UT1VDSD1mYWxzZTsgTF9ESVNBQkxFXzNEPWZhbHNlOzwvc2NyaXB0PgogICAgPHNjcmlwdCBzcmM9Imh0dHBzOi8vY2RuLmpzZGVsaXZyLm5ldC9ucG0vbGVhZmxldEAxLjQuMC9kaXN0L2xlYWZsZXQuanMiPjwvc2NyaXB0PgogICAgPHNjcmlwdCBzcmM9Imh0dHBzOi8vY29kZS5qcXVlcnkuY29tL2pxdWVyeS0xLjEyLjQubWluLmpzIj48L3NjcmlwdD4KICAgIDxzY3JpcHQgc3JjPSJodHRwczovL21heGNkbi5ib290c3RyYXBjZG4uY29tL2Jvb3RzdHJhcC8zLjIuMC9qcy9ib290c3RyYXAubWluLmpzIj48L3NjcmlwdD4KICAgIDxzY3JpcHQgc3JjPSJodHRwczovL2NkbmpzLmNsb3VkZmxhcmUuY29tL2FqYXgvbGlicy9MZWFmbGV0LmF3ZXNvbWUtbWFya2Vycy8yLjAuMi9sZWFmbGV0LmF3ZXNvbWUtbWFya2Vycy5qcyI+PC9zY3JpcHQ+CiAgICA8bGluayByZWw9InN0eWxlc2hlZXQiIGhyZWY9Imh0dHBzOi8vY2RuLmpzZGVsaXZyLm5ldC9ucG0vbGVhZmxldEAxLjQuMC9kaXN0L2xlYWZsZXQuY3NzIi8+CiAgICA8bGluayByZWw9InN0eWxlc2hlZXQiIGhyZWY9Imh0dHBzOi8vbWF4Y2RuLmJvb3RzdHJhcGNkbi5jb20vYm9vdHN0cmFwLzMuMi4wL2Nzcy9ib290c3RyYXAubWluLmNzcyIvPgogICAgPGxpbmsgcmVsPSJzdHlsZXNoZWV0IiBocmVmPSJodHRwczovL21heGNkbi5ib290c3RyYXBjZG4uY29tL2Jvb3RzdHJhcC8zLjIuMC9jc3MvYm9vdHN0cmFwLXRoZW1lLm1pbi5jc3MiLz4KICAgIDxsaW5rIHJlbD0ic3R5bGVzaGVldCIgaHJlZj0iaHR0cHM6Ly9tYXhjZG4uYm9vdHN0cmFwY2RuLmNvbS9mb250LWF3ZXNvbWUvNC42LjMvY3NzL2ZvbnQtYXdlc29tZS5taW4uY3NzIi8+CiAgICA8bGluayByZWw9InN0eWxlc2hlZXQiIGhyZWY9Imh0dHBzOi8vY2RuanMuY2xvdWRmbGFyZS5jb20vYWpheC9saWJzL0xlYWZsZXQuYXdlc29tZS1tYXJrZXJzLzIuMC4yL2xlYWZsZXQuYXdlc29tZS1tYXJrZXJzLmNzcyIvPgogICAgPGxpbmsgcmVsPSJzdHlsZXNoZWV0IiBocmVmPSJodHRwczovL3Jhd2Nkbi5naXRoYWNrLmNvbS9weXRob24tdmlzdWFsaXphdGlvbi9mb2xpdW0vbWFzdGVyL2ZvbGl1bS90ZW1wbGF0ZXMvbGVhZmxldC5hd2Vzb21lLnJvdGF0ZS5jc3MiLz4KICAgIDxzdHlsZT5odG1sLCBib2R5IHt3aWR0aDogMTAwJTtoZWlnaHQ6IDEwMCU7bWFyZ2luOiAwO3BhZGRpbmc6IDA7fTwvc3R5bGU+CiAgICA8c3R5bGU+I21hcCB7cG9zaXRpb246YWJzb2x1dGU7dG9wOjA7Ym90dG9tOjA7cmlnaHQ6MDtsZWZ0OjA7fTwvc3R5bGU+CiAgICAKICAgIDxtZXRhIG5hbWU9InZpZXdwb3J0IiBjb250ZW50PSJ3aWR0aD1kZXZpY2Utd2lkdGgsCiAgICAgICAgaW5pdGlhbC1zY2FsZT0xLjAsIG1heGltdW0tc2NhbGU9MS4wLCB1c2VyLXNjYWxhYmxlPW5vIiAvPgogICAgPHN0eWxlPiNtYXBfZDVmNmZhM2RkZTM4NDg0NWI0OWFhMTU5NjRiYmYzNTUgewogICAgICAgIHBvc2l0aW9uOiByZWxhdGl2ZTsKICAgICAgICB3aWR0aDogMTAwLjAlOwogICAgICAgIGhlaWdodDogMTAwLjAlOwogICAgICAgIGxlZnQ6IDAuMCU7CiAgICAgICAgdG9wOiAwLjAlOwogICAgICAgIH0KICAgIDwvc3R5bGU+CjwvaGVhZD4KPGJvZHk+ICAgIAogICAgCiAgICA8ZGl2IGNsYXNzPSJmb2xpdW0tbWFwIiBpZD0ibWFwX2Q1ZjZmYTNkZGUzODQ4NDViNDlhYTE1OTY0YmJmMzU1IiA+PC9kaXY+CjwvYm9keT4KPHNjcmlwdD4gICAgCiAgICAKICAgIAogICAgICAgIHZhciBib3VuZHMgPSBudWxsOwogICAgCgogICAgdmFyIG1hcF9kNWY2ZmEzZGRlMzg0ODQ1YjQ5YWExNTk2NGJiZjM1NSA9IEwubWFwKAogICAgICAgICdtYXBfZDVmNmZhM2RkZTM4NDg0NWI0OWFhMTU5NjRiYmYzNTUnLCB7CiAgICAgICAgY2VudGVyOiBbMCwgMF0sCiAgICAgICAgem9vbTogMywKICAgICAgICBtYXhCb3VuZHM6IGJvdW5kcywKICAgICAgICBsYXllcnM6IFtdLAogICAgICAgIHdvcmxkQ29weUp1bXA6IGZhbHNlLAogICAgICAgIGNyczogTC5DUlMuRVBTRzM4NTcsCiAgICAgICAgem9vbUNvbnRyb2w6IHRydWUsCiAgICAgICAgfSk7CgoKICAgIAogICAgdmFyIHRpbGVfbGF5ZXJfODM3ZDFjNTAxZTc2NDQyMmIxZTc2NWI2YzQyMDVlZjMgPSBMLnRpbGVMYXllcigKICAgICAgICAnaHR0cHM6Ly97c30udGlsZXMubWFwYm94LmNvbS92My9tYXBib3gud29ybGQtYnJpZ2h0L3t6fS97eH0ve3l9LnBuZycsCiAgICAgICAgewogICAgICAgICJhdHRyaWJ1dGlvbiI6IG51bGwsCiAgICAgICAgImRldGVjdFJldGluYSI6IHRydWUsCiAgICAgICAgIm1heE5hdGl2ZVpvb20iOiAxOCwKICAgICAgICAibWF4Wm9vbSI6IDE4LAogICAgICAgICJtaW5ab29tIjogMCwKICAgICAgICAibm9XcmFwIjogZmFsc2UsCiAgICAgICAgIm9wYWNpdHkiOiAxLAogICAgICAgICJzdWJkb21haW5zIjogImFiYyIsCiAgICAgICAgInRtcyI6IGZhbHNlCn0pLmFkZFRvKG1hcF9kNWY2ZmEzZGRlMzg0ODQ1YjQ5YWExNTk2NGJiZjM1NSk7CiAgICB2YXIgdGlsZV9sYXllcl83NDE0N2VjZTExNTM0MjJhOTliYzg4ODA0N2VlNjI1NSA9IEwudGlsZUxheWVyKAogICAgICAgICdodHRwczovL3MzLmFtYXpvbmF3cy5jb20vL3dyaS10aWxlcy9HVE0vZ3VhdGVtYWxhZm9yZXN0Y292ZXIve3p9L3t4fS97eX0ucG5nJywKICAgICAgICB7CiAgICAgICAgImF0dHJpYnV0aW9uIjogIkd1YXRlbWFsYSBmb3Jlc3QgY292ZXIgLSAyMDEyIiwKICAgICAgICAiZGV0ZWN0UmV0aW5hIjogZmFsc2UsCiAgICAgICAgIm1heE5hdGl2ZVpvb20iOiAxOCwKICAgICAgICAibWF4Wm9vbSI6IDE4LAogICAgICAgICJtaW5ab29tIjogMCwKICAgICAgICAibm9XcmFwIjogZmFsc2UsCiAgICAgICAgIm9wYWNpdHkiOiAxLAogICAgICAgICJzdWJkb21haW5zIjogImFiYyIsCiAgICAgICAgInRtcyI6IGZhbHNlCn0pLmFkZFRvKG1hcF9kNWY2ZmEzZGRlMzg0ODQ1YjQ5YWExNTk2NGJiZjM1NSk7Cjwvc2NyaXB0Pg==\" style=\"position:absolute;width:100%;height:100%;left:0;top:0;border:none !important;\" allowfullscreen webkitallowfullscreen mozallowfullscreen></iframe></div></div>"
      ],
      "text/plain": [
       "<folium.folium.Map at 0x11eff1f28>"
      ]
     },
     "execution_count": 19,
     "metadata": {},
     "output_type": "execute_result"
    }
   ],
   "source": [
    "c[-1].map()"
   ]
  },
  {
   "cell_type": "markdown",
   "metadata": {},
   "source": [
    "## Create a Geometry object\n",
    "\n",
    "Often you will need to perform some kind of intersect analysis between data held in datasets and tables and a geometry.\n",
    "We will now show you multiple ways to create your geometry objects."
   ]
  },
  {
   "cell_type": "markdown",
   "metadata": {},
   "source": [
    "### From an ID\n",
    "\n",
    "Vizzuality's API holds geometry objects as a Geostore item. Geostore items are accessed by an id-hash. If you know the hash of your object already you can simply call a geometry like so:"
   ]
  },
  {
   "cell_type": "code",
   "execution_count": 20,
   "metadata": {},
   "outputs": [
    {
     "data": {
      "text/html": [
       "<div class='item_container' style='height: auto; overflow: hidden; border: 1px solid #80ceb9;border-radius: 2px; background: #f2fffb; line-height: 1.21429em; padding: 10px;''><div class='item_left' style='width: 210px; float: left;''><a href='https://resourcewatch.org/' target='_blank'><img class='itemThumbnail' src='https://resourcewatch.org/static/images/logo-embed.png'></a></div><div class='item_right' style='float: none; width: auto; overflow: hidden;''><b>Geometry id</b>: <a href=https://production-api.globalforestwatch.org/v1/geostore/e8b6f974bcab5aefccd121654860be06 target='_blank'>e8b6f974bcab5aefccd121654860be06</a></br> </div> </div>"
      ],
      "text/plain": [
       "Geometry e8b6f974bcab5aefccd121654860be06"
      ]
     },
     "execution_count": 20,
     "metadata": {},
     "output_type": "execute_result"
    }
   ],
   "source": [
    "g = LMIPy.Geometry(id_hash='e8b6f974bcab5aefccd121654860be06')\n",
    "g"
   ]
  },
  {
   "cell_type": "code",
   "execution_count": 21,
   "metadata": {},
   "outputs": [
    {
     "data": {
      "text/plain": [
       "{'geojson': {'features': [{'properties': None,\n",
       "    'type': 'Feature',\n",
       "    'geometry': {'type': 'Polygon',\n",
       "     'coordinates': [[[-47.8535156249717, -4.19348629349041],\n",
       "       [-49.6113281249728, -9.77447583284213],\n",
       "       [-44.513671874972, -9.25438811084709],\n",
       "       [-47.8535156249717, -4.19348629349041]]]}}],\n",
       "  'crs': {},\n",
       "  'type': 'FeatureCollection'},\n",
       " 'hash': 'e8b6f974bcab5aefccd121654860be06',\n",
       " 'provider': {},\n",
       " 'areaHa': 16931274.241571266,\n",
       " 'bbox': [-49.6113281249728,\n",
       "  -9.77447583284213,\n",
       "  -44.513671874972,\n",
       "  -4.19348629349041],\n",
       " 'lock': False,\n",
       " 'info': {'use': {}}}"
      ]
     },
     "execution_count": 21,
     "metadata": {},
     "output_type": "execute_result"
    }
   ],
   "source": [
    "g.attributes"
   ]
  },
  {
   "cell_type": "code",
   "execution_count": 22,
   "metadata": {},
   "outputs": [
    {
     "data": {
      "image/svg+xml": [
       "<svg xmlns=\"http://www.w3.org/2000/svg\" xmlns:xlink=\"http://www.w3.org/1999/xlink\" width=\"100.0\" height=\"100.0\" viewBox=\"-49.83456770654687 -9.997715414416199 5.544135413148943 6.027468702499858\" preserveAspectRatio=\"xMinYMin meet\"><g transform=\"matrix(1,0,0,-1,0,-13.967962126332539)\"><path fill-rule=\"evenodd\" fill=\"#66cc99\" stroke=\"#555555\" stroke-width=\"0.12054937404999716\" opacity=\"0.6\" d=\"M -47.8535156249717,-4.19348629349041 L -49.6113281249728,-9.77447583284213 L -44.513671874972,-9.25438811084709 L -47.8535156249717,-4.19348629349041 z\" /></g></svg>"
      ],
      "text/plain": [
       "<shapely.geometry.polygon.Polygon at 0x11fd0c470>"
      ]
     },
     "execution_count": 22,
     "metadata": {},
     "output_type": "execute_result"
    }
   ],
   "source": [
    "g.shape()[0]"
   ]
  },
  {
   "cell_type": "code",
   "execution_count": 24,
   "metadata": {},
   "outputs": [
    {
     "data": {
      "text/html": [
       "<div style=\"width:100%;\"><div style=\"position:relative;width:100%;height:0;padding-bottom:60%;\"><iframe src=\"data:text/html;charset=utf-8;base64,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\" style=\"position:absolute;width:100%;height:100%;left:0;top:0;border:none !important;\" allowfullscreen webkitallowfullscreen mozallowfullscreen></iframe></div></div>"
      ],
      "text/plain": [
       "<folium.folium.Map at 0x11fd8b278>"
      ]
     },
     "execution_count": 24,
     "metadata": {},
     "output_type": "execute_result"
    }
   ],
   "source": [
    "g.map()"
   ]
  },
  {
   "cell_type": "markdown",
   "metadata": {},
   "source": [
    "## Create a Geometry object from Geojson\n",
    "\n",
    "Alternativley, you can create an object as you need on the fly from geojson. The act of creating an object will also register it to a Geostore service of your choice (locally, or on a remote server)."
   ]
  },
  {
   "cell_type": "code",
   "execution_count": 25,
   "metadata": {},
   "outputs": [],
   "source": [
    "atts={'geojson': {'type': 'FeatureCollection',\n",
    "                  'features': [{'type': 'Feature',\n",
    "                                'properties': {},\n",
    "                                'geometry': {'type': 'Polygon',\n",
    "                                             'coordinates': [[[110.21484375, -37.300275281344305],\n",
    "                                               [131.3525390625, -37.300275281344305],\n",
    "                                               [131.3525390625, -18.93746442964186],\n",
    "                                               [110.21484375, -18.93746442964186],\n",
    "                                               [110.21484375, -37.300275281344305]]]\n",
    "                                            }\n",
    "                               }]\n",
    "                 }\n",
    "     }"
   ]
  },
  {
   "cell_type": "code",
   "execution_count": 26,
   "metadata": {},
   "outputs": [
    {
     "data": {
      "text/html": [
       "<div class='item_container' style='height: auto; overflow: hidden; border: 1px solid #80ceb9;border-radius: 2px; background: #f2fffb; line-height: 1.21429em; padding: 10px;''><div class='item_left' style='width: 210px; float: left;''><a href='https://resourcewatch.org/' target='_blank'><img class='itemThumbnail' src='https://resourcewatch.org/static/images/logo-embed.png'></a></div><div class='item_right' style='float: none; width: auto; overflow: hidden;''><b>Geometry id</b>: <a href=https://production-api.globalforestwatch.org/v1/geostore/20d79720ccf8e04a044b25994ab8a06b target='_blank'>20d79720ccf8e04a044b25994ab8a06b</a></br> </div> </div>"
      ],
      "text/plain": [
       "Geometry 20d79720ccf8e04a044b25994ab8a06b"
      ]
     },
     "execution_count": 26,
     "metadata": {},
     "output_type": "execute_result"
    }
   ],
   "source": [
    "g1 = LMIPy.Geometry(attributes=atts, server='https://production-api.globalforestwatch.org')\n",
    "g1"
   ]
  },
  {
   "cell_type": "markdown",
   "metadata": {},
   "source": [
    "## Create a Geometry object from a Shapely object\n",
    "\n",
    "Shapely objects are at the root of popular python geolibraries such as Geopandas. We can recieve those geometry objects and create a Geometry object (simultaneously registering it in a Vizzuality Geostore server)."
   ]
  },
  {
   "cell_type": "code",
   "execution_count": 27,
   "metadata": {},
   "outputs": [],
   "source": [
    "import geopandas as gpd"
   ]
  },
  {
   "cell_type": "code",
   "execution_count": 28,
   "metadata": {},
   "outputs": [
    {
     "name": "stdout",
     "output_type": "stream",
     "text": [
      "Overwriting ./sample.geojson\n"
     ]
    }
   ],
   "source": [
    "%%writefile ./sample.geojson\n",
    "{\"features\":[{\"properties\":null,\"type\":\"Feature\",\"geometry\":{\"type\":\"Polygon\",\"coordinates\":[[[-43.1343734264374,-8.07358087603511],[-43.1327533721924,-8.08277985402466],[-43.1298887729645,-8.08181322762719],[-43.1103515625,-8.07815914647929],[-43.1094932556152,-8.07799981079283],[-43.1094932556152,-8.09641859926744],[-43.1103515625,-8.09645046495416],[-43.1187307834625,-8.0967372560211],[-43.1186878681183,-8.10273857778317],[-43.1186771392822,-8.10358831522616],[-43.1476235389709,-8.10358831522616],[-43.1477630138397,-8.10273857778317],[-43.1505310535431,-8.08645513764317],[-43.1517112255096,-8.08057041885644],[-43.1439757347107,-8.0795931648273],[-43.1448876857758,-8.07574785969913],[-43.1343734264374,-8.07358087603511]]]}}],\"crs\":{},\"type\":\"FeatureCollection\"}"
   ]
  },
  {
   "cell_type": "code",
   "execution_count": 29,
   "metadata": {},
   "outputs": [
    {
     "data": {
      "text/html": [
       "<div>\n",
       "<style scoped>\n",
       "    .dataframe tbody tr th:only-of-type {\n",
       "        vertical-align: middle;\n",
       "    }\n",
       "\n",
       "    .dataframe tbody tr th {\n",
       "        vertical-align: top;\n",
       "    }\n",
       "\n",
       "    .dataframe thead th {\n",
       "        text-align: right;\n",
       "    }\n",
       "</style>\n",
       "<table border=\"1\" class=\"dataframe\">\n",
       "  <thead>\n",
       "    <tr style=\"text-align: right;\">\n",
       "      <th></th>\n",
       "      <th>geometry</th>\n",
       "    </tr>\n",
       "  </thead>\n",
       "  <tbody>\n",
       "    <tr>\n",
       "      <th>0</th>\n",
       "      <td>POLYGON ((-43.1343734264374 -8.073580876035111...</td>\n",
       "    </tr>\n",
       "  </tbody>\n",
       "</table>\n",
       "</div>"
      ],
      "text/plain": [
       "                                            geometry\n",
       "0  POLYGON ((-43.1343734264374 -8.073580876035111..."
      ]
     },
     "execution_count": 29,
     "metadata": {},
     "output_type": "execute_result"
    }
   ],
   "source": [
    "df = gpd.read_file('./sample.geojson')\n",
    "df"
   ]
  },
  {
   "cell_type": "code",
   "execution_count": 30,
   "metadata": {},
   "outputs": [
    {
     "name": "stdout",
     "output_type": "stream",
     "text": [
      "Hello! 👋 I am a <class 'shapely.geometry.polygon.Polygon'>\n"
     ]
    },
    {
     "data": {
      "image/svg+xml": [
       "<svg xmlns=\"http://www.w3.org/2000/svg\" xmlns:xlink=\"http://www.w3.org/1999/xlink\" width=\"100.0\" height=\"100.0\" viewBox=\"-43.15339994430538 -8.105277034021936 0.04559540748595481 0.033384876782601935\" preserveAspectRatio=\"xMinYMin meet\"><g transform=\"matrix(1,0,0,-1,0,-16.17716919126127)\"><path fill-rule=\"evenodd\" fill=\"#66cc99\" stroke=\"#555555\" stroke-width=\"0.0009119081497190962\" opacity=\"0.6\" d=\"M -43.1343734264374,-8.07358087603511 L -43.1327533721924,-8.08277985402466 L -43.1298887729645,-8.08181322762719 L -43.1103515625,-8.07815914647929 L -43.1094932556152,-8.07799981079283 L -43.1094932556152,-8.09641859926744 L -43.1103515625,-8.09645046495416 L -43.1187307834625,-8.0967372560211 L -43.1186878681183,-8.10273857778317 L -43.1186771392822,-8.10358831522616 L -43.1476235389709,-8.10358831522616 L -43.1477630138397,-8.10273857778317 L -43.1505310535431,-8.08645513764317 L -43.1517112255096,-8.08057041885644 L -43.1439757347107,-8.0795931648273 L -43.1448876857758,-8.07574785969913 L -43.1343734264374,-8.07358087603511 z\" /></g></svg>"
      ],
      "text/plain": [
       "<shapely.geometry.polygon.Polygon at 0x11fdcab38>"
      ]
     },
     "execution_count": 30,
     "metadata": {},
     "output_type": "execute_result"
    }
   ],
   "source": [
    "s = df.geometry[0]\n",
    "print(f\"Hello! 👋 I am a {type(s)}\")\n",
    "s"
   ]
  },
  {
   "cell_type": "code",
   "execution_count": 31,
   "metadata": {},
   "outputs": [],
   "source": [
    "g = LMIPy.Geometry(s=s)"
   ]
  },
  {
   "cell_type": "code",
   "execution_count": 32,
   "metadata": {},
   "outputs": [
    {
     "data": {
      "text/html": [
       "<div class='item_container' style='height: auto; overflow: hidden; border: 1px solid #80ceb9;border-radius: 2px; background: #f2fffb; line-height: 1.21429em; padding: 10px;''><div class='item_left' style='width: 210px; float: left;''><a href='https://resourcewatch.org/' target='_blank'><img class='itemThumbnail' src='https://resourcewatch.org/static/images/logo-embed.png'></a></div><div class='item_right' style='float: none; width: auto; overflow: hidden;''><b>Geometry id</b>: <a href=https://production-api.globalforestwatch.org/v1/geostore/52298e4ccc18b0f8375a156be6e18138 target='_blank'>52298e4ccc18b0f8375a156be6e18138</a></br> </div> </div>"
      ],
      "text/plain": [
       "Geometry 52298e4ccc18b0f8375a156be6e18138"
      ]
     },
     "execution_count": 32,
     "metadata": {},
     "output_type": "execute_result"
    }
   ],
   "source": [
    "g"
   ]
  },
  {
   "cell_type": "markdown",
   "metadata": {},
   "source": [
    "### Describe a geometry \n",
    "\n",
    "Return a title and textual description of a geometry in any language."
   ]
  },
  {
   "cell_type": "code",
   "execution_count": 33,
   "metadata": {},
   "outputs": [
    {
     "data": {
      "text/html": [
       "<div style=\"width:100%;\"><div style=\"position:relative;width:100%;height:0;padding-bottom:60%;\"><iframe src=\"data:text/html;charset=utf-8;base64,PCFET0NUWVBFIGh0bWw+CjxoZWFkPiAgICAKICAgIDxtZXRhIGh0dHAtZXF1aXY9ImNvbnRlbnQtdHlwZSIgY29udGVudD0idGV4dC9odG1sOyBjaGFyc2V0PVVURi04IiAvPgogICAgPHNjcmlwdD5MX1BSRUZFUl9DQU5WQVM9ZmFsc2U7IExfTk9fVE9VQ0g9ZmFsc2U7IExfRElTQUJMRV8zRD1mYWxzZTs8L3NjcmlwdD4KICAgIDxzY3JpcHQgc3JjPSJodHRwczovL2Nkbi5qc2RlbGl2ci5uZXQvbnBtL2xlYWZsZXRAMS40LjAvZGlzdC9sZWFmbGV0LmpzIj48L3NjcmlwdD4KICAgIDxzY3JpcHQgc3JjPSJodHRwczovL2NvZGUuanF1ZXJ5LmNvbS9qcXVlcnktMS4xMi40Lm1pbi5qcyI+PC9zY3JpcHQ+CiAgICA8c2NyaXB0IHNyYz0iaHR0cHM6Ly9tYXhjZG4uYm9vdHN0cmFwY2RuLmNvbS9ib290c3RyYXAvMy4yLjAvanMvYm9vdHN0cmFwLm1pbi5qcyI+PC9zY3JpcHQ+CiAgICA8c2NyaXB0IHNyYz0iaHR0cHM6Ly9jZG5qcy5jbG91ZGZsYXJlLmNvbS9hamF4L2xpYnMvTGVhZmxldC5hd2Vzb21lLW1hcmtlcnMvMi4wLjIvbGVhZmxldC5hd2Vzb21lLW1hcmtlcnMuanMiPjwvc2NyaXB0PgogICAgPGxpbmsgcmVsPSJzdHlsZXNoZWV0IiBocmVmPSJodHRwczovL2Nkbi5qc2RlbGl2ci5uZXQvbnBtL2xlYWZsZXRAMS40LjAvZGlzdC9sZWFmbGV0LmNzcyIvPgogICAgPGxpbmsgcmVsPSJzdHlsZXNoZWV0IiBocmVmPSJodHRwczovL21heGNkbi5ib290c3RyYXBjZG4uY29tL2Jvb3RzdHJhcC8zLjIuMC9jc3MvYm9vdHN0cmFwLm1pbi5jc3MiLz4KICAgIDxsaW5rIHJlbD0ic3R5bGVzaGVldCIgaHJlZj0iaHR0cHM6Ly9tYXhjZG4uYm9vdHN0cmFwY2RuLmNvbS9ib290c3RyYXAvMy4yLjAvY3NzL2Jvb3RzdHJhcC10aGVtZS5taW4uY3NzIi8+CiAgICA8bGluayByZWw9InN0eWxlc2hlZXQiIGhyZWY9Imh0dHBzOi8vbWF4Y2RuLmJvb3RzdHJhcGNkbi5jb20vZm9udC1hd2Vzb21lLzQuNi4zL2Nzcy9mb250LWF3ZXNvbWUubWluLmNzcyIvPgogICAgPGxpbmsgcmVsPSJzdHlsZXNoZWV0IiBocmVmPSJodHRwczovL2NkbmpzLmNsb3VkZmxhcmUuY29tL2FqYXgvbGlicy9MZWFmbGV0LmF3ZXNvbWUtbWFya2Vycy8yLjAuMi9sZWFmbGV0LmF3ZXNvbWUtbWFya2Vycy5jc3MiLz4KICAgIDxsaW5rIHJlbD0ic3R5bGVzaGVldCIgaHJlZj0iaHR0cHM6Ly9yYXdjZG4uZ2l0aGFjay5jb20vcHl0aG9uLXZpc3VhbGl6YXRpb24vZm9saXVtL21hc3Rlci9mb2xpdW0vdGVtcGxhdGVzL2xlYWZsZXQuYXdlc29tZS5yb3RhdGUuY3NzIi8+CiAgICA8c3R5bGU+aHRtbCwgYm9keSB7d2lkdGg6IDEwMCU7aGVpZ2h0OiAxMDAlO21hcmdpbjogMDtwYWRkaW5nOiAwO308L3N0eWxlPgogICAgPHN0eWxlPiNtYXAge3Bvc2l0aW9uOmFic29sdXRlO3RvcDowO2JvdHRvbTowO3JpZ2h0OjA7bGVmdDowO308L3N0eWxlPgogICAgCiAgICA8bWV0YSBuYW1lPSJ2aWV3cG9ydCIgY29udGVudD0id2lkdGg9ZGV2aWNlLXdpZHRoLAogICAgICAgIGluaXRpYWwtc2NhbGU9MS4wLCBtYXhpbXVtLXNjYWxlPTEuMCwgdXNlci1zY2FsYWJsZT1ubyIgLz4KICAgIDxzdHlsZT4jbWFwXzViNzQ1YTA3MDYwYTRjNmNiNGJkYTlkNTZjMjBhZWJkIHsKICAgICAgICBwb3NpdGlvbjogcmVsYXRpdmU7CiAgICAgICAgd2lkdGg6IDEwMC4wJTsKICAgICAgICBoZWlnaHQ6IDEwMC4wJTsKICAgICAgICBsZWZ0OiAwLjAlOwogICAgICAgIHRvcDogMC4wJTsKICAgICAgICB9CiAgICA8L3N0eWxlPgo8L2hlYWQ+Cjxib2R5PiAgICAKICAgIAogICAgPGRpdiBjbGFzcz0iZm9saXVtLW1hcCIgaWQ9Im1hcF81Yjc0NWEwNzA2MGE0YzZjYjRiZGE5ZDU2YzIwYWViZCIgPjwvZGl2Pgo8L2JvZHk+CjxzY3JpcHQ+ICAgIAogICAgCiAgICAKICAgICAgICB2YXIgYm91bmRzID0gbnVsbDsKICAgIAoKICAgIHZhciBtYXBfNWI3NDVhMDcwNjBhNGM2Y2I0YmRhOWQ1NmMyMGFlYmQgPSBMLm1hcCgKICAgICAgICAnbWFwXzViNzQ1YTA3MDYwYTRjNmNiNGJkYTlkNTZjMjBhZWJkJywgewogICAgICAgIGNlbnRlcjogWy04LjA5MDE3NDQ3NDIxNjM4OCwgLTQzLjEzMTAzMTkzMTM0ODAyNl0sCiAgICAgICAgem9vbTogMTAsCiAgICAgICAgbWF4Qm91bmRzOiBib3VuZHMsCiAgICAgICAgbGF5ZXJzOiBbXSwKICAgICAgICB3b3JsZENvcHlKdW1wOiBmYWxzZSwKICAgICAgICBjcnM6IEwuQ1JTLkVQU0czODU3LAogICAgICAgIHpvb21Db250cm9sOiB0cnVlLAogICAgICAgIH0pOwoKCiAgICAKICAgIHZhciB0aWxlX2xheWVyXzUxY2E5YmZhYTY2MDQ3YmZiNGY4YmJkODNhZTlhNjkyID0gTC50aWxlTGF5ZXIoCiAgICAgICAgJ2h0dHBzOi8ve3N9LnRpbGVzLm1hcGJveC5jb20vdjMvbWFwYm94LndvcmxkLWJyaWdodC97en0ve3h9L3t5fS5wbmcnLAogICAgICAgIHsKICAgICAgICAiYXR0cmlidXRpb24iOiBudWxsLAogICAgICAgICJkZXRlY3RSZXRpbmEiOiBmYWxzZSwKICAgICAgICAibWF4TmF0aXZlWm9vbSI6IDE4LAogICAgICAgICJtYXhab29tIjogMTgsCiAgICAgICAgIm1pblpvb20iOiAwLAogICAgICAgICJub1dyYXAiOiBmYWxzZSwKICAgICAgICAib3BhY2l0eSI6IDEsCiAgICAgICAgInN1YmRvbWFpbnMiOiAiYWJjIiwKICAgICAgICAidG1zIjogZmFsc2UKfSkuYWRkVG8obWFwXzViNzQ1YTA3MDYwYTRjNmNiNGJkYTlkNTZjMjBhZWJkKTsKICAgIAogICAgICAgIHZhciBnZW9fanNvbl9mYzllMjY0YjkwNDA0M2MxODQ4ZmRlN2VhYzA2NTBiZSA9IEwuZ2VvSnNvbigKICAgICAgICAgICAgeyJiYm94IjogWy00My4xNTE3MTEyMjU1MDk2LCAtOC4xMDM1ODgzMTUyMjYxNiwgLTQzLjEwOTQ5MzI1NTYxNTIsIC04LjA3MzU4MDg3NjAzNTExXSwgImZlYXR1cmVzIjogW3siYmJveCI6IFstNDMuMTUxNzExMjI1NTA5NiwgLTguMTAzNTg4MzE1MjI2MTYsIC00My4xMDk0OTMyNTU2MTUyLCAtOC4wNzM1ODA4NzYwMzUxMV0sICJnZW9tZXRyeSI6IHsiY29vcmRpbmF0ZXMiOiBbW1stNDMuMTM0MzczNDI2NDM3NCwgLTguMDczNTgwODc2MDM1MTFdLCBbLTQzLjEzMjc1MzM3MjE5MjQsIC04LjA4Mjc3OTg1NDAyNDY2XSwgWy00My4xMjk4ODg3NzI5NjQ1LCAtOC4wODE4MTMyMjc2MjcxOV0sIFstNDMuMTEwMzUxNTYyNSwgLTguMDc4MTU5MTQ2NDc5MjldLCBbLTQzLjEwOTQ5MzI1NTYxNTIsIC04LjA3Nzk5OTgxMDc5MjgzXSwgWy00My4xMDk0OTMyNTU2MTUyLCAtOC4wOTY0MTg1OTkyNjc0NF0sIFstNDMuMTEwMzUxNTYyNSwgLTguMDk2NDUwNDY0OTU0MTZdLCBbLTQzLjExODczMDc4MzQ2MjUsIC04LjA5NjczNzI1NjAyMTFdLCBbLTQzLjExODY4Nzg2ODExODMsIC04LjEwMjczODU3Nzc4MzE3XSwgWy00My4xMTg2NzcxMzkyODIyLCAtOC4xMDM1ODgzMTUyMjYxNl0sIFstNDMuMTQ3NjIzNTM4OTcwOSwgLTguMTAzNTg4MzE1MjI2MTZdLCBbLTQzLjE0Nzc2MzAxMzgzOTcsIC04LjEwMjczODU3Nzc4MzE3XSwgWy00My4xNTA1MzEwNTM1NDMxLCAtOC4wODY0NTUxMzc2NDMxN10sIFstNDMuMTUxNzExMjI1NTA5NiwgLTguMDgwNTcwNDE4ODU2NDRdLCBbLTQzLjE0Mzk3NTczNDcxMDcsIC04LjA3OTU5MzE2NDgyNzNdLCBbLTQzLjE0NDg4NzY4NTc3NTgsIC04LjA3NTc0Nzg1OTY5OTEzXSwgWy00My4xMzQzNzM0MjY0Mzc0LCAtOC4wNzM1ODA4NzYwMzUxMV1dXSwgInR5cGUiOiAiUG9seWdvbiJ9LCAiaWQiOiAiMCIsICJwcm9wZXJ0aWVzIjogeyJhcmVhSGEiOiAxMTQ2LjIxODU4MDg2MDc5OCwgImJib3giOiBbLTQzLjE1MTcxMTIyNTUwOTYsIC04LjEwMzU4ODMxNTIyNjE2LCAtNDMuMTA5NDkzMjU1NjE1MiwgLTguMDczNTgwODc2MDM1MTFdLCAiaGlnaGxpZ2h0Ijoge30sICJpZCI6ICI1MjI5OGU0Y2NjMThiMGY4Mzc1YTE1NmJlNmUxODEzOCIsICJzdHlsZSI6IHt9LCAidXNlIjoge319LCAidHlwZSI6ICJGZWF0dXJlIn1dLCAidHlwZSI6ICJGZWF0dXJlQ29sbGVjdGlvbiJ9LAogICAgICAgICAgICB7CiAgICAgICAgICAgIH0KICAgICAgICApLmFkZFRvKG1hcF81Yjc0NWEwNzA2MGE0YzZjYjRiZGE5ZDU2YzIwYWViZCApOwogICAgICAgIGdlb19qc29uX2ZjOWUyNjRiOTA0MDQzYzE4NDhmZGU3ZWFjMDY1MGJlLnNldFN0eWxlKGZ1bmN0aW9uKGZlYXR1cmUpIHtyZXR1cm4gZmVhdHVyZS5wcm9wZXJ0aWVzLnN0eWxlO30pOwogICAgICAgIAogICAgCiAgICAgICAgICAgICAgICAKCiAgICAgICAgICAgICAgICBtYXBfNWI3NDVhMDcwNjBhNGM2Y2I0YmRhOWQ1NmMyMGFlYmQuZml0Qm91bmRzKAogICAgICAgICAgICAgICAgICAgIFtbLTguMDczNTgwODc2MDM1MTEsIC00My4xMDk0OTMyNTU2MTUyXSwgWy04LjEwMzU4ODMxNTIyNjE2LCAtNDMuMTUxNzExMjI1NTA5Nl1dLAogICAgICAgICAgICAgICAgICAgIHt9CiAgICAgICAgICAgICAgICAgICAgKTsKICAgICAgICAgICAgCjwvc2NyaXB0Pg==\" style=\"position:absolute;width:100%;height:100%;left:0;top:0;border:none !important;\" allowfullscreen webkitallowfullscreen mozallowfullscreen></iframe></div></div>"
      ],
      "text/plain": [
       "<folium.folium.Map at 0x11fd882b0>"
      ]
     },
     "execution_count": 33,
     "metadata": {},
     "output_type": "execute_result"
    }
   ],
   "source": [
    "g.map()"
   ]
  },
  {
   "cell_type": "code",
   "execution_count": 38,
   "metadata": {},
   "outputs": [
    {
     "name": "stdout",
     "output_type": "stream",
     "text": [
      "Title: Area in Piauí, Microrregião de São Raimundo Nonato\n",
      "Description: Area of 1.14kha located in A lowland area. in Piauí. It is part of the Tropical and Subtropical Dry Broadleaf Forests biome. The area has a predominantly equatorial climate with dry winters. The region's habitat is comprised of Caatinga. This region has no Intact Forest.\n",
      "CPU times: user 29.2 ms, sys: 3.05 ms, total: 32.2 ms\n",
      "Wall time: 1.63 s\n"
     ]
    }
   ],
   "source": [
    "%%time\n",
    "g.describe()"
   ]
  },
  {
   "cell_type": "code",
   "execution_count": 37,
   "metadata": {},
   "outputs": [
    {
     "name": "stdout",
     "output_type": "stream",
     "text": [
      "Title: Área en Piauí, Microrregión de São Raimundo Nonato\n",
      "Description: Área de 1.14kha ubicada en una zona de tierras bajas. en piauí. Forma parte del bioma de los bosques de hoja ancha tropicales y subtropicales secos. El área tiene un clima predominantemente ecuatorial con inviernos secos. El hábitat de la región se compone de Caatinga. Esta región no tiene bosque intacto.\n"
     ]
    }
   ],
   "source": [
    "g.describe(lang='es') # same description but this time in Spanish"
   ]
  },
  {
   "cell_type": "markdown",
   "metadata": {},
   "source": [
    "Second example of geodescriber, but considering a larger area."
   ]
  },
  {
   "cell_type": "code",
   "execution_count": 41,
   "metadata": {},
   "outputs": [
    {
     "data": {
      "text/html": [
       "<div class='item_container' style='height: auto; overflow: hidden; border: 1px solid #80ceb9;border-radius: 2px; background: #f2fffb; line-height: 1.21429em; padding: 10px;''><div class='item_left' style='width: 210px; float: left;''><a href='https://resourcewatch.org/' target='_blank'><img class='itemThumbnail' src='https://resourcewatch.org/static/images/logo-embed.png'></a></div><div class='item_right' style='float: none; width: auto; overflow: hidden;''><b>Geometry id</b>: <a href=https://production-api.globalforestwatch.org/v1/geostore/4dbc95a052c9c69e4d09fe72c359a207 target='_blank'>4dbc95a052c9c69e4d09fe72c359a207</a></br> </div> </div>"
      ],
      "text/plain": [
       "Geometry 4dbc95a052c9c69e4d09fe72c359a207"
      ]
     },
     "execution_count": 41,
     "metadata": {},
     "output_type": "execute_result"
    }
   ],
   "source": [
    "atts={'geojson': {'type': 'FeatureCollection',\n",
    "  'features': [{'type': 'Feature',\n",
    "    'properties': {},\n",
    "    'geometry': {'type': 'Polygon',\n",
    "     'coordinates': [[[82.265625, 32.84267363195431],\n",
    "       [77.34374999999999, 27.059125784374068],\n",
    "       [85.4296875, 22.268764039073968],\n",
    "       [90.3515625, 28.304380682962783],\n",
    "       [87.5390625, 32.54681317351514],\n",
    "       [82.265625, 32.84267363195431]]]}}]}}\n",
    "\n",
    "\n",
    "g2 = LMIPy.Geometry(attributes=atts)\n",
    "g2"
   ]
  },
  {
   "cell_type": "code",
   "execution_count": 42,
   "metadata": {},
   "outputs": [
    {
     "data": {
      "text/html": [
       "<div style=\"width:100%;\"><div style=\"position:relative;width:100%;height:0;padding-bottom:60%;\"><iframe src=\"data:text/html;charset=utf-8;base64,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\" style=\"position:absolute;width:100%;height:100%;left:0;top:0;border:none !important;\" allowfullscreen webkitallowfullscreen mozallowfullscreen></iframe></div></div>"
      ],
      "text/plain": [
       "<folium.folium.Map at 0x11ff4a6a0>"
      ]
     },
     "execution_count": 42,
     "metadata": {},
     "output_type": "execute_result"
    }
   ],
   "source": [
    "g2.map()"
   ]
  },
  {
   "cell_type": "code",
   "execution_count": 43,
   "metadata": {},
   "outputs": [
    {
     "name": "stdout",
     "output_type": "stream",
     "text": [
      "Title: Area in Asia\n",
      "Description: Area of 87.97Mha located in a mountainous area in Asia. The region is made up of several types of biomes, including Montane Grasslands and Shrublands, and Tropical and Subtropical Moist Broadleaf Forests. The most common environmental conditions of the area are polar tundra climate. The region is made up of different habitats, including Central Tibetan Plateau alpine steppe, and Upper Gangetic Plains moist deciduous forests. This region contains some Intact Forest.\n"
     ]
    }
   ],
   "source": [
    "g2.describe()"
   ]
  },
  {
   "cell_type": "code",
   "execution_count": 44,
   "metadata": {},
   "outputs": [
    {
     "data": {
      "text/plain": [
       "{'title': 'Area in Asia',\n",
       " 'description': 'Area of 87.97Mha located in a mountainous area in Asia. The region is made up of several types of biomes, including Montane Grasslands and Shrublands, and Tropical and Subtropical Moist Broadleaf Forests. The most common environmental conditions of the area are polar tundra climate. The region is made up of different habitats, including Central Tibetan Plateau alpine steppe, and Upper Gangetic Plains moist deciduous forests. This region contains some Intact Forest.',\n",
       " 'lang': 'en'}"
      ]
     },
     "execution_count": 44,
     "metadata": {},
     "output_type": "execute_result"
    }
   ],
   "source": [
    "# After running describe, the results are avaiable as geometry.description\n",
    "g2.description"
   ]
  },
  {
   "cell_type": "markdown",
   "metadata": {},
   "source": [
    "### Add a satellite image to the map\n",
    "The Geometry().map() method supports the return of recent satellite imagery. We calculate the centroid of your geometry and return the best, most recent image that intersects with that point. This is simply to provide context to your geometry."
   ]
  },
  {
   "cell_type": "code",
   "execution_count": 45,
   "metadata": {},
   "outputs": [
    {
     "name": "stdout",
     "output_type": "stream",
     "text": [
      "Image taken 2019-02-11 13:12:41Z\n",
      "Source: Sentinel-2A\n",
      "id: COPERNICUS/S2/20190211T131241_20190211T131239_T23MPM\n"
     ]
    },
    {
     "data": {
      "text/html": [
       "<div style=\"width:100%;\"><div style=\"position:relative;width:100%;height:0;padding-bottom:60%;\"><iframe src=\"data:text/html;charset=utf-8;base64,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\" style=\"position:absolute;width:100%;height:100%;left:0;top:0;border:none !important;\" allowfullscreen webkitallowfullscreen mozallowfullscreen></iframe></div></div>"
      ],
      "text/plain": [
       "<folium.folium.Map at 0x120240978>"
      ]
     },
     "execution_count": 45,
     "metadata": {},
     "output_type": "execute_result"
    }
   ],
   "source": [
    "g.map(image=True)"
   ]
  },
  {
   "cell_type": "markdown",
   "metadata": {},
   "source": [
    "## Return Political Boundary Geometries\n",
    "\n",
    "We are able to return political boundaries (based on [GADM](https://gadm.org/) data) using ISO, admin keys, down to admin-2 level. These should be passed in a dictionary to params. GADM 3.6 is currently used by default."
   ]
  },
  {
   "cell_type": "code",
   "execution_count": 46,
   "metadata": {},
   "outputs": [
    {
     "data": {
      "text/html": [
       "<div style=\"width:100%;\"><div style=\"position:relative;width:100%;height:0;padding-bottom:60%;\"><iframe src=\"data:text/html;charset=utf-8;base64,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\" style=\"position:absolute;width:100%;height:100%;left:0;top:0;border:none !important;\" allowfullscreen webkitallowfullscreen mozallowfullscreen></iframe></div></div>"
      ],
      "text/plain": [
       "<folium.folium.Map at 0x1202502b0>"
      ]
     },
     "execution_count": 46,
     "metadata": {},
     "output_type": "execute_result"
    }
   ],
   "source": [
    "params={\n",
    "    'iso': 'BRA',\n",
    "    'adm1': None,\n",
    "    'adm2': None\n",
    "}\n",
    "admin = LMIPy.Geometry(parameters=params)\n",
    "admin.map()"
   ]
  },
  {
   "cell_type": "markdown",
   "metadata": {},
   "source": [
    "## Create Admin geometry with an older GADM version \n",
    "Alternatively, you can specify a different gadm version."
   ]
  },
  {
   "cell_type": "code",
   "execution_count": 47,
   "metadata": {},
   "outputs": [
    {
     "data": {
      "text/html": [
       "<div style=\"width:100%;\"><div style=\"position:relative;width:100%;height:0;padding-bottom:60%;\"><iframe src=\"data:text/html;charset=utf-8;base64,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\" style=\"position:absolute;width:100%;height:100%;left:0;top:0;border:none !important;\" allowfullscreen webkitallowfullscreen mozallowfullscreen></iframe></div></div>"
      ],
      "text/plain": [
       "<folium.folium.Map at 0x106fe6b00>"
      ]
     },
     "execution_count": 47,
     "metadata": {},
     "output_type": "execute_result"
    }
   ],
   "source": [
    "\n",
    "params={\n",
    "    'iso': 'BRA',\n",
    "    'adm1': 1,\n",
    "    'adm2': 1,\n",
    "    'gadm': '2.7'\n",
    "}\n",
    "admin_v1 = LMIPy.Geometry(parameters=params)\n",
    "admin_v1.map()"
   ]
  },
  {
   "cell_type": "markdown",
   "metadata": {},
   "source": [
    "## Create Geometries from a Carto table and index\n",
    "\n",
    "You can also return geometries directly from a Carto table (under the public WRI-01 account) using the table name and cartodb_id.\n"
   ]
  },
  {
   "cell_type": "code",
   "execution_count": 48,
   "metadata": {},
   "outputs": [
    {
     "name": "stdout",
     "output_type": "stream",
     "text": [
      "Image taken 2019-02-06 02:49:09Z\n",
      "Source: Sentinel-2B\n",
      "id: COPERNICUS/S2/20190206T024909_20190206T030148_T49MDV\n"
     ]
    },
    {
     "data": {
      "text/html": [
       "<div style=\"width:100%;\"><div style=\"position:relative;width:100%;height:0;padding-bottom:60%;\"><iframe src=\"data:text/html;charset=utf-8;base64,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\" style=\"position:absolute;width:100%;height:100%;left:0;top:0;border:none !important;\" allowfullscreen webkitallowfullscreen mozallowfullscreen></iframe></div></div>"
      ],
      "text/plain": [
       "<folium.folium.Map at 0x1201d9a20>"
      ]
     },
     "execution_count": 48,
     "metadata": {},
     "output_type": "execute_result"
    }
   ],
   "source": [
    "params={\n",
    "    'table': 'gfw_logging',\n",
    "    'id': 123\n",
    "}\n",
    "row_geom = LMIPy.Geometry(parameters=params)\n",
    "row_geom.map(image=True)"
   ]
  },
  {
   "cell_type": "markdown",
   "metadata": {},
   "source": [
    "## Display a Layer and Geometry together"
   ]
  },
  {
   "cell_type": "code",
   "execution_count": 49,
   "metadata": {},
   "outputs": [
    {
     "data": {
      "text/html": [
       "<div class='item_container' style='height: auto; overflow: hidden; border: 1px solid #80ceb9;border-radius: 2px; background: #f2fffb; line-height: 1.21429em; padding: 10px;''><div class='item_left' style='width: 210px; float: left;''><a href='https://resourcewatch.org/' target='_blank'><img class='itemThumbnail' src='https://resourcewatch.org/static/images/logo-embed.png'></a></div><div class='item_right' style='float: none; width: auto; overflow: hidden;''><a href=https://api.resourcewatch.org/v1/layer/3ef039ba-29c7-459d-aadd-66d6e6cc8f5e?includes=vocabulary,metadata target='_blank'><b>Aboveground mangrove biomass density - 2000</b></a><br> GEE asset: <a href='https://code.earthengine.google.com/asset='None target='_blank'>None</a> 🗺Layer in GFW.<br>Last Modified: 2019-04-05T11:17:35.095Z<br>Connector: gee | Published: True </div> </div>"
      ],
      "text/plain": [
       "Layer 3ef039ba-29c7-459d-aadd-66d6e6cc8f5e Aboveground mangrove biomass density - 2000"
      ]
     },
     "execution_count": 49,
     "metadata": {},
     "output_type": "execute_result"
    }
   ],
   "source": [
    "atts={'geojson': {'type': 'FeatureCollection',\n",
    "  'features': [{'type': 'Feature',\n",
    "    'properties': {},\n",
    "    'geometry': {'type': 'Polygon',\n",
    "     'coordinates': [[[-48.131103515625, -0.6001172008725418],\n",
    "       [-48.13934326171875, -0.9791088369866402],\n",
    "       [-47.86331176757812, -0.9818550168696459],\n",
    "       [-47.616119384765625, -0.8459165322899671],\n",
    "       [-47.50213623046875, -0.7182123915862891],\n",
    "       [-47.51861572265625, -0.5287095375108173],\n",
    "       [-47.882537841796875, -0.5163504323777461],\n",
    "       [-48.131103515625, -0.6001172008725418]]]}}]}}\n",
    "g = LMIPy.Geometry(attributes=atts)\n",
    "l = LMIPy.Layer(id_hash='3ef039ba-29c7-459d-aadd-66d6e6cc8f5e')\n",
    "l"
   ]
  },
  {
   "cell_type": "code",
   "execution_count": 50,
   "metadata": {},
   "outputs": [
    {
     "data": {
      "text/html": [
       "<div style=\"width:100%;\"><div style=\"position:relative;width:100%;height:0;padding-bottom:60%;\"><iframe src=\"data:text/html;charset=utf-8;base64,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\" style=\"position:absolute;width:100%;height:100%;left:0;top:0;border:none !important;\" allowfullscreen webkitallowfullscreen mozallowfullscreen></iframe></div></div>"
      ],
      "text/plain": [
       "<folium.folium.Map at 0x1201d98d0>"
      ]
     },
     "execution_count": 50,
     "metadata": {},
     "output_type": "execute_result"
    }
   ],
   "source": [
    "l.map(geometry=g)"
   ]
  },
  {
   "cell_type": "markdown",
   "metadata": {},
   "source": [
    "## Intersecting Raster data with Geometry objects\n",
    "\n",
    "Any Layer or Dataset objects based on an Earth Engine raster can be intersected with LMIPy.Geometry objects.\n",
    "\n",
    "### Dataset Intersections\n",
    "In the first instance we show the result of an intersect between a geometry roughly bounding London, and a Population density layer."
   ]
  },
  {
   "cell_type": "code",
   "execution_count": 51,
   "metadata": {},
   "outputs": [],
   "source": [
    "atts={'geojson': {'type': 'FeatureCollection',\n",
    "  'features': [{'type': 'Feature',\n",
    "    'properties': {},\n",
    "    'geometry': {'type': 'Polygon',\n",
    "     'coordinates': [\n",
    "          [\n",
    "            [\n",
    "              -0.5712890625,\n",
    "              51.28940590271679\n",
    "            ],\n",
    "            [\n",
    "              0.48339843749999994,\n",
    "              51.28940590271679\n",
    "            ],\n",
    "            [\n",
    "              0.48339843749999994,\n",
    "              51.781435604431195\n",
    "            ],\n",
    "            [\n",
    "              -0.5712890625,\n",
    "              51.781435604431195\n",
    "            ],\n",
    "            [\n",
    "              -0.5712890625,\n",
    "              51.28940590271679\n",
    "            ]\n",
    "          ]\n",
    "        ]}}]}}\n",
    "\n",
    "g = LMIPy.Geometry(attributes=atts)\n"
   ]
  },
  {
   "cell_type": "code",
   "execution_count": 52,
   "metadata": {},
   "outputs": [
    {
     "data": {
      "text/html": [
       "<div class='item_container' style='height: auto; overflow: hidden; border: 1px solid #80ceb9;border-radius: 2px; background: #f2fffb; line-height: 1.21429em; padding: 10px;''><div class='item_left' style='width: 210px; float: left;''><a href='https://resourcewatch.org/' target='_blank'><img class='itemThumbnail' src='https://resourcewatch.org/static/images/logo-embed.png'></a></div><div class='item_right' style='float: none; width: auto; overflow: hidden;''><a href=https://api.resourcewatch.org/v1/dataset/a4e9c32d-d037-4c50-a893-967cad193537?includes=vocabulary,metadata,layer,widget target='_blank'><b>Population Density</b></a><br> GEE asset: <a href='https://code.earthengine.google.com/asset='CIESIN/GPWv4/population-density/2015 target='_blank'>CIESIN/GPWv4/population-density/2015</a> 🗺Dataset in GFW.<br>Last Modified: 2019-03-08T18:24:06.420Z<br>Connector: gee | Published: True </div> </div>"
      ],
      "text/plain": [
       "Dataset a4e9c32d-d037-4c50-a893-967cad193537 Population Density"
      ]
     },
     "execution_count": 52,
     "metadata": {},
     "output_type": "execute_result"
    }
   ],
   "source": [
    "ds = LMIPy.Dataset(id_hash='a4e9c32d-d037-4c50-a893-967cad193537')\n",
    "ds"
   ]
  },
  {
   "cell_type": "code",
   "execution_count": 53,
   "metadata": {},
   "outputs": [
    {
     "data": {
      "text/html": [
       "<div style=\"width:100%;\"><div style=\"position:relative;width:100%;height:0;padding-bottom:60%;\"><iframe src=\"data:text/html;charset=utf-8;base64,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\" style=\"position:absolute;width:100%;height:100%;left:0;top:0;border:none !important;\" allowfullscreen webkitallowfullscreen mozallowfullscreen></iframe></div></div>"
      ],
      "text/plain": [
       "<folium.folium.Map at 0x1202d7748>"
      ]
     },
     "execution_count": 53,
     "metadata": {},
     "output_type": "execute_result"
    }
   ],
   "source": [
    "ds.layers[0].map(geometry=g)"
   ]
  },
  {
   "cell_type": "markdown",
   "metadata": {},
   "source": [
    "Finally, you can call the intersect function on the dataset object to see a dictionary of values."
   ]
  },
  {
   "cell_type": "code",
   "execution_count": 54,
   "metadata": {},
   "outputs": [
    {
     "data": {
      "text/plain": [
       "{'population-density': {'count': 138767,\n",
       "  'max': 5984.53564453125,\n",
       "  'mean': 1.5942131871343077,\n",
       "  'min': 0.0,\n",
       "  'stdev': 31.059972394495446,\n",
       "  'sum': 221224.18133906648}}"
      ]
     },
     "execution_count": 54,
     "metadata": {},
     "output_type": "execute_result"
    }
   ],
   "source": [
    "ds.intersect(geometry=g)"
   ]
  },
  {
   "cell_type": "markdown",
   "metadata": {},
   "source": [
    "### Layer Intersections\n",
    "\n",
    "Intersections against layers work in the same manner. Here we show an intersect between an area along Brazil's coast and a Mangrove biomass density Layer."
   ]
  },
  {
   "cell_type": "code",
   "execution_count": 55,
   "metadata": {},
   "outputs": [],
   "source": [
    "atts={'geojson': {'type': 'FeatureCollection',\n",
    "  'features': [{'type': 'Feature',\n",
    "    'properties': {},\n",
    "    'geometry': {'type': 'Polygon',\n",
    "     'coordinates': \n",
    "\n",
    "[\n",
    "          [\n",
    "            [\n",
    "              -52.16308593749999,\n",
    "              -1.669685500986571\n",
    "            ],\n",
    "            [\n",
    "              -46.9775390625,\n",
    "              -1.669685500986571\n",
    "            ],\n",
    "            [\n",
    "              -46.9775390625,\n",
    "              0.7909904981540058\n",
    "            ],\n",
    "            [\n",
    "              -52.16308593749999,\n",
    "              0.7909904981540058\n",
    "            ],\n",
    "            [\n",
    "              -52.16308593749999,\n",
    "              -1.669685500986571\n",
    "            ]\n",
    "          ]\n",
    "        ]\n",
    "                 }}]}}\n",
    "\n",
    "g = LMIPy.Geometry(attributes=atts)\n"
   ]
  },
  {
   "cell_type": "code",
   "execution_count": 56,
   "metadata": {},
   "outputs": [
    {
     "data": {
      "text/html": [
       "<div class='item_container' style='height: auto; overflow: hidden; border: 1px solid #80ceb9;border-radius: 2px; background: #f2fffb; line-height: 1.21429em; padding: 10px;''><div class='item_left' style='width: 210px; float: left;''><a href='https://resourcewatch.org/' target='_blank'><img class='itemThumbnail' src='https://resourcewatch.org/static/images/logo-embed.png'></a></div><div class='item_right' style='float: none; width: auto; overflow: hidden;''><a href=https://api.resourcewatch.org/v1/layer/3ef039ba-29c7-459d-aadd-66d6e6cc8f5e?includes=vocabulary,metadata target='_blank'><b>Aboveground mangrove biomass density - 2000</b></a><br> GEE asset: <a href='https://code.earthengine.google.com/asset='None target='_blank'>None</a> 🗺Layer in GFW.<br>Last Modified: 2019-04-05T11:17:35.095Z<br>Connector: gee | Published: True </div> </div>"
      ],
      "text/plain": [
       "Layer 3ef039ba-29c7-459d-aadd-66d6e6cc8f5e Aboveground mangrove biomass density - 2000"
      ]
     },
     "execution_count": 56,
     "metadata": {},
     "output_type": "execute_result"
    }
   ],
   "source": [
    "ly = LMIPy.Layer('3ef039ba-29c7-459d-aadd-66d6e6cc8f5e')\n",
    "ly"
   ]
  },
  {
   "cell_type": "code",
   "execution_count": 57,
   "metadata": {},
   "outputs": [
    {
     "data": {
      "text/html": [
       "<div style=\"width:100%;\"><div style=\"position:relative;width:100%;height:0;padding-bottom:60%;\"><iframe src=\"data:text/html;charset=utf-8;base64,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\" style=\"position:absolute;width:100%;height:100%;left:0;top:0;border:none !important;\" allowfullscreen webkitallowfullscreen mozallowfullscreen></iframe></div></div>"
      ],
      "text/plain": [
       "<folium.folium.Map at 0x1202c5390>"
      ]
     },
     "execution_count": 57,
     "metadata": {},
     "output_type": "execute_result"
    }
   ],
   "source": [
    "ly.map(geometry=g)"
   ]
  },
  {
   "cell_type": "code",
   "execution_count": 58,
   "metadata": {},
   "outputs": [
    {
     "data": {
      "text/plain": [
       "{'b1': {'count': 135511,\n",
       "  'max': 32.262001037597656,\n",
       "  'mean': 2.341725882585996,\n",
       "  'min': 0.5376999974250793,\n",
       "  'stdev': 5.07816334797714,\n",
       "  'sum': 302242.00477895216}}"
      ]
     },
     "execution_count": 58,
     "metadata": {},
     "output_type": "execute_result"
    }
   ],
   "source": [
    "ly.intersect(geometry=g)"
   ]
  },
  {
   "cell_type": "markdown",
   "metadata": {},
   "source": [
    "## Construct Widgets GFW-style!\n",
    "\n",
    "A demo of how to use LMIPy to construct widgets like those on the GFW Dashboard pages.\n",
    "\n",
    "### Tree cover example"
   ]
  },
  {
   "cell_type": "code",
   "execution_count": 59,
   "metadata": {},
   "outputs": [],
   "source": [
    "import matplotlib.pyplot as plt\n",
    "%matplotlib inline"
   ]
  },
  {
   "cell_type": "code",
   "execution_count": 60,
   "metadata": {},
   "outputs": [
    {
     "data": {
      "text/html": [
       "<div class='item_container' style='height: auto; overflow: hidden; border: 1px solid #80ceb9;border-radius: 2px; background: #f2fffb; line-height: 1.21429em; padding: 10px;''><div class='item_left' style='width: 210px; float: left;''><a href='https://resourcewatch.org/' target='_blank'><img class='itemThumbnail' src='https://resourcewatch.org/static/images/logo-embed.png'></a></div><div class='item_right' style='float: none; width: auto; overflow: hidden;''><a href=https://api.resourcewatch.org/v1/dataset/a20e9c0e-8d7d-422f-90f5-3b9bca355aaf?includes=vocabulary,metadata,layer,widget target='_blank'><b>country page data for admin level 2</b></a><br> Data source json 🗺Table in GFW.<br>Last Modified: 2018-11-21T14:02:21.137Z<br>Connector: json | Published: True </div> </div>"
      ],
      "text/plain": [
       "Table a20e9c0e-8d7d-422f-90f5-3b9bca355aaf country page data for admin level 2)"
      ]
     },
     "execution_count": 60,
     "metadata": {},
     "output_type": "execute_result"
    }
   ],
   "source": [
    "# Get a datatable (Hansen)\n",
    "table = LMIPy.Table('a20e9c0e-8d7d-422f-90f5-3b9bca355aaf')\n",
    "table"
   ]
  },
  {
   "cell_type": "code",
   "execution_count": 61,
   "metadata": {},
   "outputs": [
    {
     "data": {
      "text/html": [
       "<div>\n",
       "<style scoped>\n",
       "    .dataframe tbody tr th:only-of-type {\n",
       "        vertical-align: middle;\n",
       "    }\n",
       "\n",
       "    .dataframe tbody tr th {\n",
       "        vertical-align: top;\n",
       "    }\n",
       "\n",
       "    .dataframe thead th {\n",
       "        text-align: right;\n",
       "    }\n",
       "</style>\n",
       "<table border=\"1\" class=\"dataframe\">\n",
       "  <thead>\n",
       "    <tr style=\"text-align: right;\">\n",
       "      <th></th>\n",
       "      <th>total_area</th>\n",
       "      <th>value</th>\n",
       "    </tr>\n",
       "  </thead>\n",
       "  <tbody>\n",
       "    <tr>\n",
       "      <th>0</th>\n",
       "      <td>1.527330e+07</td>\n",
       "      <td>1.140593e+07</td>\n",
       "    </tr>\n",
       "  </tbody>\n",
       "</table>\n",
       "</div>"
      ],
      "text/plain": [
       "     total_area         value\n",
       "0  1.527330e+07  1.140593e+07"
      ]
     },
     "execution_count": 61,
     "metadata": {},
     "output_type": "execute_result"
    }
   ],
   "source": [
    "iso = 'BRA'\n",
    "administration = 1\n",
    "\n",
    "sql = f\"\"\"\n",
    "        SELECT \n",
    "            SUM(area_extent) as value,\n",
    "            SUM(area_admin) as total_area \n",
    "        FROM data \n",
    "        WHERE iso = '{iso}'\n",
    "        AND adm1 = {administration}\n",
    "        AND thresh = 30 \n",
    "        AND polyname = 'admin'\n",
    "\"\"\"\n",
    "\n",
    "results = table.query(sql=sql)\n",
    "results"
   ]
  },
  {
   "cell_type": "code",
   "execution_count": 62,
   "metadata": {},
   "outputs": [
    {
     "data": {
      "image/png": "[encoded data removed]",
      "text/plain": [
       "<Figure size 432x288 with 1 Axes>"
      ]
     },
     "metadata": {},
     "output_type": "display_data"
    }
   ],
   "source": [
    "sizes = [results.value[0], results.total_area[0] - results.value[0]]\n",
    "colors = ['green','grey']\n",
    "labels = ['Tree cover', 'Non-forest']\n",
    "\n",
    "fig1, ax1 = plt.subplots()\n",
    "ax1.pie(sizes, labels=labels, autopct='%1.1f%%',\n",
    "        shadow=False, startangle=90, colors=colors)\n",
    "ax1.axis('equal')\n",
    "centre_circle = plt.Circle((0,0),0.75,color='black', fc='white',linewidth=0.5)\n",
    "fig1 = plt.gcf()\n",
    "fig1.gca().add_artist(centre_circle)\n",
    "plt.suptitle('Tree cover extent')\n",
    "plt.title(f'in {iso}/{administration}')\n",
    "plt.show()"
   ]
  },
  {
   "cell_type": "markdown",
   "metadata": {},
   "source": [
    "### Tree cover loss example"
   ]
  },
  {
   "cell_type": "code",
   "execution_count": 63,
   "metadata": {},
   "outputs": [
    {
     "data": {
      "text/html": [
       "<div>\n",
       "<style scoped>\n",
       "    .dataframe tbody tr th:only-of-type {\n",
       "        vertical-align: middle;\n",
       "    }\n",
       "\n",
       "    .dataframe tbody tr th {\n",
       "        vertical-align: top;\n",
       "    }\n",
       "\n",
       "    .dataframe thead th {\n",
       "        text-align: right;\n",
       "    }\n",
       "</style>\n",
       "<table border=\"1\" class=\"dataframe\">\n",
       "  <thead>\n",
       "    <tr style=\"text-align: right;\">\n",
       "      <th></th>\n",
       "      <th>area</th>\n",
       "      <th>iso</th>\n",
       "      <th>polyname</th>\n",
       "      <th>year</th>\n",
       "    </tr>\n",
       "  </thead>\n",
       "  <tbody>\n",
       "    <tr>\n",
       "      <th>0</th>\n",
       "      <td>2.746361e+06</td>\n",
       "      <td>BRA</td>\n",
       "      <td>admin</td>\n",
       "      <td>2001</td>\n",
       "    </tr>\n",
       "    <tr>\n",
       "      <th>1</th>\n",
       "      <td>3.507049e+06</td>\n",
       "      <td>BRA</td>\n",
       "      <td>admin</td>\n",
       "      <td>2002</td>\n",
       "    </tr>\n",
       "    <tr>\n",
       "      <th>2</th>\n",
       "      <td>3.248527e+06</td>\n",
       "      <td>BRA</td>\n",
       "      <td>admin</td>\n",
       "      <td>2003</td>\n",
       "    </tr>\n",
       "    <tr>\n",
       "      <th>3</th>\n",
       "      <td>3.848771e+06</td>\n",
       "      <td>BRA</td>\n",
       "      <td>admin</td>\n",
       "      <td>2004</td>\n",
       "    </tr>\n",
       "    <tr>\n",
       "      <th>4</th>\n",
       "      <td>3.486563e+06</td>\n",
       "      <td>BRA</td>\n",
       "      <td>admin</td>\n",
       "      <td>2005</td>\n",
       "    </tr>\n",
       "  </tbody>\n",
       "</table>\n",
       "</div>"
      ],
      "text/plain": [
       "           area  iso polyname  year\n",
       "0  2.746361e+06  BRA    admin  2001\n",
       "1  3.507049e+06  BRA    admin  2002\n",
       "2  3.248527e+06  BRA    admin  2003\n",
       "3  3.848771e+06  BRA    admin  2004\n",
       "4  3.486563e+06  BRA    admin  2005"
      ]
     },
     "execution_count": 63,
     "metadata": {},
     "output_type": "execute_result"
    }
   ],
   "source": [
    "sql = \"\"\"\n",
    "SELECT \n",
    "    polyname, year_data.year as year, \n",
    "    SUM(year_data.area_loss) as area\n",
    "\n",
    "FROM data \n",
    "WHERE polyname = 'admin'\n",
    "AND thresh= 30\n",
    "GROUP BY polyname, iso, nested(year_data.year)\n",
    "\"\"\"\n",
    "global_loss = table.query(sql=sql)\n",
    "global_loss.head()"
   ]
  },
  {
   "cell_type": "code",
   "execution_count": 64,
   "metadata": {},
   "outputs": [
    {
     "data": {
      "image/png": "[encoded data removed]",
      "text/plain": [
       "<Figure size 432x288 with 1 Axes>"
      ]
     },
     "metadata": {
      "needs_background": "light"
     },
     "output_type": "display_data"
    }
   ],
   "source": [
    "iso='BRA'\n",
    "loss_data = list(global_loss[global_loss['iso'] == f'{iso}']['area'])\n",
    "years = list(global_loss[global_loss['iso'] == f'{iso}']['year'])\n",
    "\n",
    "width = 0.66\n",
    "fig, ax = plt.subplots()\n",
    "rects1 = ax.bar(years, loss_data, width, color='#FE5A8D')\n",
    "\n",
    "# add some text for labels, title and axes ticks\n",
    "ax.set_ylabel('Loss extent (ha)')\n",
    "ax.set_title(f'Loss by year in {iso}')\n",
    "plt.show()"
   ]
  },
  {
   "cell_type": "markdown",
   "metadata": {},
   "source": [
    "### Creating a local backup\n",
    "\n",
    "Save a local backup of a collection to a specified path. This creates a folder containing a JSON for each dataset and it's associated Layers, Metadata and Vocabularies."
   ]
  },
  {
   "cell_type": "code",
   "execution_count": 52,
   "metadata": {},
   "outputs": [],
   "source": [
    "col = LMIPy.Collection(app=['gfw'], env='production')"
   ]
  },
  {
   "cell_type": "code",
   "execution_count": 53,
   "metadata": {},
   "outputs": [],
   "source": [
    "path = './LMI-BACKUP'"
   ]
  },
  {
   "cell_type": "code",
   "execution_count": 54,
   "metadata": {},
   "outputs": [
    {
     "name": "stderr",
     "output_type": "stream",
     "text": [
      "  0%|          | 0/251 [00:00<?, ?it/s]"
     ]
    },
    {
     "name": "stdout",
     "output_type": "stream",
     "text": [
      "Saving to path: ./LMI-BACKUP\n"
     ]
    },
    {
     "name": "stderr",
     "output_type": "stream",
     "text": [
      "100%|██████████| 251/251 [00:28<00:00,  8.68it/s]\n"
     ]
    }
   ],
   "source": [
    "col.save(path)"
   ]
  },
  {
   "cell_type": "markdown",
   "metadata": {},
   "source": [
    "### Load from local backup\n",
    "\n",
    "You can also load a previous version from local backup."
   ]
  },
  {
   "cell_type": "code",
   "execution_count": 61,
   "metadata": {},
   "outputs": [
    {
     "data": {
      "text/plain": [
       "['b70f070b-c9ae-4452-aa8e-2280a2604666.json',\n",
       " '89755b9f-df05-4e22-a9bc-05217c8eafc8.json',\n",
       " 'c8c7e5ae-d7bd-4e00-98e7-48677791d8f6.json']"
      ]
     },
     "execution_count": 61,
     "metadata": {},
     "output_type": "execute_result"
    }
   ],
   "source": [
    "files = os.listdir(path)[0:3]\n",
    "files"
   ]
  },
  {
   "cell_type": "code",
   "execution_count": 64,
   "metadata": {},
   "outputs": [
    {
     "data": {
      "text/plain": [
       "'b70f070b-c9ae-4452-aa8e-2280a2604666'"
      ]
     },
     "execution_count": 64,
     "metadata": {},
     "output_type": "execute_result"
    }
   ],
   "source": [
    "ds_id = files[0].split('.json')[0]\n",
    "ds_id"
   ]
  },
  {
   "cell_type": "code",
   "execution_count": 65,
   "metadata": {},
   "outputs": [],
   "source": [
    "dataset = LMIPy.Dataset(ds_id)"
   ]
  },
  {
   "cell_type": "code",
   "execution_count": 66,
   "metadata": {},
   "outputs": [
    {
     "data": {
      "text/html": [
       "<div class='item_container' style='height: auto; overflow: hidden; border: 1px solid #80ceb9;border-radius: 2px; background: #f2fffb; line-height: 1.21429em; padding: 10px;''><div class='item_left' style='width: 210px; float: left;''><a href='https://resourcewatch.org/' target='_blank'><img class='itemThumbnail' src='https://resourcewatch.org/static/images/logo-embed.png'></a></div><div class='item_right' style='float: none; width: auto; overflow: hidden;''><a href=https://api.resourcewatch.org/v1/dataset/b70f070b-c9ae-4452-aa8e-2280a2604666?includes=vocabulary,metadata,layer target='_blank'><b>Major Dams</b></a><br> Carto table: <a href=https://wri-01.carto.com/tables/dam_hotspots target='_blank'>dam_hotspots</a> 🗺Dataset in GFW.<br>Last Modified: 2018-11-21T14:02:27.354Z<br>Connector: cartodb | Published: True </div> </div>"
      ],
      "text/plain": [
       "Dataset b70f070b-c9ae-4452-aa8e-2280a2604666 Major Dams"
      ]
     },
     "execution_count": 66,
     "metadata": {},
     "output_type": "execute_result"
    }
   ],
   "source": [
    "dataset"
   ]
  },
  {
   "cell_type": "code",
   "execution_count": 67,
   "metadata": {},
   "outputs": [],
   "source": [
    "backup = dataset.load(path)"
   ]
  },
  {
   "cell_type": "code",
   "execution_count": 68,
   "metadata": {},
   "outputs": [
    {
     "data": {
      "text/html": [
       "<div class='item_container' style='height: auto; overflow: hidden; border: 1px solid #80ceb9;border-radius: 2px; background: #f2fffb; line-height: 1.21429em; padding: 10px;''><div class='item_left' style='width: 210px; float: left;''><a href='https://resourcewatch.org/' target='_blank'><img class='itemThumbnail' src='https://resourcewatch.org/static/images/logo-embed.png'></a></div><div class='item_right' style='float: none; width: auto; overflow: hidden;''><a href=https://api.resourcewatch.org/v1/dataset/b70f070b-c9ae-4452-aa8e-2280a2604666?includes=vocabulary,metadata,layer target='_blank'><b>Major Dams</b></a><br> Carto table: <a href=https://wri-01.carto.com/tables/dam_hotspots target='_blank'>dam_hotspots</a> 🗺Dataset in GFW.<br>Last Modified: 2018-11-21T14:02:27.354Z<br>Connector: cartodb | Published: True </div> </div>"
      ],
      "text/plain": [
       "Dataset b70f070b-c9ae-4452-aa8e-2280a2604666 Major Dams"
      ]
     },
     "execution_count": 68,
     "metadata": {},
     "output_type": "execute_result"
    }
   ],
   "source": [
    "backup"
   ]
  },
  {
   "cell_type": "code",
   "execution_count": null,
   "metadata": {},
   "outputs": [],
   "source": []
  }
 ],
 "metadata": {
  "kernelspec": {
   "display_name": "Python 3",
   "language": "python",
   "name": "python3"
  },
  "language_info": {
   "codemirror_mode": {
    "name": "ipython",
    "version": 3
   },
   "file_extension": ".py",
   "mimetype": "text/x-python",
   "name": "python",
   "nbconvert_exporter": "python",
   "pygments_lexer": "ipython3",
   "version": "3.6.8"
  }
 },
 "nbformat": 4,
 "nbformat_minor": 2
}
