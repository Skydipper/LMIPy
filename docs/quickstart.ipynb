{
 "cells": [
  {
   "cell_type": "markdown",
   "metadata": {},
   "source": [
    "# Example of use"
   ]
  },
  {
   "cell_type": "code",
   "execution_count": 1,
   "metadata": {},
   "outputs": [],
   "source": [
    "import Skydipper"
   ]
  },
  {
   "cell_type": "code",
   "execution_count": 2,
   "metadata": {},
   "outputs": [
    {
     "data": {
      "text/plain": [
       "'0.1.9'"
      ]
     },
     "execution_count": 2,
     "metadata": {},
     "output_type": "execute_result"
    }
   ],
   "source": [
    "Skydipper.__version__"
   ]
  },
  {
   "cell_type": "markdown",
   "metadata": {},
   "source": [
    "## Dataset objects\n",
    "\n",
    "Using known id's you can instantiate a dataset object directly."
   ]
  },
  {
   "cell_type": "code",
   "execution_count": 3,
   "metadata": {},
   "outputs": [
    {
     "data": {
      "text/html": [
       "<div class='item_container' style='height: auto; overflow: hidden; border: 1px solid #2BA4A0;border-radius: 2px; background: #2BA4A0; line-height: 1.21429em; padding: 10px;''><div class='item_left' style='width: 210px; float: left;''><a href='https://skydipper.com/' target='_blank'><img class='itemThumbnail' src='https://skydipper.com/images/logo.png'></a></div><div class='item_right' style='float: none; width: auto; hidden;padding-left: 10px; overflow: hidden;''><a href=https://api.skydipper.com/v1/dataset/94241cb4-9e91-4a1a-9fcc-993b8ac9c2b7?includes=metadata,layer target='_blank'><b>bio.014 Biodiversity Intactness</b></a><br> GEE asset: <a href='https://code.earthengine.google.com/asset='users/resourcewatch/bio_014_bio_intactness target='_blank'>users/resourcewatch/bio_014_bio_intactness</a> | Dataset in SKYDIPPER.<br>Last Modified: 2019-11-15T10:25:30.650Z<br><a href='https://api.skydipper.com/v1/fields/94241cb4-9e91-4a1a-9fcc-993b8ac9c2b7' target='_blank'>Fields</a> Connector: gee | Published: False </div> </div>"
      ],
      "text/plain": [
       "Dataset 94241cb4-9e91-4a1a-9fcc-993b8ac9c2b7 bio.014 Biodiversity Intactness"
      ]
     },
     "execution_count": 3,
     "metadata": {},
     "output_type": "execute_result"
    }
   ],
   "source": [
    "ds = Skydipper.Dataset(id_hash='94241cb4-9e91-4a1a-9fcc-993b8ac9c2b7')\n",
    "ds"
   ]
  },
  {
   "cell_type": "markdown",
   "metadata": {},
   "source": [
    "You can access the attributes of a dataset."
   ]
  },
  {
   "cell_type": "code",
   "execution_count": 4,
   "metadata": {},
   "outputs": [
    {
     "data": {
      "text/plain": [
       "{'name': 'bio.014 Biodiversity Intactness',\n",
       " 'slug': 'bio014-Biodiversity-Intactness',\n",
       " 'type': 'raster',\n",
       " 'subtitle': None,\n",
       " 'application': ['skydipper'],\n",
       " 'dataPath': None,\n",
       " 'attributesPath': None,\n",
       " 'connectorType': 'rest',\n",
       " 'provider': 'gee',\n",
       " 'userId': '5dc9210cbe566d0010df6752',\n",
       " 'connectorUrl': None,\n",
       " 'sources': [],\n",
       " 'tableName': 'users/resourcewatch/bio_014_bio_intactness',\n",
       " 'status': 'pending',\n",
       " 'published': False,\n",
       " 'overwrite': False,\n",
       " 'verified': False,\n",
       " 'blockchain': {},\n",
       " 'mainDateField': None,\n",
       " 'env': 'production',\n",
       " 'geoInfo': False,\n",
       " 'protected': False,\n",
       " 'legend': {'date': [],\n",
       "  'region': [],\n",
       "  'country': [],\n",
       "  'nested': [],\n",
       "  'integer': [],\n",
       "  'short': [],\n",
       "  'byte': [],\n",
       "  'double': [],\n",
       "  'float': [],\n",
       "  'half_float': [],\n",
       "  'scaled_float': [],\n",
       "  'boolean': [],\n",
       "  'binary': [],\n",
       "  'text': [],\n",
       "  'keyword': []},\n",
       " 'clonedHost': {},\n",
       " 'errorMessage': None,\n",
       " 'taskId': None,\n",
       " 'createdAt': '2019-11-15T10:25:30.592Z',\n",
       " 'updatedAt': '2019-11-15T10:25:30.650Z',\n",
       " 'dataLastUpdated': None,\n",
       " 'metadata': [],\n",
       " 'widgetRelevantProps': [],\n",
       " 'layerRelevantProps': []}"
      ]
     },
     "execution_count": 4,
     "metadata": {},
     "output_type": "execute_result"
    }
   ],
   "source": [
    "ds.attributes"
   ]
  },
  {
   "cell_type": "markdown",
   "metadata": {},
   "source": [
    "You can also access the metadata of a dataset."
   ]
  },
  {
   "cell_type": "code",
   "execution_count": null,
   "metadata": {},
   "outputs": [],
   "source": [
    "#ds.metadata[0].attributes"
   ]
  },
  {
   "cell_type": "markdown",
   "metadata": {},
   "source": [
    "## Creation of Datasets\n",
    "\n",
    "If you have a valid API key with permissions you can instantiate a Dataset object from a dictionary. To find out more about keys in the Skydipper REST API you can read [our docs](https://skydipper.github.io/doc-api/index.html)."
   ]
  },
  {
   "cell_type": "code",
   "execution_count": null,
   "metadata": {},
   "outputs": [],
   "source": [
    "token=\"XXX\""
   ]
  },
  {
   "cell_type": "code",
   "execution_count": null,
   "metadata": {},
   "outputs": [],
   "source": [
    "atts = {'name': 'Carto_test1',\n",
    " 'application': ['skydipper'],\n",
    " 'connectorType': 'rest',\n",
    " 'provider': 'cartodb',\n",
    " 'connectorUrl': 'http://35.233.41.65/user/skydipper/dataset/gadm36_countries',\n",
    " 'tableName': 'gadm36_countries',\n",
    " 'env': 'production'}"
   ]
  },
  {
   "cell_type": "code",
   "execution_count": null,
   "metadata": {},
   "outputs": [],
   "source": [
    "ds = Skydipper.Dataset(attributes=atts, token=token)\n",
    "ds"
   ]
  },
  {
   "cell_type": "markdown",
   "metadata": {},
   "source": [
    "## Update Dataset attributes\n",
    "\n",
    "Again, update requires a valid API KEY."
   ]
  },
  {
   "cell_type": "code",
   "execution_count": null,
   "metadata": {},
   "outputs": [],
   "source": [
    "ds = ds.update(update_params={'name':'My_Carto_table'}, token=token)\n",
    "ds"
   ]
  },
  {
   "cell_type": "code",
   "execution_count": null,
   "metadata": {},
   "outputs": [],
   "source": [
    "ds.id"
   ]
  },
  {
   "cell_type": "markdown",
   "metadata": {},
   "source": [
    "## Instantiate a Dataset object\n",
    "\n",
    "If you know the ID you can call a Dataset object directly."
   ]
  },
  {
   "cell_type": "code",
   "execution_count": 5,
   "metadata": {},
   "outputs": [
    {
     "data": {
      "text/html": [
       "<div class='item_container' style='height: auto; overflow: hidden; border: 1px solid #2BA4A0;border-radius: 2px; background: #2BA4A0; line-height: 1.21429em; padding: 10px;''><div class='item_left' style='width: 210px; float: left;''><a href='https://skydipper.com/' target='_blank'><img class='itemThumbnail' src='https://skydipper.com/images/logo.png'></a></div><div class='item_right' style='float: none; width: auto; hidden;padding-left: 10px; overflow: hidden;''><a href=https://api.skydipper.com/v1/dataset/9bcc71f2-1492-4c08-a683-472496ab4fdc?includes=metadata,layer target='_blank'><b>My_Carto_table</b></a><br> Carto table: <a href=http://35.233.41.65/user/skydipper/dataset/gadm36_countries target='_blank'>gadm36_countries</a> | Dataset in SKYDIPPER.<br>Last Modified: 2020-01-15T15:50:05.244Z<br><a href='https://api.skydipper.com/v1/fields/9bcc71f2-1492-4c08-a683-472496ab4fdc' target='_blank'>Fields</a> Connector: cartodb | Published: True </div> </div>"
      ],
      "text/plain": [
       "Dataset 9bcc71f2-1492-4c08-a683-472496ab4fdc My_Carto_table"
      ]
     },
     "execution_count": 5,
     "metadata": {},
     "output_type": "execute_result"
    }
   ],
   "source": [
    "ds = Skydipper.Dataset(id_hash='9bcc71f2-1492-4c08-a683-472496ab4fdc')\n",
    "ds"
   ]
  },
  {
   "cell_type": "markdown",
   "metadata": {},
   "source": [
    "## Queries on Datasets\n",
    "\n",
    "Datasets can be queried via SQL, with a table returned. Currently this is only supported for Carto-type data:"
   ]
  },
  {
   "cell_type": "code",
   "execution_count": 6,
   "metadata": {},
   "outputs": [
    {
     "data": {
      "text/html": [
       "<div class='item_container' style='height: auto; overflow: hidden; border: 1px solid #2BA4A0;border-radius: 2px; background: #2BA4A0; line-height: 1.21429em; padding: 10px;''><div class='item_left' style='width: 210px; float: left;''><a href='https://skydipper.com/' target='_blank'><img class='itemThumbnail' src='https://skydipper.com/images/logo.png'></a></div><div class='item_right' style='float: none; width: auto; hidden;padding-left: 10px; overflow: hidden;''><a href=https://api.skydipper.com/v1/dataset/9bcc71f2-1492-4c08-a683-472496ab4fdc?includes=metadata,layer target='_blank'><b>My_Carto_table</b></a><br> Carto table: <a href=http://35.233.41.65/user/skydipper/dataset/gadm36_countries target='_blank'>gadm36_countries</a> | Dataset in SKYDIPPER.<br>Last Modified: 2020-01-15T15:50:05.244Z<br><a href='https://api.skydipper.com/v1/fields/9bcc71f2-1492-4c08-a683-472496ab4fdc' target='_blank'>Fields</a> Connector: cartodb | Published: True </div> </div>"
      ],
      "text/plain": [
       "Dataset 9bcc71f2-1492-4c08-a683-472496ab4fdc My_Carto_table"
      ]
     },
     "execution_count": 6,
     "metadata": {},
     "output_type": "execute_result"
    }
   ],
   "source": [
    "ds"
   ]
  },
  {
   "cell_type": "code",
   "execution_count": 7,
   "metadata": {},
   "outputs": [
    {
     "data": {
      "text/html": [
       "<div>\n",
       "<style scoped>\n",
       "    .dataframe tbody tr th:only-of-type {\n",
       "        vertical-align: middle;\n",
       "    }\n",
       "\n",
       "    .dataframe tbody tr th {\n",
       "        vertical-align: top;\n",
       "    }\n",
       "\n",
       "    .dataframe thead th {\n",
       "        text-align: right;\n",
       "    }\n",
       "</style>\n",
       "<table border=\"1\" class=\"dataframe\">\n",
       "  <thead>\n",
       "    <tr style=\"text-align: right;\">\n",
       "      <th></th>\n",
       "      <th>iso</th>\n",
       "      <th>st_asgeojson</th>\n",
       "    </tr>\n",
       "  </thead>\n",
       "  <tbody>\n",
       "    <tr>\n",
       "      <th>0</th>\n",
       "      <td>CHN</td>\n",
       "      <td>{\"type\":\"MultiPolygon\",\"coordinates\":[[[[12209...</td>\n",
       "    </tr>\n",
       "    <tr>\n",
       "      <th>1</th>\n",
       "      <td>CIV</td>\n",
       "      <td>{\"type\":\"MultiPolygon\",\"coordinates\":[[[[-7424...</td>\n",
       "    </tr>\n",
       "    <tr>\n",
       "      <th>2</th>\n",
       "      <td>CMR</td>\n",
       "      <td>{\"type\":\"MultiPolygon\",\"coordinates\":[[[[12664...</td>\n",
       "    </tr>\n",
       "    <tr>\n",
       "      <th>3</th>\n",
       "      <td>COD</td>\n",
       "      <td>{\"type\":\"MultiPolygon\",\"coordinates\":[[[[13592...</td>\n",
       "    </tr>\n",
       "    <tr>\n",
       "      <th>4</th>\n",
       "      <td>CUB</td>\n",
       "      <td>{\"type\":\"MultiPolygon\",\"coordinates\":[[[[-8602...</td>\n",
       "    </tr>\n",
       "  </tbody>\n",
       "</table>\n",
       "</div>"
      ],
      "text/plain": [
       "   iso                                       st_asgeojson\n",
       "0  CHN  {\"type\":\"MultiPolygon\",\"coordinates\":[[[[12209...\n",
       "1  CIV  {\"type\":\"MultiPolygon\",\"coordinates\":[[[[-7424...\n",
       "2  CMR  {\"type\":\"MultiPolygon\",\"coordinates\":[[[[12664...\n",
       "3  COD  {\"type\":\"MultiPolygon\",\"coordinates\":[[[[13592...\n",
       "4  CUB  {\"type\":\"MultiPolygon\",\"coordinates\":[[[[-8602..."
      ]
     },
     "execution_count": 7,
     "metadata": {},
     "output_type": "execute_result"
    }
   ],
   "source": [
    "ds.query('SELECT iso, ST_ASGEOJSON(the_geom_webmercator) FROM data LIMIT 5')"
   ]
  },
  {
   "cell_type": "markdown",
   "metadata": {},
   "source": [
    "## Layer Objects\n",
    "\n",
    "Similarly, you can also instantiate an existing Layer object."
   ]
  },
  {
   "cell_type": "code",
   "execution_count": 8,
   "metadata": {},
   "outputs": [
    {
     "data": {
      "text/html": [
       "<div class='item_container' style='height: auto; overflow: hidden; border: 1px solid #2BA4A0;border-radius: 2px; background: #2BA4A0; line-height: 1.21429em; padding: 10px;''><div class='item_left' style='width: 210px; float: left;''><a href='https://skydipper.com/' target='_blank'><img class='itemThumbnail' src='https://skydipper.com/images/logo.png'></a></div><div class='item_right' style='float: none; width: auto; hidden;padding-left: 10px; overflow: hidden;''><a href=https://api.skydipper.com/v1/layer/f685085c-9103-4e87-997f-a6c088c52614?includes=metadata target='_blank'><b>GADM36 Updated</b></a><br> Data source cartodb | Layer in SKYDIPPER.<br>Last Modified: 2020-01-09T17:13:45.313Z<br><a href='https://api.skydipper.com/v1/fields/f685085c-9103-4e87-997f-a6c088c52614' target='_blank'>Fields</a> Connector: cartodb | Published: True </div> </div>"
      ],
      "text/plain": [
       "Layer f685085c-9103-4e87-997f-a6c088c52614 GADM36 Updated"
      ]
     },
     "execution_count": 8,
     "metadata": {},
     "output_type": "execute_result"
    }
   ],
   "source": [
    "ly = Skydipper.Layer(id_hash='f685085c-9103-4e87-997f-a6c088c52614')\n",
    "ly"
   ]
  },
  {
   "cell_type": "code",
   "execution_count": 9,
   "metadata": {},
   "outputs": [
    {
     "data": {
      "text/plain": [
       "{'layers': [{'options': {'cartocss': \"#layer[unregion2='Europe']  { polygon-fill: #826DBA; polygon-opacity: 0.9; ::outline { line-color: #FFFFFF; line-width: 1; line-opacity: 0.5; } } #layer[unregion2='Africa']  { polygon-fill: #cf003e; polygon-opacity: 0.9; ::outline { line-color: #FFFFFF; line-width: 1; line-opacity: 0.5; } } #layer[unregion2='Americas']  { polygon-fill: #cf9700; polygon-opacity: 0.9; ::outline { line-color: #FFFFFF; line-width: 1; line-opacity: 0.5; } } #layer[iso='ESP']  { polygon-fill: #5aa91f; polygon-opacity: 0.9; ::outline { line-color: #FFFFFF; line-width: 1; line-opacity: 0.5; } }\",\n",
       "    'cartocss_version': '2.3.0',\n",
       "    'sql': 'SELECT * FROM gadm36_countries'},\n",
       "   'type': 'cartodb'}],\n",
       " 'maxzoom': 19,\n",
       " 'minzoom': 2}"
      ]
     },
     "execution_count": 9,
     "metadata": {},
     "output_type": "execute_result"
    }
   ],
   "source": [
    "# You will see that layers may have SQL and Cartocss or mapbox styles attached, which can be used to visulize the data.\n",
    "ly.attributes.get('layerConfig').get('body')"
   ]
  },
  {
   "cell_type": "markdown",
   "metadata": {},
   "source": [
    "Layers can be visulized if appropriate via a call to Layer().map()"
   ]
  },
  {
   "cell_type": "code",
   "execution_count": 10,
   "metadata": {},
   "outputs": [
    {
     "data": {
      "text/html": [
       "<div style=\"width:100%;\"><div style=\"position:relative;width:100%;height:0;padding-bottom:60%;\"><iframe src=\"data:text/html;charset=utf-8;base64,PCFET0NUWVBFIGh0bWw+CjxoZWFkPiAgICAKICAgIDxtZXRhIGh0dHAtZXF1aXY9ImNvbnRlbnQtdHlwZSIgY29udGVudD0idGV4dC9odG1sOyBjaGFyc2V0PVVURi04IiAvPgogICAgPHNjcmlwdD5MX1BSRUZFUl9DQU5WQVM9dHJ1ZTsgTF9OT19UT1VDSD1mYWxzZTsgTF9ESVNBQkxFXzNEPWZhbHNlOzwvc2NyaXB0PgogICAgPHNjcmlwdCBzcmM9Imh0dHBzOi8vY2RuLmpzZGVsaXZyLm5ldC9ucG0vbGVhZmxldEAxLjQuMC9kaXN0L2xlYWZsZXQuanMiPjwvc2NyaXB0PgogICAgPHNjcmlwdCBzcmM9Imh0dHBzOi8vY29kZS5qcXVlcnkuY29tL2pxdWVyeS0xLjEyLjQubWluLmpzIj48L3NjcmlwdD4KICAgIDxzY3JpcHQgc3JjPSJodHRwczovL21heGNkbi5ib290c3RyYXBjZG4uY29tL2Jvb3RzdHJhcC8zLjIuMC9qcy9ib290c3RyYXAubWluLmpzIj48L3NjcmlwdD4KICAgIDxzY3JpcHQgc3JjPSJodHRwczovL2NkbmpzLmNsb3VkZmxhcmUuY29tL2FqYXgvbGlicy9MZWFmbGV0LmF3ZXNvbWUtbWFya2Vycy8yLjAuMi9sZWFmbGV0LmF3ZXNvbWUtbWFya2Vycy5qcyI+PC9zY3JpcHQ+CiAgICA8bGluayByZWw9InN0eWxlc2hlZXQiIGhyZWY9Imh0dHBzOi8vY2RuLmpzZGVsaXZyLm5ldC9ucG0vbGVhZmxldEAxLjQuMC9kaXN0L2xlYWZsZXQuY3NzIi8+CiAgICA8bGluayByZWw9InN0eWxlc2hlZXQiIGhyZWY9Imh0dHBzOi8vbWF4Y2RuLmJvb3RzdHJhcGNkbi5jb20vYm9vdHN0cmFwLzMuMi4wL2Nzcy9ib290c3RyYXAubWluLmNzcyIvPgogICAgPGxpbmsgcmVsPSJzdHlsZXNoZWV0IiBocmVmPSJodHRwczovL21heGNkbi5ib290c3RyYXBjZG4uY29tL2Jvb3RzdHJhcC8zLjIuMC9jc3MvYm9vdHN0cmFwLXRoZW1lLm1pbi5jc3MiLz4KICAgIDxsaW5rIHJlbD0ic3R5bGVzaGVldCIgaHJlZj0iaHR0cHM6Ly9tYXhjZG4uYm9vdHN0cmFwY2RuLmNvbS9mb250LWF3ZXNvbWUvNC42LjMvY3NzL2ZvbnQtYXdlc29tZS5taW4uY3NzIi8+CiAgICA8bGluayByZWw9InN0eWxlc2hlZXQiIGhyZWY9Imh0dHBzOi8vY2RuanMuY2xvdWRmbGFyZS5jb20vYWpheC9saWJzL0xlYWZsZXQuYXdlc29tZS1tYXJrZXJzLzIuMC4yL2xlYWZsZXQuYXdlc29tZS1tYXJrZXJzLmNzcyIvPgogICAgPGxpbmsgcmVsPSJzdHlsZXNoZWV0IiBocmVmPSJodHRwczovL3Jhd2Nkbi5naXRoYWNrLmNvbS9weXRob24tdmlzdWFsaXphdGlvbi9mb2xpdW0vbWFzdGVyL2ZvbGl1bS90ZW1wbGF0ZXMvbGVhZmxldC5hd2Vzb21lLnJvdGF0ZS5jc3MiLz4KICAgIDxzdHlsZT5odG1sLCBib2R5IHt3aWR0aDogMTAwJTtoZWlnaHQ6IDEwMCU7bWFyZ2luOiAwO3BhZGRpbmc6IDA7fTwvc3R5bGU+CiAgICA8c3R5bGU+I21hcCB7cG9zaXRpb246YWJzb2x1dGU7dG9wOjA7Ym90dG9tOjA7cmlnaHQ6MDtsZWZ0OjA7fTwvc3R5bGU+CiAgICAKICAgIDxtZXRhIG5hbWU9InZpZXdwb3J0IiBjb250ZW50PSJ3aWR0aD1kZXZpY2Utd2lkdGgsCiAgICAgICAgaW5pdGlhbC1zY2FsZT0xLjAsIG1heGltdW0tc2NhbGU9MS4wLCB1c2VyLXNjYWxhYmxlPW5vIiAvPgogICAgPHN0eWxlPiNtYXBfZjFmM2IyOWE1NjVmNDY2ZDhlNTMxMjcwMjg2NGUwNDkgewogICAgICAgIHBvc2l0aW9uOiByZWxhdGl2ZTsKICAgICAgICB3aWR0aDogMTAwLjAlOwogICAgICAgIGhlaWdodDogMTAwLjAlOwogICAgICAgIGxlZnQ6IDAuMCU7CiAgICAgICAgdG9wOiAwLjAlOwogICAgICAgIH0KICAgIDwvc3R5bGU+CjwvaGVhZD4KPGJvZHk+ICAgIAogICAgCiAgICA8ZGl2IGNsYXNzPSJmb2xpdW0tbWFwIiBpZD0ibWFwX2YxZjNiMjlhNTY1ZjQ2NmQ4ZTUzMTI3MDI4NjRlMDQ5IiA+PC9kaXY+CjwvYm9keT4KPHNjcmlwdD4gICAgCiAgICAKICAgIAogICAgICAgIHZhciBib3VuZHMgPSBudWxsOwogICAgCgogICAgdmFyIG1hcF9mMWYzYjI5YTU2NWY0NjZkOGU1MzEyNzAyODY0ZTA0OSA9IEwubWFwKAogICAgICAgICdtYXBfZjFmM2IyOWE1NjVmNDY2ZDhlNTMxMjcwMjg2NGUwNDknLCB7CiAgICAgICAgY2VudGVyOiBbMCwgMF0sCiAgICAgICAgem9vbTogMywKICAgICAgICBtYXhCb3VuZHM6IGJvdW5kcywKICAgICAgICBsYXllcnM6IFtdLAogICAgICAgIHdvcmxkQ29weUp1bXA6IGZhbHNlLAogICAgICAgIGNyczogTC5DUlMuRVBTRzM4NTcsCiAgICAgICAgem9vbUNvbnRyb2w6IHRydWUsCiAgICAgICAgfSk7CgoKICAgIAogICAgdmFyIHRpbGVfbGF5ZXJfNDhkNjIwY2EzNzcyNGRjZWJmNjA5OWE0ZDE1YTdlODQgPSBMLnRpbGVMYXllcigKICAgICAgICAnaHR0cHM6Ly97c30udGlsZS5vcGVuc3RyZWV0bWFwLm9yZy97en0ve3h9L3t5fS5wbmcnLAogICAgICAgIHsKICAgICAgICAiYXR0cmlidXRpb24iOiBudWxsLAogICAgICAgICJkZXRlY3RSZXRpbmEiOiB0cnVlLAogICAgICAgICJtYXhOYXRpdmVab29tIjogMTgsCiAgICAgICAgIm1heFpvb20iOiAxOCwKICAgICAgICAibWluWm9vbSI6IDAsCiAgICAgICAgIm5vV3JhcCI6IGZhbHNlLAogICAgICAgICJvcGFjaXR5IjogMSwKICAgICAgICAic3ViZG9tYWlucyI6ICJhYmMiLAogICAgICAgICJ0bXMiOiBmYWxzZQp9KS5hZGRUbyhtYXBfZjFmM2IyOWE1NjVmNDY2ZDhlNTMxMjcwMjg2NGUwNDkpOwogICAgdmFyIHRpbGVfbGF5ZXJfMWU2MmE4YmQyNWU4NGZkOGE0YmM5Nzg1NWVhNmI4MDUgPSBMLnRpbGVMYXllcigKICAgICAgICAnaHR0cDovLzM1LjIzMy40MS42NS91c2VyL3NreWRpcHBlci9hcGkvdjEvbWFwL2E4OTUzNzc1ZDZmNjcyNDVlMDc3ZDgyYWMzODI4OGI5OjE1Nzg1Nzk5NTU1MzAve3p9L3t4fS97eX0ucG5nJywKICAgICAgICB7CiAgICAgICAgImF0dHJpYnV0aW9uIjogIkdBRE0zNiBVcGRhdGVkIiwKICAgICAgICAiZGV0ZWN0UmV0aW5hIjogZmFsc2UsCiAgICAgICAgIm1heE5hdGl2ZVpvb20iOiAxOCwKICAgICAgICAibWF4Wm9vbSI6IDE4LAogICAgICAgICJtaW5ab29tIjogMCwKICAgICAgICAibm9XcmFwIjogZmFsc2UsCiAgICAgICAgIm9wYWNpdHkiOiAxLAogICAgICAgICJzdWJkb21haW5zIjogImFiYyIsCiAgICAgICAgInRtcyI6IGZhbHNlCn0pLmFkZFRvKG1hcF9mMWYzYjI5YTU2NWY0NjZkOGU1MzEyNzAyODY0ZTA0OSk7Cjwvc2NyaXB0Pg==\" style=\"position:absolute;width:100%;height:100%;left:0;top:0;border:none !important;\" allowfullscreen webkitallowfullscreen mozallowfullscreen></iframe></div></div>"
      ],
      "text/plain": [
       "<folium.folium.Map at 0x1216c24a8>"
      ]
     },
     "execution_count": 10,
     "metadata": {},
     "output_type": "execute_result"
    }
   ],
   "source": [
    "ly.map()"
   ]
  },
  {
   "cell_type": "markdown",
   "metadata": {},
   "source": [
    "## Collection objects: Searching\n",
    "\n",
    "If you don't know what data you are interested in advance, you can search by keywords and return a list of objects."
   ]
  },
  {
   "cell_type": "code",
   "execution_count": 11,
   "metadata": {},
   "outputs": [],
   "source": [
    "c = Skydipper.Collection('a', object_type=['layer','dataset'], app=['skydipper'], limit=10)"
   ]
  },
  {
   "cell_type": "code",
   "execution_count": 12,
   "metadata": {},
   "outputs": [
    {
     "data": {
      "text/html": [
       "<div class='item_container' style='height: auto; overflow: hidden; border: 1px solid #2BA4A0;border-radius: 2px; background: #2BA4A0; line-height: 1.21429em; padding: 10px;''><div class='item_left' style='width: 210px;  float: left;''><a href='https://skydipper.com/' target='_blank'><img class='itemThumbnail' src='https://skydipper.com/images/logo.png'></a></div><div class='item_right' style='float: none; width: auto; hidden;padding-left: 10px; overflow: hidden;''><b>0. </b><a href=https://api.skydipper.com/v1/dataset/4b34879d-3648-4b21-83e6-b20d8a9f0472?includes=metadata,layer target='_blank'><b>Blah_CSV</b></a><br> CSV Table: <a href=http://skydipper-api.s3.amazonaws.com/raw/1578591261834_sample.csv target='_blank'>None</a> | Dataset in SKYDIPPER.<br>Last Modified: 2020-01-09T17:34:22.248Z<br><a href='https://api.skydipper.com/v1/fields/4b34879d-3648-4b21-83e6-b20d8a9f0472' target='_blank'>Fields</a> | Connector: csv | Published: True </div> </div><p></p><div class='item_container' style='height: auto; overflow: hidden; border: 1px solid #2BA4A0;border-radius: 2px; background: #2BA4A0; line-height: 1.21429em; padding: 10px;''><div class='item_left' style='width: 210px;  float: left;''><a href='https://skydipper.com/' target='_blank'><img class='itemThumbnail' src='https://skydipper.com/images/logo.png'></a></div><div class='item_right' style='float: none; width: auto; hidden;padding-left: 10px; overflow: hidden;''><b>1. </b><a href=https://api.skydipper.com/v1/dataset/fb2683e2-3280-46fe-b2cc-8dee034b602d?includes=metadata,layer target='_blank'><b>Carto_test</b></a><br> Carto table: <a href=http://35.233.41.65/user/skydipper/dataset/gadm36_countries target='_blank'>gadm36_countries</a> | Dataset in SKYDIPPER.<br>Last Modified: 2020-01-09T14:59:19.754Z<br><a href='https://api.skydipper.com/v1/fields/fb2683e2-3280-46fe-b2cc-8dee034b602d' target='_blank'>Fields</a> | Connector: cartodb | Published: True </div> </div><p></p><div class='item_container' style='height: auto; overflow: hidden; border: 1px solid #2BA4A0;border-radius: 2px; background: #2BA4A0; line-height: 1.21429em; padding: 10px;''><div class='item_left' style='width: 210px;  float: left;''><a href='https://skydipper.com/' target='_blank'><img class='itemThumbnail' src='https://skydipper.com/images/logo.png'></a></div><div class='item_right' style='float: none; width: auto; hidden;padding-left: 10px; overflow: hidden;''><b>2. </b><a href=https://api.skydipper.com/v1/dataset/a39a7f7f-85e1-4332-ba9d-2eae29768394?includes=metadata,layer target='_blank'><b>Carto_test</b></a><br> Carto table: <a href=http://35.233.41.65/user/skydipper/dataset/gadm36_countries target='_blank'>gadm36_countries</a> | Dataset in SKYDIPPER.<br>Last Modified: 2020-01-15T10:18:48.331Z<br><a href='https://api.skydipper.com/v1/fields/a39a7f7f-85e1-4332-ba9d-2eae29768394' target='_blank'>Fields</a> | Connector: cartodb | Published: True </div> </div><p></p><div class='item_container' style='height: auto; overflow: hidden; border: 1px solid #2BA4A0;border-radius: 2px; background: #2BA4A0; line-height: 1.21429em; padding: 10px;''><div class='item_left' style='width: 210px;  float: left;''><a href='https://skydipper.com/' target='_blank'><img class='itemThumbnail' src='https://skydipper.com/images/logo.png'></a></div><div class='item_right' style='float: none; width: auto; hidden;padding-left: 10px; overflow: hidden;''><b>3. </b><a href=https://api.skydipper.com/v1/dataset/f15c2377-e1f9-4062-89b0-1652f99a167c?includes=metadata,layer target='_blank'><b>Carto_test</b></a><br> Carto table: <a href=http://35.233.41.65/user/skydipper/dataset/gadm36_countries target='_blank'>gadm36_countries</a> | Dataset in SKYDIPPER.<br>Last Modified: 2020-01-15T10:20:08.250Z<br><a href='https://api.skydipper.com/v1/fields/f15c2377-e1f9-4062-89b0-1652f99a167c' target='_blank'>Fields</a> | Connector: cartodb | Published: True </div> </div><p></p><div class='item_container' style='height: auto; overflow: hidden; border: 1px solid #2BA4A0;border-radius: 2px; background: #2BA4A0; line-height: 1.21429em; padding: 10px;''><div class='item_left' style='width: 210px;  float: left;''><a href='https://skydipper.com/' target='_blank'><img class='itemThumbnail' src='https://skydipper.com/images/logo.png'></a></div><div class='item_right' style='float: none; width: auto; hidden;padding-left: 10px; overflow: hidden;''><b>4. </b><a href=https://api.skydipper.com/v1/dataset/31fb1f7c-edd9-47a1-9e1a-4bbc73cacdf1?includes=metadata,layer target='_blank'><b>Carto_test1</b></a><br> Carto table: <a href=http://35.233.41.65/user/sky dipper/dataset/gadm36_countries target='_blank'>gadm36_countries</a> | Dataset in SKYDIPPER.<br>Last Modified: 2020-01-15T15:11:28.881Z<br><a href='https://api.skydipper.com/v1/fields/31fb1f7c-edd9-47a1-9e1a-4bbc73cacdf1' target='_blank'>Fields</a> | Connector: cartodb | Published: True </div> </div><p></p><div class='item_container' style='height: auto; overflow: hidden; border: 1px solid #2BA4A0;border-radius: 2px; background: #2BA4A0; line-height: 1.21429em; padding: 10px;''><div class='item_left' style='width: 210px;  float: left;''><a href='https://skydipper.com/' target='_blank'><img class='itemThumbnail' src='https://skydipper.com/images/logo.png'></a></div><div class='item_right' style='float: none; width: auto; hidden;padding-left: 10px; overflow: hidden;''><b>5. </b><a href=https://api.skydipper.com/v1/dataset/7ed9f27e-2d53-476e-ad3d-deba75ae3000?includes=metadata,layer target='_blank'><b>Carto_test1</b></a><br> Carto table: <a href=http://35.233.41.65/user/sky dipper/dataset/gadm36_countries target='_blank'>gadm36_countries</a> | Dataset in SKYDIPPER.<br>Last Modified: 2020-01-15T15:47:32.740Z<br><a href='https://api.skydipper.com/v1/fields/7ed9f27e-2d53-476e-ad3d-deba75ae3000' target='_blank'>Fields</a> | Connector: cartodb | Published: True </div> </div><p></p><div class='item_container' style='height: auto; overflow: hidden; border: 1px solid #2BA4A0;border-radius: 2px; background: #2BA4A0; line-height: 1.21429em; padding: 10px;''><div class='item_left' style='width: 210px;  float: left;''><a href='https://skydipper.com/' target='_blank'><img class='itemThumbnail' src='https://skydipper.com/images/logo.png'></a></div><div class='item_right' style='float: none; width: auto; hidden;padding-left: 10px; overflow: hidden;''><b>6. </b><a href=https://api.skydipper.com/v1/dataset/1cb193a7-4df2-40d7-97ac-4215e53b8e0d?includes=metadata,layer target='_blank'><b>Carto_testXX</b></a><br> Carto table: <a href=http://35.233.41.65/user/skydipper/dataset/gadm36_countries target='_blank'>gadm36_countries</a> | Dataset in SKYDIPPER.<br>Last Modified: 2020-01-15T16:07:56.973Z<br><a href='https://api.skydipper.com/v1/fields/1cb193a7-4df2-40d7-97ac-4215e53b8e0d' target='_blank'>Fields</a> | Connector: cartodb | Published: True </div> </div><p></p><div class='item_container' style='height: auto; overflow: hidden; border: 1px solid #2BA4A0;border-radius: 2px; background: #2BA4A0; line-height: 1.21429em; padding: 10px;''><div class='item_left' style='width: 210px;  float: left;''><a href='https://skydipper.com/' target='_blank'><img class='itemThumbnail' src='https://skydipper.com/images/logo.png'></a></div><div class='item_right' style='float: none; width: auto; hidden;padding-left: 10px; overflow: hidden;''><b>7. </b><a href=https://api.skydipper.com/v1/dataset/d3a1184e-2a6f-48f5-b920-16fff69e7132?includes=metadata,layer target='_blank'><b>Carto_testXX</b></a><br> Carto table: <a href=http://35.233.41.65/user/skydipper/dataset/gadm36_countries target='_blank'>gadm36_countries</a> | Dataset in SKYDIPPER.<br>Last Modified: 2020-01-15T16:13:42.530Z<br><a href='https://api.skydipper.com/v1/fields/d3a1184e-2a6f-48f5-b920-16fff69e7132' target='_blank'>Fields</a> | Connector: cartodb | Published: True </div> </div><p></p><div class='item_container' style='height: auto; overflow: hidden; border: 1px solid #2BA4A0;border-radius: 2px; background: #2BA4A0; line-height: 1.21429em; padding: 10px;''><div class='item_left' style='width: 210px;  float: left;''><a href='https://skydipper.com/' target='_blank'><img class='itemThumbnail' src='https://skydipper.com/images/logo.png'></a></div><div class='item_right' style='float: none; width: auto; hidden;padding-left: 10px; overflow: hidden;''><b>8. </b><a href=https://api.skydipper.com/v1/dataset/8ed89afd-0ffa-4218-8b96-b585a80ddb9c?includes=metadata,layer target='_blank'><b>First_Carto_table</b></a><br> Carto table: <a href=http://35.233.41.65/user/skydipper/dataset/gadm36_countries target='_blank'>gadm36_countries</a> | Dataset in SKYDIPPER.<br>Last Modified: 2020-01-09T15:03:54.223Z<br><a href='https://api.skydipper.com/v1/fields/8ed89afd-0ffa-4218-8b96-b585a80ddb9c' target='_blank'>Fields</a> | Connector: cartodb | Published: True </div> </div><p></p><div class='item_container' style='height: auto; overflow: hidden; border: 1px solid #2BA4A0;border-radius: 2px; background: #2BA4A0; line-height: 1.21429em; padding: 10px;''><div class='item_left' style='width: 210px;  float: left;''><a href='https://skydipper.com/' target='_blank'><img class='itemThumbnail' src='https://skydipper.com/images/logo.png'></a></div><div class='item_right' style='float: none; width: auto; hidden;padding-left: 10px; overflow: hidden;''><b>9. </b><a href=https://api.skydipper.com/v1/dataset/d69ac786-4fe0-4f7b-831e-49c869dd85a5?includes=metadata,layer target='_blank'><b>Landsat 7 Surface Reflectance</b></a><br> GEE asset: <a href='https://code.earthengine.google.com/asset='LANDSAT/LE07/C01/T1_SR target='_blank'>LANDSAT/LE07/C01/T1_SR</a> | Dataset in SKYDIPPER.<br>Last Modified: 2019-12-19T12:11:29.553Z<br><a href='https://api.skydipper.com/v1/fields/d69ac786-4fe0-4f7b-831e-49c869dd85a5' target='_blank'>Fields</a> | Connector: gee | Published: False </div> </div>"
      ],
      "text/plain": [
       "[0. Dataset 4b34879d-3648-4b21-83e6-b20d8a9f0472 Blah_CSV,\n",
       " 1. Dataset fb2683e2-3280-46fe-b2cc-8dee034b602d Carto_test,\n",
       " 2. Dataset a39a7f7f-85e1-4332-ba9d-2eae29768394 Carto_test,\n",
       " 3. Dataset f15c2377-e1f9-4062-89b0-1652f99a167c Carto_test,\n",
       " 4. Dataset 31fb1f7c-edd9-47a1-9e1a-4bbc73cacdf1 Carto_test1,\n",
       " 5. Dataset 7ed9f27e-2d53-476e-ad3d-deba75ae3000 Carto_test1,\n",
       " 6. Dataset 1cb193a7-4df2-40d7-97ac-4215e53b8e0d Carto_testXX,\n",
       " 7. Dataset d3a1184e-2a6f-48f5-b920-16fff69e7132 Carto_testXX,\n",
       " 8. Dataset 8ed89afd-0ffa-4218-8b96-b585a80ddb9c First_Carto_table,\n",
       " 9. Dataset d69ac786-4fe0-4f7b-831e-49c869dd85a5 Landsat 7 Surface Reflectance]"
      ]
     },
     "execution_count": 12,
     "metadata": {},
     "output_type": "execute_result"
    }
   ],
   "source": [
    "c"
   ]
  },
  {
   "cell_type": "markdown",
   "metadata": {},
   "source": [
    "Searching can be restricted with keyword arguments to specifically search types of items, applications, and more. If you want to render those items, you will need to do the following."
   ]
  },
  {
   "cell_type": "markdown",
   "metadata": {},
   "source": [
    "You can access items from a collection using subscripts, slices and more. Note that slicing, or selecting by element instantiates the Layer, Table, or Dataset object."
   ]
  },
  {
   "cell_type": "code",
   "execution_count": 13,
   "metadata": {},
   "outputs": [
    {
     "data": {
      "text/plain": [
       "[Dataset 4b34879d-3648-4b21-83e6-b20d8a9f0472 Blah_CSV,\n",
       " Dataset fb2683e2-3280-46fe-b2cc-8dee034b602d Carto_test,\n",
       " Dataset a39a7f7f-85e1-4332-ba9d-2eae29768394 Carto_test]"
      ]
     },
     "execution_count": 13,
     "metadata": {},
     "output_type": "execute_result"
    }
   ],
   "source": [
    "c[0:3]"
   ]
  },
  {
   "cell_type": "code",
   "execution_count": 14,
   "metadata": {},
   "outputs": [
    {
     "data": {
      "text/html": [
       "<div class='item_container' style='height: auto; overflow: hidden; border: 1px solid #2BA4A0;border-radius: 2px; background: #2BA4A0; line-height: 1.21429em; padding: 10px;''><div class='item_left' style='width: 210px; float: left;''><a href='https://skydipper.com/' target='_blank'><img class='itemThumbnail' src='https://skydipper.com/images/logo.png'></a></div><div class='item_right' style='float: none; width: auto; hidden;padding-left: 10px; overflow: hidden;''><a href=https://api.skydipper.com/v1/dataset/d69ac786-4fe0-4f7b-831e-49c869dd85a5?includes=metadata,layer target='_blank'><b>Landsat 7 Surface Reflectance</b></a><br> GEE asset: <a href='https://code.earthengine.google.com/asset='LANDSAT/LE07/C01/T1_SR target='_blank'>LANDSAT/LE07/C01/T1_SR</a> | Dataset in SKYDIPPER.<br>Last Modified: 2019-12-19T12:11:29.553Z<br><a href='https://api.skydipper.com/v1/fields/d69ac786-4fe0-4f7b-831e-49c869dd85a5' target='_blank'>Fields</a> Connector: gee | Published: False </div> </div>"
      ],
      "text/plain": [
       "Dataset d69ac786-4fe0-4f7b-831e-49c869dd85a5 Landsat 7 Surface Reflectance"
      ]
     },
     "execution_count": 14,
     "metadata": {},
     "output_type": "execute_result"
    }
   ],
   "source": [
    "c[-1]"
   ]
  },
  {
   "cell_type": "markdown",
   "metadata": {},
   "source": [
    "## Create a Geometry object\n",
    "\n",
    "Often you will need to perform some kind of intersect analysis between data held in datasets and tables and a geometry.\n",
    "We will now show you multiple ways to create your geometry objects."
   ]
  },
  {
   "cell_type": "markdown",
   "metadata": {},
   "source": [
    "### From an ID\n",
    "\n",
    "Vizzuality's API holds geometry objects as a Geostore item. Geostore items are accessed by an id-hash. If you know the hash of your object already you can simply call a geometry like so:"
   ]
  },
  {
   "cell_type": "code",
   "execution_count": 15,
   "metadata": {},
   "outputs": [
    {
     "data": {
      "text/html": [
       "<div class='item_container' style='height: auto; overflow: hidden; border: 1px solid #2bA4A0;border-radius: 5px; background: #2bA4A0; line-height: 1.21429em; padding: 10px;''><div class='item_left' style='width: 210px; float: left;''><a href='https://skydipper.com/' target='_blank'><img class='itemThumbnail' src='https://skydipper.com/images/logo.png'></a></div><div class='item_right' style='float: none; width: auto; hidden;padding-left: 10px; overflow: hidden;''><b>Geometry id</b>: <a href=https://api.skydipper.com/v1/geostore/de43241398f124ec2e3d6a3720439a99 target='_blank'>de43241398f124ec2e3d6a3720439a99</a></br> </div> </div>"
      ],
      "text/plain": [
       "Geometry de43241398f124ec2e3d6a3720439a99"
      ]
     },
     "execution_count": 15,
     "metadata": {},
     "output_type": "execute_result"
    }
   ],
   "source": [
    "g = Skydipper.Geometry(id_hash='de43241398f124ec2e3d6a3720439a99')\n",
    "g"
   ]
  },
  {
   "cell_type": "markdown",
   "metadata": {},
   "source": [
    "### Geometry attributes\n",
    "\n",
    "The attributes can be accessed as a dictionary."
   ]
  },
  {
   "cell_type": "code",
   "execution_count": 16,
   "metadata": {},
   "outputs": [
    {
     "data": {
      "text/plain": [
       "{'geojson': {'features': [{'type': 'Feature',\n",
       "    'geometry': {'type': 'Polygon',\n",
       "     'coordinates': [[[28.000041976337, 49.7101919873524],\n",
       "       [28.000041976337, 48.1873700139574],\n",
       "       [27.7501030114934, 48.1873700139574],\n",
       "       [27.5001640466497, 48.1873700139574],\n",
       "       [27.250225081806, 48.1873700139574],\n",
       "       [26.9998283532904, 48.1873700139574],\n",
       "       [26.9998283532904, 49.7101919873524],\n",
       "       [27.250225081806, 49.7101919873524],\n",
       "       [27.5001640466497, 49.7101919873524],\n",
       "       [27.7501030114934, 49.7101919873524],\n",
       "       [28.000041976337, 49.7101919873524]]]}}],\n",
       "  'crs': {},\n",
       "  'type': 'FeatureCollection'},\n",
       " 'hash': 'de43241398f124ec2e3d6a3720439a99',\n",
       " 'provider': {},\n",
       " 'areaHa': 1239540.338786885,\n",
       " 'bbox': [26.9998283532904,\n",
       "  48.1873700139574,\n",
       "  28.000041976337,\n",
       "  49.7101919873524],\n",
       " 'lock': False,\n",
       " 'info': {'use': {}}}"
      ]
     },
     "execution_count": 16,
     "metadata": {},
     "output_type": "execute_result"
    }
   ],
   "source": [
    "g.attributes"
   ]
  },
  {
   "cell_type": "markdown",
   "metadata": {},
   "source": [
    "### Geometry as a Table\n",
    "\n",
    "Table method returns a dataframe of the geometry object. Map will add a Folium map with the geomerty rendered."
   ]
  },
  {
   "cell_type": "code",
   "execution_count": 17,
   "metadata": {},
   "outputs": [
    {
     "data": {
      "text/html": [
       "<div>\n",
       "<style scoped>\n",
       "    .dataframe tbody tr th:only-of-type {\n",
       "        vertical-align: middle;\n",
       "    }\n",
       "\n",
       "    .dataframe tbody tr th {\n",
       "        vertical-align: top;\n",
       "    }\n",
       "\n",
       "    .dataframe thead th {\n",
       "        text-align: right;\n",
       "    }\n",
       "</style>\n",
       "<table border=\"1\" class=\"dataframe\">\n",
       "  <thead>\n",
       "    <tr style=\"text-align: right;\">\n",
       "      <th></th>\n",
       "      <th>areaHa</th>\n",
       "      <th>bbox</th>\n",
       "      <th>geometry</th>\n",
       "      <th>id</th>\n",
       "      <th>use</th>\n",
       "    </tr>\n",
       "  </thead>\n",
       "  <tbody>\n",
       "    <tr>\n",
       "      <th>0</th>\n",
       "      <td>1.239540e+06</td>\n",
       "      <td>[26.9998283532904, 48.1873700139574, 28.000041...</td>\n",
       "      <td>POLYGON ((28.00004 49.71019, 28.00004 48.18737...</td>\n",
       "      <td>de43241398f124ec2e3d6a3720439a99</td>\n",
       "      <td>{}</td>\n",
       "    </tr>\n",
       "  </tbody>\n",
       "</table>\n",
       "</div>"
      ],
      "text/plain": [
       "         areaHa                                               bbox  \\\n",
       "0  1.239540e+06  [26.9998283532904, 48.1873700139574, 28.000041...   \n",
       "\n",
       "                                            geometry  \\\n",
       "0  POLYGON ((28.00004 49.71019, 28.00004 48.18737...   \n",
       "\n",
       "                                 id use  \n",
       "0  de43241398f124ec2e3d6a3720439a99  {}  "
      ]
     },
     "execution_count": 17,
     "metadata": {},
     "output_type": "execute_result"
    }
   ],
   "source": [
    "g.table()"
   ]
  },
  {
   "cell_type": "markdown",
   "metadata": {},
   "source": [
    "### Mapping the Geometry\n",
    "\n",
    "Calling .map() will create a Folium map with the geomerty rendered."
   ]
  },
  {
   "cell_type": "code",
   "execution_count": 18,
   "metadata": {},
   "outputs": [
    {
     "data": {
      "text/html": [
       "<div style=\"width:100%;\"><div style=\"position:relative;width:100%;height:0;padding-bottom:60%;\"><iframe src=\"data:text/html;charset=utf-8;base64,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\" style=\"position:absolute;width:100%;height:100%;left:0;top:0;border:none !important;\" allowfullscreen webkitallowfullscreen mozallowfullscreen></iframe></div></div>"
      ],
      "text/plain": [
       "<folium.folium.Map at 0x1216f1048>"
      ]
     },
     "execution_count": 18,
     "metadata": {},
     "output_type": "execute_result"
    }
   ],
   "source": [
    "g.map()"
   ]
  },
  {
   "cell_type": "markdown",
   "metadata": {},
   "source": [
    "### From Geojson - Points\n",
    "\n",
    "You can create an object as you need on the fly from geojson. The act of creating an object will also register it to a Geostore service of your choice (locally, or on a remote server). You can create a geometry object from geojson Points and MultiPoints type data as follows:"
   ]
  },
  {
   "cell_type": "code",
   "execution_count": 19,
   "metadata": {},
   "outputs": [
    {
     "data": {
      "text/html": [
       "<div class='item_container' style='height: auto; overflow: hidden; border: 1px solid #2bA4A0;border-radius: 5px; background: #2bA4A0; line-height: 1.21429em; padding: 10px;''><div class='item_left' style='width: 210px; float: left;''><a href='https://skydipper.com/' target='_blank'><img class='itemThumbnail' src='https://skydipper.com/images/logo.png'></a></div><div class='item_right' style='float: none; width: auto; hidden;padding-left: 10px; overflow: hidden;''><b>Geometry id</b>: <a href=https://api.skydipper.com/v1/geostore/09405592c74fc4f2443d8245ddc0a45e target='_blank'>09405592c74fc4f2443d8245ddc0a45e</a></br> </div> </div>"
      ],
      "text/plain": [
       "Geometry 09405592c74fc4f2443d8245ddc0a45e"
      ]
     },
     "execution_count": 19,
     "metadata": {},
     "output_type": "execute_result"
    }
   ],
   "source": [
    "atts = {'geojson': {'type': 'FeatureCollection',\n",
    "  'features': [{'type': 'Feature',\n",
    "    'properties': {},\n",
    "    'geometry': {'type': 'MultiPoint', 'coordinates': [[-4.29, 39.1097]]}}]}}\n",
    "\n",
    "point = Skydipper.Geometry(attributes=atts)\n",
    "point"
   ]
  },
  {
   "cell_type": "markdown",
   "metadata": {},
   "source": [
    "### From Geojson - Polygons\n",
    "\n",
    "You can create an object as you need on the fly from geojson. The act of creating an object will also register it to a Geostore service of your choice (locally, or on a remote server).\n",
    "You can create a geometry object from Geojson Polygon and Multipolygon type data as follows:"
   ]
  },
  {
   "cell_type": "code",
   "execution_count": 20,
   "metadata": {},
   "outputs": [
    {
     "data": {
      "text/html": [
       "<div class='item_container' style='height: auto; overflow: hidden; border: 1px solid #2bA4A0;border-radius: 5px; background: #2bA4A0; line-height: 1.21429em; padding: 10px;''><div class='item_left' style='width: 210px; float: left;''><a href='https://skydipper.com/' target='_blank'><img class='itemThumbnail' src='https://skydipper.com/images/logo.png'></a></div><div class='item_right' style='float: none; width: auto; hidden;padding-left: 10px; overflow: hidden;''><b>Geometry id</b>: <a href=https://api.skydipper.com/v1/geostore/75857ff50bc4cbaa687bfdf5070ffdfa target='_blank'>75857ff50bc4cbaa687bfdf5070ffdfa</a></br> </div> </div>"
      ],
      "text/plain": [
       "Geometry 75857ff50bc4cbaa687bfdf5070ffdfa"
      ]
     },
     "execution_count": 20,
     "metadata": {},
     "output_type": "execute_result"
    }
   ],
   "source": [
    "atts={'geojson': {'type': 'FeatureCollection',\n",
    "  'features': [{'type': 'Feature',\n",
    "    'properties': {},\n",
    "    'geometry': {'type': 'Polygon',\n",
    "     'coordinates': [[[82.265625, 32.84267363195431],\n",
    "       [77.34374999999999, 27.059125784374068],\n",
    "       [85.4296875, 22.268764039073968],\n",
    "       [90.3515625, 28.304380682962783],\n",
    "       [87.5390625, 32.54681317351514],\n",
    "       [82.265625, 32.84267363195431]]]}}]}}\n",
    "\n",
    "\n",
    "g1 = Skydipper.Geometry(attributes=atts)\n",
    "g1"
   ]
  },
  {
   "cell_type": "code",
   "execution_count": 21,
   "metadata": {},
   "outputs": [
    {
     "data": {
      "text/html": [
       "<div style=\"width:100%;\"><div style=\"position:relative;width:100%;height:0;padding-bottom:60%;\"><iframe src=\"data:text/html;charset=utf-8;base64,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\" style=\"position:absolute;width:100%;height:100%;left:0;top:0;border:none !important;\" allowfullscreen webkitallowfullscreen mozallowfullscreen></iframe></div></div>"
      ],
      "text/plain": [
       "<folium.folium.Map at 0x1216d4908>"
      ]
     },
     "execution_count": 21,
     "metadata": {},
     "output_type": "execute_result"
    }
   ],
   "source": [
    "g1.map()"
   ]
  },
  {
   "cell_type": "markdown",
   "metadata": {},
   "source": [
    "### From a Shapely object\n",
    "\n",
    "Shapely objects are at the root of popular python geolibraries such as Geopandas. We can recieve those geometry objects and create a Geometry object (simultaneously registering it in a Vizzuality Geostore server)."
   ]
  },
  {
   "cell_type": "code",
   "execution_count": null,
   "metadata": {},
   "outputs": [],
   "source": [
    "import geopandas as gpd"
   ]
  },
  {
   "cell_type": "code",
   "execution_count": null,
   "metadata": {},
   "outputs": [],
   "source": [
    "%%writefile ./sample.geojson\n",
    "{\"features\":[{\"properties\":null,\"type\":\"Feature\",\"geometry\":{\"type\":\"Polygon\",\"coordinates\":[[[-43.1343734264374,-8.07358087603511],[-43.1327533721924,-8.08277985402466],[-43.1298887729645,-8.08181322762719],[-43.1103515625,-8.07815914647929],[-43.1094932556152,-8.07799981079283],[-43.1094932556152,-8.09641859926744],[-43.1103515625,-8.09645046495416],[-43.1187307834625,-8.0967372560211],[-43.1186878681183,-8.10273857778317],[-43.1186771392822,-8.10358831522616],[-43.1476235389709,-8.10358831522616],[-43.1477630138397,-8.10273857778317],[-43.1505310535431,-8.08645513764317],[-43.1517112255096,-8.08057041885644],[-43.1439757347107,-8.0795931648273],[-43.1448876857758,-8.07574785969913],[-43.1343734264374,-8.07358087603511]]]}}],\"crs\":{},\"type\":\"FeatureCollection\"}"
   ]
  },
  {
   "cell_type": "code",
   "execution_count": null,
   "metadata": {},
   "outputs": [],
   "source": [
    "df = gpd.read_file('./sample.geojson')\n",
    "df"
   ]
  },
  {
   "cell_type": "code",
   "execution_count": null,
   "metadata": {},
   "outputs": [],
   "source": [
    "s = df.geometry[0]\n",
    "print(f\"Hello! 👋 I am a {type(s)}\")\n",
    "s"
   ]
  },
  {
   "cell_type": "code",
   "execution_count": null,
   "metadata": {},
   "outputs": [],
   "source": [
    "g = Skydipper.Geometry(s=s)"
   ]
  },
  {
   "cell_type": "code",
   "execution_count": null,
   "metadata": {},
   "outputs": [],
   "source": [
    "g"
   ]
  },
  {
   "cell_type": "markdown",
   "metadata": {},
   "source": [
    "## Describe a Geometry \n",
    "\n",
    "Return a title and textual description of a geometry in any language."
   ]
  },
  {
   "cell_type": "code",
   "execution_count": 22,
   "metadata": {},
   "outputs": [
    {
     "data": {
      "text/html": [
       "<div style=\"width:100%;\"><div style=\"position:relative;width:100%;height:0;padding-bottom:60%;\"><iframe src=\"data:text/html;charset=utf-8;base64,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\" style=\"position:absolute;width:100%;height:100%;left:0;top:0;border:none !important;\" allowfullscreen webkitallowfullscreen mozallowfullscreen></iframe></div></div>"
      ],
      "text/plain": [
       "<folium.folium.Map at 0x12174b4e0>"
      ]
     },
     "execution_count": 22,
     "metadata": {},
     "output_type": "execute_result"
    }
   ],
   "source": [
    "g.map()"
   ]
  },
  {
   "cell_type": "code",
   "execution_count": 23,
   "metadata": {},
   "outputs": [
    {
     "name": "stdout",
     "output_type": "stream",
     "text": [
      "Title: Area between Ukraine and Moldova, in Europe\n",
      "CPU times: user 22.4 ms, sys: 3.46 ms, total: 25.8 ms\n",
      "Wall time: 4.19 s\n"
     ]
    }
   ],
   "source": [
    "%%time\n",
    "g.describe()"
   ]
  },
  {
   "cell_type": "code",
   "execution_count": 24,
   "metadata": {},
   "outputs": [
    {
     "name": "stdout",
     "output_type": "stream",
     "text": [
      "Title: Área entre Moldavia y Ucrania, en Europa\n"
     ]
    }
   ],
   "source": [
    "g.describe(lang='es') # same description but this time in Spanish"
   ]
  },
  {
   "cell_type": "markdown",
   "metadata": {},
   "source": [
    "Second example of geodescriber, but considering a larger area."
   ]
  },
  {
   "cell_type": "code",
   "execution_count": 25,
   "metadata": {},
   "outputs": [
    {
     "data": {
      "text/html": [
       "<div class='item_container' style='height: auto; overflow: hidden; border: 1px solid #2bA4A0;border-radius: 5px; background: #2bA4A0; line-height: 1.21429em; padding: 10px;''><div class='item_left' style='width: 210px; float: left;''><a href='https://skydipper.com/' target='_blank'><img class='itemThumbnail' src='https://skydipper.com/images/logo.png'></a></div><div class='item_right' style='float: none; width: auto; hidden;padding-left: 10px; overflow: hidden;''><b>Geometry id</b>: <a href=https://api.skydipper.com/v1/geostore/75857ff50bc4cbaa687bfdf5070ffdfa target='_blank'>75857ff50bc4cbaa687bfdf5070ffdfa</a></br> </div> </div>"
      ],
      "text/plain": [
       "Geometry 75857ff50bc4cbaa687bfdf5070ffdfa"
      ]
     },
     "execution_count": 25,
     "metadata": {},
     "output_type": "execute_result"
    }
   ],
   "source": [
    "atts={'geojson': {'type': 'FeatureCollection',\n",
    "  'features': [{'type': 'Feature',\n",
    "    'properties': {},\n",
    "    'geometry': {'type': 'Polygon',\n",
    "     'coordinates': [[[82.265625, 32.84267363195431],\n",
    "       [77.34374999999999, 27.059125784374068],\n",
    "       [85.4296875, 22.268764039073968],\n",
    "       [90.3515625, 28.304380682962783],\n",
    "       [87.5390625, 32.54681317351514],\n",
    "       [82.265625, 32.84267363195431]]]}}]}}\n",
    "\n",
    "\n",
    "g2 = Skydipper.Geometry(attributes=atts)\n",
    "g2"
   ]
  },
  {
   "cell_type": "code",
   "execution_count": 26,
   "metadata": {},
   "outputs": [
    {
     "data": {
      "text/html": [
       "<div style=\"width:100%;\"><div style=\"position:relative;width:100%;height:0;padding-bottom:60%;\"><iframe src=\"data:text/html;charset=utf-8;base64,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\" style=\"position:absolute;width:100%;height:100%;left:0;top:0;border:none !important;\" allowfullscreen webkitallowfullscreen mozallowfullscreen></iframe></div></div>"
      ],
      "text/plain": [
       "<folium.folium.Map at 0x121717dd8>"
      ]
     },
     "execution_count": 26,
     "metadata": {},
     "output_type": "execute_result"
    }
   ],
   "source": [
    "g2.map()"
   ]
  },
  {
   "cell_type": "code",
   "execution_count": 27,
   "metadata": {},
   "outputs": [
    {
     "name": "stdout",
     "output_type": "stream",
     "text": [
      "Title: Area near Nepal, Asia\n"
     ]
    }
   ],
   "source": [
    "g2.describe()"
   ]
  },
  {
   "cell_type": "markdown",
   "metadata": {},
   "source": [
    "After running describe, the results are avaiable as geometry.description"
   ]
  },
  {
   "cell_type": "code",
   "execution_count": 28,
   "metadata": {},
   "outputs": [
    {
     "data": {
      "text/plain": [
       "{'title': 'Area near Nepal, Asia',\n",
       " 'description': 'The region is made up of different habitats, including Central Tibetan Plateau alpine steppe, and Upper Gangetic Plains moist deciduous forests. This region contains some Intact Forest. The most common environmental conditions of the area are polar tundra climate. The region is made up of several types of biomes, including Montane Grasslands and Shrublands, and Tropical and Subtropical Moist Broadleaf Forests. The location is predominantly land area. Area of 891,255km² located in a mix of lowland and mountainous areas.',\n",
       " 'lang': 'en'}"
      ]
     },
     "execution_count": 28,
     "metadata": {},
     "output_type": "execute_result"
    }
   ],
   "source": [
    "g2.description"
   ]
  },
  {
   "cell_type": "markdown",
   "metadata": {},
   "source": [
    "## Add a satellite image to the map of your Geometry\n",
    "\n",
    "### Single images\n",
    "\n",
    "The Geometry().map() method supports the return of recent satellite imagery. We calculate the centroid of your geometry and return the best, most recent image that intersects with that point. This is simply to provide context to your geometry. For point geometries we return the best cloud-free image we can find within a specified date range."
   ]
  },
  {
   "cell_type": "code",
   "execution_count": 29,
   "metadata": {},
   "outputs": [
    {
     "data": {
      "text/html": [
       "<div class='item_container' style='height: auto; overflow: hidden; border: 1px solid #2bA4A0;border-radius: 5px; background: #2bA4A0; line-height: 1.21429em; padding: 10px;''><div class='item_left' style='width: 210px; float: left;''><a href='https://skydipper.com/' target='_blank'><img class='itemThumbnail' src='https://skydipper.com/images/logo.png'></a></div><div class='item_right' style='float: none; width: auto; hidden;padding-left: 10px; overflow: hidden;''><b>Geometry id</b>: <a href=https://api.skydipper.com/v1/geostore/09405592c74fc4f2443d8245ddc0a45e target='_blank'>09405592c74fc4f2443d8245ddc0a45e</a></br> </div> </div>"
      ],
      "text/plain": [
       "Geometry 09405592c74fc4f2443d8245ddc0a45e"
      ]
     },
     "execution_count": 29,
     "metadata": {},
     "output_type": "execute_result"
    }
   ],
   "source": [
    "# Create a point\n",
    "\n",
    "atts = {'geojson': {'type': 'FeatureCollection',\n",
    "  'features': [{'type': 'Feature',\n",
    "    'properties': {},\n",
    "    'geometry': {'type': 'MultiPoint', 'coordinates': [[-4.29, 39.1097]]}}]}}\n",
    "\n",
    "point = Skydipper.Geometry(attributes=atts)\n",
    "point"
   ]
  },
  {
   "cell_type": "code",
   "execution_count": 30,
   "metadata": {},
   "outputs": [
    {
     "data": {
      "text/html": [
       "<div style=\"width:100%;\"><div style=\"position:relative;width:100%;height:0;padding-bottom:60%;\"><iframe src=\"data:text/html;charset=utf-8;base64,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\" style=\"position:absolute;width:100%;height:100%;left:0;top:0;border:none !important;\" allowfullscreen webkitallowfullscreen mozallowfullscreen></iframe></div></div>"
      ],
      "text/plain": [
       "<folium.folium.Map at 0x12176a390>"
      ]
     },
     "execution_count": 30,
     "metadata": {},
     "output_type": "execute_result"
    }
   ],
   "source": [
    "point.map(image=True, start='2018-01-01', end='2018-12-31')"
   ]
  },
  {
   "cell_type": "markdown",
   "metadata": {},
   "source": [
    "### Composite images\n",
    "\n",
    "Whereas for polygon-type geoms we return a cloud-free composite image clipped to your geometry."
   ]
  },
  {
   "cell_type": "code",
   "execution_count": 31,
   "metadata": {},
   "outputs": [
    {
     "data": {
      "text/html": [
       "<div class='item_container' style='height: auto; overflow: hidden; border: 1px solid #2bA4A0;border-radius: 5px; background: #2bA4A0; line-height: 1.21429em; padding: 10px;''><div class='item_left' style='width: 210px; float: left;''><a href='https://skydipper.com/' target='_blank'><img class='itemThumbnail' src='https://skydipper.com/images/logo.png'></a></div><div class='item_right' style='float: none; width: auto; hidden;padding-left: 10px; overflow: hidden;''><b>Geometry id</b>: <a href=https://production-api.globalforestwatch.org/v1/geostore/99e57dfb0832d621c485a7ca9e3a0160 target='_blank'>99e57dfb0832d621c485a7ca9e3a0160</a></br> </div> </div>"
      ],
      "text/plain": [
       "Geometry 99e57dfb0832d621c485a7ca9e3a0160"
      ]
     },
     "execution_count": 31,
     "metadata": {},
     "output_type": "execute_result"
    }
   ],
   "source": [
    "# Create a polygon\n",
    "\n",
    "atts={'geojson': {'type': 'FeatureCollection',\n",
    "  'features': [{'type': 'Feature',\n",
    "    'properties': {},\n",
    "    'geometry': {'type': 'Polygon',\n",
    "     'coordinates': [[[-0.87890625, 43.329173667843904],\n",
    "       [-1.6149902343749998, 42.75104599038353],\n",
    "       [-1.1865234375, 42.35854391749705],\n",
    "       [-0.6427001953125, 42.755079545072135],\n",
    "       [-0.45043945312499994, 42.9524020856897],\n",
    "       [-0.87890625, 43.329173667843904]]]}}]}}\n",
    "\n",
    "g1 = Skydipper.Geometry(attributes=atts, server='https://production-api.globalforestwatch.org')\n",
    "g1"
   ]
  },
  {
   "cell_type": "code",
   "execution_count": 32,
   "metadata": {},
   "outputs": [
    {
     "data": {
      "text/html": [
       "<div style=\"width:100%;\"><div style=\"position:relative;width:100%;height:0;padding-bottom:60%;\"><iframe src=\"data:text/html;charset=utf-8;base64,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\" style=\"position:absolute;width:100%;height:100%;left:0;top:0;border:none !important;\" allowfullscreen webkitallowfullscreen mozallowfullscreen></iframe></div></div>"
      ],
      "text/plain": [
       "<folium.folium.Map at 0x12177d4e0>"
      ]
     },
     "execution_count": 32,
     "metadata": {},
     "output_type": "execute_result"
    }
   ],
   "source": [
    "g1.map(image=True, instrument='sentinel')"
   ]
  },
  {
   "cell_type": "markdown",
   "metadata": {},
   "source": [
    "## Display a Layer and Geometry together"
   ]
  },
  {
   "cell_type": "code",
   "execution_count": 33,
   "metadata": {},
   "outputs": [
    {
     "data": {
      "text/html": [
       "<div class='item_container' style='height: auto; overflow: hidden; border: 1px solid #2BA4A0;border-radius: 2px; background: #2BA4A0; line-height: 1.21429em; padding: 10px;''><div class='item_left' style='width: 210px; float: left;''><a href='https://skydipper.com/' target='_blank'><img class='itemThumbnail' src='https://skydipper.com/images/logo.png'></a></div><div class='item_right' style='float: none; width: auto; hidden;padding-left: 10px; overflow: hidden;''><a href=https://api.skydipper.com/v1/layer/e7070d5f-3d38-46b1-86eb-e98782da55dd?includes=metadata target='_blank'><b>2005 Biodiversity Intactness (%)</b></a><br> GEE asset: <a href='https://code.earthengine.google.com/asset='None target='_blank'>None</a> | Layer in SKYDIPPER.<br>Last Modified: 2019-11-19T08:11:40.954Z<br><a href='https://api.skydipper.com/v1/fields/e7070d5f-3d38-46b1-86eb-e98782da55dd' target='_blank'>Fields</a> Connector: gee | Published: True </div> </div>"
      ],
      "text/plain": [
       "Layer e7070d5f-3d38-46b1-86eb-e98782da55dd 2005 Biodiversity Intactness (%)"
      ]
     },
     "execution_count": 33,
     "metadata": {},
     "output_type": "execute_result"
    }
   ],
   "source": [
    "atts={'geojson': {'type': 'FeatureCollection',\n",
    "  'features': [{'type': 'Feature',\n",
    "    'properties': {},\n",
    "    'geometry': {'type': 'Polygon',\n",
    "     'coordinates': [[[-48.131103515625, -0.6001172008725418],\n",
    "       [-48.13934326171875, -0.9791088369866402],\n",
    "       [-47.86331176757812, -0.9818550168696459],\n",
    "       [-47.616119384765625, -0.8459165322899671],\n",
    "       [-47.50213623046875, -0.7182123915862891],\n",
    "       [-47.51861572265625, -0.5287095375108173],\n",
    "       [-47.882537841796875, -0.5163504323777461],\n",
    "       [-48.131103515625, -0.6001172008725418]]]}}]}}\n",
    "g = Skydipper.Geometry(attributes=atts)\n",
    "l = Skydipper.Layer(id_hash='e7070d5f-3d38-46b1-86eb-e98782da55dd')\n",
    "l"
   ]
  },
  {
   "cell_type": "code",
   "execution_count": 34,
   "metadata": {},
   "outputs": [
    {
     "data": {
      "text/html": [
       "<div style=\"width:100%;\"><div style=\"position:relative;width:100%;height:0;padding-bottom:60%;\"><iframe src=\"data:text/html;charset=utf-8;base64,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\" style=\"position:absolute;width:100%;height:100%;left:0;top:0;border:none !important;\" allowfullscreen webkitallowfullscreen mozallowfullscreen></iframe></div></div>"
      ],
      "text/plain": [
       "<folium.folium.Map at 0x12176a198>"
      ]
     },
     "execution_count": 34,
     "metadata": {},
     "output_type": "execute_result"
    }
   ],
   "source": [
    "l.map(geometry=g)"
   ]
  },
  {
   "cell_type": "markdown",
   "metadata": {},
   "source": [
    "## Intersecting Raster data with Geometry objects\n",
    "\n",
    "Any Layer or Dataset objects based on an Earth Engine raster can be intersected with Skydipper.Geometry objects.\n",
    "\n"
   ]
  },
  {
   "cell_type": "code",
   "execution_count": 35,
   "metadata": {},
   "outputs": [
    {
     "data": {
      "text/html": [
       "<div class='item_container' style='height: auto; overflow: hidden; border: 1px solid #2bA4A0;border-radius: 5px; background: #2bA4A0; line-height: 1.21429em; padding: 10px;''><div class='item_left' style='width: 210px; float: left;''><a href='https://skydipper.com/' target='_blank'><img class='itemThumbnail' src='https://skydipper.com/images/logo.png'></a></div><div class='item_right' style='float: none; width: auto; hidden;padding-left: 10px; overflow: hidden;''><b>Geometry id</b>: <a href=https://api.skydipper.com/v1/geostore/5208143898c498db610b9d2290dffb68 target='_blank'>5208143898c498db610b9d2290dffb68</a></br> </div> </div>"
      ],
      "text/plain": [
       "Geometry 5208143898c498db610b9d2290dffb68"
      ]
     },
     "execution_count": 35,
     "metadata": {},
     "output_type": "execute_result"
    }
   ],
   "source": [
    "g"
   ]
  },
  {
   "cell_type": "code",
   "execution_count": 38,
   "metadata": {},
   "outputs": [
    {
     "data": {
      "text/html": [
       "<div class='item_container' style='height: auto; overflow: hidden; border: 1px solid #2BA4A0;border-radius: 2px; background: #2BA4A0; line-height: 1.21429em; padding: 10px;''><div class='item_left' style='width: 210px; float: left;''><a href='https://skydipper.com/' target='_blank'><img class='itemThumbnail' src='https://skydipper.com/images/logo.png'></a></div><div class='item_right' style='float: none; width: auto; hidden;padding-left: 10px; overflow: hidden;''><a href=https://api.skydipper.com/v1/layer/e7070d5f-3d38-46b1-86eb-e98782da55dd?includes=metadata target='_blank'><b>2005 Biodiversity Intactness (%)</b></a><br> GEE asset: <a href='https://code.earthengine.google.com/asset='None target='_blank'>None</a> | Layer in SKYDIPPER.<br>Last Modified: 2019-11-19T08:11:40.954Z<br><a href='https://api.skydipper.com/v1/fields/e7070d5f-3d38-46b1-86eb-e98782da55dd' target='_blank'>Fields</a> Connector: gee | Published: True </div> </div>"
      ],
      "text/plain": [
       "Layer e7070d5f-3d38-46b1-86eb-e98782da55dd 2005 Biodiversity Intactness (%)"
      ]
     },
     "execution_count": 38,
     "metadata": {},
     "output_type": "execute_result"
    }
   ],
   "source": [
    "l"
   ]
  },
  {
   "cell_type": "markdown",
   "metadata": {},
   "source": [
    "Finally, you can call the intersect function on the dataset or layer object to see a dictionary of values."
   ]
  },
  {
   "cell_type": "code",
   "execution_count": 39,
   "metadata": {},
   "outputs": [
    {
     "data": {
      "text/plain": [
       "{'b1': {'count': 2176,\n",
       "  'max': 1.0728240013122559,\n",
       "  'mean': 0.9838019005727772,\n",
       "  'min': 0.8430513739585876,\n",
       "  'stdev': 0.037301282181494394,\n",
       "  'sum': 2086.5743862748154}}"
      ]
     },
     "execution_count": 39,
     "metadata": {},
     "output_type": "execute_result"
    }
   ],
   "source": [
    "l.intersect(geometry=g)"
   ]
  },
  {
   "cell_type": "markdown",
   "metadata": {},
   "source": [
    "### Layer Intersections\n",
    "\n",
    "Intersections against layers work in the same manner. Here we show an intersect between an area along Brazil's coast and a Mangrove biomass density Layer."
   ]
  },
  {
   "cell_type": "markdown",
   "metadata": {},
   "source": [
    "## ImageCollection: Search for satellite images\n",
    "\n",
    "You can search for Landsat-8 and Sentinel-2 imagery using the ImageCollection module as follows:"
   ]
  },
  {
   "cell_type": "code",
   "execution_count": 40,
   "metadata": {},
   "outputs": [],
   "source": [
    "ic = Skydipper.ImageCollection(lon=28.3, \n",
    "                               lat=-16.6, \n",
    "                               start='2018-08-01', \n",
    "                               end='2018-08-10') # n.b. lon/lat are temporarily flipped"
   ]
  },
  {
   "cell_type": "code",
   "execution_count": 41,
   "metadata": {},
   "outputs": [
    {
     "data": {
      "text/html": [
       "<div class='item_container' style='height: auto; overflow: hidden; border: 1px solid #2BA4A0;border-radius: 2px; background: #2BA4A0; line-height: 1.21429em; padding: 10px;''><div class='item_left' style='width: 100px; height: 100px; hidden;padding-left: 10px; float: left''><a href='https://earthengine.googleapis.com/api/thumb?thumbid=124bb8e2c4d1a19e910ad709d53e205d&token=05710d85e6399f97c73f454c8c9d2b7b' target='_blank'><img class='itemThumbnail' src='https://earthengine.googleapis.com/api/thumb?thumbid=124bb8e2c4d1a19e910ad709d53e205d&token=05710d85e6399f97c73f454c8c9d2b7b'></a></div><div class='item_right' style='float: none; hidden;padding-left: 10px; width: auto; overflow: hidden;''><b>Image Source</b>: Sentinel-2A </br><b>Datetime</b>: 2018-08-08 07:56:11Z </br><b>Cloud score </b>: 0 </br> </div> </div><p></p><div class='item_container' style='height: auto; overflow: hidden; border: 1px solid #2BA4A0;border-radius: 2px; background: #2BA4A0; line-height: 1.21429em; padding: 10px;''><div class='item_left' style='width: 100px; height: 100px; hidden;padding-left: 10px; float: left''><a href='https://earthengine.googleapis.com/api/thumb?thumbid=d4876cb9a5f3453f281b03f0b80caf5f&token=9fe559a86ac0096704fae4fce7b87c7d' target='_blank'><img class='itemThumbnail' src='https://earthengine.googleapis.com/api/thumb?thumbid=d4876cb9a5f3453f281b03f0b80caf5f&token=9fe559a86ac0096704fae4fce7b87c7d'></a></div><div class='item_right' style='float: none; hidden;padding-left: 10px; width: auto; overflow: hidden;''><b>Image Source</b>: LANDSAT_8 </br><b>Datetime</b>: 2018-08-05 08:11:14Z </br><b>Cloud score </b>: 0 </br> </div> </div><p></p><div class='item_container' style='height: auto; overflow: hidden; border: 1px solid #2BA4A0;border-radius: 2px; background: #2BA4A0; line-height: 1.21429em; padding: 10px;''><div class='item_left' style='width: 100px; height: 100px; hidden;padding-left: 10px; float: left''><a href='https://earthengine.googleapis.com/api/thumb?thumbid=736fe83c5be20b0773a37e3517a4a112&token=336194438d115e141296a4a95a5a88d0' target='_blank'><img class='itemThumbnail' src='https://earthengine.googleapis.com/api/thumb?thumbid=736fe83c5be20b0773a37e3517a4a112&token=336194438d115e141296a4a95a5a88d0'></a></div><div class='item_right' style='float: none; hidden;padding-left: 10px; width: auto; overflow: hidden;''><b>Image Source</b>: Sentinel-2B </br><b>Datetime</b>: 2018-08-03 07:56:09Z </br><b>Cloud score </b>: 0 </br> </div> </div>"
      ],
      "text/plain": [
       "[0. Image Sentinel-2A 2018-08-08 07:56:11Z,\n",
       " 1. Image LANDSAT_8 2018-08-05 08:11:14Z,\n",
       " 2. Image Sentinel-2B 2018-08-03 07:56:09Z]"
      ]
     },
     "execution_count": 41,
     "metadata": {},
     "output_type": "execute_result"
    }
   ],
   "source": [
    "ic"
   ]
  },
  {
   "cell_type": "code",
   "execution_count": 42,
   "metadata": {},
   "outputs": [
    {
     "data": {
      "text/plain": [
       "Skydipper.imageCollection.ImageCollection"
      ]
     },
     "execution_count": 42,
     "metadata": {},
     "output_type": "execute_result"
    }
   ],
   "source": [
    "type(ic)"
   ]
  },
  {
   "cell_type": "markdown",
   "metadata": {},
   "source": [
    "All types of pythonic list mainipulation are supported on the image collection results. Including iteration:"
   ]
  },
  {
   "cell_type": "code",
   "execution_count": 43,
   "metadata": {},
   "outputs": [
    {
     "name": "stdout",
     "output_type": "stream",
     "text": [
      "Image COPERNICUS/S2/20180808T075611_20180808T081515_T35KPB\n",
      "Image LANDSAT/LC08/C01/T1_RT_TOA/LC08_172071_20180805\n"
     ]
    }
   ],
   "source": [
    "for i in ic[0:2]:\n",
    "    print(i)"
   ]
  },
  {
   "cell_type": "markdown",
   "metadata": {},
   "source": [
    "...and subsetting to access individual Images.\n",
    "\n",
    "## Images: Individual satellite tiles"
   ]
  },
  {
   "cell_type": "code",
   "execution_count": 44,
   "metadata": {},
   "outputs": [
    {
     "data": {
      "text/html": [
       "<div class='item_container' style='height: auto; overflow: hidden; border: 1px solid #2BA4A0;border-radius: 5px; background: #2BA4A0; line-height: 1.21429em; padding: 10px;''><div class='item_left' style='width: 100px; height: 100px; float: left;''><a href='https://earthengine.googleapis.com/api/thumb?thumbid=124bb8e2c4d1a19e910ad709d53e205d&token=05710d85e6399f97c73f454c8c9d2b7b' target='_blank'><img class='itemThumbnail' src='https://earthengine.googleapis.com/api/thumb?thumbid=124bb8e2c4d1a19e910ad709d53e205d&token=05710d85e6399f97c73f454c8c9d2b7b'></a></div><div class='item_right' style='float: none; width: auto; hidden;padding-left: 10px; overflow: hidden;''><b>Image Source</b>: Sentinel-2A </br><b>Datetime</b>: 2018-08-08 07:56:11Z </br><b>Cloud score </b>: 0 </br> </div> </div>"
      ],
      "text/plain": [
       "Image COPERNICUS/S2/20180808T075611_20180808T081515_T35KPB"
      ]
     },
     "execution_count": 44,
     "metadata": {},
     "output_type": "execute_result"
    }
   ],
   "source": [
    "i = ic[0]\n",
    "i"
   ]
  },
  {
   "cell_type": "code",
   "execution_count": 45,
   "metadata": {},
   "outputs": [
    {
     "data": {
      "text/plain": [
       "Skydipper.image.Image"
      ]
     },
     "execution_count": 45,
     "metadata": {},
     "output_type": "execute_result"
    }
   ],
   "source": [
    "type(i)"
   ]
  },
  {
   "cell_type": "markdown",
   "metadata": {},
   "source": [
    "You can access the Image attributes, which indicate the provinence of the tile. "
   ]
  },
  {
   "cell_type": "code",
   "execution_count": 46,
   "metadata": {},
   "outputs": [
    {
     "data": {
      "text/plain": [
       "{'provider': 'COPERNICUS/S2/20180808T075611_20180808T081515_T35KPB'}"
      ]
     },
     "execution_count": 46,
     "metadata": {},
     "output_type": "execute_result"
    }
   ],
   "source": [
    "i.attributes"
   ]
  },
  {
   "cell_type": "markdown",
   "metadata": {},
   "source": [
    "### Mapping Satellite Images\n",
    "\n",
    "You can also display web-map tiles and the bounding-box of the satellite image."
   ]
  },
  {
   "cell_type": "code",
   "execution_count": 47,
   "metadata": {},
   "outputs": [
    {
     "data": {
      "text/html": [
       "<div style=\"width:100%;\"><div style=\"position:relative;width:100%;height:0;padding-bottom:60%;\"><iframe src=\"data:text/html;charset=utf-8;base64,PCFET0NUWVBFIGh0bWw+CjxoZWFkPiAgICAKICAgIDxtZXRhIGh0dHAtZXF1aXY9ImNvbnRlbnQtdHlwZSIgY29udGVudD0idGV4dC9odG1sOyBjaGFyc2V0PVVURi04IiAvPgogICAgPHNjcmlwdD5MX1BSRUZFUl9DQU5WQVM9ZmFsc2U7IExfTk9fVE9VQ0g9ZmFsc2U7IExfRElTQUJMRV8zRD1mYWxzZTs8L3NjcmlwdD4KICAgIDxzY3JpcHQgc3JjPSJodHRwczovL2Nkbi5qc2RlbGl2ci5uZXQvbnBtL2xlYWZsZXRAMS40LjAvZGlzdC9sZWFmbGV0LmpzIj48L3NjcmlwdD4KICAgIDxzY3JpcHQgc3JjPSJodHRwczovL2NvZGUuanF1ZXJ5LmNvbS9qcXVlcnktMS4xMi40Lm1pbi5qcyI+PC9zY3JpcHQ+CiAgICA8c2NyaXB0IHNyYz0iaHR0cHM6Ly9tYXhjZG4uYm9vdHN0cmFwY2RuLmNvbS9ib290c3RyYXAvMy4yLjAvanMvYm9vdHN0cmFwLm1pbi5qcyI+PC9zY3JpcHQ+CiAgICA8c2NyaXB0IHNyYz0iaHR0cHM6Ly9jZG5qcy5jbG91ZGZsYXJlLmNvbS9hamF4L2xpYnMvTGVhZmxldC5hd2Vzb21lLW1hcmtlcnMvMi4wLjIvbGVhZmxldC5hd2Vzb21lLW1hcmtlcnMuanMiPjwvc2NyaXB0PgogICAgPGxpbmsgcmVsPSJzdHlsZXNoZWV0IiBocmVmPSJodHRwczovL2Nkbi5qc2RlbGl2ci5uZXQvbnBtL2xlYWZsZXRAMS40LjAvZGlzdC9sZWFmbGV0LmNzcyIvPgogICAgPGxpbmsgcmVsPSJzdHlsZXNoZWV0IiBocmVmPSJodHRwczovL21heGNkbi5ib290c3RyYXBjZG4uY29tL2Jvb3RzdHJhcC8zLjIuMC9jc3MvYm9vdHN0cmFwLm1pbi5jc3MiLz4KICAgIDxsaW5rIHJlbD0ic3R5bGVzaGVldCIgaHJlZj0iaHR0cHM6Ly9tYXhjZG4uYm9vdHN0cmFwY2RuLmNvbS9ib290c3RyYXAvMy4yLjAvY3NzL2Jvb3RzdHJhcC10aGVtZS5taW4uY3NzIi8+CiAgICA8bGluayByZWw9InN0eWxlc2hlZXQiIGhyZWY9Imh0dHBzOi8vbWF4Y2RuLmJvb3RzdHJhcGNkbi5jb20vZm9udC1hd2Vzb21lLzQuNi4zL2Nzcy9mb250LWF3ZXNvbWUubWluLmNzcyIvPgogICAgPGxpbmsgcmVsPSJzdHlsZXNoZWV0IiBocmVmPSJodHRwczovL2NkbmpzLmNsb3VkZmxhcmUuY29tL2FqYXgvbGlicy9MZWFmbGV0LmF3ZXNvbWUtbWFya2Vycy8yLjAuMi9sZWFmbGV0LmF3ZXNvbWUtbWFya2Vycy5jc3MiLz4KICAgIDxsaW5rIHJlbD0ic3R5bGVzaGVldCIgaHJlZj0iaHR0cHM6Ly9yYXdjZG4uZ2l0aGFjay5jb20vcHl0aG9uLXZpc3VhbGl6YXRpb24vZm9saXVtL21hc3Rlci9mb2xpdW0vdGVtcGxhdGVzL2xlYWZsZXQuYXdlc29tZS5yb3RhdGUuY3NzIi8+CiAgICA8c3R5bGU+aHRtbCwgYm9keSB7d2lkdGg6IDEwMCU7aGVpZ2h0OiAxMDAlO21hcmdpbjogMDtwYWRkaW5nOiAwO308L3N0eWxlPgogICAgPHN0eWxlPiNtYXAge3Bvc2l0aW9uOmFic29sdXRlO3RvcDowO2JvdHRvbTowO3JpZ2h0OjA7bGVmdDowO308L3N0eWxlPgogICAgCiAgICA8bWV0YSBuYW1lPSJ2aWV3cG9ydCIgY29udGVudD0id2lkdGg9ZGV2aWNlLXdpZHRoLAogICAgICAgIGluaXRpYWwtc2NhbGU9MS4wLCBtYXhpbXVtLXNjYWxlPTEuMCwgdXNlci1zY2FsYWJsZT1ubyIgLz4KICAgIDxzdHlsZT4jbWFwXzU3M2M0OGZmNzc4MjQ2OTFhZTI1NmUyYzU0ZGIzMTJlIHsKICAgICAgICBwb3NpdGlvbjogcmVsYXRpdmU7CiAgICAgICAgd2lkdGg6IDEwMC4wJTsKICAgICAgICBoZWlnaHQ6IDEwMC4wJTsKICAgICAgICBsZWZ0OiAwLjAlOwogICAgICAgIHRvcDogMC4wJTsKICAgICAgICB9CiAgICA8L3N0eWxlPgo8L2hlYWQ+Cjxib2R5PiAgICAKICAgIAogICAgPGRpdiBjbGFzcz0iZm9saXVtLW1hcCIgaWQ9Im1hcF81NzNjNDhmZjc3ODI0NjkxYWUyNTZlMmM1NGRiMzEyZSIgPjwvZGl2Pgo8L2JvZHk+CjxzY3JpcHQ+ICAgIAogICAgCiAgICAKICAgICAgICB2YXIgYm91bmRzID0gbnVsbDsKICAgIAoKICAgIHZhciBtYXBfNTczYzQ4ZmY3NzgyNDY5MWFlMjU2ZTJjNTRkYjMxMmUgPSBMLm1hcCgKICAgICAgICAnbWFwXzU3M2M0OGZmNzc4MjQ2OTFhZTI1NmUyYzU0ZGIzMTJlJywgewogICAgICAgIGNlbnRlcjogWy0xNi43NzE5MTYwNTUyNTMzNDYsIDI4LjQ1MzE5OTA2Mzk5MTU1XSwKICAgICAgICB6b29tOiAxMCwKICAgICAgICBtYXhCb3VuZHM6IGJvdW5kcywKICAgICAgICBsYXllcnM6IFtdLAogICAgICAgIHdvcmxkQ29weUp1bXA6IGZhbHNlLAogICAgICAgIGNyczogTC5DUlMuRVBTRzM4NTcsCiAgICAgICAgem9vbUNvbnRyb2w6IHRydWUsCiAgICAgICAgfSk7CgoKICAgIAogICAgdmFyIHRpbGVfbGF5ZXJfOTVjMThhYjE5MDEyNDhiYjg3YmVlMGQwYjIzY2ZlYTAgPSBMLnRpbGVMYXllcigKICAgICAgICAnaHR0cHM6Ly97c30udGlsZS5vcGVuc3RyZWV0bWFwLm9yZy97en0ve3h9L3t5fS5wbmcnLAogICAgICAgIHsKICAgICAgICAiYXR0cmlidXRpb24iOiBudWxsLAogICAgICAgICJkZXRlY3RSZXRpbmEiOiBmYWxzZSwKICAgICAgICAibWF4TmF0aXZlWm9vbSI6IDE4LAogICAgICAgICJtYXhab29tIjogMTgsCiAgICAgICAgIm1pblpvb20iOiAwLAogICAgICAgICJub1dyYXAiOiBmYWxzZSwKICAgICAgICAib3BhY2l0eSI6IDEsCiAgICAgICAgInN1YmRvbWFpbnMiOiAiYWJjIiwKICAgICAgICAidG1zIjogZmFsc2UKfSkuYWRkVG8obWFwXzU3M2M0OGZmNzc4MjQ2OTFhZTI1NmUyYzU0ZGIzMTJlKTsKICAgIAogICAgICAgIHZhciBnZW9fanNvbl84NDVlNDIyMTYyYzA0ZTQxYTUxODU0MjE4NjA5YzQwZCA9IEwuZ2VvSnNvbigKICAgICAgICAgICAgeyJmZWF0dXJlcyI6IFt7Imdlb21ldHJ5IjogeyJjb29yZGluYXRlcyI6IFtbWzI4Ljk2MjE1Mjg3MTY1MjkxNSwgLTE2LjI3MTY0OTI2OTUwNzQ1XSwgWzI4Ljk2MjEyODM1MzA3NDA5MywgLTE2LjI3MTY0NjUwOTI3MjIwMl0sIFsyNy45MzU5MjYwNjE3NjA1LCAtMTYuMjc4NjczNTIyOTQyNDhdLCBbMjcuOTM1ODMyNTY0NjUzNTIsIC0xNi4yNzg3NDM1MDY3MzA4NDRdLCBbMjcuOTM4MjI0ODU5NjUwMjk0LCAtMTYuNzc0NzE5OTg5NTQzODgzXSwgWzI3Ljk0MDY5OTQ0NDUzODQyOCwgLTE3LjI3MDY1MTgxOTA0MDA0NF0sIFsyNy45NDA3MjY1Mjc1Nzk3NzcsIC0xNy4yNzA2ODA5NDYyOTU4MV0sIFsyNy45NDA3MzI2MDU2MjE1MDYsIC0xNy4yNzA3MjI5Mjg4NDMzMjNdLCBbMjcuOTQxMzI4NDMxNDc3NjU0LCAtMTcuMjcxMDA1NTk4MTMxMzkyXSwgWzI3Ljk0MTM1Njc2NTc4MTMwNCwgLTE3LjI3MTAwOTgwMTcxNjE2XSwgWzI3Ljk0NDE4MDg3NzkxNzQsIC0xNy4yNzEwODcwNDQ1MDI3Nl0sIFsyOC45NzMyNzIwMDE4MjQzNzcsIC0xNy4yNjM2MTMwNjkzODkxODRdLCBbMjguOTczMzY1NDQ5OTQwMDI2LCAtMTcuMjYzNTQyNjA0ODA4NTNdLCBbMjguOTY4MTc5OTcxMTk1MTg4LCAtMTYuNzY4MDg4OTAzMjY3ODYzXSwgWzI4Ljk2MzE2NzI4MDAyNzkwNywgLTE2LjI3MjYyNDA3MzgwMDI0OF0sIFsyOC45NjMwNjY0NTI0NTA1NDgsIC0xNi4yNzE5ODYyMzQxNDY3M10sIFsyOC45NjMwMzUyNzEzOTc4OTYsIC0xNi4yNzE5NjExNzg5MTQ2OTRdLCBbMjguOTYzMDIyOTIzMzQzOTc0LCAtMTYuMjcxOTIwNTAwMDA1MTIzXSwgWzI4Ljk2MjE1Mjg3MTY1MjkxNSwgLTE2LjI3MTY0OTI2OTUwNzQ1XV1dLCAidHlwZSI6ICJQb2x5Z29uIn0sICJwcm9wZXJ0aWVzIjogeyJoaWdobGlnaHQiOiB7fSwgInN0eWxlIjogeyJjb2xvciI6ICIjNjREMUI4IiwgImZpbGxPcGFjaXR5IjogMCwgIndlaWdodCI6IDZ9fSwgInR5cGUiOiAiRmVhdHVyZSJ9XSwgInR5cGUiOiAiRmVhdHVyZUNvbGxlY3Rpb24ifSwKICAgICAgICAgICAgewogICAgICAgICAgICB9CiAgICAgICAgKS5hZGRUbyhtYXBfNTczYzQ4ZmY3NzgyNDY5MWFlMjU2ZTJjNTRkYjMxMmUgKTsKICAgICAgICBnZW9fanNvbl84NDVlNDIyMTYyYzA0ZTQxYTUxODU0MjE4NjA5YzQwZC5zZXRTdHlsZShmdW5jdGlvbihmZWF0dXJlKSB7cmV0dXJuIGZlYXR1cmUucHJvcGVydGllcy5zdHlsZTt9KTsKICAgICAgICAKICAgIAogICAgICAgICAgICAgICAgCgogICAgICAgICAgICAgICAgbWFwXzU3M2M0OGZmNzc4MjQ2OTFhZTI1NmUyYzU0ZGIzMTJlLmZpdEJvdW5kcygKICAgICAgICAgICAgICAgICAgICBbWy0xNy4yNzEwODcwNDQ1MDI3NiwgMjcuOTM1ODMyNTY0NjUzNTJdLCBbLTE2LjI3MTY0NjUwOTI3MjIwMiwgMjguOTczMzY1NDQ5OTQwMDI2XV0sCiAgICAgICAgICAgICAgICAgICAge30KICAgICAgICAgICAgICAgICAgICApOwogICAgICAgICAgICAKICAgIHZhciB0aWxlX2xheWVyXzVlMzhkMWQzNzdlYTRhNWU4MTdmZDkyZDQ5MDViZTNhID0gTC50aWxlTGF5ZXIoCiAgICAgICAgJ2h0dHBzOi8vZWFydGhlbmdpbmUuZ29vZ2xlYXBpcy5jb20vbWFwL2RiNTRmY2Q3Zjc0ZjMxNTNlZDMxZGVhZmI2ZDY0Y2ZhL3t6fS97eH0ve3l9P3Rva2VuPWNmZjNmNDFmOTg1YWViN2Q5YTUxNGM3YTA2MThlMWUzJywKICAgICAgICB7CiAgICAgICAgImF0dHJpYnV0aW9uIjogIlNlbnRpbmVsLTJBIGltYWdlIiwKICAgICAgICAiZGV0ZWN0UmV0aW5hIjogZmFsc2UsCiAgICAgICAgIm1heE5hdGl2ZVpvb20iOiAxOCwKICAgICAgICAibWF4Wm9vbSI6IDE4LAogICAgICAgICJtaW5ab29tIjogMCwKICAgICAgICAibm9XcmFwIjogZmFsc2UsCiAgICAgICAgIm9wYWNpdHkiOiAxLAogICAgICAgICJzdWJkb21haW5zIjogImFiYyIsCiAgICAgICAgInRtcyI6IGZhbHNlCn0pLmFkZFRvKG1hcF81NzNjNDhmZjc3ODI0NjkxYWUyNTZlMmM1NGRiMzEyZSk7Cjwvc2NyaXB0Pg==\" style=\"position:absolute;width:100%;height:100%;left:0;top:0;border:none !important;\" allowfullscreen webkitallowfullscreen mozallowfullscreen></iframe></div></div>"
      ],
      "text/plain": [
       "<folium.folium.Map at 0x12bdbadd8>"
      ]
     },
     "execution_count": 47,
     "metadata": {},
     "output_type": "execute_result"
    }
   ],
   "source": [
    "i.map()"
   ]
  },
  {
   "cell_type": "markdown",
   "metadata": {},
   "source": [
    "### Classification of individual Satellite Images"
   ]
  },
  {
   "cell_type": "code",
   "execution_count": null,
   "metadata": {},
   "outputs": [],
   "source": [
    "#classified = i.classify()\n",
    "#classified"
   ]
  },
  {
   "cell_type": "code",
   "execution_count": 49,
   "metadata": {},
   "outputs": [],
   "source": [
    "#classified.map()"
   ]
  },
  {
   "cell_type": "markdown",
   "metadata": {},
   "source": [
    "### Composite and classify satellite image collections\n",
    "\n",
    "First grab a collection, specifying a point and time period."
   ]
  },
  {
   "cell_type": "code",
   "execution_count": null,
   "metadata": {},
   "outputs": [],
   "source": [
    "ic = Skydipper.ImageCollection(lon=28.271979, lat=-16.457814, start='2018-06-01', end='2018-06-20')\n",
    "ic"
   ]
  },
  {
   "cell_type": "markdown",
   "metadata": {},
   "source": [
    "Next ask for a composite image based on your collection. By default it will be for Sentinel-2, but you may change this via an argument to Landsat."
   ]
  },
  {
   "cell_type": "code",
   "execution_count": null,
   "metadata": {},
   "outputs": [],
   "source": [
    "i = ic.composite()\n",
    "i"
   ]
  },
  {
   "cell_type": "markdown",
   "metadata": {},
   "source": [
    "You can then map your composite image."
   ]
  },
  {
   "cell_type": "code",
   "execution_count": null,
   "metadata": {},
   "outputs": [],
   "source": [
    "i.map()"
   ]
  },
  {
   "cell_type": "markdown",
   "metadata": {},
   "source": [
    "You can take your composite image, and apply a land cover classifier based on our pre-trained models. These are Deepvel, and Segnet."
   ]
  },
  {
   "cell_type": "code",
   "execution_count": null,
   "metadata": {},
   "outputs": [],
   "source": [
    "c = i.classify(model_type='segnet', version='v2')\n",
    "c"
   ]
  },
  {
   "cell_type": "code",
   "execution_count": null,
   "metadata": {},
   "outputs": [],
   "source": [
    "c.map()"
   ]
  },
  {
   "cell_type": "markdown",
   "metadata": {},
   "source": [
    "# Utilities\n",
    "\n",
    "## Generate Movie Map Tiles\n",
    "\n",
    "* Step 1: create a visulised image collection\n",
    "* Step 2: create a geometry that represents that area within which you want to generate tiles for\n",
    "* Step 3: obtain credentials to write to a GCS bucket (including a JSON token)\n",
    "* Step 4: run the movie tile code below"
   ]
  },
  {
   "cell_type": "code",
   "execution_count": null,
   "metadata": {},
   "outputs": [],
   "source": [
    "from Skydipper.utils import MovieMaker\n",
    "import ee\n",
    "ee.Initialize()"
   ]
  },
  {
   "cell_type": "code",
   "execution_count": null,
   "metadata": {},
   "outputs": [],
   "source": [
    "# example of creating a valid image collection\n",
    "# Composite EVI collection Example based on https://developers.google.com/earth-engine/tutorials/community/modis-ndvi-time-series-animation\n",
    "\n",
    "col = ee.ImageCollection('MODIS/006/MOD13A2').select('NDVI') # MODIS NDVI Data\n",
    "mask = ee.FeatureCollection('USDOS/LSIB_SIMPLE/2017')  # All world shapes\n",
    "\n",
    "# Add day-of-year (DOY) property to each image.\n",
    "def add_DOY_atts(img):\n",
    "    doy = ee.Date(img.get('system:time_start')).getRelative('day', 'year')\n",
    "    return img.set('doy', doy)\n",
    "\n",
    "col = col.map(add_DOY_atts)\n",
    "\n",
    "# Get a collection of distinct images by 'doy'.\n",
    "distinctDOY = col.filterDate('2013-01-01', '2014-01-01')\n",
    "\n",
    "# Define a filter that identifies which images from the complete\n",
    "# collection match the DOY from the distinct DOY collection.\n",
    "filter_img = ee.Filter.equals(leftField= 'doy', rightField= 'doy')\n",
    "\n",
    "# Define a join.\n",
    "join = ee.Join.saveAll('doy_matches')\n",
    "\n",
    "# Apply the join and convert the resulting FeatureCollection to an\n",
    "# ImageCollection.\n",
    "joinCol = ee.ImageCollection(join.apply(distinctDOY, col, filter_img))\n",
    "\n",
    "# Apply median reduction among matching DOY collections.\n",
    "def doyCol(img):\n",
    "    tmp_i = ee.ImageCollection.fromImages(img.get('doy_matches'))\n",
    "    return tmp_i.reduce(ee.Reducer.median())\n",
    "\n",
    "comp = joinCol.map(doyCol)\n",
    "\n",
    "# Define RGB visualization parameters.\n",
    "visParams = {\n",
    "  'min': 0.0,\n",
    "  'max': 9000.0,\n",
    "  'palette': [\n",
    "    'FFFFFF', 'CE7E45', 'DF923D', 'F1B555', 'FCD163', '99B718', '74A901',\n",
    "    '66A000', '529400', '3E8601', '207401', '056201', '004C00', '023B01',\n",
    "    '012E01', '011D01', '011301'\n",
    "  ],\n",
    "}\n",
    "\n",
    "\n",
    "# Create an RGB visualization images for use as animation frames.\n",
    "def imgViz(img):\n",
    "    return img.visualize(**visParams)#.clip(mask)\n",
    "\n",
    "ic = comp.map(imgViz)"
   ]
  },
  {
   "cell_type": "code",
   "execution_count": null,
   "metadata": {},
   "outputs": [],
   "source": [
    "canary_area = [\n",
    "    [-18.617344317591915,26.23725199497126],\n",
    "    [-11.849766192591915,26.23725199497126],\n",
    "    [-11.849766192591915,29.824435938587445],\n",
    "    [-18.617344317591915,29.824435938587445],\n",
    "    [-18.617344317591915,26.23725199497126]\n",
    "]\n",
    "\n",
    "area = ee.Geometry.Polygon(canary_area)"
   ]
  },
  {
   "cell_type": "code",
   "execution_count": null,
   "metadata": {},
   "outputs": [],
   "source": [
    "m = MovieMaker(area=area, zlist=[1, 2, 3, 4, 5, 6], ic=ic, bucket_name='skydipper_materials', folder_path='movie-tiles/DTEST', \n",
    "               privatekey_path=\"/Users/me/.privateKeys/key.json\", report_status=True)\n",
    "m.run()"
   ]
  },
  {
   "cell_type": "code",
   "execution_count": null,
   "metadata": {},
   "outputs": [],
   "source": [
    "# After the jobs have finished you can run this to correctly name the exported tiles\n",
    "m.reNamer()"
   ]
  },
  {
   "cell_type": "markdown",
   "metadata": {},
   "source": [
    "## Construct Widgets\n",
    "\n",
    "A demo of how to use Skydipper to construct widgets like those on our projects such as [Global Forest Watch Dashboard pages](https://www.globalforestwatch.org/dashboards/country/BRA).\n",
    "\n",
    "### Tree cover example"
   ]
  },
  {
   "cell_type": "code",
   "execution_count": null,
   "metadata": {},
   "outputs": [],
   "source": [
    "import matplotlib.pyplot as plt\n",
    "%matplotlib inline"
   ]
  },
  {
   "cell_type": "code",
   "execution_count": null,
   "metadata": {},
   "outputs": [],
   "source": [
    "# Get a datatable (Hansen)\n",
    "table = Skydipper.Table('a20e9c0e-8d7d-422f-90f5-3b9bca355aaf')\n",
    "table"
   ]
  },
  {
   "cell_type": "code",
   "execution_count": null,
   "metadata": {},
   "outputs": [],
   "source": [
    "iso = 'BRA'\n",
    "administration = 1\n",
    "\n",
    "sql = f\"\"\"\n",
    "        SELECT \n",
    "            SUM(area_extent) as value,\n",
    "            SUM(area_admin) as total_area \n",
    "        FROM data \n",
    "        WHERE iso = '{iso}'\n",
    "        AND adm1 = {administration}\n",
    "        AND thresh = 30 \n",
    "        AND polyname = 'admin'\n",
    "\"\"\"\n",
    "\n",
    "results = table.query(sql=sql)\n",
    "results"
   ]
  },
  {
   "cell_type": "code",
   "execution_count": null,
   "metadata": {},
   "outputs": [],
   "source": [
    "sizes = [results.value[0], results.total_area[0] - results.value[0]]\n",
    "colors = ['green','grey']\n",
    "labels = ['Tree cover', 'Non-forest']\n",
    "\n",
    "fig1, ax1 = plt.subplots()\n",
    "ax1.pie(sizes, labels=labels, autopct='%1.1f%%',\n",
    "        shadow=False, startangle=90, colors=colors)\n",
    "ax1.axis('equal')\n",
    "centre_circle = plt.Circle((0,0),0.75,color='black', fc='white',linewidth=0.5)\n",
    "fig1 = plt.gcf()\n",
    "fig1.gca().add_artist(centre_circle)\n",
    "plt.suptitle('Tree cover extent')\n",
    "plt.title(f'in {iso}/{administration}')\n",
    "plt.show()"
   ]
  },
  {
   "cell_type": "markdown",
   "metadata": {},
   "source": [
    "### Tree cover loss example"
   ]
  },
  {
   "cell_type": "code",
   "execution_count": null,
   "metadata": {},
   "outputs": [],
   "source": [
    "sql = \"\"\"\n",
    "SELECT \n",
    "    polyname, year_data.year as year, \n",
    "    SUM(year_data.area_loss) as area\n",
    "\n",
    "FROM data \n",
    "WHERE polyname = 'admin'\n",
    "AND thresh= 30\n",
    "GROUP BY polyname, iso, nested(year_data.year)\n",
    "\"\"\"\n",
    "global_loss = table.query(sql=sql)\n",
    "global_loss.head()"
   ]
  },
  {
   "cell_type": "code",
   "execution_count": null,
   "metadata": {},
   "outputs": [],
   "source": [
    "iso='BRA'\n",
    "loss_data = list(global_loss[global_loss['iso'] == f'{iso}']['area'])\n",
    "years = list(global_loss[global_loss['iso'] == f'{iso}']['year'])\n",
    "\n",
    "width = 0.66\n",
    "fig, ax = plt.subplots()\n",
    "rects1 = ax.bar(years, loss_data, width, color='#FE5A8D')\n",
    "\n",
    "# add some text for labels, title and axes ticks\n",
    "ax.set_ylabel('Loss extent (ha)')\n",
    "ax.set_title(f'Loss by year in {iso}')\n",
    "plt.show()"
   ]
  },
  {
   "cell_type": "markdown",
   "metadata": {},
   "source": [
    "## Creating a local backup of Data objects\n",
    "\n",
    "Save a local backup of a collection to a specified path. This creates a folder containing a JSON for each dataset and it's associated Layers, Metadata and Vocabularies."
   ]
  },
  {
   "cell_type": "code",
   "execution_count": null,
   "metadata": {},
   "outputs": [],
   "source": [
    "col = Skydipper.Collection(app=['gfw'], env='production')"
   ]
  },
  {
   "cell_type": "code",
   "execution_count": null,
   "metadata": {},
   "outputs": [],
   "source": [
    "path = './LMI-BACKUP'"
   ]
  },
  {
   "cell_type": "code",
   "execution_count": null,
   "metadata": {},
   "outputs": [],
   "source": [
    "col.save(path)"
   ]
  },
  {
   "cell_type": "markdown",
   "metadata": {},
   "source": [
    "## Load Data objects from local backup\n",
    "\n",
    "You can also restore a previous version from local backup."
   ]
  },
  {
   "cell_type": "code",
   "execution_count": null,
   "metadata": {},
   "outputs": [],
   "source": [
    "import os"
   ]
  },
  {
   "cell_type": "code",
   "execution_count": null,
   "metadata": {},
   "outputs": [],
   "source": [
    "files = os.listdir(path)[0:3]\n",
    "files"
   ]
  },
  {
   "cell_type": "code",
   "execution_count": null,
   "metadata": {},
   "outputs": [],
   "source": [
    "ds_id = files[0].split('.json')[0]\n",
    "ds_id"
   ]
  },
  {
   "cell_type": "code",
   "execution_count": null,
   "metadata": {},
   "outputs": [],
   "source": [
    "dataset = Skydipper.Dataset(ds_id)"
   ]
  },
  {
   "cell_type": "code",
   "execution_count": null,
   "metadata": {},
   "outputs": [],
   "source": [
    "dataset"
   ]
  },
  {
   "cell_type": "code",
   "execution_count": null,
   "metadata": {},
   "outputs": [],
   "source": [
    "backup = dataset.load(path)"
   ]
  },
  {
   "cell_type": "code",
   "execution_count": null,
   "metadata": {},
   "outputs": [],
   "source": [
    "backup"
   ]
  },
  {
   "cell_type": "code",
   "execution_count": null,
   "metadata": {},
   "outputs": [],
   "source": []
  }
 ],
 "metadata": {
  "kernelspec": {
   "display_name": "Python 3",
   "language": "python",
   "name": "python3"
  },
  "language_info": {
   "codemirror_mode": {
    "name": "ipython",
    "version": 3
   },
   "file_extension": ".py",
   "mimetype": "text/x-python",
   "name": "python",
   "nbconvert_exporter": "python",
   "pygments_lexer": "ipython3",
   "version": "3.7.3"
  }
 },
 "nbformat": 4,
 "nbformat_minor": 4
}
