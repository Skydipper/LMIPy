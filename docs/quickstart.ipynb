{
 "cells": [
  {
   "cell_type": "markdown",
   "metadata": {},
   "source": [
    "# Example of use"
   ]
  },
  {
   "cell_type": "code",
   "execution_count": 1,
   "metadata": {},
   "outputs": [],
   "source": [
    "import LMIPy"
   ]
  },
  {
   "cell_type": "code",
   "execution_count": 2,
   "metadata": {},
   "outputs": [
    {
     "data": {
      "text/plain": [
       "'0.1.19'"
      ]
     },
     "execution_count": 2,
     "metadata": {},
     "output_type": "execute_result"
    }
   ],
   "source": [
    "LMIPy.__version__"
   ]
  },
  {
   "cell_type": "markdown",
   "metadata": {},
   "source": [
    "## Dataset objects\n",
    "\n",
    "Using known id's you can instantiate a dataset object directly."
   ]
  },
  {
   "cell_type": "code",
   "execution_count": 3,
   "metadata": {},
   "outputs": [
    {
     "data": {
      "text/html": [
       "<div class='item_container' style='height: auto; overflow: hidden; border: 1px solid #80ceb9;border-radius: 2px; background: #f2fffb; line-height: 1.21429em; padding: 10px;''><div class='item_left' style='width: 210px; float: left;''><a href='https://resourcewatch.org/' target='_blank'><img class='itemThumbnail' src='https://resourcewatch.org/static/images/logo-embed.png'></a></div><div class='item_right' style='float: none; width: auto; overflow: hidden;''><a href=https://api.resourcewatch.org/v1/dataset/044f4af8-be72-4999-b7dd-13434fc4a394?includes=vocabulary,metadata,layer,widget target='_blank'><b>Tree cover</b></a><br> GEE asset: <a href='https://code.earthengine.google.com/asset='UMD/hansen/global_forest_change_2013 target='_blank'>UMD/hansen/global_forest_change_2013</a> 🗺Dataset in GFW, GFW-PRO.<br>Last Modified: 2018-11-21T13:55:01.210Z<br>Connector: gee | Published: True </div> </div>"
      ],
      "text/plain": [
       "Dataset 044f4af8-be72-4999-b7dd-13434fc4a394 Tree cover"
      ]
     },
     "execution_count": 3,
     "metadata": {},
     "output_type": "execute_result"
    }
   ],
   "source": [
    "ds = LMIPy.Dataset('044f4af8-be72-4999-b7dd-13434fc4a394')\n",
    "ds"
   ]
  },
  {
   "cell_type": "markdown",
   "metadata": {},
   "source": [
    "You can access the attributes of a dataset."
   ]
  },
  {
   "cell_type": "code",
   "execution_count": 4,
   "metadata": {},
   "outputs": [
    {
     "data": {
      "text/plain": [
       "{'name': 'Tree cover',\n",
       " 'slug': 'Tree-cover',\n",
       " 'type': None,\n",
       " 'subtitle': None,\n",
       " 'application': ['gfw', 'gfw-pro'],\n",
       " 'dataPath': None,\n",
       " 'attributesPath': None,\n",
       " 'connectorType': 'rest',\n",
       " 'provider': 'gee',\n",
       " 'userId': '596cde70824315350dd0f116',\n",
       " 'connectorUrl': None,\n",
       " 'tableName': 'UMD/hansen/global_forest_change_2013',\n",
       " 'status': 'saved',\n",
       " 'published': True,\n",
       " 'overwrite': False,\n",
       " 'verified': False,\n",
       " 'blockchain': {},\n",
       " 'mainDateField': None,\n",
       " 'env': 'production',\n",
       " 'geoInfo': False,\n",
       " 'protected': True,\n",
       " 'legend': {'date': [], 'region': [], 'country': [], 'nested': []},\n",
       " 'clonedHost': {},\n",
       " 'errorMessage': '[Automatic Validation] ConnectorFailed -> Invalid Dataset',\n",
       " 'taskId': None,\n",
       " 'updatedAt': '2018-11-21T13:55:01.210Z',\n",
       " 'dataLastUpdated': None,\n",
       " 'widget': [],\n",
       " 'widgetRelevantProps': [],\n",
       " 'layerRelevantProps': []}"
      ]
     },
     "execution_count": 4,
     "metadata": {},
     "output_type": "execute_result"
    }
   ],
   "source": [
    "ds.attributes"
   ]
  },
  {
   "cell_type": "markdown",
   "metadata": {},
   "source": [
    "You can also access the metadata and vocabularies if they exist."
   ]
  },
  {
   "cell_type": "code",
   "execution_count": 5,
   "metadata": {},
   "outputs": [
    {
     "data": {
      "text/plain": [
       "{'resource': {'id': '044f4af8-be72-4999-b7dd-13434fc4a394', 'type': 'dataset'},\n",
       " 'tags': ['landCover'],\n",
       " 'name': 'categoryTab',\n",
       " 'application': 'gfw'}"
      ]
     },
     "execution_count": 5,
     "metadata": {},
     "output_type": "execute_result"
    }
   ],
   "source": [
    "ds.vocabulary[0].attributes"
   ]
  },
  {
   "cell_type": "code",
   "execution_count": 6,
   "metadata": {},
   "outputs": [
    {
     "data": {
      "text/plain": [
       "{'dataset': '044f4af8-be72-4999-b7dd-13434fc4a394',\n",
       " 'application': 'gfw',\n",
       " 'resource': {'id': '044f4af8-be72-4999-b7dd-13434fc4a394', 'type': 'dataset'},\n",
       " 'language': 'en',\n",
       " 'info': {'citation': '2000/2010, Hansen/UMD/Google/USGS/NASA',\n",
       "  'color': '#a0c746',\n",
       "  'description': 'Identifies areas of tree cover.',\n",
       "  'isSelectorLayer': True,\n",
       "  'name': 'Tree cover'},\n",
       " 'createdAt': '2018-08-03T10:17:06.249Z',\n",
       " 'updatedAt': '2018-11-06T15:57:49.716Z',\n",
       " 'status': 'published'}"
      ]
     },
     "execution_count": 6,
     "metadata": {},
     "output_type": "execute_result"
    }
   ],
   "source": [
    "ds.metadata[0].attributes"
   ]
  },
  {
   "cell_type": "markdown",
   "metadata": {},
   "source": [
    "## Queries on Datasets\n",
    "\n",
    "Datasets can be queried via SQL, with a table returned. Currently this is only supported for Carto-type data:"
   ]
  },
  {
   "cell_type": "code",
   "execution_count": 7,
   "metadata": {},
   "outputs": [
    {
     "data": {
      "text/html": [
       "<div class='item_container' style='height: auto; overflow: hidden; border: 1px solid #80ceb9;border-radius: 2px; background: #f2fffb; line-height: 1.21429em; padding: 10px;''><div class='item_left' style='width: 210px; float: left;''><a href='https://resourcewatch.org/' target='_blank'><img class='itemThumbnail' src='https://resourcewatch.org/static/images/logo-embed.png'></a></div><div class='item_right' style='float: none; width: auto; overflow: hidden;''><a href=https://api.resourcewatch.org/v1/dataset/bd5d7924-611e-4302-9185-8054acb0b44b?includes=vocabulary,metadata,layer,widget target='_blank'><b>Global Mangrove Watch</b></a><br> Carto table: <a href=https://wri-01.carto.com/tables/mangroves_1996 target='_blank'>mangroves_1996</a> 🗺Dataset in GFW.<br>Last Modified: 2018-11-21T14:03:09.440Z<br>Connector: cartodb | Published: True </div> </div>"
      ],
      "text/plain": [
       "Dataset bd5d7924-611e-4302-9185-8054acb0b44b Global Mangrove Watch"
      ]
     },
     "execution_count": 7,
     "metadata": {},
     "output_type": "execute_result"
    }
   ],
   "source": [
    "d = LMIPy.Dataset(id_hash='bd5d7924-611e-4302-9185-8054acb0b44b')\n",
    "d"
   ]
  },
  {
   "cell_type": "code",
   "execution_count": 8,
   "metadata": {},
   "outputs": [
    {
     "data": {
      "text/html": [
       "<div>\n",
       "<style scoped>\n",
       "    .dataframe tbody tr th:only-of-type {\n",
       "        vertical-align: middle;\n",
       "    }\n",
       "\n",
       "    .dataframe tbody tr th {\n",
       "        vertical-align: top;\n",
       "    }\n",
       "\n",
       "    .dataframe thead th {\n",
       "        text-align: right;\n",
       "    }\n",
       "</style>\n",
       "<table border=\"1\" class=\"dataframe\">\n",
       "  <thead>\n",
       "    <tr style=\"text-align: right;\">\n",
       "      <th></th>\n",
       "      <th>fid</th>\n",
       "      <th>st_asgeojson</th>\n",
       "    </tr>\n",
       "  </thead>\n",
       "  <tbody>\n",
       "    <tr>\n",
       "      <th>0</th>\n",
       "      <td>0</td>\n",
       "      <td>{\"type\":\"MultiPolygon\",\"coordinates\":[[[[-6998...</td>\n",
       "    </tr>\n",
       "    <tr>\n",
       "      <th>1</th>\n",
       "      <td>62</td>\n",
       "      <td>{\"type\":\"MultiPolygon\",\"coordinates\":[[[[-6927...</td>\n",
       "    </tr>\n",
       "    <tr>\n",
       "      <th>2</th>\n",
       "      <td>343</td>\n",
       "      <td>{\"type\":\"MultiPolygon\",\"coordinates\":[[[[-6996...</td>\n",
       "    </tr>\n",
       "    <tr>\n",
       "      <th>3</th>\n",
       "      <td>402</td>\n",
       "      <td>{\"type\":\"MultiPolygon\",\"coordinates\":[[[[-7004...</td>\n",
       "    </tr>\n",
       "    <tr>\n",
       "      <th>4</th>\n",
       "      <td>682</td>\n",
       "      <td>{\"type\":\"MultiPolygon\",\"coordinates\":[[[[-6937...</td>\n",
       "    </tr>\n",
       "  </tbody>\n",
       "</table>\n",
       "</div>"
      ],
      "text/plain": [
       "   fid                                       st_asgeojson\n",
       "0    0  {\"type\":\"MultiPolygon\",\"coordinates\":[[[[-6998...\n",
       "1   62  {\"type\":\"MultiPolygon\",\"coordinates\":[[[[-6927...\n",
       "2  343  {\"type\":\"MultiPolygon\",\"coordinates\":[[[[-6996...\n",
       "3  402  {\"type\":\"MultiPolygon\",\"coordinates\":[[[[-7004...\n",
       "4  682  {\"type\":\"MultiPolygon\",\"coordinates\":[[[[-6937..."
      ]
     },
     "execution_count": 8,
     "metadata": {},
     "output_type": "execute_result"
    }
   ],
   "source": [
    "d.query('SELECT fid, ST_ASGEOJSON(the_geom_webmercator) FROM data LIMIT 5')"
   ]
  },
  {
   "cell_type": "markdown",
   "metadata": {},
   "source": [
    "## Layer Objects\n",
    "\n",
    "Similarly, you can also instantiate a Layer object."
   ]
  },
  {
   "cell_type": "code",
   "execution_count": 9,
   "metadata": {},
   "outputs": [
    {
     "data": {
      "text/html": [
       "<div class='item_container' style='height: auto; overflow: hidden; border: 1px solid #80ceb9;border-radius: 2px; background: #f2fffb; line-height: 1.21429em; padding: 10px;''><div class='item_left' style='width: 210px; float: left;''><a href='https://resourcewatch.org/' target='_blank'><img class='itemThumbnail' src='https://resourcewatch.org/static/images/logo-embed.png'></a></div><div class='item_right' style='float: none; width: auto; overflow: hidden;''><a href=https://api.resourcewatch.org/v1/layer/dc6f6dd2-0718-4e41-81d2-109866bb9edd?includes=vocabulary,metadata target='_blank'><b>Tree cover 2000</b></a><br> Data source leaflet 🗺Layer in GFW-PRO.<br>Last Modified: 2018-07-19T08:33:23.226Z<br>Connector: leaflet | Published: True </div> </div>"
      ],
      "text/plain": [
       "Layer dc6f6dd2-0718-4e41-81d2-109866bb9edd Tree cover 2000"
      ]
     },
     "execution_count": 9,
     "metadata": {},
     "output_type": "execute_result"
    }
   ],
   "source": [
    "ly = LMIPy.Layer(id_hash='dc6f6dd2-0718-4e41-81d2-109866bb9edd')\n",
    "ly"
   ]
  },
  {
   "cell_type": "markdown",
   "metadata": {},
   "source": [
    "Layers can be visulized if appropriate via a call to Layer().map()"
   ]
  },
  {
   "cell_type": "code",
   "execution_count": 10,
   "metadata": {},
   "outputs": [
    {
     "data": {
      "text/html": [
       "<div style=\"width:100%;\"><div style=\"position:relative;width:100%;height:0;padding-bottom:60%;\"><iframe src=\"data:text/html;charset=utf-8;base64,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\" style=\"position:absolute;width:100%;height:100%;left:0;top:0;border:none !important;\" allowfullscreen webkitallowfullscreen mozallowfullscreen></iframe></div></div>"
      ],
      "text/plain": [
       "<folium.folium.Map at 0x1084ad588>"
      ]
     },
     "execution_count": 10,
     "metadata": {},
     "output_type": "execute_result"
    }
   ],
   "source": [
    "ly.map()"
   ]
  },
  {
   "cell_type": "markdown",
   "metadata": {},
   "source": [
    "## Tables\n",
    "\n",
    "Tables are subclasses of Dataset objects. They are document datasets which can be instantiated and queried returning a dataframe object."
   ]
  },
  {
   "cell_type": "code",
   "execution_count": 11,
   "metadata": {},
   "outputs": [
    {
     "data": {
      "text/html": [
       "<div class='item_container' style='height: auto; overflow: hidden; border: 1px solid #80ceb9;border-radius: 2px; background: #f2fffb; line-height: 1.21429em; padding: 10px;''><div class='item_left' style='width: 210px; float: left;''><a href='https://resourcewatch.org/' target='_blank'><img class='itemThumbnail' src='https://resourcewatch.org/static/images/logo-embed.png'></a></div><div class='item_right' style='float: none; width: auto; overflow: hidden;''><a href=https://api.resourcewatch.org/v1/dataset/86c7135a-855d-4f1b-9d67-f545a93281b3?includes=vocabulary,metadata,layer,widget target='_blank'><b>AQ City Days (DUMMY, NOT FOR PUBLISH)</b></a><br> CSV Table: <a href=http://wri-api-backups.s3.amazonaws.com/raw/1520615182177_city-aq-days-dummy.csv target='_blank'>index_86c7135a855d4f1b9d67f545a93281b3_1520615201102</a> 🗺Table in RW.<br>Last Modified: 2018-03-09T17:06:52.555Z<br>Connector: csv | Published: False </div> </div>"
      ],
      "text/plain": [
       "Table 86c7135a-855d-4f1b-9d67-f545a93281b3 AQ City Days (DUMMY, NOT FOR PUBLISH))"
      ]
     },
     "execution_count": 11,
     "metadata": {},
     "output_type": "execute_result"
    }
   ],
   "source": [
    "t = LMIPy.Table(id_hash='86c7135a-855d-4f1b-9d67-f545a93281b3')\n",
    "t"
   ]
  },
  {
   "cell_type": "code",
   "execution_count": 12,
   "metadata": {},
   "outputs": [
    {
     "data": {
      "text/html": [
       "<div>\n",
       "<style scoped>\n",
       "    .dataframe tbody tr th:only-of-type {\n",
       "        vertical-align: middle;\n",
       "    }\n",
       "\n",
       "    .dataframe tbody tr th {\n",
       "        vertical-align: top;\n",
       "    }\n",
       "\n",
       "    .dataframe thead th {\n",
       "        text-align: right;\n",
       "    }\n",
       "</style>\n",
       "<table border=\"1\" class=\"dataframe\">\n",
       "  <thead>\n",
       "    <tr style=\"text-align: right;\">\n",
       "      <th></th>\n",
       "      <th>City</th>\n",
       "      <th>Number_of_Days</th>\n",
       "      <th>_id</th>\n",
       "    </tr>\n",
       "  </thead>\n",
       "  <tbody>\n",
       "    <tr>\n",
       "      <th>0</th>\n",
       "      <td>Beijing</td>\n",
       "      <td>14</td>\n",
       "      <td>AWILuq8j8Jqrt1rp-STQ</td>\n",
       "    </tr>\n",
       "    <tr>\n",
       "      <th>1</th>\n",
       "      <td>San Francisco</td>\n",
       "      <td>10</td>\n",
       "      <td>AWILuq8j8Jqrt1rp-STT</td>\n",
       "    </tr>\n",
       "    <tr>\n",
       "      <th>2</th>\n",
       "      <td>Manama</td>\n",
       "      <td>7</td>\n",
       "      <td>AWILuq8j8Jqrt1rp-STU</td>\n",
       "    </tr>\n",
       "  </tbody>\n",
       "</table>\n",
       "</div>"
      ],
      "text/plain": [
       "            City  Number_of_Days                   _id\n",
       "0        Beijing              14  AWILuq8j8Jqrt1rp-STQ\n",
       "1  San Francisco              10  AWILuq8j8Jqrt1rp-STT\n",
       "2         Manama               7  AWILuq8j8Jqrt1rp-STU"
      ]
     },
     "execution_count": 12,
     "metadata": {},
     "output_type": "execute_result"
    }
   ],
   "source": [
    "df = t.head(3)\n",
    "df"
   ]
  },
  {
   "cell_type": "markdown",
   "metadata": {},
   "source": [
    "Queries to tables are returned in geopandas dataframe format."
   ]
  },
  {
   "cell_type": "code",
   "execution_count": 13,
   "metadata": {},
   "outputs": [
    {
     "data": {
      "text/plain": [
       "geopandas.geodataframe.GeoDataFrame"
      ]
     },
     "execution_count": 13,
     "metadata": {},
     "output_type": "execute_result"
    }
   ],
   "source": [
    "type(df)"
   ]
  },
  {
   "cell_type": "code",
   "execution_count": 14,
   "metadata": {},
   "outputs": [
    {
     "data": {
      "text/html": [
       "<div>\n",
       "<style scoped>\n",
       "    .dataframe tbody tr th:only-of-type {\n",
       "        vertical-align: middle;\n",
       "    }\n",
       "\n",
       "    .dataframe tbody tr th {\n",
       "        vertical-align: top;\n",
       "    }\n",
       "\n",
       "    .dataframe thead th {\n",
       "        text-align: right;\n",
       "    }\n",
       "</style>\n",
       "<table border=\"1\" class=\"dataframe\">\n",
       "  <thead>\n",
       "    <tr style=\"text-align: right;\">\n",
       "      <th></th>\n",
       "      <th>City</th>\n",
       "      <th>Number_of_Days</th>\n",
       "      <th>_id</th>\n",
       "    </tr>\n",
       "  </thead>\n",
       "  <tbody>\n",
       "    <tr>\n",
       "      <th>0</th>\n",
       "      <td>San Francisco</td>\n",
       "      <td>10</td>\n",
       "      <td>AWILuq8j8Jqrt1rp-STT</td>\n",
       "    </tr>\n",
       "  </tbody>\n",
       "</table>\n",
       "</div>"
      ],
      "text/plain": [
       "            City  Number_of_Days                   _id\n",
       "0  San Francisco              10  AWILuq8j8Jqrt1rp-STT"
      ]
     },
     "execution_count": 14,
     "metadata": {},
     "output_type": "execute_result"
    }
   ],
   "source": [
    "t.query(\"SELECT * from data where City = 'San Francisco'\")"
   ]
  },
  {
   "cell_type": "markdown",
   "metadata": {},
   "source": [
    "## Collection objects: Searching\n",
    "\n",
    "If you don't know what data you are interested in advance, you can search by keywords and return a list of objects."
   ]
  },
  {
   "cell_type": "code",
   "execution_count": 15,
   "metadata": {},
   "outputs": [],
   "source": [
    "c = LMIPy.Collection('tree cover', object_type=['layer','dataset'], app=['gfw'], limit=10)"
   ]
  },
  {
   "cell_type": "code",
   "execution_count": 16,
   "metadata": {},
   "outputs": [
    {
     "data": {
      "text/html": [
       "<div class='item_container' style='height: auto; overflow: hidden; border: 1px solid #80ceb9;border-radius: 2px; background: #f2fffb; line-height: 1.21429em; padding: 10px;''><div class='item_left' style='width: 210px; float: left;''><a href='https://resourcewatch.org/' target='_blank'><img class='itemThumbnail' src='https://resourcewatch.org/static/images/logo-embed.png'></a></div><div class='item_right' style='float: none; width: auto; overflow: hidden;''><b>0. </b><a href=https://api.resourcewatch.org/v1/dataset/f3fc0f1e-aa26-49b6-8741-45df2eea9ac2?includes=vocabulary,metadata,layer,widget target='_blank'><b>Brazil Land Cover</b></a><br> Data source wms 🗺Dataset in GFW.<br>Last Modified: 2018-11-21T14:03:00.256Z<br>Connector: wms | Published: True </div> </div><p></p><div class='item_container' style='height: auto; overflow: hidden; border: 1px solid #80ceb9;border-radius: 2px; background: #f2fffb; line-height: 1.21429em; padding: 10px;''><div class='item_left' style='width: 210px; float: left;''><a href='https://resourcewatch.org/' target='_blank'><img class='itemThumbnail' src='https://resourcewatch.org/static/images/logo-embed.png'></a></div><div class='item_right' style='float: none; width: auto; overflow: hidden;''><b>1. </b><a href=https://api.resourcewatch.org/v1/layer/220080ec-1641-489c-96c4-4885ed618bf3?includes=vocabulary,metadata target='_blank'><b>Brazil land cover - 2000-2016</b></a><br> Data source leaflet 🗺Layer in GFW.<br>Last Modified: 2018-11-21T14:03:00.520Z<br>Connector: leaflet | Published: True </div> </div><p></p><div class='item_container' style='height: auto; overflow: hidden; border: 1px solid #80ceb9;border-radius: 2px; background: #f2fffb; line-height: 1.21429em; padding: 10px;''><div class='item_left' style='width: 210px; float: left;''><a href='https://resourcewatch.org/' target='_blank'><img class='itemThumbnail' src='https://resourcewatch.org/static/images/logo-embed.png'></a></div><div class='item_right' style='float: none; width: auto; overflow: hidden;''><b>2. </b><a href=https://api.resourcewatch.org/v1/layer/2f4d9b87-6629-4658-8175-87d7892a5f32?includes=vocabulary,metadata target='_blank'><b>Earth Journalism Network Stories</b></a><br> Data source leaflet 🗺Layer in GFW.<br>Last Modified: 2019-05-13T15:50:32.780Z<br>Connector: leaflet | Published: True </div> </div><p></p><div class='item_container' style='height: auto; overflow: hidden; border: 1px solid #80ceb9;border-radius: 2px; background: #f2fffb; line-height: 1.21429em; padding: 10px;''><div class='item_left' style='width: 210px; float: left;''><a href='https://resourcewatch.org/' target='_blank'><img class='itemThumbnail' src='https://resourcewatch.org/static/images/logo-embed.png'></a></div><div class='item_right' style='float: none; width: auto; overflow: hidden;''><b>3. </b><a href=https://api.resourcewatch.org/v1/layer/66203fea-2e58-4a55-b222-1dae075cf95d?includes=vocabulary,metadata target='_blank'><b>FORMA alerts</b></a><br> Data source leaflet 🗺Layer in GFW.<br>Last Modified: 2019-03-14T10:41:49.789Z<br>Connector: leaflet | Published: True </div> </div><p></p><div class='item_container' style='height: auto; overflow: hidden; border: 1px solid #80ceb9;border-radius: 2px; background: #f2fffb; line-height: 1.21429em; padding: 10px;''><div class='item_left' style='width: 210px; float: left;''><a href='https://resourcewatch.org/' target='_blank'><img class='itemThumbnail' src='https://resourcewatch.org/static/images/logo-embed.png'></a></div><div class='item_right' style='float: none; width: auto; overflow: hidden;''><b>4. </b><a href=https://api.resourcewatch.org/v1/layer/dd5df87f-39c2-4aeb-a462-3ef969b20b66?includes=vocabulary,metadata target='_blank'><b>GLAD alerts</b></a><br> Data source leaflet 🗺Layer in GFW.<br>Last Modified: 2019-03-08T13:16:58.512Z<br>Connector: leaflet | Published: True </div> </div><p></p><div class='item_container' style='height: auto; overflow: hidden; border: 1px solid #80ceb9;border-radius: 2px; background: #f2fffb; line-height: 1.21429em; padding: 10px;''><div class='item_left' style='width: 210px; float: left;''><a href='https://resourcewatch.org/' target='_blank'><img class='itemThumbnail' src='https://resourcewatch.org/static/images/logo-embed.png'></a></div><div class='item_right' style='float: none; width: auto; overflow: hidden;''><b>5. </b><a href=https://api.resourcewatch.org/v1/layer/a8b4e2eb-328e-420b-8027-8466271d8368?includes=vocabulary,metadata target='_blank'><b>Geographic coverage</b></a><br> Data source cartodb 🗺Layer in GFW.<br>Last Modified: 2019-03-08T13:20:03.501Z<br>Connector: cartodb | Published: True </div> </div><p></p><div class='item_container' style='height: auto; overflow: hidden; border: 1px solid #80ceb9;border-radius: 2px; background: #f2fffb; line-height: 1.21429em; padding: 10px;''><div class='item_left' style='width: 210px; float: left;''><a href='https://resourcewatch.org/' target='_blank'><img class='itemThumbnail' src='https://resourcewatch.org/static/images/logo-embed.png'></a></div><div class='item_right' style='float: none; width: auto; overflow: hidden;''><b>6. </b><a href=https://api.resourcewatch.org/v1/dataset/e663eb09-04de-4f39-b871-35c6c2ed10b5?includes=vocabulary,metadata,layer,widget target='_blank'><b>Global Land Analysis and Discovery</b></a><br> CSV Table: <a href=http://gfw2-data.s3.amazonaws.com/alerts-tsv/glad/russia_2015.csv target='_blank'>index_e663eb0904de4f39b87135c6c2ed10b5</a> 🗺Table in GFW.<br>Last Modified: 2019-04-09T11:53:38.200Z<br>Connector: csv | Published: True </div> </div><p></p><div class='item_container' style='height: auto; overflow: hidden; border: 1px solid #80ceb9;border-radius: 2px; background: #f2fffb; line-height: 1.21429em; padding: 10px;''><div class='item_left' style='width: 210px; float: left;''><a href='https://resourcewatch.org/' target='_blank'><img class='itemThumbnail' src='https://resourcewatch.org/static/images/logo-embed.png'></a></div><div class='item_right' style='float: none; width: auto; overflow: hidden;''><b>7. </b><a href=https://api.resourcewatch.org/v1/dataset/746089a3-0c24-402f-81b6-f8d91fab77fe?includes=vocabulary,metadata,layer,widget target='_blank'><b>Guatemala Forest Cover</b></a><br> Data source wms 🗺Dataset in GFW.<br>Last Modified: 2018-11-21T14:02:59.690Z<br>Connector: wms | Published: True </div> </div><p></p><div class='item_container' style='height: auto; overflow: hidden; border: 1px solid #80ceb9;border-radius: 2px; background: #f2fffb; line-height: 1.21429em; padding: 10px;''><div class='item_left' style='width: 210px; float: left;''><a href='https://resourcewatch.org/' target='_blank'><img class='itemThumbnail' src='https://resourcewatch.org/static/images/logo-embed.png'></a></div><div class='item_right' style='float: none; width: auto; overflow: hidden;''><b>8. </b><a href=https://api.resourcewatch.org/v1/layer/2fe559f6-9ae7-4a47-87fb-a33a128652ed?includes=vocabulary,metadata target='_blank'><b>Guatemala forest change - 2001-2006</b></a><br> Data source leaflet 🗺Layer in GFW.<br>Last Modified: 2018-11-21T14:02:59.190Z<br>Connector: leaflet | Published: True </div> </div><p></p><div class='item_container' style='height: auto; overflow: hidden; border: 1px solid #80ceb9;border-radius: 2px; background: #f2fffb; line-height: 1.21429em; padding: 10px;''><div class='item_left' style='width: 210px; float: left;''><a href='https://resourcewatch.org/' target='_blank'><img class='itemThumbnail' src='https://resourcewatch.org/static/images/logo-embed.png'></a></div><div class='item_right' style='float: none; width: auto; overflow: hidden;''><b>9. </b><a href=https://api.resourcewatch.org/v1/layer/cfd95864-1e95-4a7f-bdf8-e47e4bb5815e?includes=vocabulary,metadata target='_blank'><b>Guatemala forest cover - 2012</b></a><br> Data source leaflet 🗺Layer in GFW.<br>Last Modified: 2018-11-21T14:02:59.963Z<br>Connector: leaflet | Published: True </div> </div>"
      ],
      "text/plain": [
       "[0. Dataset f3fc0f1e-aa26-49b6-8741-45df2eea9ac2 Brazil Land Cover,\n",
       " 1. Layer 220080ec-1641-489c-96c4-4885ed618bf3 Brazil land cover - 2000-2016,\n",
       " 2. Layer 2f4d9b87-6629-4658-8175-87d7892a5f32 Earth Journalism Network Stories,\n",
       " 3. Layer 66203fea-2e58-4a55-b222-1dae075cf95d FORMA alerts,\n",
       " 4. Layer dd5df87f-39c2-4aeb-a462-3ef969b20b66 GLAD alerts,\n",
       " 5. Layer a8b4e2eb-328e-420b-8027-8466271d8368 Geographic coverage,\n",
       " 6. Table e663eb09-04de-4f39-b871-35c6c2ed10b5 Global Land Analysis and Discovery,\n",
       " 7. Dataset 746089a3-0c24-402f-81b6-f8d91fab77fe Guatemala Forest Cover,\n",
       " 8. Layer 2fe559f6-9ae7-4a47-87fb-a33a128652ed Guatemala forest change - 2001-2006,\n",
       " 9. Layer cfd95864-1e95-4a7f-bdf8-e47e4bb5815e Guatemala forest cover - 2012]"
      ]
     },
     "execution_count": 16,
     "metadata": {},
     "output_type": "execute_result"
    }
   ],
   "source": [
    "c"
   ]
  },
  {
   "cell_type": "markdown",
   "metadata": {},
   "source": [
    "Searching can be restricted with keyword arguments to specifically search types of items, applications, and more. If you want to render those items, you will need to do the following."
   ]
  },
  {
   "cell_type": "markdown",
   "metadata": {},
   "source": [
    "You can access items from a collection using subscripts, slices and more. Note that slicing, or selecting by element instantiates the Layer, Table, or Dataset object."
   ]
  },
  {
   "cell_type": "code",
   "execution_count": 17,
   "metadata": {},
   "outputs": [
    {
     "data": {
      "text/plain": [
       "[Dataset f3fc0f1e-aa26-49b6-8741-45df2eea9ac2 Brazil Land Cover,\n",
       " Layer 220080ec-1641-489c-96c4-4885ed618bf3 Brazil land cover - 2000-2016,\n",
       " Layer 2f4d9b87-6629-4658-8175-87d7892a5f32 Earth Journalism Network Stories]"
      ]
     },
     "execution_count": 17,
     "metadata": {},
     "output_type": "execute_result"
    }
   ],
   "source": [
    "c[0:3]"
   ]
  },
  {
   "cell_type": "code",
   "execution_count": 18,
   "metadata": {},
   "outputs": [
    {
     "data": {
      "text/html": [
       "<div class='item_container' style='height: auto; overflow: hidden; border: 1px solid #80ceb9;border-radius: 2px; background: #f2fffb; line-height: 1.21429em; padding: 10px;''><div class='item_left' style='width: 210px; float: left;''><a href='https://resourcewatch.org/' target='_blank'><img class='itemThumbnail' src='https://resourcewatch.org/static/images/logo-embed.png'></a></div><div class='item_right' style='float: none; width: auto; overflow: hidden;''><a href=https://api.resourcewatch.org/v1/layer/cfd95864-1e95-4a7f-bdf8-e47e4bb5815e?includes=vocabulary,metadata target='_blank'><b>Guatemala forest cover - 2012</b></a><br> Data source leaflet 🗺Layer in GFW.<br>Last Modified: 2018-11-21T14:02:59.963Z<br>Connector: leaflet | Published: True </div> </div>"
      ],
      "text/plain": [
       "Layer cfd95864-1e95-4a7f-bdf8-e47e4bb5815e Guatemala forest cover - 2012"
      ]
     },
     "execution_count": 18,
     "metadata": {},
     "output_type": "execute_result"
    }
   ],
   "source": [
    "c[-1]"
   ]
  },
  {
   "cell_type": "code",
   "execution_count": 19,
   "metadata": {},
   "outputs": [
    {
     "data": {
      "text/html": [
       "<div style=\"width:100%;\"><div style=\"position:relative;width:100%;height:0;padding-bottom:60%;\"><iframe src=\"data:text/html;charset=utf-8;base64,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\" style=\"position:absolute;width:100%;height:100%;left:0;top:0;border:none !important;\" allowfullscreen webkitallowfullscreen mozallowfullscreen></iframe></div></div>"
      ],
      "text/plain": [
       "<folium.folium.Map at 0x121222710>"
      ]
     },
     "execution_count": 19,
     "metadata": {},
     "output_type": "execute_result"
    }
   ],
   "source": [
    "c[-1].map()"
   ]
  },
  {
   "cell_type": "markdown",
   "metadata": {},
   "source": [
    "## Create a Geometry object\n",
    "\n",
    "Often you will need to perform some kind of intersect analysis between data held in datasets and tables and a geometry.\n",
    "We will now show you multiple ways to create your geometry objects."
   ]
  },
  {
   "cell_type": "markdown",
   "metadata": {},
   "source": [
    "### From an ID\n",
    "\n",
    "Vizzuality's API holds geometry objects as a Geostore item. Geostore items are accessed by an id-hash. If you know the hash of your object already you can simply call a geometry like so:"
   ]
  },
  {
   "cell_type": "code",
   "execution_count": 20,
   "metadata": {},
   "outputs": [
    {
     "data": {
      "text/html": [
       "<div class='item_container' style='height: auto; overflow: hidden; border: 1px solid #80ceb9;border-radius: 2px; background: #f2fffb; line-height: 1.21429em; padding: 10px;''><div class='item_left' style='width: 210px; float: left;''><a href='https://resourcewatch.org/' target='_blank'><img class='itemThumbnail' src='https://resourcewatch.org/static/images/logo-embed.png'></a></div><div class='item_right' style='float: none; width: auto; overflow: hidden;''><b>Geometry id</b>: <a href=https://production-api.globalforestwatch.org/v1/geostore/e8b6f974bcab5aefccd121654860be06 target='_blank'>e8b6f974bcab5aefccd121654860be06</a></br> </div> </div>"
      ],
      "text/plain": [
       "Geometry e8b6f974bcab5aefccd121654860be06"
      ]
     },
     "execution_count": 20,
     "metadata": {},
     "output_type": "execute_result"
    }
   ],
   "source": [
    "g = LMIPy.Geometry(id_hash='e8b6f974bcab5aefccd121654860be06')\n",
    "g"
   ]
  },
  {
   "cell_type": "markdown",
   "metadata": {},
   "source": [
    "### Geometry attributes\n",
    "\n",
    "The attributes can be accessed as a dictionary."
   ]
  },
  {
   "cell_type": "code",
   "execution_count": 21,
   "metadata": {},
   "outputs": [
    {
     "data": {
      "text/plain": [
       "{'geojson': {'features': [{'properties': None,\n",
       "    'type': 'Feature',\n",
       "    'geometry': {'type': 'Polygon',\n",
       "     'coordinates': [[[-47.8535156249717, -4.19348629349041],\n",
       "       [-49.6113281249728, -9.77447583284213],\n",
       "       [-44.513671874972, -9.25438811084709],\n",
       "       [-47.8535156249717, -4.19348629349041]]]}}],\n",
       "  'crs': {},\n",
       "  'type': 'FeatureCollection'},\n",
       " 'hash': 'e8b6f974bcab5aefccd121654860be06',\n",
       " 'provider': {},\n",
       " 'areaHa': 16931274.241571266,\n",
       " 'bbox': [-49.6113281249728,\n",
       "  -9.77447583284213,\n",
       "  -44.513671874972,\n",
       "  -4.19348629349041],\n",
       " 'lock': False,\n",
       " 'info': {'use': {}}}"
      ]
     },
     "execution_count": 21,
     "metadata": {},
     "output_type": "execute_result"
    }
   ],
   "source": [
    "g.attributes"
   ]
  },
  {
   "cell_type": "markdown",
   "metadata": {},
   "source": [
    "### Geometry as a Table\n",
    "\n",
    "Table method returns a dataframe of the geometry object. Map will add a Folium map with the geomerty rendered."
   ]
  },
  {
   "cell_type": "code",
   "execution_count": 22,
   "metadata": {},
   "outputs": [
    {
     "data": {
      "text/html": [
       "<div>\n",
       "<style scoped>\n",
       "    .dataframe tbody tr th:only-of-type {\n",
       "        vertical-align: middle;\n",
       "    }\n",
       "\n",
       "    .dataframe tbody tr th {\n",
       "        vertical-align: top;\n",
       "    }\n",
       "\n",
       "    .dataframe thead th {\n",
       "        text-align: right;\n",
       "    }\n",
       "</style>\n",
       "<table border=\"1\" class=\"dataframe\">\n",
       "  <thead>\n",
       "    <tr style=\"text-align: right;\">\n",
       "      <th></th>\n",
       "      <th>areaHa</th>\n",
       "      <th>bbox</th>\n",
       "      <th>geometry</th>\n",
       "      <th>id</th>\n",
       "      <th>use</th>\n",
       "    </tr>\n",
       "  </thead>\n",
       "  <tbody>\n",
       "    <tr>\n",
       "      <th>0</th>\n",
       "      <td>1.693127e+07</td>\n",
       "      <td>[-49.6113281249728, -9.77447583284213, -44.513...</td>\n",
       "      <td>POLYGON ((-47.8535156249717 -4.19348629349041,...</td>\n",
       "      <td>e8b6f974bcab5aefccd121654860be06</td>\n",
       "      <td>{}</td>\n",
       "    </tr>\n",
       "  </tbody>\n",
       "</table>\n",
       "</div>"
      ],
      "text/plain": [
       "         areaHa                                               bbox  \\\n",
       "0  1.693127e+07  [-49.6113281249728, -9.77447583284213, -44.513...   \n",
       "\n",
       "                                            geometry  \\\n",
       "0  POLYGON ((-47.8535156249717 -4.19348629349041,...   \n",
       "\n",
       "                                 id use  \n",
       "0  e8b6f974bcab5aefccd121654860be06  {}  "
      ]
     },
     "execution_count": 22,
     "metadata": {},
     "output_type": "execute_result"
    }
   ],
   "source": [
    "g.table()"
   ]
  },
  {
   "cell_type": "markdown",
   "metadata": {},
   "source": [
    "### Mapping the Geometry\n",
    "\n",
    "Calling .map() will create a Folium map with the geomerty rendered."
   ]
  },
  {
   "cell_type": "code",
   "execution_count": 23,
   "metadata": {},
   "outputs": [
    {
     "data": {
      "text/html": [
       "<div style=\"width:100%;\"><div style=\"position:relative;width:100%;height:0;padding-bottom:60%;\"><iframe src=\"data:text/html;charset=utf-8;base64,PCFET0NUWVBFIGh0bWw+CjxoZWFkPiAgICAKICAgIDxtZXRhIGh0dHAtZXF1aXY9ImNvbnRlbnQtdHlwZSIgY29udGVudD0idGV4dC9odG1sOyBjaGFyc2V0PVVURi04IiAvPgogICAgPHNjcmlwdD5MX1BSRUZFUl9DQU5WQVM9ZmFsc2U7IExfTk9fVE9VQ0g9ZmFsc2U7IExfRElTQUJMRV8zRD1mYWxzZTs8L3NjcmlwdD4KICAgIDxzY3JpcHQgc3JjPSJodHRwczovL2Nkbi5qc2RlbGl2ci5uZXQvbnBtL2xlYWZsZXRAMS40LjAvZGlzdC9sZWFmbGV0LmpzIj48L3NjcmlwdD4KICAgIDxzY3JpcHQgc3JjPSJodHRwczovL2NvZGUuanF1ZXJ5LmNvbS9qcXVlcnktMS4xMi40Lm1pbi5qcyI+PC9zY3JpcHQ+CiAgICA8c2NyaXB0IHNyYz0iaHR0cHM6Ly9tYXhjZG4uYm9vdHN0cmFwY2RuLmNvbS9ib290c3RyYXAvMy4yLjAvanMvYm9vdHN0cmFwLm1pbi5qcyI+PC9zY3JpcHQ+CiAgICA8c2NyaXB0IHNyYz0iaHR0cHM6Ly9jZG5qcy5jbG91ZGZsYXJlLmNvbS9hamF4L2xpYnMvTGVhZmxldC5hd2Vzb21lLW1hcmtlcnMvMi4wLjIvbGVhZmxldC5hd2Vzb21lLW1hcmtlcnMuanMiPjwvc2NyaXB0PgogICAgPGxpbmsgcmVsPSJzdHlsZXNoZWV0IiBocmVmPSJodHRwczovL2Nkbi5qc2RlbGl2ci5uZXQvbnBtL2xlYWZsZXRAMS40LjAvZGlzdC9sZWFmbGV0LmNzcyIvPgogICAgPGxpbmsgcmVsPSJzdHlsZXNoZWV0IiBocmVmPSJodHRwczovL21heGNkbi5ib290c3RyYXBjZG4uY29tL2Jvb3RzdHJhcC8zLjIuMC9jc3MvYm9vdHN0cmFwLm1pbi5jc3MiLz4KICAgIDxsaW5rIHJlbD0ic3R5bGVzaGVldCIgaHJlZj0iaHR0cHM6Ly9tYXhjZG4uYm9vdHN0cmFwY2RuLmNvbS9ib290c3RyYXAvMy4yLjAvY3NzL2Jvb3RzdHJhcC10aGVtZS5taW4uY3NzIi8+CiAgICA8bGluayByZWw9InN0eWxlc2hlZXQiIGhyZWY9Imh0dHBzOi8vbWF4Y2RuLmJvb3RzdHJhcGNkbi5jb20vZm9udC1hd2Vzb21lLzQuNi4zL2Nzcy9mb250LWF3ZXNvbWUubWluLmNzcyIvPgogICAgPGxpbmsgcmVsPSJzdHlsZXNoZWV0IiBocmVmPSJodHRwczovL2NkbmpzLmNsb3VkZmxhcmUuY29tL2FqYXgvbGlicy9MZWFmbGV0LmF3ZXNvbWUtbWFya2Vycy8yLjAuMi9sZWFmbGV0LmF3ZXNvbWUtbWFya2Vycy5jc3MiLz4KICAgIDxsaW5rIHJlbD0ic3R5bGVzaGVldCIgaHJlZj0iaHR0cHM6Ly9yYXdjZG4uZ2l0aGFjay5jb20vcHl0aG9uLXZpc3VhbGl6YXRpb24vZm9saXVtL21hc3Rlci9mb2xpdW0vdGVtcGxhdGVzL2xlYWZsZXQuYXdlc29tZS5yb3RhdGUuY3NzIi8+CiAgICA8c3R5bGU+aHRtbCwgYm9keSB7d2lkdGg6IDEwMCU7aGVpZ2h0OiAxMDAlO21hcmdpbjogMDtwYWRkaW5nOiAwO308L3N0eWxlPgogICAgPHN0eWxlPiNtYXAge3Bvc2l0aW9uOmFic29sdXRlO3RvcDowO2JvdHRvbTowO3JpZ2h0OjA7bGVmdDowO308L3N0eWxlPgogICAgCiAgICA8bWV0YSBuYW1lPSJ2aWV3cG9ydCIgY29udGVudD0id2lkdGg9ZGV2aWNlLXdpZHRoLAogICAgICAgIGluaXRpYWwtc2NhbGU9MS4wLCBtYXhpbXVtLXNjYWxlPTEuMCwgdXNlci1zY2FsYWJsZT1ubyIgLz4KICAgIDxzdHlsZT4jbWFwXzA5M2JmNTIxNDMzMjQ2ZGI5ZGNhMzg4ODI5YTVjOTgwIHsKICAgICAgICBwb3NpdGlvbjogcmVsYXRpdmU7CiAgICAgICAgd2lkdGg6IDEwMC4wJTsKICAgICAgICBoZWlnaHQ6IDEwMC4wJTsKICAgICAgICBsZWZ0OiAwLjAlOwogICAgICAgIHRvcDogMC4wJTsKICAgICAgICB9CiAgICA8L3N0eWxlPgo8L2hlYWQ+Cjxib2R5PiAgICAKICAgIAogICAgPGRpdiBjbGFzcz0iZm9saXVtLW1hcCIgaWQ9Im1hcF8wOTNiZjUyMTQzMzI0NmRiOWRjYTM4ODgyOWE1Yzk4MCIgPjwvZGl2Pgo8L2JvZHk+CjxzY3JpcHQ+ICAgIAogICAgCiAgICAKICAgICAgICB2YXIgYm91bmRzID0gbnVsbDsKICAgIAoKICAgIHZhciBtYXBfMDkzYmY1MjE0MzMyNDZkYjlkY2EzODg4MjlhNWM5ODAgPSBMLm1hcCgKICAgICAgICAnbWFwXzA5M2JmNTIxNDMzMjQ2ZGI5ZGNhMzg4ODI5YTVjOTgwJywgewogICAgICAgIGNlbnRlcjogWy03Ljc0MDc4MzQxMjM5MzIxMSwgLTQ3LjMyNjE3MTg3NDk3MjE2XSwKICAgICAgICB6b29tOiAxMCwKICAgICAgICBtYXhCb3VuZHM6IGJvdW5kcywKICAgICAgICBsYXllcnM6IFtdLAogICAgICAgIHdvcmxkQ29weUp1bXA6IGZhbHNlLAogICAgICAgIGNyczogTC5DUlMuRVBTRzM4NTcsCiAgICAgICAgem9vbUNvbnRyb2w6IHRydWUsCiAgICAgICAgfSk7CgoKICAgIAogICAgdmFyIHRpbGVfbGF5ZXJfOGQ2Yzg0YjdlYTViNGRhYzhjZjA5OGE2ZjVkYjcwYTYgPSBMLnRpbGVMYXllcigKICAgICAgICAnaHR0cHM6Ly97c30udGlsZXMubWFwYm94LmNvbS92My9tYXBib3gud29ybGQtYnJpZ2h0L3t6fS97eH0ve3l9LnBuZycsCiAgICAgICAgewogICAgICAgICJhdHRyaWJ1dGlvbiI6IG51bGwsCiAgICAgICAgImRldGVjdFJldGluYSI6IGZhbHNlLAogICAgICAgICJtYXhOYXRpdmVab29tIjogMTgsCiAgICAgICAgIm1heFpvb20iOiAxOCwKICAgICAgICAibWluWm9vbSI6IDAsCiAgICAgICAgIm5vV3JhcCI6IGZhbHNlLAogICAgICAgICJvcGFjaXR5IjogMSwKICAgICAgICAic3ViZG9tYWlucyI6ICJhYmMiLAogICAgICAgICJ0bXMiOiBmYWxzZQp9KS5hZGRUbyhtYXBfMDkzYmY1MjE0MzMyNDZkYjlkY2EzODg4MjlhNWM5ODApOwogICAgCiAgICAgICAgICAgICAgICAKCiAgICAgICAgICAgICAgICBtYXBfMDkzYmY1MjE0MzMyNDZkYjlkY2EzODg4MjlhNWM5ODAuZml0Qm91bmRzKAogICAgICAgICAgICAgICAgICAgIFtbLTQuMTkzNDg2MjkzNDkwNDEsIC00NC41MTM2NzE4NzQ5NzJdLCBbLTkuNzc0NDc1ODMyODQyMTMsIC00OS42MTEzMjgxMjQ5NzI4XV0sCiAgICAgICAgICAgICAgICAgICAge30KICAgICAgICAgICAgICAgICAgICApOwogICAgICAgICAgICAKICAgIAogICAgICAgIHZhciBnZW9fanNvbl9mMzFlMjI2OTA3MzE0OTFmYjA5MWFjMTE4ZGRmYTE0MCA9IEwuZ2VvSnNvbigKICAgICAgICAgICAgeyJiYm94IjogWy00OS42MTEzMjgxMjQ5NzI4LCAtOS43NzQ0NzU4MzI4NDIxMywgLTQ0LjUxMzY3MTg3NDk3MiwgLTQuMTkzNDg2MjkzNDkwNDFdLCAiZmVhdHVyZXMiOiBbeyJiYm94IjogWy00OS42MTEzMjgxMjQ5NzI4LCAtOS43NzQ0NzU4MzI4NDIxMywgLTQ0LjUxMzY3MTg3NDk3MiwgLTQuMTkzNDg2MjkzNDkwNDFdLCAiZ2VvbWV0cnkiOiB7ImNvb3JkaW5hdGVzIjogW1tbLTQ3Ljg1MzUxNTYyNDk3MTcsIC00LjE5MzQ4NjI5MzQ5MDQxXSwgWy00OS42MTEzMjgxMjQ5NzI4LCAtOS43NzQ0NzU4MzI4NDIxM10sIFstNDQuNTEzNjcxODc0OTcyLCAtOS4yNTQzODgxMTA4NDcwOV0sIFstNDcuODUzNTE1NjI0OTcxNywgLTQuMTkzNDg2MjkzNDkwNDFdXV0sICJ0eXBlIjogIlBvbHlnb24ifSwgImlkIjogIjAiLCAicHJvcGVydGllcyI6IHsiYXJlYUhhIjogMTY5MzEyNzQuMjQxNTcxMjY2LCAiYmJveCI6IFstNDkuNjExMzI4MTI0OTcyOCwgLTkuNzc0NDc1ODMyODQyMTMsIC00NC41MTM2NzE4NzQ5NzIsIC00LjE5MzQ4NjI5MzQ5MDQxXSwgImhpZ2hsaWdodCI6IHt9LCAiaWQiOiAiZThiNmY5NzRiY2FiNWFlZmNjZDEyMTY1NDg2MGJlMDYiLCAic3R5bGUiOiB7ImZpbGxPcGFjaXR5IjogMC4wfSwgInVzZSI6IHt9fSwgInR5cGUiOiAiRmVhdHVyZSJ9XSwgInR5cGUiOiAiRmVhdHVyZUNvbGxlY3Rpb24ifSwKICAgICAgICAgICAgewogICAgICAgICAgICB9CiAgICAgICAgKS5hZGRUbyhtYXBfMDkzYmY1MjE0MzMyNDZkYjlkY2EzODg4MjlhNWM5ODAgKTsKICAgICAgICBnZW9fanNvbl9mMzFlMjI2OTA3MzE0OTFmYjA5MWFjMTE4ZGRmYTE0MC5zZXRTdHlsZShmdW5jdGlvbihmZWF0dXJlKSB7cmV0dXJuIGZlYXR1cmUucHJvcGVydGllcy5zdHlsZTt9KTsKICAgICAgICAKPC9zY3JpcHQ+\" style=\"position:absolute;width:100%;height:100%;left:0;top:0;border:none !important;\" allowfullscreen webkitallowfullscreen mozallowfullscreen></iframe></div></div>"
      ],
      "text/plain": [
       "<folium.folium.Map at 0x1212226a0>"
      ]
     },
     "execution_count": 23,
     "metadata": {},
     "output_type": "execute_result"
    }
   ],
   "source": [
    "g.map()"
   ]
  },
  {
   "cell_type": "markdown",
   "metadata": {},
   "source": [
    "### From Geojson - Points\n",
    "\n",
    "You can create an object as you need on the fly from geojson. The act of creating an object will also register it to a Geostore service of your choice (locally, or on a remote server). You can create a geometry object from geojson Points and MultiPoints type data as follows:"
   ]
  },
  {
   "cell_type": "code",
   "execution_count": 24,
   "metadata": {},
   "outputs": [
    {
     "data": {
      "text/html": [
       "<div class='item_container' style='height: auto; overflow: hidden; border: 1px solid #80ceb9;border-radius: 2px; background: #f2fffb; line-height: 1.21429em; padding: 10px;''><div class='item_left' style='width: 210px; float: left;''><a href='https://resourcewatch.org/' target='_blank'><img class='itemThumbnail' src='https://resourcewatch.org/static/images/logo-embed.png'></a></div><div class='item_right' style='float: none; width: auto; overflow: hidden;''><b>Geometry id</b>: <a href=https://production-api.globalforestwatch.org/v1/geostore/08fcd7d990fe12a1077b68f2fdf8eb05 target='_blank'>08fcd7d990fe12a1077b68f2fdf8eb05</a></br> </div> </div>"
      ],
      "text/plain": [
       "Geometry 08fcd7d990fe12a1077b68f2fdf8eb05"
      ]
     },
     "execution_count": 24,
     "metadata": {},
     "output_type": "execute_result"
    }
   ],
   "source": [
    "atts = {'geojson': {'type': 'FeatureCollection',\n",
    "  'features': [{'type': 'Feature',\n",
    "    'properties': {},\n",
    "    'geometry': {'type': 'MultiPoint', 'coordinates': [[-4.29, 39.1097]]}}]}}\n",
    "\n",
    "point = LMIPy.Geometry(attributes=atts, server='https://production-api.globalforestwatch.org')\n",
    "point"
   ]
  },
  {
   "cell_type": "markdown",
   "metadata": {},
   "source": [
    "### From Geojson - Polygons\n",
    "\n",
    "You can create an object as you need on the fly from geojson. The act of creating an object will also register it to a Geostore service of your choice (locally, or on a remote server).\n",
    "You can create a geometry object from Geojson Polygon and Multipolygon type data as follows:"
   ]
  },
  {
   "cell_type": "code",
   "execution_count": 25,
   "metadata": {},
   "outputs": [
    {
     "data": {
      "text/html": [
       "<div class='item_container' style='height: auto; overflow: hidden; border: 1px solid #80ceb9;border-radius: 2px; background: #f2fffb; line-height: 1.21429em; padding: 10px;''><div class='item_left' style='width: 210px; float: left;''><a href='https://resourcewatch.org/' target='_blank'><img class='itemThumbnail' src='https://resourcewatch.org/static/images/logo-embed.png'></a></div><div class='item_right' style='float: none; width: auto; overflow: hidden;''><b>Geometry id</b>: <a href=https://production-api.globalforestwatch.org/v1/geostore/4dbc95a052c9c69e4d09fe72c359a207 target='_blank'>4dbc95a052c9c69e4d09fe72c359a207</a></br> </div> </div>"
      ],
      "text/plain": [
       "Geometry 4dbc95a052c9c69e4d09fe72c359a207"
      ]
     },
     "execution_count": 25,
     "metadata": {},
     "output_type": "execute_result"
    }
   ],
   "source": [
    "atts={'geojson': {'type': 'FeatureCollection',\n",
    "  'features': [{'type': 'Feature',\n",
    "    'properties': {},\n",
    "    'geometry': {'type': 'Polygon',\n",
    "     'coordinates': [[[82.265625, 32.84267363195431],\n",
    "       [77.34374999999999, 27.059125784374068],\n",
    "       [85.4296875, 22.268764039073968],\n",
    "       [90.3515625, 28.304380682962783],\n",
    "       [87.5390625, 32.54681317351514],\n",
    "       [82.265625, 32.84267363195431]]]}}]}}\n",
    "\n",
    "\n",
    "g1 = LMIPy.Geometry(attributes=atts)\n",
    "g1"
   ]
  },
  {
   "cell_type": "code",
   "execution_count": 26,
   "metadata": {},
   "outputs": [
    {
     "data": {
      "text/html": [
       "<div style=\"width:100%;\"><div style=\"position:relative;width:100%;height:0;padding-bottom:60%;\"><iframe src=\"data:text/html;charset=utf-8;base64,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\" style=\"position:absolute;width:100%;height:100%;left:0;top:0;border:none !important;\" allowfullscreen webkitallowfullscreen mozallowfullscreen></iframe></div></div>"
      ],
      "text/plain": [
       "<folium.folium.Map at 0x1212539b0>"
      ]
     },
     "execution_count": 26,
     "metadata": {},
     "output_type": "execute_result"
    }
   ],
   "source": [
    "g1.map()"
   ]
  },
  {
   "cell_type": "markdown",
   "metadata": {},
   "source": [
    "### From a Shapely object\n",
    "\n",
    "Shapely objects are at the root of popular python geolibraries such as Geopandas. We can recieve those geometry objects and create a Geometry object (simultaneously registering it in a Vizzuality Geostore server)."
   ]
  },
  {
   "cell_type": "code",
   "execution_count": 27,
   "metadata": {},
   "outputs": [],
   "source": [
    "import geopandas as gpd"
   ]
  },
  {
   "cell_type": "code",
   "execution_count": 28,
   "metadata": {},
   "outputs": [
    {
     "name": "stdout",
     "output_type": "stream",
     "text": [
      "Overwriting ./sample.geojson\n"
     ]
    }
   ],
   "source": [
    "%%writefile ./sample.geojson\n",
    "{\"features\":[{\"properties\":null,\"type\":\"Feature\",\"geometry\":{\"type\":\"Polygon\",\"coordinates\":[[[-43.1343734264374,-8.07358087603511],[-43.1327533721924,-8.08277985402466],[-43.1298887729645,-8.08181322762719],[-43.1103515625,-8.07815914647929],[-43.1094932556152,-8.07799981079283],[-43.1094932556152,-8.09641859926744],[-43.1103515625,-8.09645046495416],[-43.1187307834625,-8.0967372560211],[-43.1186878681183,-8.10273857778317],[-43.1186771392822,-8.10358831522616],[-43.1476235389709,-8.10358831522616],[-43.1477630138397,-8.10273857778317],[-43.1505310535431,-8.08645513764317],[-43.1517112255096,-8.08057041885644],[-43.1439757347107,-8.0795931648273],[-43.1448876857758,-8.07574785969913],[-43.1343734264374,-8.07358087603511]]]}}],\"crs\":{},\"type\":\"FeatureCollection\"}"
   ]
  },
  {
   "cell_type": "code",
   "execution_count": 29,
   "metadata": {},
   "outputs": [
    {
     "data": {
      "text/html": [
       "<div>\n",
       "<style scoped>\n",
       "    .dataframe tbody tr th:only-of-type {\n",
       "        vertical-align: middle;\n",
       "    }\n",
       "\n",
       "    .dataframe tbody tr th {\n",
       "        vertical-align: top;\n",
       "    }\n",
       "\n",
       "    .dataframe thead th {\n",
       "        text-align: right;\n",
       "    }\n",
       "</style>\n",
       "<table border=\"1\" class=\"dataframe\">\n",
       "  <thead>\n",
       "    <tr style=\"text-align: right;\">\n",
       "      <th></th>\n",
       "      <th>geometry</th>\n",
       "    </tr>\n",
       "  </thead>\n",
       "  <tbody>\n",
       "    <tr>\n",
       "      <th>0</th>\n",
       "      <td>POLYGON ((-43.1343734264374 -8.073580876035111...</td>\n",
       "    </tr>\n",
       "  </tbody>\n",
       "</table>\n",
       "</div>"
      ],
      "text/plain": [
       "                                            geometry\n",
       "0  POLYGON ((-43.1343734264374 -8.073580876035111..."
      ]
     },
     "execution_count": 29,
     "metadata": {},
     "output_type": "execute_result"
    }
   ],
   "source": [
    "df = gpd.read_file('./sample.geojson')\n",
    "df"
   ]
  },
  {
   "cell_type": "code",
   "execution_count": 30,
   "metadata": {},
   "outputs": [
    {
     "name": "stdout",
     "output_type": "stream",
     "text": [
      "Hello! 👋 I am a <class 'shapely.geometry.polygon.Polygon'>\n"
     ]
    },
    {
     "data": {
      "image/svg+xml": [
       "<svg xmlns=\"http://www.w3.org/2000/svg\" xmlns:xlink=\"http://www.w3.org/1999/xlink\" width=\"100.0\" height=\"100.0\" viewBox=\"-43.15339994430538 -8.105277034021936 0.04559540748595481 0.033384876782601935\" preserveAspectRatio=\"xMinYMin meet\"><g transform=\"matrix(1,0,0,-1,0,-16.17716919126127)\"><path fill-rule=\"evenodd\" fill=\"#66cc99\" stroke=\"#555555\" stroke-width=\"0.0009119081497190962\" opacity=\"0.6\" d=\"M -43.1343734264374,-8.07358087603511 L -43.1327533721924,-8.08277985402466 L -43.1298887729645,-8.08181322762719 L -43.1103515625,-8.07815914647929 L -43.1094932556152,-8.07799981079283 L -43.1094932556152,-8.09641859926744 L -43.1103515625,-8.09645046495416 L -43.1187307834625,-8.0967372560211 L -43.1186878681183,-8.10273857778317 L -43.1186771392822,-8.10358831522616 L -43.1476235389709,-8.10358831522616 L -43.1477630138397,-8.10273857778317 L -43.1505310535431,-8.08645513764317 L -43.1517112255096,-8.08057041885644 L -43.1439757347107,-8.0795931648273 L -43.1448876857758,-8.07574785969913 L -43.1343734264374,-8.07358087603511 z\" /></g></svg>"
      ],
      "text/plain": [
       "<shapely.geometry.polygon.Polygon at 0x121264a20>"
      ]
     },
     "execution_count": 30,
     "metadata": {},
     "output_type": "execute_result"
    }
   ],
   "source": [
    "s = df.geometry[0]\n",
    "print(f\"Hello! 👋 I am a {type(s)}\")\n",
    "s"
   ]
  },
  {
   "cell_type": "code",
   "execution_count": 31,
   "metadata": {},
   "outputs": [],
   "source": [
    "g = LMIPy.Geometry(s=s)"
   ]
  },
  {
   "cell_type": "code",
   "execution_count": 32,
   "metadata": {},
   "outputs": [
    {
     "data": {
      "text/html": [
       "<div class='item_container' style='height: auto; overflow: hidden; border: 1px solid #80ceb9;border-radius: 2px; background: #f2fffb; line-height: 1.21429em; padding: 10px;''><div class='item_left' style='width: 210px; float: left;''><a href='https://resourcewatch.org/' target='_blank'><img class='itemThumbnail' src='https://resourcewatch.org/static/images/logo-embed.png'></a></div><div class='item_right' style='float: none; width: auto; overflow: hidden;''><b>Geometry id</b>: <a href=https://production-api.globalforestwatch.org/v1/geostore/52298e4ccc18b0f8375a156be6e18138 target='_blank'>52298e4ccc18b0f8375a156be6e18138</a></br> </div> </div>"
      ],
      "text/plain": [
       "Geometry 52298e4ccc18b0f8375a156be6e18138"
      ]
     },
     "execution_count": 32,
     "metadata": {},
     "output_type": "execute_result"
    }
   ],
   "source": [
    "g"
   ]
  },
  {
   "cell_type": "markdown",
   "metadata": {},
   "source": [
    "### From Political Boundaries\n",
    "\n",
    "We are able to return political boundaries (based on [GADM](https://gadm.org/) data) using ISO, admin keys, down to admin-2 level. These should be passed in a dictionary to params. GADM 3.6 is currently used by default."
   ]
  },
  {
   "cell_type": "code",
   "execution_count": 33,
   "metadata": {},
   "outputs": [
    {
     "data": {
      "text/html": [
       "<div style=\"width:100%;\"><div style=\"position:relative;width:100%;height:0;padding-bottom:60%;\"><iframe src=\"data:text/html;charset=utf-8;base64,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\" style=\"position:absolute;width:100%;height:100%;left:0;top:0;border:none !important;\" allowfullscreen webkitallowfullscreen mozallowfullscreen></iframe></div></div>"
      ],
      "text/plain": [
       "<folium.folium.Map at 0x1084d9da0>"
      ]
     },
     "execution_count": 33,
     "metadata": {},
     "output_type": "execute_result"
    }
   ],
   "source": [
    "params={\n",
    "    'iso': 'BRA',\n",
    "    'adm1': None,\n",
    "    'adm2': None\n",
    "}\n",
    "admin = LMIPy.Geometry(parameters=params)\n",
    "admin.map()"
   ]
  },
  {
   "cell_type": "markdown",
   "metadata": {},
   "source": [
    "### From an admin geometry with an older GADM version \n",
    "\n",
    "Alternatively, you can specify a different gadm version."
   ]
  },
  {
   "cell_type": "code",
   "execution_count": 34,
   "metadata": {},
   "outputs": [
    {
     "data": {
      "text/html": [
       "<div style=\"width:100%;\"><div style=\"position:relative;width:100%;height:0;padding-bottom:60%;\"><iframe src=\"data:text/html;charset=utf-8;base64,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\" style=\"position:absolute;width:100%;height:100%;left:0;top:0;border:none !important;\" allowfullscreen webkitallowfullscreen mozallowfullscreen></iframe></div></div>"
      ],
      "text/plain": [
       "<folium.folium.Map at 0x1084de400>"
      ]
     },
     "execution_count": 34,
     "metadata": {},
     "output_type": "execute_result"
    }
   ],
   "source": [
    "\n",
    "params={\n",
    "    'iso': 'BRA',\n",
    "    'adm1': 1,\n",
    "    'adm2': 1,\n",
    "    'gadm': '2.7'\n",
    "}\n",
    "admin_v1 = LMIPy.Geometry(parameters=params)\n",
    "admin_v1.map()"
   ]
  },
  {
   "cell_type": "markdown",
   "metadata": {},
   "source": [
    "### From a Carto table and index\n",
    "\n",
    "You can also return geometries directly from a Carto table (under the public WRI-01 account) using the table name and cartodb_id.\n"
   ]
  },
  {
   "cell_type": "code",
   "execution_count": 35,
   "metadata": {},
   "outputs": [
    {
     "data": {
      "text/html": [
       "<div style=\"width:100%;\"><div style=\"position:relative;width:100%;height:0;padding-bottom:60%;\"><iframe src=\"data:text/html;charset=utf-8;base64,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\" style=\"position:absolute;width:100%;height:100%;left:0;top:0;border:none !important;\" allowfullscreen webkitallowfullscreen mozallowfullscreen></iframe></div></div>"
      ],
      "text/plain": [
       "<folium.folium.Map at 0x1084de240>"
      ]
     },
     "execution_count": 35,
     "metadata": {},
     "output_type": "execute_result"
    }
   ],
   "source": [
    "params={\n",
    "    'table': 'gfw_logging',\n",
    "    'id': 123\n",
    "}\n",
    "row_geom = LMIPy.Geometry(parameters=params)\n",
    "row_geom.map()"
   ]
  },
  {
   "cell_type": "markdown",
   "metadata": {},
   "source": [
    "## Describe a Geometry \n",
    "\n",
    "Return a title and textual description of a geometry in any language."
   ]
  },
  {
   "cell_type": "code",
   "execution_count": 36,
   "metadata": {},
   "outputs": [
    {
     "data": {
      "text/html": [
       "<div style=\"width:100%;\"><div style=\"position:relative;width:100%;height:0;padding-bottom:60%;\"><iframe src=\"data:text/html;charset=utf-8;base64,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\" style=\"position:absolute;width:100%;height:100%;left:0;top:0;border:none !important;\" allowfullscreen webkitallowfullscreen mozallowfullscreen></iframe></div></div>"
      ],
      "text/plain": [
       "<folium.folium.Map at 0x1084de320>"
      ]
     },
     "execution_count": 36,
     "metadata": {},
     "output_type": "execute_result"
    }
   ],
   "source": [
    "g.map()"
   ]
  },
  {
   "cell_type": "code",
   "execution_count": 37,
   "metadata": {},
   "outputs": [
    {
     "name": "stdout",
     "output_type": "stream",
     "text": [
      "Title: Area in Piauí, Microrregião de São Raimundo Nonato\n",
      "Description: Area of 1.14kha located in A lowland area. in Piauí. It is part of the Tropical and Subtropical Dry Broadleaf Forests biome. The area has a predominantly equatorial climate with dry winters. The region's habitat is comprised of Caatinga. This region has no Intact Forest.\n",
      "CPU times: user 34.6 ms, sys: 3.27 ms, total: 37.8 ms\n",
      "Wall time: 1.46 s\n"
     ]
    }
   ],
   "source": [
    "%%time\n",
    "g.describe()"
   ]
  },
  {
   "cell_type": "code",
   "execution_count": 38,
   "metadata": {},
   "outputs": [
    {
     "name": "stdout",
     "output_type": "stream",
     "text": [
      "Title: Área en Piauí, Microrregión de São Raimundo Nonato\n",
      "Description: Área de 1.14kha ubicada en una zona de tierras bajas. en piauí. Forma parte del bioma de los bosques de hoja ancha tropicales y subtropicales secos. El área tiene un clima predominantemente ecuatorial con inviernos secos. El hábitat de la región se compone de Caatinga. Esta región no tiene bosque intacto.\n"
     ]
    }
   ],
   "source": [
    "g.describe(lang='es') # same description but this time in Spanish"
   ]
  },
  {
   "cell_type": "markdown",
   "metadata": {},
   "source": [
    "Second example of geodescriber, but considering a larger area."
   ]
  },
  {
   "cell_type": "code",
   "execution_count": 39,
   "metadata": {},
   "outputs": [
    {
     "data": {
      "text/html": [
       "<div class='item_container' style='height: auto; overflow: hidden; border: 1px solid #80ceb9;border-radius: 2px; background: #f2fffb; line-height: 1.21429em; padding: 10px;''><div class='item_left' style='width: 210px; float: left;''><a href='https://resourcewatch.org/' target='_blank'><img class='itemThumbnail' src='https://resourcewatch.org/static/images/logo-embed.png'></a></div><div class='item_right' style='float: none; width: auto; overflow: hidden;''><b>Geometry id</b>: <a href=https://production-api.globalforestwatch.org/v1/geostore/4dbc95a052c9c69e4d09fe72c359a207 target='_blank'>4dbc95a052c9c69e4d09fe72c359a207</a></br> </div> </div>"
      ],
      "text/plain": [
       "Geometry 4dbc95a052c9c69e4d09fe72c359a207"
      ]
     },
     "execution_count": 39,
     "metadata": {},
     "output_type": "execute_result"
    }
   ],
   "source": [
    "atts={'geojson': {'type': 'FeatureCollection',\n",
    "  'features': [{'type': 'Feature',\n",
    "    'properties': {},\n",
    "    'geometry': {'type': 'Polygon',\n",
    "     'coordinates': [[[82.265625, 32.84267363195431],\n",
    "       [77.34374999999999, 27.059125784374068],\n",
    "       [85.4296875, 22.268764039073968],\n",
    "       [90.3515625, 28.304380682962783],\n",
    "       [87.5390625, 32.54681317351514],\n",
    "       [82.265625, 32.84267363195431]]]}}]}}\n",
    "\n",
    "\n",
    "g2 = LMIPy.Geometry(attributes=atts)\n",
    "g2"
   ]
  },
  {
   "cell_type": "code",
   "execution_count": 40,
   "metadata": {},
   "outputs": [
    {
     "data": {
      "text/html": [
       "<div style=\"width:100%;\"><div style=\"position:relative;width:100%;height:0;padding-bottom:60%;\"><iframe src=\"data:text/html;charset=utf-8;base64,PCFET0NUWVBFIGh0bWw+CjxoZWFkPiAgICAKICAgIDxtZXRhIGh0dHAtZXF1aXY9ImNvbnRlbnQtdHlwZSIgY29udGVudD0idGV4dC9odG1sOyBjaGFyc2V0PVVURi04IiAvPgogICAgPHNjcmlwdD5MX1BSRUZFUl9DQU5WQVM9ZmFsc2U7IExfTk9fVE9VQ0g9ZmFsc2U7IExfRElTQUJMRV8zRD1mYWxzZTs8L3NjcmlwdD4KICAgIDxzY3JpcHQgc3JjPSJodHRwczovL2Nkbi5qc2RlbGl2ci5uZXQvbnBtL2xlYWZsZXRAMS40LjAvZGlzdC9sZWFmbGV0LmpzIj48L3NjcmlwdD4KICAgIDxzY3JpcHQgc3JjPSJodHRwczovL2NvZGUuanF1ZXJ5LmNvbS9qcXVlcnktMS4xMi40Lm1pbi5qcyI+PC9zY3JpcHQ+CiAgICA8c2NyaXB0IHNyYz0iaHR0cHM6Ly9tYXhjZG4uYm9vdHN0cmFwY2RuLmNvbS9ib290c3RyYXAvMy4yLjAvanMvYm9vdHN0cmFwLm1pbi5qcyI+PC9zY3JpcHQ+CiAgICA8c2NyaXB0IHNyYz0iaHR0cHM6Ly9jZG5qcy5jbG91ZGZsYXJlLmNvbS9hamF4L2xpYnMvTGVhZmxldC5hd2Vzb21lLW1hcmtlcnMvMi4wLjIvbGVhZmxldC5hd2Vzb21lLW1hcmtlcnMuanMiPjwvc2NyaXB0PgogICAgPGxpbmsgcmVsPSJzdHlsZXNoZWV0IiBocmVmPSJodHRwczovL2Nkbi5qc2RlbGl2ci5uZXQvbnBtL2xlYWZsZXRAMS40LjAvZGlzdC9sZWFmbGV0LmNzcyIvPgogICAgPGxpbmsgcmVsPSJzdHlsZXNoZWV0IiBocmVmPSJodHRwczovL21heGNkbi5ib290c3RyYXBjZG4uY29tL2Jvb3RzdHJhcC8zLjIuMC9jc3MvYm9vdHN0cmFwLm1pbi5jc3MiLz4KICAgIDxsaW5rIHJlbD0ic3R5bGVzaGVldCIgaHJlZj0iaHR0cHM6Ly9tYXhjZG4uYm9vdHN0cmFwY2RuLmNvbS9ib290c3RyYXAvMy4yLjAvY3NzL2Jvb3RzdHJhcC10aGVtZS5taW4uY3NzIi8+CiAgICA8bGluayByZWw9InN0eWxlc2hlZXQiIGhyZWY9Imh0dHBzOi8vbWF4Y2RuLmJvb3RzdHJhcGNkbi5jb20vZm9udC1hd2Vzb21lLzQuNi4zL2Nzcy9mb250LWF3ZXNvbWUubWluLmNzcyIvPgogICAgPGxpbmsgcmVsPSJzdHlsZXNoZWV0IiBocmVmPSJodHRwczovL2NkbmpzLmNsb3VkZmxhcmUuY29tL2FqYXgvbGlicy9MZWFmbGV0LmF3ZXNvbWUtbWFya2Vycy8yLjAuMi9sZWFmbGV0LmF3ZXNvbWUtbWFya2Vycy5jc3MiLz4KICAgIDxsaW5rIHJlbD0ic3R5bGVzaGVldCIgaHJlZj0iaHR0cHM6Ly9yYXdjZG4uZ2l0aGFjay5jb20vcHl0aG9uLXZpc3VhbGl6YXRpb24vZm9saXVtL21hc3Rlci9mb2xpdW0vdGVtcGxhdGVzL2xlYWZsZXQuYXdlc29tZS5yb3RhdGUuY3NzIi8+CiAgICA8c3R5bGU+aHRtbCwgYm9keSB7d2lkdGg6IDEwMCU7aGVpZ2h0OiAxMDAlO21hcmdpbjogMDtwYWRkaW5nOiAwO308L3N0eWxlPgogICAgPHN0eWxlPiNtYXAge3Bvc2l0aW9uOmFic29sdXRlO3RvcDowO2JvdHRvbTowO3JpZ2h0OjA7bGVmdDowO308L3N0eWxlPgogICAgCiAgICA8bWV0YSBuYW1lPSJ2aWV3cG9ydCIgY29udGVudD0id2lkdGg9ZGV2aWNlLXdpZHRoLAogICAgICAgIGluaXRpYWwtc2NhbGU9MS4wLCBtYXhpbXVtLXNjYWxlPTEuMCwgdXNlci1zY2FsYWJsZT1ubyIgLz4KICAgIDxzdHlsZT4jbWFwX2ZhNWZmMzZkYjhkNjRjZDA4NGI3Y2U1NTVkZjE1OTUyIHsKICAgICAgICBwb3NpdGlvbjogcmVsYXRpdmU7CiAgICAgICAgd2lkdGg6IDEwMC4wJTsKICAgICAgICBoZWlnaHQ6IDEwMC4wJTsKICAgICAgICBsZWZ0OiAwLjAlOwogICAgICAgIHRvcDogMC4wJTsKICAgICAgICB9CiAgICA8L3N0eWxlPgo8L2hlYWQ+Cjxib2R5PiAgICAKICAgIAogICAgPGRpdiBjbGFzcz0iZm9saXVtLW1hcCIgaWQ9Im1hcF9mYTVmZjM2ZGI4ZDY0Y2QwODRiN2NlNTU1ZGYxNTk1MiIgPjwvZGl2Pgo8L2JvZHk+CjxzY3JpcHQ+ICAgIAogICAgCiAgICAKICAgICAgICB2YXIgYm91bmRzID0gbnVsbDsKICAgIAoKICAgIHZhciBtYXBfZmE1ZmYzNmRiOGQ2NGNkMDg0YjdjZTU1NWRmMTU5NTIgPSBMLm1hcCgKICAgICAgICAnbWFwX2ZhNWZmMzZkYjhkNjRjZDA4NGI3Y2U1NTVkZjE1OTUyJywgewogICAgICAgIGNlbnRlcjogWzI4LjA3ODg0MzA2NDM2OTU0NywgODQuMjM3NjE2NDk3MTAyMjVdLAogICAgICAgIHpvb206IDEwLAogICAgICAgIG1heEJvdW5kczogYm91bmRzLAogICAgICAgIGxheWVyczogW10sCiAgICAgICAgd29ybGRDb3B5SnVtcDogZmFsc2UsCiAgICAgICAgY3JzOiBMLkNSUy5FUFNHMzg1NywKICAgICAgICB6b29tQ29udHJvbDogdHJ1ZSwKICAgICAgICB9KTsKCgogICAgCiAgICB2YXIgdGlsZV9sYXllcl8xZTRmNjJhZDVjZGU0NjU3OGFiYzdmYWI2MmMzNzZlOCA9IEwudGlsZUxheWVyKAogICAgICAgICdodHRwczovL3tzfS50aWxlcy5tYXBib3guY29tL3YzL21hcGJveC53b3JsZC1icmlnaHQve3p9L3t4fS97eX0ucG5nJywKICAgICAgICB7CiAgICAgICAgImF0dHJpYnV0aW9uIjogbnVsbCwKICAgICAgICAiZGV0ZWN0UmV0aW5hIjogZmFsc2UsCiAgICAgICAgIm1heE5hdGl2ZVpvb20iOiAxOCwKICAgICAgICAibWF4Wm9vbSI6IDE4LAogICAgICAgICJtaW5ab29tIjogMCwKICAgICAgICAibm9XcmFwIjogZmFsc2UsCiAgICAgICAgIm9wYWNpdHkiOiAxLAogICAgICAgICJzdWJkb21haW5zIjogImFiYyIsCiAgICAgICAgInRtcyI6IGZhbHNlCn0pLmFkZFRvKG1hcF9mYTVmZjM2ZGI4ZDY0Y2QwODRiN2NlNTU1ZGYxNTk1Mik7CiAgICAKICAgICAgICAgICAgICAgIAoKICAgICAgICAgICAgICAgIG1hcF9mYTVmZjM2ZGI4ZDY0Y2QwODRiN2NlNTU1ZGYxNTk1Mi5maXRCb3VuZHMoCiAgICAgICAgICAgICAgICAgICAgW1szMi44NDI2NzM2MzE5NTQzLCA5MC4zNTE1NjI1XSwgWzIyLjI2ODc2NDAzOTA3NCwgNzcuMzQzNzVdXSwKICAgICAgICAgICAgICAgICAgICB7fQogICAgICAgICAgICAgICAgICAgICk7CiAgICAgICAgICAgIAogICAgCiAgICAgICAgdmFyIGdlb19qc29uXzI3OTE2MzRmODZhODQ4MmI4ZjY1MDQ0YjljZGMyMDA0ID0gTC5nZW9Kc29uKAogICAgICAgICAgICB7ImJib3giOiBbNzcuMzQzNzUsIDIyLjI2ODc2NDAzOTA3NCwgOTAuMzUxNTYyNSwgMzIuODQyNjczNjMxOTU0M10sICJmZWF0dXJlcyI6IFt7ImJib3giOiBbNzcuMzQzNzUsIDIyLjI2ODc2NDAzOTA3NCwgOTAuMzUxNTYyNSwgMzIuODQyNjczNjMxOTU0M10sICJnZW9tZXRyeSI6IHsiY29vcmRpbmF0ZXMiOiBbW1s4Mi4yNjU2MjUsIDMyLjg0MjY3MzYzMTk1NDNdLCBbNzcuMzQzNzUsIDI3LjA1OTEyNTc4NDM3NDFdLCBbODUuNDI5Njg3NSwgMjIuMjY4NzY0MDM5MDc0XSwgWzkwLjM1MTU2MjUsIDI4LjMwNDM4MDY4Mjk2MjhdLCBbODcuNTM5MDYyNSwgMzIuNTQ2ODEzMTczNTE1MV0sIFs4Mi4yNjU2MjUsIDMyLjg0MjY3MzYzMTk1NDNdXV0sICJ0eXBlIjogIlBvbHlnb24ifSwgImlkIjogIjAiLCAicHJvcGVydGllcyI6IHsiYXJlYUhhIjogODkxMjU1NDIuNzgwNjY3MjgsICJiYm94IjogWzc3LjM0Mzc1LCAyMi4yNjg3NjQwMzkwNzQsIDkwLjM1MTU2MjUsIDMyLjg0MjY3MzYzMTk1NDNdLCAiaGlnaGxpZ2h0Ijoge30sICJpZCI6ICI0ZGJjOTVhMDUyYzljNjllNGQwOWZlNzJjMzU5YTIwNyIsICJzdHlsZSI6IHsiZmlsbE9wYWNpdHkiOiAwLjB9LCAidXNlIjoge319LCAidHlwZSI6ICJGZWF0dXJlIn1dLCAidHlwZSI6ICJGZWF0dXJlQ29sbGVjdGlvbiJ9LAogICAgICAgICAgICB7CiAgICAgICAgICAgIH0KICAgICAgICApLmFkZFRvKG1hcF9mYTVmZjM2ZGI4ZDY0Y2QwODRiN2NlNTU1ZGYxNTk1MiApOwogICAgICAgIGdlb19qc29uXzI3OTE2MzRmODZhODQ4MmI4ZjY1MDQ0YjljZGMyMDA0LnNldFN0eWxlKGZ1bmN0aW9uKGZlYXR1cmUpIHtyZXR1cm4gZmVhdHVyZS5wcm9wZXJ0aWVzLnN0eWxlO30pOwogICAgICAgIAo8L3NjcmlwdD4=\" style=\"position:absolute;width:100%;height:100%;left:0;top:0;border:none !important;\" allowfullscreen webkitallowfullscreen mozallowfullscreen></iframe></div></div>"
      ],
      "text/plain": [
       "<folium.folium.Map at 0x1084de128>"
      ]
     },
     "execution_count": 40,
     "metadata": {},
     "output_type": "execute_result"
    }
   ],
   "source": [
    "g2.map()"
   ]
  },
  {
   "cell_type": "code",
   "execution_count": 41,
   "metadata": {},
   "outputs": [
    {
     "name": "stdout",
     "output_type": "stream",
     "text": [
      "Title: Area in Asia\n",
      "Description: Area of 87.97Mha located in a mountainous area in Asia. The region is made up of several types of biomes, including Montane Grasslands and Shrublands, and Tropical and Subtropical Moist Broadleaf Forests. The most common environmental conditions of the area are polar tundra climate. The region is made up of different habitats, including Central Tibetan Plateau alpine steppe, and Upper Gangetic Plains moist deciduous forests. This region contains some Intact Forest.\n"
     ]
    }
   ],
   "source": [
    "g2.describe()"
   ]
  },
  {
   "cell_type": "markdown",
   "metadata": {},
   "source": [
    "After running describe, the results are avaiable as geometry.description"
   ]
  },
  {
   "cell_type": "code",
   "execution_count": 42,
   "metadata": {},
   "outputs": [
    {
     "data": {
      "text/plain": [
       "{'title': 'Area in Asia',\n",
       " 'description': 'Area of 87.97Mha located in a mountainous area in Asia. The region is made up of several types of biomes, including Montane Grasslands and Shrublands, and Tropical and Subtropical Moist Broadleaf Forests. The most common environmental conditions of the area are polar tundra climate. The region is made up of different habitats, including Central Tibetan Plateau alpine steppe, and Upper Gangetic Plains moist deciduous forests. This region contains some Intact Forest.',\n",
       " 'lang': 'en'}"
      ]
     },
     "execution_count": 42,
     "metadata": {},
     "output_type": "execute_result"
    }
   ],
   "source": [
    "g2.description"
   ]
  },
  {
   "cell_type": "markdown",
   "metadata": {},
   "source": [
    "## Add a satellite image to the map of your Geometry\n",
    "\n",
    "### Single images\n",
    "\n",
    "The Geometry().map() method supports the return of recent satellite imagery. We calculate the centroid of your geometry and return the best, most recent image that intersects with that point. This is simply to provide context to your geometry. For point geometries we return the best cloud-free image we can find within a specified date range."
   ]
  },
  {
   "cell_type": "code",
   "execution_count": 43,
   "metadata": {},
   "outputs": [
    {
     "data": {
      "text/html": [
       "<div class='item_container' style='height: auto; overflow: hidden; border: 1px solid #80ceb9;border-radius: 2px; background: #f2fffb; line-height: 1.21429em; padding: 10px;''><div class='item_left' style='width: 210px; float: left;''><a href='https://resourcewatch.org/' target='_blank'><img class='itemThumbnail' src='https://resourcewatch.org/static/images/logo-embed.png'></a></div><div class='item_right' style='float: none; width: auto; overflow: hidden;''><b>Geometry id</b>: <a href=https://production-api.globalforestwatch.org/v1/geostore/08fcd7d990fe12a1077b68f2fdf8eb05 target='_blank'>08fcd7d990fe12a1077b68f2fdf8eb05</a></br> </div> </div>"
      ],
      "text/plain": [
       "Geometry 08fcd7d990fe12a1077b68f2fdf8eb05"
      ]
     },
     "execution_count": 43,
     "metadata": {},
     "output_type": "execute_result"
    }
   ],
   "source": [
    "# Create a point\n",
    "\n",
    "atts = {'geojson': {'type': 'FeatureCollection',\n",
    "  'features': [{'type': 'Feature',\n",
    "    'properties': {},\n",
    "    'geometry': {'type': 'MultiPoint', 'coordinates': [[-4.29, 39.1097]]}}]}}\n",
    "\n",
    "point = LMIPy.Geometry(attributes=atts, server='https://production-api.globalforestwatch.org')\n",
    "point"
   ]
  },
  {
   "cell_type": "code",
   "execution_count": 44,
   "metadata": {},
   "outputs": [
    {
     "data": {
      "text/html": [
       "<div style=\"width:100%;\"><div style=\"position:relative;width:100%;height:0;padding-bottom:60%;\"><iframe src=\"data:text/html;charset=utf-8;base64,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\" style=\"position:absolute;width:100%;height:100%;left:0;top:0;border:none !important;\" allowfullscreen webkitallowfullscreen mozallowfullscreen></iframe></div></div>"
      ],
      "text/plain": [
       "<folium.folium.Map at 0x10a3fada0>"
      ]
     },
     "execution_count": 44,
     "metadata": {},
     "output_type": "execute_result"
    }
   ],
   "source": [
    "point.map(image=True)"
   ]
  },
  {
   "cell_type": "markdown",
   "metadata": {},
   "source": [
    "### Composite images\n",
    "\n",
    "Whereas for polygon-type geoms we return a cloud-free composite image clipped to your geometry."
   ]
  },
  {
   "cell_type": "code",
   "execution_count": 45,
   "metadata": {},
   "outputs": [
    {
     "data": {
      "text/html": [
       "<div class='item_container' style='height: auto; overflow: hidden; border: 1px solid #80ceb9;border-radius: 2px; background: #f2fffb; line-height: 1.21429em; padding: 10px;''><div class='item_left' style='width: 210px; float: left;''><a href='https://resourcewatch.org/' target='_blank'><img class='itemThumbnail' src='https://resourcewatch.org/static/images/logo-embed.png'></a></div><div class='item_right' style='float: none; width: auto; overflow: hidden;''><b>Geometry id</b>: <a href=https://production-api.globalforestwatch.org/v1/geostore/f6726c97139f362ca9a10d70dc686375 target='_blank'>f6726c97139f362ca9a10d70dc686375</a></br> </div> </div>"
      ],
      "text/plain": [
       "Geometry f6726c97139f362ca9a10d70dc686375"
      ]
     },
     "execution_count": 45,
     "metadata": {},
     "output_type": "execute_result"
    }
   ],
   "source": [
    "# Create a polygon\n",
    "\n",
    "atts={'geojson': {'type': 'FeatureCollection',\n",
    "  'features': [{'type': 'Feature',\n",
    "    'properties': {},\n",
    "    'geometry': {'type': 'Polygon',\n",
    "     'coordinates': [[[-0.87890625, 43.329173667843904],\n",
    "       [-1.6149902343749998, 42.75104599038353],\n",
    "       [-1.1865234375, 42.35854391749705],\n",
    "       [-0.6427001953125, 42.755079545072135],\n",
    "       [-0.45043945312499994, 42.9524020856897],\n",
    "       [-0.87890625, 43.329173667843904]]]}}]}}\n",
    "\n",
    "g1 = LMIPy.Geometry(attributes=atts, server='https://production-api.globalforestwatch.org')\n",
    "g1"
   ]
  },
  {
   "cell_type": "code",
   "execution_count": 46,
   "metadata": {},
   "outputs": [
    {
     "data": {
      "text/html": [
       "<div style=\"width:100%;\"><div style=\"position:relative;width:100%;height:0;padding-bottom:60%;\"><iframe src=\"data:text/html;charset=utf-8;base64,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\" style=\"position:absolute;width:100%;height:100%;left:0;top:0;border:none !important;\" allowfullscreen webkitallowfullscreen mozallowfullscreen></iframe></div></div>"
      ],
      "text/plain": [
       "<folium.folium.Map at 0x121286470>"
      ]
     },
     "execution_count": 46,
     "metadata": {},
     "output_type": "execute_result"
    }
   ],
   "source": [
    "g1.map(image=True, instrument='sentinel')"
   ]
  },
  {
   "cell_type": "markdown",
   "metadata": {},
   "source": [
    "## Display a Layer and Geometry together"
   ]
  },
  {
   "cell_type": "code",
   "execution_count": 47,
   "metadata": {},
   "outputs": [
    {
     "data": {
      "text/html": [
       "<div class='item_container' style='height: auto; overflow: hidden; border: 1px solid #80ceb9;border-radius: 2px; background: #f2fffb; line-height: 1.21429em; padding: 10px;''><div class='item_left' style='width: 210px; float: left;''><a href='https://resourcewatch.org/' target='_blank'><img class='itemThumbnail' src='https://resourcewatch.org/static/images/logo-embed.png'></a></div><div class='item_right' style='float: none; width: auto; overflow: hidden;''><a href=https://api.resourcewatch.org/v1/layer/3ef039ba-29c7-459d-aadd-66d6e6cc8f5e?includes=vocabulary,metadata target='_blank'><b>Aboveground mangrove biomass density - 2000</b></a><br> GEE asset: <a href='https://code.earthengine.google.com/asset='None target='_blank'>None</a> 🗺Layer in GFW.<br>Last Modified: 2019-04-05T11:17:35.095Z<br>Connector: gee | Published: True </div> </div>"
      ],
      "text/plain": [
       "Layer 3ef039ba-29c7-459d-aadd-66d6e6cc8f5e Aboveground mangrove biomass density - 2000"
      ]
     },
     "execution_count": 47,
     "metadata": {},
     "output_type": "execute_result"
    }
   ],
   "source": [
    "atts={'geojson': {'type': 'FeatureCollection',\n",
    "  'features': [{'type': 'Feature',\n",
    "    'properties': {},\n",
    "    'geometry': {'type': 'Polygon',\n",
    "     'coordinates': [[[-48.131103515625, -0.6001172008725418],\n",
    "       [-48.13934326171875, -0.9791088369866402],\n",
    "       [-47.86331176757812, -0.9818550168696459],\n",
    "       [-47.616119384765625, -0.8459165322899671],\n",
    "       [-47.50213623046875, -0.7182123915862891],\n",
    "       [-47.51861572265625, -0.5287095375108173],\n",
    "       [-47.882537841796875, -0.5163504323777461],\n",
    "       [-48.131103515625, -0.6001172008725418]]]}}]}}\n",
    "g = LMIPy.Geometry(attributes=atts)\n",
    "l = LMIPy.Layer(id_hash='3ef039ba-29c7-459d-aadd-66d6e6cc8f5e')\n",
    "l"
   ]
  },
  {
   "cell_type": "code",
   "execution_count": 48,
   "metadata": {},
   "outputs": [
    {
     "data": {
      "text/html": [
       "<div style=\"width:100%;\"><div style=\"position:relative;width:100%;height:0;padding-bottom:60%;\"><iframe src=\"data:text/html;charset=utf-8;base64,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\" style=\"position:absolute;width:100%;height:100%;left:0;top:0;border:none !important;\" allowfullscreen webkitallowfullscreen mozallowfullscreen></iframe></div></div>"
      ],
      "text/plain": [
       "<folium.folium.Map at 0x121280320>"
      ]
     },
     "execution_count": 48,
     "metadata": {},
     "output_type": "execute_result"
    }
   ],
   "source": [
    "l.map(geometry=g)"
   ]
  },
  {
   "cell_type": "markdown",
   "metadata": {},
   "source": [
    "## Intersecting Raster data with Geometry objects\n",
    "\n",
    "Any Layer or Dataset objects based on an Earth Engine raster can be intersected with LMIPy.Geometry objects.\n",
    "\n",
    "### Dataset Intersections\n",
    "In the first instance we show the result of an intersect between a geometry roughly bounding London, and a Population density layer."
   ]
  },
  {
   "cell_type": "code",
   "execution_count": 49,
   "metadata": {},
   "outputs": [],
   "source": [
    "atts={'geojson': {'type': 'FeatureCollection',\n",
    "  'features': [{'type': 'Feature',\n",
    "    'properties': {},\n",
    "    'geometry': {'type': 'Polygon',\n",
    "     'coordinates': [\n",
    "          [\n",
    "            [\n",
    "              -0.5712890625,\n",
    "              51.28940590271679\n",
    "            ],\n",
    "            [\n",
    "              0.48339843749999994,\n",
    "              51.28940590271679\n",
    "            ],\n",
    "            [\n",
    "              0.48339843749999994,\n",
    "              51.781435604431195\n",
    "            ],\n",
    "            [\n",
    "              -0.5712890625,\n",
    "              51.781435604431195\n",
    "            ],\n",
    "            [\n",
    "              -0.5712890625,\n",
    "              51.28940590271679\n",
    "            ]\n",
    "          ]\n",
    "        ]}}]}}\n",
    "\n",
    "g = LMIPy.Geometry(attributes=atts)\n"
   ]
  },
  {
   "cell_type": "code",
   "execution_count": 50,
   "metadata": {},
   "outputs": [
    {
     "data": {
      "text/html": [
       "<div class='item_container' style='height: auto; overflow: hidden; border: 1px solid #80ceb9;border-radius: 2px; background: #f2fffb; line-height: 1.21429em; padding: 10px;''><div class='item_left' style='width: 210px; float: left;''><a href='https://resourcewatch.org/' target='_blank'><img class='itemThumbnail' src='https://resourcewatch.org/static/images/logo-embed.png'></a></div><div class='item_right' style='float: none; width: auto; overflow: hidden;''><a href=https://api.resourcewatch.org/v1/dataset/a4e9c32d-d037-4c50-a893-967cad193537?includes=vocabulary,metadata,layer,widget target='_blank'><b>Population Density</b></a><br> GEE asset: <a href='https://code.earthengine.google.com/asset='CIESIN/GPWv4/population-density/2015 target='_blank'>CIESIN/GPWv4/population-density/2015</a> 🗺Dataset in GFW.<br>Last Modified: 2019-03-08T18:24:06.420Z<br>Connector: gee | Published: True </div> </div>"
      ],
      "text/plain": [
       "Dataset a4e9c32d-d037-4c50-a893-967cad193537 Population Density"
      ]
     },
     "execution_count": 50,
     "metadata": {},
     "output_type": "execute_result"
    }
   ],
   "source": [
    "ds = LMIPy.Dataset(id_hash='a4e9c32d-d037-4c50-a893-967cad193537')\n",
    "ds"
   ]
  },
  {
   "cell_type": "code",
   "execution_count": 51,
   "metadata": {},
   "outputs": [
    {
     "data": {
      "text/html": [
       "<div style=\"width:100%;\"><div style=\"position:relative;width:100%;height:0;padding-bottom:60%;\"><iframe src=\"data:text/html;charset=utf-8;base64,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\" style=\"position:absolute;width:100%;height:100%;left:0;top:0;border:none !important;\" allowfullscreen webkitallowfullscreen mozallowfullscreen></iframe></div></div>"
      ],
      "text/plain": [
       "<folium.folium.Map at 0x121131eb8>"
      ]
     },
     "execution_count": 51,
     "metadata": {},
     "output_type": "execute_result"
    }
   ],
   "source": [
    "ds.layers[0].map(geometry=g)"
   ]
  },
  {
   "cell_type": "markdown",
   "metadata": {},
   "source": [
    "Finally, you can call the intersect function on the dataset object to see a dictionary of values."
   ]
  },
  {
   "cell_type": "code",
   "execution_count": 52,
   "metadata": {},
   "outputs": [
    {
     "data": {
      "text/plain": [
       "{'population-density': {'count': 138767,\n",
       "  'max': 5984.53564453125,\n",
       "  'mean': 1.5942131871343077,\n",
       "  'min': 0.0,\n",
       "  'stdev': 31.059972394495446,\n",
       "  'sum': 221224.18133906648}}"
      ]
     },
     "execution_count": 52,
     "metadata": {},
     "output_type": "execute_result"
    }
   ],
   "source": [
    "ds.intersect(geometry=g)"
   ]
  },
  {
   "cell_type": "markdown",
   "metadata": {},
   "source": [
    "### Layer Intersections\n",
    "\n",
    "Intersections against layers work in the same manner. Here we show an intersect between an area along Brazil's coast and a Mangrove biomass density Layer."
   ]
  },
  {
   "cell_type": "code",
   "execution_count": 53,
   "metadata": {},
   "outputs": [],
   "source": [
    "atts={'geojson': {'type': 'FeatureCollection',\n",
    "  'features': [{'type': 'Feature',\n",
    "    'properties': {},\n",
    "    'geometry': {'type': 'Polygon',\n",
    "     'coordinates': \n",
    "\n",
    "[\n",
    "          [\n",
    "            [\n",
    "              -52.16308593749999,\n",
    "              -1.669685500986571\n",
    "            ],\n",
    "            [\n",
    "              -46.9775390625,\n",
    "              -1.669685500986571\n",
    "            ],\n",
    "            [\n",
    "              -46.9775390625,\n",
    "              0.7909904981540058\n",
    "            ],\n",
    "            [\n",
    "              -52.16308593749999,\n",
    "              0.7909904981540058\n",
    "            ],\n",
    "            [\n",
    "              -52.16308593749999,\n",
    "              -1.669685500986571\n",
    "            ]\n",
    "          ]\n",
    "        ]\n",
    "                 }}]}}\n",
    "\n",
    "g = LMIPy.Geometry(attributes=atts)\n"
   ]
  },
  {
   "cell_type": "code",
   "execution_count": 54,
   "metadata": {},
   "outputs": [
    {
     "data": {
      "text/html": [
       "<div class='item_container' style='height: auto; overflow: hidden; border: 1px solid #80ceb9;border-radius: 2px; background: #f2fffb; line-height: 1.21429em; padding: 10px;''><div class='item_left' style='width: 210px; float: left;''><a href='https://resourcewatch.org/' target='_blank'><img class='itemThumbnail' src='https://resourcewatch.org/static/images/logo-embed.png'></a></div><div class='item_right' style='float: none; width: auto; overflow: hidden;''><a href=https://api.resourcewatch.org/v1/layer/3ef039ba-29c7-459d-aadd-66d6e6cc8f5e?includes=vocabulary,metadata target='_blank'><b>Aboveground mangrove biomass density - 2000</b></a><br> GEE asset: <a href='https://code.earthengine.google.com/asset='None target='_blank'>None</a> 🗺Layer in GFW.<br>Last Modified: 2019-04-05T11:17:35.095Z<br>Connector: gee | Published: True </div> </div>"
      ],
      "text/plain": [
       "Layer 3ef039ba-29c7-459d-aadd-66d6e6cc8f5e Aboveground mangrove biomass density - 2000"
      ]
     },
     "execution_count": 54,
     "metadata": {},
     "output_type": "execute_result"
    }
   ],
   "source": [
    "ly = LMIPy.Layer('3ef039ba-29c7-459d-aadd-66d6e6cc8f5e')\n",
    "ly"
   ]
  },
  {
   "cell_type": "code",
   "execution_count": 55,
   "metadata": {},
   "outputs": [
    {
     "data": {
      "text/html": [
       "<div style=\"width:100%;\"><div style=\"position:relative;width:100%;height:0;padding-bottom:60%;\"><iframe src=\"data:text/html;charset=utf-8;base64,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\" style=\"position:absolute;width:100%;height:100%;left:0;top:0;border:none !important;\" allowfullscreen webkitallowfullscreen mozallowfullscreen></iframe></div></div>"
      ],
      "text/plain": [
       "<folium.folium.Map at 0x12129f208>"
      ]
     },
     "execution_count": 55,
     "metadata": {},
     "output_type": "execute_result"
    }
   ],
   "source": [
    "ly.map(geometry=g)"
   ]
  },
  {
   "cell_type": "code",
   "execution_count": 56,
   "metadata": {},
   "outputs": [
    {
     "data": {
      "text/plain": [
       "{'b1': {'count': 135511,\n",
       "  'max': 32.262001037597656,\n",
       "  'mean': 2.341725882585996,\n",
       "  'min': 0.5376999974250793,\n",
       "  'stdev': 5.07816334797714,\n",
       "  'sum': 302242.00477895216}}"
      ]
     },
     "execution_count": 56,
     "metadata": {},
     "output_type": "execute_result"
    }
   ],
   "source": [
    "ly.intersect(geometry=g)"
   ]
  },
  {
   "cell_type": "markdown",
   "metadata": {},
   "source": [
    "## Construct Widgets GFW-style!\n",
    "\n",
    "A demo of how to use LMIPy to construct widgets like those on the GFW Dashboard pages.\n",
    "\n",
    "### Tree cover example"
   ]
  },
  {
   "cell_type": "code",
   "execution_count": 57,
   "metadata": {},
   "outputs": [],
   "source": [
    "import matplotlib.pyplot as plt\n",
    "%matplotlib inline"
   ]
  },
  {
   "cell_type": "code",
   "execution_count": 58,
   "metadata": {},
   "outputs": [
    {
     "data": {
      "text/html": [
       "<div class='item_container' style='height: auto; overflow: hidden; border: 1px solid #80ceb9;border-radius: 2px; background: #f2fffb; line-height: 1.21429em; padding: 10px;''><div class='item_left' style='width: 210px; float: left;''><a href='https://resourcewatch.org/' target='_blank'><img class='itemThumbnail' src='https://resourcewatch.org/static/images/logo-embed.png'></a></div><div class='item_right' style='float: none; width: auto; overflow: hidden;''><a href=https://api.resourcewatch.org/v1/dataset/a20e9c0e-8d7d-422f-90f5-3b9bca355aaf?includes=vocabulary,metadata,layer,widget target='_blank'><b>country page data for admin level 2</b></a><br> Data source json 🗺Table in GFW.<br>Last Modified: 2018-11-21T14:02:21.137Z<br>Connector: json | Published: True </div> </div>"
      ],
      "text/plain": [
       "Table a20e9c0e-8d7d-422f-90f5-3b9bca355aaf country page data for admin level 2)"
      ]
     },
     "execution_count": 58,
     "metadata": {},
     "output_type": "execute_result"
    }
   ],
   "source": [
    "# Get a datatable (Hansen)\n",
    "table = LMIPy.Table('a20e9c0e-8d7d-422f-90f5-3b9bca355aaf')\n",
    "table"
   ]
  },
  {
   "cell_type": "code",
   "execution_count": 59,
   "metadata": {},
   "outputs": [
    {
     "data": {
      "text/html": [
       "<div>\n",
       "<style scoped>\n",
       "    .dataframe tbody tr th:only-of-type {\n",
       "        vertical-align: middle;\n",
       "    }\n",
       "\n",
       "    .dataframe tbody tr th {\n",
       "        vertical-align: top;\n",
       "    }\n",
       "\n",
       "    .dataframe thead th {\n",
       "        text-align: right;\n",
       "    }\n",
       "</style>\n",
       "<table border=\"1\" class=\"dataframe\">\n",
       "  <thead>\n",
       "    <tr style=\"text-align: right;\">\n",
       "      <th></th>\n",
       "      <th>total_area</th>\n",
       "      <th>value</th>\n",
       "    </tr>\n",
       "  </thead>\n",
       "  <tbody>\n",
       "    <tr>\n",
       "      <th>0</th>\n",
       "      <td>1.527330e+07</td>\n",
       "      <td>1.140593e+07</td>\n",
       "    </tr>\n",
       "  </tbody>\n",
       "</table>\n",
       "</div>"
      ],
      "text/plain": [
       "     total_area         value\n",
       "0  1.527330e+07  1.140593e+07"
      ]
     },
     "execution_count": 59,
     "metadata": {},
     "output_type": "execute_result"
    }
   ],
   "source": [
    "iso = 'BRA'\n",
    "administration = 1\n",
    "\n",
    "sql = f\"\"\"\n",
    "        SELECT \n",
    "            SUM(area_extent) as value,\n",
    "            SUM(area_admin) as total_area \n",
    "        FROM data \n",
    "        WHERE iso = '{iso}'\n",
    "        AND adm1 = {administration}\n",
    "        AND thresh = 30 \n",
    "        AND polyname = 'admin'\n",
    "\"\"\"\n",
    "\n",
    "results = table.query(sql=sql)\n",
    "results"
   ]
  },
  {
   "cell_type": "code",
   "execution_count": 60,
   "metadata": {},
   "outputs": [
    {
     "data": {
      "image/png": "[encoded data removed]",
      "text/plain": [
       "<Figure size 432x288 with 1 Axes>"
      ]
     },
     "metadata": {},
     "output_type": "display_data"
    }
   ],
   "source": [
    "sizes = [results.value[0], results.total_area[0] - results.value[0]]\n",
    "colors = ['green','grey']\n",
    "labels = ['Tree cover', 'Non-forest']\n",
    "\n",
    "fig1, ax1 = plt.subplots()\n",
    "ax1.pie(sizes, labels=labels, autopct='%1.1f%%',\n",
    "        shadow=False, startangle=90, colors=colors)\n",
    "ax1.axis('equal')\n",
    "centre_circle = plt.Circle((0,0),0.75,color='black', fc='white',linewidth=0.5)\n",
    "fig1 = plt.gcf()\n",
    "fig1.gca().add_artist(centre_circle)\n",
    "plt.suptitle('Tree cover extent')\n",
    "plt.title(f'in {iso}/{administration}')\n",
    "plt.show()"
   ]
  },
  {
   "cell_type": "markdown",
   "metadata": {},
   "source": [
    "### Tree cover loss example"
   ]
  },
  {
   "cell_type": "code",
   "execution_count": 61,
   "metadata": {},
   "outputs": [
    {
     "data": {
      "text/html": [
       "<div>\n",
       "<style scoped>\n",
       "    .dataframe tbody tr th:only-of-type {\n",
       "        vertical-align: middle;\n",
       "    }\n",
       "\n",
       "    .dataframe tbody tr th {\n",
       "        vertical-align: top;\n",
       "    }\n",
       "\n",
       "    .dataframe thead th {\n",
       "        text-align: right;\n",
       "    }\n",
       "</style>\n",
       "<table border=\"1\" class=\"dataframe\">\n",
       "  <thead>\n",
       "    <tr style=\"text-align: right;\">\n",
       "      <th></th>\n",
       "      <th>area</th>\n",
       "      <th>iso</th>\n",
       "      <th>polyname</th>\n",
       "      <th>year</th>\n",
       "    </tr>\n",
       "  </thead>\n",
       "  <tbody>\n",
       "    <tr>\n",
       "      <th>0</th>\n",
       "      <td>2.746361e+06</td>\n",
       "      <td>BRA</td>\n",
       "      <td>admin</td>\n",
       "      <td>2001</td>\n",
       "    </tr>\n",
       "    <tr>\n",
       "      <th>1</th>\n",
       "      <td>3.507049e+06</td>\n",
       "      <td>BRA</td>\n",
       "      <td>admin</td>\n",
       "      <td>2002</td>\n",
       "    </tr>\n",
       "    <tr>\n",
       "      <th>2</th>\n",
       "      <td>3.248527e+06</td>\n",
       "      <td>BRA</td>\n",
       "      <td>admin</td>\n",
       "      <td>2003</td>\n",
       "    </tr>\n",
       "    <tr>\n",
       "      <th>3</th>\n",
       "      <td>3.848771e+06</td>\n",
       "      <td>BRA</td>\n",
       "      <td>admin</td>\n",
       "      <td>2004</td>\n",
       "    </tr>\n",
       "    <tr>\n",
       "      <th>4</th>\n",
       "      <td>3.486563e+06</td>\n",
       "      <td>BRA</td>\n",
       "      <td>admin</td>\n",
       "      <td>2005</td>\n",
       "    </tr>\n",
       "  </tbody>\n",
       "</table>\n",
       "</div>"
      ],
      "text/plain": [
       "           area  iso polyname  year\n",
       "0  2.746361e+06  BRA    admin  2001\n",
       "1  3.507049e+06  BRA    admin  2002\n",
       "2  3.248527e+06  BRA    admin  2003\n",
       "3  3.848771e+06  BRA    admin  2004\n",
       "4  3.486563e+06  BRA    admin  2005"
      ]
     },
     "execution_count": 61,
     "metadata": {},
     "output_type": "execute_result"
    }
   ],
   "source": [
    "sql = \"\"\"\n",
    "SELECT \n",
    "    polyname, year_data.year as year, \n",
    "    SUM(year_data.area_loss) as area\n",
    "\n",
    "FROM data \n",
    "WHERE polyname = 'admin'\n",
    "AND thresh= 30\n",
    "GROUP BY polyname, iso, nested(year_data.year)\n",
    "\"\"\"\n",
    "global_loss = table.query(sql=sql)\n",
    "global_loss.head()"
   ]
  },
  {
   "cell_type": "code",
   "execution_count": 62,
   "metadata": {},
   "outputs": [
    {
     "data": {
      "image/png": "[encoded data removed]",
      "text/plain": [
       "<Figure size 432x288 with 1 Axes>"
      ]
     },
     "metadata": {
      "needs_background": "light"
     },
     "output_type": "display_data"
    }
   ],
   "source": [
    "iso='BRA'\n",
    "loss_data = list(global_loss[global_loss['iso'] == f'{iso}']['area'])\n",
    "years = list(global_loss[global_loss['iso'] == f'{iso}']['year'])\n",
    "\n",
    "width = 0.66\n",
    "fig, ax = plt.subplots()\n",
    "rects1 = ax.bar(years, loss_data, width, color='#FE5A8D')\n",
    "\n",
    "# add some text for labels, title and axes ticks\n",
    "ax.set_ylabel('Loss extent (ha)')\n",
    "ax.set_title(f'Loss by year in {iso}')\n",
    "plt.show()"
   ]
  },
  {
   "cell_type": "markdown",
   "metadata": {},
   "source": [
    "## Creating a local backup of Data objects\n",
    "\n",
    "Save a local backup of a collection to a specified path. This creates a folder containing a JSON for each dataset and it's associated Layers, Metadata and Vocabularies."
   ]
  },
  {
   "cell_type": "code",
   "execution_count": null,
   "metadata": {},
   "outputs": [],
   "source": [
    "col = LMIPy.Collection(app=['gfw'], env='production')"
   ]
  },
  {
   "cell_type": "code",
   "execution_count": null,
   "metadata": {},
   "outputs": [],
   "source": [
    "path = './LMI-BACKUP'"
   ]
  },
  {
   "cell_type": "code",
   "execution_count": null,
   "metadata": {},
   "outputs": [],
   "source": [
    "col.save(path)"
   ]
  },
  {
   "cell_type": "markdown",
   "metadata": {},
   "source": [
    "## Load Data objects from local backup\n",
    "\n",
    "You can also load a previous version from local backup."
   ]
  },
  {
   "cell_type": "code",
   "execution_count": null,
   "metadata": {},
   "outputs": [],
   "source": [
    "files = os.listdir(path)[0:3]\n",
    "files"
   ]
  },
  {
   "cell_type": "code",
   "execution_count": null,
   "metadata": {},
   "outputs": [],
   "source": [
    "ds_id = files[0].split('.json')[0]\n",
    "ds_id"
   ]
  },
  {
   "cell_type": "code",
   "execution_count": null,
   "metadata": {},
   "outputs": [],
   "source": [
    "dataset = LMIPy.Dataset(ds_id)"
   ]
  },
  {
   "cell_type": "code",
   "execution_count": null,
   "metadata": {},
   "outputs": [],
   "source": [
    "dataset"
   ]
  },
  {
   "cell_type": "code",
   "execution_count": null,
   "metadata": {},
   "outputs": [],
   "source": [
    "backup = dataset.load(path)"
   ]
  },
  {
   "cell_type": "code",
   "execution_count": null,
   "metadata": {},
   "outputs": [],
   "source": [
    "backup"
   ]
  },
  {
   "cell_type": "code",
   "execution_count": null,
   "metadata": {},
   "outputs": [],
   "source": []
  }
 ],
 "metadata": {
  "kernelspec": {
   "display_name": "Python 3",
   "language": "python",
   "name": "python3"
  },
  "language_info": {
   "codemirror_mode": {
    "name": "ipython",
    "version": 3
   },
   "file_extension": ".py",
   "mimetype": "text/x-python",
   "name": "python",
   "nbconvert_exporter": "python",
   "pygments_lexer": "ipython3",
   "version": "3.7.1"
  }
 },
 "nbformat": 4,
 "nbformat_minor": 2
}
